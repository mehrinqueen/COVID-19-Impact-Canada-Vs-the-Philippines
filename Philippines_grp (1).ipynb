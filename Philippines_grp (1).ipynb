{
  "nbformat": 4,
  "nbformat_minor": 0,
  "metadata": {
    "colab": {
      "name": "Philippines_grp.ipynb",
      "provenance": [],
      "collapsed_sections": []
    },
    "kernelspec": {
      "name": "python3",
      "display_name": "Python 3"
    }
  },
  "cells": [
    {
      "cell_type": "code",
      "metadata": {
        "id": "DgAx4gJGl8el"
      },
      "source": [
        "import numpy as np\r\n",
        "import pandas as pd\r\n",
        "import matplotlib.pyplot as plt\r\n",
        "import seaborn as sns\r\n",
        "import plotly.express as px\r\n",
        "path = \"data/Case_Information.csv\"\r\n",
        "df = pd.read_csv(path)"
      ],
      "execution_count": 126,
      "outputs": []
    },
    {
      "cell_type": "code",
      "metadata": {
        "colab": {
          "base_uri": "https://localhost:8080/",
          "height": 349
        },
        "id": "fJfby8wfmvyc",
        "outputId": "28045240-6ea8-431c-e380-a8442f51caa4"
      },
      "source": [
        "df.head()"
      ],
      "execution_count": null,
      "outputs": [
        {
          "output_type": "execute_result",
          "data": {
            "text/html": [
              "<div>\n",
              "<style scoped>\n",
              "    .dataframe tbody tr th:only-of-type {\n",
              "        vertical-align: middle;\n",
              "    }\n",
              "\n",
              "    .dataframe tbody tr th {\n",
              "        vertical-align: top;\n",
              "    }\n",
              "\n",
              "    .dataframe thead th {\n",
              "        text-align: right;\n",
              "    }\n",
              "</style>\n",
              "<table border=\"1\" class=\"dataframe\">\n",
              "  <thead>\n",
              "    <tr style=\"text-align: right;\">\n",
              "      <th></th>\n",
              "      <th>case_id</th>\n",
              "      <th>age</th>\n",
              "      <th>age_group</th>\n",
              "      <th>sex</th>\n",
              "      <th>date_announced</th>\n",
              "      <th>date_recovered</th>\n",
              "      <th>date_of_death</th>\n",
              "      <th>status</th>\n",
              "      <th>date_announced_as_removed</th>\n",
              "      <th>province</th>\n",
              "      <th>muni_city</th>\n",
              "      <th>health_status</th>\n",
              "      <th>home_quarantined</th>\n",
              "      <th>date_of_onset_of_symptoms</th>\n",
              "      <th>pregnant</th>\n",
              "      <th>region</th>\n",
              "    </tr>\n",
              "  </thead>\n",
              "  <tbody>\n",
              "    <tr>\n",
              "      <th>0</th>\n",
              "      <td>C404174</td>\n",
              "      <td>38.0</td>\n",
              "      <td>35 to 39</td>\n",
              "      <td>Female</td>\n",
              "      <td>2020-01-30</td>\n",
              "      <td>NaN</td>\n",
              "      <td>NaN</td>\n",
              "      <td>Recovered</td>\n",
              "      <td>2020-02-07</td>\n",
              "      <td>Negros Oriental</td>\n",
              "      <td>Dumaguete City</td>\n",
              "      <td>Recovered</td>\n",
              "      <td>NaN</td>\n",
              "      <td>2020-01-21</td>\n",
              "      <td>NaN</td>\n",
              "      <td>Central Visayas (Region VII)</td>\n",
              "    </tr>\n",
              "    <tr>\n",
              "      <th>1</th>\n",
              "      <td>C462688</td>\n",
              "      <td>44.0</td>\n",
              "      <td>40 to 44</td>\n",
              "      <td>Male</td>\n",
              "      <td>2020-02-03</td>\n",
              "      <td>NaN</td>\n",
              "      <td>2020-02-01</td>\n",
              "      <td>Died</td>\n",
              "      <td>2020-02-02</td>\n",
              "      <td>Negros Oriental</td>\n",
              "      <td>Dumaguete City</td>\n",
              "      <td>Died</td>\n",
              "      <td>NaN</td>\n",
              "      <td>2020-01-18</td>\n",
              "      <td>NaN</td>\n",
              "      <td>Central Visayas (Region VII)</td>\n",
              "    </tr>\n",
              "    <tr>\n",
              "      <th>2</th>\n",
              "      <td>C387710</td>\n",
              "      <td>60.0</td>\n",
              "      <td>60 to 64</td>\n",
              "      <td>Female</td>\n",
              "      <td>2020-02-05</td>\n",
              "      <td>2020-01-31</td>\n",
              "      <td>NaN</td>\n",
              "      <td>Recovered</td>\n",
              "      <td>2020-02-05</td>\n",
              "      <td>Bohol</td>\n",
              "      <td>Panglao</td>\n",
              "      <td>Recovered</td>\n",
              "      <td>No</td>\n",
              "      <td>2020-01-21</td>\n",
              "      <td>NaN</td>\n",
              "      <td>Central Visayas (Region VII)</td>\n",
              "    </tr>\n",
              "    <tr>\n",
              "      <th>3</th>\n",
              "      <td>C377460</td>\n",
              "      <td>48.0</td>\n",
              "      <td>45 to 49</td>\n",
              "      <td>Male</td>\n",
              "      <td>2020-03-06</td>\n",
              "      <td>NaN</td>\n",
              "      <td>NaN</td>\n",
              "      <td>Recovered</td>\n",
              "      <td>2020-03-27</td>\n",
              "      <td>Metropolitan Manila</td>\n",
              "      <td>Taguig</td>\n",
              "      <td>Recovered</td>\n",
              "      <td>No</td>\n",
              "      <td>2020-03-03</td>\n",
              "      <td>NaN</td>\n",
              "      <td>Metropolitan Manila</td>\n",
              "    </tr>\n",
              "    <tr>\n",
              "      <th>4</th>\n",
              "      <td>C498051</td>\n",
              "      <td>62.0</td>\n",
              "      <td>60 to 64</td>\n",
              "      <td>Male</td>\n",
              "      <td>2020-03-06</td>\n",
              "      <td>NaN</td>\n",
              "      <td>2020-03-11</td>\n",
              "      <td>Died</td>\n",
              "      <td>2020-03-12</td>\n",
              "      <td>Rizal</td>\n",
              "      <td>Cainta</td>\n",
              "      <td>Died</td>\n",
              "      <td>No</td>\n",
              "      <td>2020-02-25</td>\n",
              "      <td>NaN</td>\n",
              "      <td>CALABARZON (Region IV-A)</td>\n",
              "    </tr>\n",
              "  </tbody>\n",
              "</table>\n",
              "</div>"
            ],
            "text/plain": [
              "   case_id   age  ... pregnant                        region\n",
              "0  C404174  38.0  ...      NaN  Central Visayas (Region VII)\n",
              "1  C462688  44.0  ...      NaN  Central Visayas (Region VII)\n",
              "2  C387710  60.0  ...      NaN  Central Visayas (Region VII)\n",
              "3  C377460  48.0  ...      NaN           Metropolitan Manila\n",
              "4  C498051  62.0  ...      NaN      CALABARZON (Region IV-A)\n",
              "\n",
              "[5 rows x 16 columns]"
            ]
          },
          "metadata": {
            "tags": []
          },
          "execution_count": 3
        }
      ]
    },
    {
      "cell_type": "code",
      "metadata": {
        "id": "uHCO7o3TmzS8"
      },
      "source": [
        "df.count()"
      ],
      "execution_count": null,
      "outputs": []
    },
    {
      "cell_type": "markdown",
      "metadata": {
        "id": "5HAv9gWhm5j1"
      },
      "source": [
        "1.   What is the death rate of total cases in Canada and Philippines respectively?\r\n",
        "2.   Since Canada and Philippines have different geographical locations and economical\r\n",
        "development, Are there different recovery rates and death rates per age group\r\n",
        "between Canada and Philippines?\r\n",
        "3.   Is local transmission or import cases the main COVID-19 source in Canada and\r\n",
        "Philippines?\r\n",
        "4.   Based on temperature condition, to what extent does it affect the COVID-19\r\n",
        "transmission rates or growth factors in Canada and Philippines?\r\n",
        "5.   Similarly, both of Canada and Philipine have the issue that male is more vulnerable\r\n",
        "than female. Why does the Philippines have greater gap than Canada?\r\n",
        "\r\n",
        "\r\n",
        "\r\n",
        "\r\n",
        "\r\n"
      ]
    },
    {
      "cell_type": "markdown",
      "metadata": {
        "id": "Rq19uJxsnbnz"
      },
      "source": [
        "Check Data Type for all Columns"
      ]
    },
    {
      "cell_type": "code",
      "metadata": {
        "colab": {
          "base_uri": "https://localhost:8080/"
        },
        "id": "evDP5XmYnaAS",
        "outputId": "22f24f9c-2460-4840-c50f-f6f839f960a1"
      },
      "source": [
        "df.dtypes"
      ],
      "execution_count": null,
      "outputs": [
        {
          "output_type": "execute_result",
          "data": {
            "text/plain": [
              "case_id                       object\n",
              "age                          float64\n",
              "age_group                     object\n",
              "sex                           object\n",
              "date_announced                object\n",
              "date_recovered                object\n",
              "date_of_death                 object\n",
              "status                        object\n",
              "date_announced_as_removed     object\n",
              "province                      object\n",
              "muni_city                     object\n",
              "health_status                 object\n",
              "home_quarantined              object\n",
              "date_of_onset_of_symptoms     object\n",
              "pregnant                      object\n",
              "region                        object\n",
              "dtype: object"
            ]
          },
          "metadata": {
            "tags": []
          },
          "execution_count": 6
        }
      ]
    },
    {
      "cell_type": "markdown",
      "metadata": {
        "id": "Gr5lT8WMqAo1"
      },
      "source": [
        "Change data type to correct data type"
      ]
    },
    {
      "cell_type": "code",
      "metadata": {
        "colab": {
          "base_uri": "https://localhost:8080/"
        },
        "id": "Azy9Gr9Mp-lZ",
        "outputId": "1cc0df39-2938-489e-9fe0-b40063af3300"
      },
      "source": [
        "df['date_announced']= pd.to_datetime(df['date_announced'])\r\n",
        "df['date_recovered']= pd.to_datetime(df['date_recovered'])\r\n",
        "df['date_of_death']= pd.to_datetime(df['date_of_death'])\r\n",
        "df['date_announced_as_removed']= pd.to_datetime(df['date_announced_as_removed'])\r\n",
        "df['date_of_onset_of_symptoms']= pd.to_datetime(df['date_of_onset_of_symptoms'])\r\n",
        "df['case_id'] = df['case_id'].astype('category')\r\n",
        "df['age_group'] = df['age_group'].astype('category')\r\n",
        "df['sex'] = df['sex'].astype('category')\r\n",
        "df['status'] = df['status'].astype('category')\r\n",
        "df['province'] = df['province'].astype('category')\r\n",
        "df['muni_city'] = df['muni_city'].astype('category')\r\n",
        "df['health_status'] = df['health_status'].astype('category')\r\n",
        "df['home_quarantined'] = df['home_quarantined'].astype('category')\r\n",
        "df['pregnant'] = df['pregnant'].astype('category')\r\n",
        "df['region'] = df['region'].astype('category')\r\n",
        "df.dtypes"
      ],
      "execution_count": null,
      "outputs": [
        {
          "output_type": "execute_result",
          "data": {
            "text/plain": [
              "case_id                            category\n",
              "age                                 float64\n",
              "age_group                          category\n",
              "sex                                category\n",
              "date_announced               datetime64[ns]\n",
              "date_recovered               datetime64[ns]\n",
              "date_of_death                datetime64[ns]\n",
              "status                             category\n",
              "date_announced_as_removed    datetime64[ns]\n",
              "province                           category\n",
              "muni_city                          category\n",
              "health_status                      category\n",
              "home_quarantined                   category\n",
              "date_of_onset_of_symptoms    datetime64[ns]\n",
              "pregnant                           category\n",
              "region                             category\n",
              "dtype: object"
            ]
          },
          "metadata": {
            "tags": []
          },
          "execution_count": 47
        }
      ]
    },
    {
      "cell_type": "code",
      "metadata": {
        "colab": {
          "base_uri": "https://localhost:8080/"
        },
        "id": "tlD3AIblkpTB",
        "outputId": "6a371b11-5378-4458-e77d-64565e949ce0"
      },
      "source": [
        "df.dtypes"
      ],
      "execution_count": null,
      "outputs": [
        {
          "output_type": "execute_result",
          "data": {
            "text/plain": [
              "case_id                            category\n",
              "age                                 float64\n",
              "age_group                          category\n",
              "sex                                category\n",
              "date_announced               datetime64[ns]\n",
              "date_recovered               datetime64[ns]\n",
              "date_of_death                datetime64[ns]\n",
              "status                             category\n",
              "date_announced_as_removed    datetime64[ns]\n",
              "province                           category\n",
              "muni_city                          category\n",
              "health_status                      category\n",
              "home_quarantined                   category\n",
              "date_of_onset_of_symptoms    datetime64[ns]\n",
              "pregnant                           category\n",
              "region                             category\n",
              "dtype: object"
            ]
          },
          "metadata": {
            "tags": []
          },
          "execution_count": 48
        }
      ]
    },
    {
      "cell_type": "markdown",
      "metadata": {
        "id": "GIfRohT2qH0g"
      },
      "source": [
        "Check the list of all columns in dataset"
      ]
    },
    {
      "cell_type": "code",
      "metadata": {
        "colab": {
          "base_uri": "https://localhost:8080/"
        },
        "id": "RLWPSrDVqNao",
        "outputId": "50a4bb40-1d64-4dd7-c589-1ded49fefd18"
      },
      "source": [
        "print(df.keys())"
      ],
      "execution_count": null,
      "outputs": [
        {
          "output_type": "stream",
          "text": [
            "Index(['case_id', 'age', 'age_group', 'sex', 'date_announced',\n",
            "       'date_recovered', 'date_of_death', 'status',\n",
            "       'date_announced_as_removed', 'province', 'muni_city', 'health_status',\n",
            "       'home_quarantined', 'date_of_onset_of_symptoms', 'pregnant', 'region'],\n",
            "      dtype='object')\n"
          ],
          "name": "stdout"
        }
      ]
    },
    {
      "cell_type": "code",
      "metadata": {
        "colab": {
          "base_uri": "https://localhost:8080/",
          "height": 419
        },
        "id": "NkdKYV433wTu",
        "outputId": "36f6be96-9a9f-437b-cace-8ab67275a5e2"
      },
      "source": [
        "#drop NaN\r\n",
        "hq = df[['home_quarantined']]\r\n",
        "hq"
      ],
      "execution_count": 115,
      "outputs": [
        {
          "output_type": "execute_result",
          "data": {
            "text/html": [
              "<div>\n",
              "<style scoped>\n",
              "    .dataframe tbody tr th:only-of-type {\n",
              "        vertical-align: middle;\n",
              "    }\n",
              "\n",
              "    .dataframe tbody tr th {\n",
              "        vertical-align: top;\n",
              "    }\n",
              "\n",
              "    .dataframe thead th {\n",
              "        text-align: right;\n",
              "    }\n",
              "</style>\n",
              "<table border=\"1\" class=\"dataframe\">\n",
              "  <thead>\n",
              "    <tr style=\"text-align: right;\">\n",
              "      <th></th>\n",
              "      <th>home_quarantined</th>\n",
              "    </tr>\n",
              "  </thead>\n",
              "  <tbody>\n",
              "    <tr>\n",
              "      <th>0</th>\n",
              "      <td>NaN</td>\n",
              "    </tr>\n",
              "    <tr>\n",
              "      <th>1</th>\n",
              "      <td>NaN</td>\n",
              "    </tr>\n",
              "    <tr>\n",
              "      <th>2</th>\n",
              "      <td>No</td>\n",
              "    </tr>\n",
              "    <tr>\n",
              "      <th>3</th>\n",
              "      <td>No</td>\n",
              "    </tr>\n",
              "    <tr>\n",
              "      <th>4</th>\n",
              "      <td>No</td>\n",
              "    </tr>\n",
              "    <tr>\n",
              "      <th>...</th>\n",
              "      <td>...</td>\n",
              "    </tr>\n",
              "    <tr>\n",
              "      <th>12086</th>\n",
              "      <td>NaN</td>\n",
              "    </tr>\n",
              "    <tr>\n",
              "      <th>12087</th>\n",
              "      <td>NaN</td>\n",
              "    </tr>\n",
              "    <tr>\n",
              "      <th>12088</th>\n",
              "      <td>NaN</td>\n",
              "    </tr>\n",
              "    <tr>\n",
              "      <th>12089</th>\n",
              "      <td>Yes</td>\n",
              "    </tr>\n",
              "    <tr>\n",
              "      <th>12090</th>\n",
              "      <td>NaN</td>\n",
              "    </tr>\n",
              "  </tbody>\n",
              "</table>\n",
              "<p>12091 rows × 1 columns</p>\n",
              "</div>"
            ],
            "text/plain": [
              "      home_quarantined\n",
              "0                  NaN\n",
              "1                  NaN\n",
              "2                   No\n",
              "3                   No\n",
              "4                   No\n",
              "...                ...\n",
              "12086              NaN\n",
              "12087              NaN\n",
              "12088              NaN\n",
              "12089              Yes\n",
              "12090              NaN\n",
              "\n",
              "[12091 rows x 1 columns]"
            ]
          },
          "metadata": {
            "tags": []
          },
          "execution_count": 115
        }
      ]
    },
    {
      "cell_type": "code",
      "metadata": {
        "colab": {
          "base_uri": "https://localhost:8080/",
          "height": 419
        },
        "id": "fvU8dwUu35TH",
        "outputId": "13c5317a-577e-47cf-ce1e-c59330537172"
      },
      "source": [
        "hq= hq.dropna()\r\n",
        "hq= hq.reset_index(drop=True)\r\n",
        "hq"
      ],
      "execution_count": 116,
      "outputs": [
        {
          "output_type": "execute_result",
          "data": {
            "text/html": [
              "<div>\n",
              "<style scoped>\n",
              "    .dataframe tbody tr th:only-of-type {\n",
              "        vertical-align: middle;\n",
              "    }\n",
              "\n",
              "    .dataframe tbody tr th {\n",
              "        vertical-align: top;\n",
              "    }\n",
              "\n",
              "    .dataframe thead th {\n",
              "        text-align: right;\n",
              "    }\n",
              "</style>\n",
              "<table border=\"1\" class=\"dataframe\">\n",
              "  <thead>\n",
              "    <tr style=\"text-align: right;\">\n",
              "      <th></th>\n",
              "      <th>home_quarantined</th>\n",
              "    </tr>\n",
              "  </thead>\n",
              "  <tbody>\n",
              "    <tr>\n",
              "      <th>0</th>\n",
              "      <td>No</td>\n",
              "    </tr>\n",
              "    <tr>\n",
              "      <th>1</th>\n",
              "      <td>No</td>\n",
              "    </tr>\n",
              "    <tr>\n",
              "      <th>2</th>\n",
              "      <td>No</td>\n",
              "    </tr>\n",
              "    <tr>\n",
              "      <th>3</th>\n",
              "      <td>No</td>\n",
              "    </tr>\n",
              "    <tr>\n",
              "      <th>4</th>\n",
              "      <td>No</td>\n",
              "    </tr>\n",
              "    <tr>\n",
              "      <th>...</th>\n",
              "      <td>...</td>\n",
              "    </tr>\n",
              "    <tr>\n",
              "      <th>5305</th>\n",
              "      <td>Yes</td>\n",
              "    </tr>\n",
              "    <tr>\n",
              "      <th>5306</th>\n",
              "      <td>Yes</td>\n",
              "    </tr>\n",
              "    <tr>\n",
              "      <th>5307</th>\n",
              "      <td>Yes</td>\n",
              "    </tr>\n",
              "    <tr>\n",
              "      <th>5308</th>\n",
              "      <td>Yes</td>\n",
              "    </tr>\n",
              "    <tr>\n",
              "      <th>5309</th>\n",
              "      <td>Yes</td>\n",
              "    </tr>\n",
              "  </tbody>\n",
              "</table>\n",
              "<p>5310 rows × 1 columns</p>\n",
              "</div>"
            ],
            "text/plain": [
              "     home_quarantined\n",
              "0                  No\n",
              "1                  No\n",
              "2                  No\n",
              "3                  No\n",
              "4                  No\n",
              "...               ...\n",
              "5305              Yes\n",
              "5306              Yes\n",
              "5307              Yes\n",
              "5308              Yes\n",
              "5309              Yes\n",
              "\n",
              "[5310 rows x 1 columns]"
            ]
          },
          "metadata": {
            "tags": []
          },
          "execution_count": 116
        }
      ]
    },
    {
      "cell_type": "markdown",
      "metadata": {
        "id": "0a3REzJ7qTYE"
      },
      "source": [
        "Drop the columns that same data, \"status\" and \"health status\""
      ]
    },
    {
      "cell_type": "code",
      "metadata": {
        "id": "pYy0oLrzqb-K"
      },
      "source": [
        "df.drop('health_status', inplace=True, axis=1)"
      ],
      "execution_count": null,
      "outputs": []
    },
    {
      "cell_type": "code",
      "metadata": {
        "colab": {
          "base_uri": "https://localhost:8080/"
        },
        "id": "HawFXucRqfIm",
        "outputId": "a5ca1caa-b348-4ad6-9b4b-28da633195e1"
      },
      "source": [
        "print(df.keys())"
      ],
      "execution_count": null,
      "outputs": [
        {
          "output_type": "stream",
          "text": [
            "Index(['case_id', 'age', 'age_group', 'sex', 'date_announced',\n",
            "       'date_recovered', 'date_of_death', 'status',\n",
            "       'date_announced_as_removed', 'province', 'muni_city',\n",
            "       'home_quarantined', 'date_of_onset_of_symptoms', 'pregnant', 'region'],\n",
            "      dtype='object')\n"
          ],
          "name": "stdout"
        }
      ]
    },
    {
      "cell_type": "code",
      "metadata": {
        "colab": {
          "base_uri": "https://localhost:8080/",
          "height": 360
        },
        "id": "WQh9Wwleqg09",
        "outputId": "880d55e4-504e-4981-d044-1bb5c425340d"
      },
      "source": [
        "df.head()"
      ],
      "execution_count": null,
      "outputs": [
        {
          "output_type": "execute_result",
          "data": {
            "text/html": [
              "<div>\n",
              "<style scoped>\n",
              "    .dataframe tbody tr th:only-of-type {\n",
              "        vertical-align: middle;\n",
              "    }\n",
              "\n",
              "    .dataframe tbody tr th {\n",
              "        vertical-align: top;\n",
              "    }\n",
              "\n",
              "    .dataframe thead th {\n",
              "        text-align: right;\n",
              "    }\n",
              "</style>\n",
              "<table border=\"1\" class=\"dataframe\">\n",
              "  <thead>\n",
              "    <tr style=\"text-align: right;\">\n",
              "      <th></th>\n",
              "      <th>case_id</th>\n",
              "      <th>age</th>\n",
              "      <th>age_group</th>\n",
              "      <th>sex</th>\n",
              "      <th>date_announced</th>\n",
              "      <th>date_recovered</th>\n",
              "      <th>date_of_death</th>\n",
              "      <th>status</th>\n",
              "      <th>date_announced_as_removed</th>\n",
              "      <th>province</th>\n",
              "      <th>muni_city</th>\n",
              "      <th>home_quarantined</th>\n",
              "      <th>date_of_onset_of_symptoms</th>\n",
              "      <th>pregnant</th>\n",
              "      <th>region</th>\n",
              "    </tr>\n",
              "  </thead>\n",
              "  <tbody>\n",
              "    <tr>\n",
              "      <th>0</th>\n",
              "      <td>C404174</td>\n",
              "      <td>38.0</td>\n",
              "      <td>35 to 39</td>\n",
              "      <td>Female</td>\n",
              "      <td>2020-01-30</td>\n",
              "      <td>NaT</td>\n",
              "      <td>NaT</td>\n",
              "      <td>Recovered</td>\n",
              "      <td>2020-02-07</td>\n",
              "      <td>Negros Oriental</td>\n",
              "      <td>Dumaguete City</td>\n",
              "      <td>NaN</td>\n",
              "      <td>2020-01-21</td>\n",
              "      <td>NaN</td>\n",
              "      <td>Central Visayas (Region VII)</td>\n",
              "    </tr>\n",
              "    <tr>\n",
              "      <th>1</th>\n",
              "      <td>C462688</td>\n",
              "      <td>44.0</td>\n",
              "      <td>40 to 44</td>\n",
              "      <td>Male</td>\n",
              "      <td>2020-02-03</td>\n",
              "      <td>NaT</td>\n",
              "      <td>2020-02-01</td>\n",
              "      <td>Died</td>\n",
              "      <td>2020-02-02</td>\n",
              "      <td>Negros Oriental</td>\n",
              "      <td>Dumaguete City</td>\n",
              "      <td>NaN</td>\n",
              "      <td>2020-01-18</td>\n",
              "      <td>NaN</td>\n",
              "      <td>Central Visayas (Region VII)</td>\n",
              "    </tr>\n",
              "    <tr>\n",
              "      <th>2</th>\n",
              "      <td>C387710</td>\n",
              "      <td>60.0</td>\n",
              "      <td>60 to 64</td>\n",
              "      <td>Female</td>\n",
              "      <td>2020-02-05</td>\n",
              "      <td>2020-01-31</td>\n",
              "      <td>NaT</td>\n",
              "      <td>Recovered</td>\n",
              "      <td>2020-02-05</td>\n",
              "      <td>Bohol</td>\n",
              "      <td>Panglao</td>\n",
              "      <td>No</td>\n",
              "      <td>2020-01-21</td>\n",
              "      <td>NaN</td>\n",
              "      <td>Central Visayas (Region VII)</td>\n",
              "    </tr>\n",
              "    <tr>\n",
              "      <th>3</th>\n",
              "      <td>C377460</td>\n",
              "      <td>48.0</td>\n",
              "      <td>45 to 49</td>\n",
              "      <td>Male</td>\n",
              "      <td>2020-03-06</td>\n",
              "      <td>NaT</td>\n",
              "      <td>NaT</td>\n",
              "      <td>Recovered</td>\n",
              "      <td>2020-03-27</td>\n",
              "      <td>Metropolitan Manila</td>\n",
              "      <td>Taguig</td>\n",
              "      <td>No</td>\n",
              "      <td>2020-03-03</td>\n",
              "      <td>NaN</td>\n",
              "      <td>Metropolitan Manila</td>\n",
              "    </tr>\n",
              "    <tr>\n",
              "      <th>4</th>\n",
              "      <td>C498051</td>\n",
              "      <td>62.0</td>\n",
              "      <td>60 to 64</td>\n",
              "      <td>Male</td>\n",
              "      <td>2020-03-06</td>\n",
              "      <td>NaT</td>\n",
              "      <td>2020-03-11</td>\n",
              "      <td>Died</td>\n",
              "      <td>2020-03-12</td>\n",
              "      <td>Rizal</td>\n",
              "      <td>Cainta</td>\n",
              "      <td>No</td>\n",
              "      <td>2020-02-25</td>\n",
              "      <td>NaN</td>\n",
              "      <td>CALABARZON (Region IV-A)</td>\n",
              "    </tr>\n",
              "  </tbody>\n",
              "</table>\n",
              "</div>"
            ],
            "text/plain": [
              "   case_id   age  ... pregnant                        region\n",
              "0  C404174  38.0  ...      NaN  Central Visayas (Region VII)\n",
              "1  C462688  44.0  ...      NaN  Central Visayas (Region VII)\n",
              "2  C387710  60.0  ...      NaN  Central Visayas (Region VII)\n",
              "3  C377460  48.0  ...      NaN           Metropolitan Manila\n",
              "4  C498051  62.0  ...      NaN      CALABARZON (Region IV-A)\n",
              "\n",
              "[5 rows x 15 columns]"
            ]
          },
          "metadata": {
            "tags": []
          },
          "execution_count": 11
        }
      ]
    },
    {
      "cell_type": "markdown",
      "metadata": {
        "id": "J-0cuJ37acD2"
      },
      "source": [
        "# 1. The death rate of total cases in Philippines "
      ]
    },
    {
      "cell_type": "markdown",
      "metadata": {
        "id": "O7Qs-Pt8qyoa"
      },
      "source": [
        "Select two columns : date_announced and status to do the analysis"
      ]
    },
    {
      "cell_type": "code",
      "metadata": {
        "id": "D-Cihn4pq3k6"
      },
      "source": [
        "data1 = df[['date_announced', 'status']]"
      ],
      "execution_count": null,
      "outputs": []
    },
    {
      "cell_type": "code",
      "metadata": {
        "colab": {
          "base_uri": "https://localhost:8080/",
          "height": 419
        },
        "id": "O2i3mSRdq-0A",
        "outputId": "cb4c6fee-9ddd-489d-c5db-254331ee142f"
      },
      "source": [
        "data1"
      ],
      "execution_count": null,
      "outputs": [
        {
          "output_type": "execute_result",
          "data": {
            "text/html": [
              "<div>\n",
              "<style scoped>\n",
              "    .dataframe tbody tr th:only-of-type {\n",
              "        vertical-align: middle;\n",
              "    }\n",
              "\n",
              "    .dataframe tbody tr th {\n",
              "        vertical-align: top;\n",
              "    }\n",
              "\n",
              "    .dataframe thead th {\n",
              "        text-align: right;\n",
              "    }\n",
              "</style>\n",
              "<table border=\"1\" class=\"dataframe\">\n",
              "  <thead>\n",
              "    <tr style=\"text-align: right;\">\n",
              "      <th></th>\n",
              "      <th>date_announced</th>\n",
              "      <th>status</th>\n",
              "    </tr>\n",
              "  </thead>\n",
              "  <tbody>\n",
              "    <tr>\n",
              "      <th>0</th>\n",
              "      <td>2020-01-30</td>\n",
              "      <td>Recovered</td>\n",
              "    </tr>\n",
              "    <tr>\n",
              "      <th>1</th>\n",
              "      <td>2020-02-03</td>\n",
              "      <td>Died</td>\n",
              "    </tr>\n",
              "    <tr>\n",
              "      <th>2</th>\n",
              "      <td>2020-02-05</td>\n",
              "      <td>Recovered</td>\n",
              "    </tr>\n",
              "    <tr>\n",
              "      <th>3</th>\n",
              "      <td>2020-03-06</td>\n",
              "      <td>Recovered</td>\n",
              "    </tr>\n",
              "    <tr>\n",
              "      <th>4</th>\n",
              "      <td>2020-03-06</td>\n",
              "      <td>Died</td>\n",
              "    </tr>\n",
              "    <tr>\n",
              "      <th>...</th>\n",
              "      <td>...</td>\n",
              "      <td>...</td>\n",
              "    </tr>\n",
              "    <tr>\n",
              "      <th>12086</th>\n",
              "      <td>2020-05-15</td>\n",
              "      <td>For validation</td>\n",
              "    </tr>\n",
              "    <tr>\n",
              "      <th>12087</th>\n",
              "      <td>2020-05-15</td>\n",
              "      <td>Died</td>\n",
              "    </tr>\n",
              "    <tr>\n",
              "      <th>12088</th>\n",
              "      <td>2020-05-15</td>\n",
              "      <td>For validation</td>\n",
              "    </tr>\n",
              "    <tr>\n",
              "      <th>12089</th>\n",
              "      <td>2020-05-15</td>\n",
              "      <td>Home quarantined</td>\n",
              "    </tr>\n",
              "    <tr>\n",
              "      <th>12090</th>\n",
              "      <td>2020-05-15</td>\n",
              "      <td>For validation</td>\n",
              "    </tr>\n",
              "  </tbody>\n",
              "</table>\n",
              "<p>12091 rows × 2 columns</p>\n",
              "</div>"
            ],
            "text/plain": [
              "      date_announced            status\n",
              "0         2020-01-30         Recovered\n",
              "1         2020-02-03              Died\n",
              "2         2020-02-05         Recovered\n",
              "3         2020-03-06         Recovered\n",
              "4         2020-03-06              Died\n",
              "...              ...               ...\n",
              "12086     2020-05-15    For validation\n",
              "12087     2020-05-15              Died\n",
              "12088     2020-05-15    For validation\n",
              "12089     2020-05-15  Home quarantined\n",
              "12090     2020-05-15    For validation\n",
              "\n",
              "[12091 rows x 2 columns]"
            ]
          },
          "metadata": {
            "tags": []
          },
          "execution_count": 13
        }
      ]
    },
    {
      "cell_type": "code",
      "metadata": {
        "colab": {
          "base_uri": "https://localhost:8080/"
        },
        "id": "G5Or0jlsrEZ-",
        "outputId": "46952f12-1c26-4a7d-899d-acbaf1cb8e4c"
      },
      "source": [
        "data1.isnull().sum()"
      ],
      "execution_count": null,
      "outputs": [
        {
          "output_type": "execute_result",
          "data": {
            "text/plain": [
              "date_announced    0\n",
              "status            0\n",
              "dtype: int64"
            ]
          },
          "metadata": {
            "tags": []
          },
          "execution_count": 14
        }
      ]
    },
    {
      "cell_type": "code",
      "metadata": {
        "colab": {
          "base_uri": "https://localhost:8080/",
          "height": 289
        },
        "id": "GkMMqybRvJ8H",
        "outputId": "69bf688c-d569-4be5-b0a2-1a9549c1d69e"
      },
      "source": [
        "data1[data1.status == 'Died'].describe()"
      ],
      "execution_count": null,
      "outputs": [
        {
          "output_type": "stream",
          "text": [
            "/usr/local/lib/python3.6/dist-packages/ipykernel_launcher.py:1: FutureWarning: Treating datetime data as categorical rather than numeric in `.describe` is deprecated and will be removed in a future version of pandas. Specify `datetime_is_numeric=True` to silence this warning and adopt the future behavior now.\n",
            "  \"\"\"Entry point for launching an IPython kernel.\n"
          ],
          "name": "stderr"
        },
        {
          "output_type": "execute_result",
          "data": {
            "text/html": [
              "<div>\n",
              "<style scoped>\n",
              "    .dataframe tbody tr th:only-of-type {\n",
              "        vertical-align: middle;\n",
              "    }\n",
              "\n",
              "    .dataframe tbody tr th {\n",
              "        vertical-align: top;\n",
              "    }\n",
              "\n",
              "    .dataframe thead th {\n",
              "        text-align: right;\n",
              "    }\n",
              "</style>\n",
              "<table border=\"1\" class=\"dataframe\">\n",
              "  <thead>\n",
              "    <tr style=\"text-align: right;\">\n",
              "      <th></th>\n",
              "      <th>date_announced</th>\n",
              "      <th>status</th>\n",
              "    </tr>\n",
              "  </thead>\n",
              "  <tbody>\n",
              "    <tr>\n",
              "      <th>count</th>\n",
              "      <td>806</td>\n",
              "      <td>806</td>\n",
              "    </tr>\n",
              "    <tr>\n",
              "      <th>unique</th>\n",
              "      <td>70</td>\n",
              "      <td>1</td>\n",
              "    </tr>\n",
              "    <tr>\n",
              "      <th>top</th>\n",
              "      <td>2020-03-31 00:00:00</td>\n",
              "      <td>Died</td>\n",
              "    </tr>\n",
              "    <tr>\n",
              "      <th>freq</th>\n",
              "      <td>89</td>\n",
              "      <td>806</td>\n",
              "    </tr>\n",
              "    <tr>\n",
              "      <th>first</th>\n",
              "      <td>2020-02-03 00:00:00</td>\n",
              "      <td>NaN</td>\n",
              "    </tr>\n",
              "    <tr>\n",
              "      <th>last</th>\n",
              "      <td>2020-05-15 00:00:00</td>\n",
              "      <td>NaN</td>\n",
              "    </tr>\n",
              "  </tbody>\n",
              "</table>\n",
              "</div>"
            ],
            "text/plain": [
              "             date_announced status\n",
              "count                   806    806\n",
              "unique                   70      1\n",
              "top     2020-03-31 00:00:00   Died\n",
              "freq                     89    806\n",
              "first   2020-02-03 00:00:00    NaN\n",
              "last    2020-05-15 00:00:00    NaN"
            ]
          },
          "metadata": {
            "tags": []
          },
          "execution_count": 16
        }
      ]
    },
    {
      "cell_type": "markdown",
      "metadata": {
        "id": "VRUcvbFMvm10"
      },
      "source": [
        "Count \"Died\" data from status columns"
      ]
    },
    {
      "cell_type": "code",
      "metadata": {
        "colab": {
          "base_uri": "https://localhost:8080/"
        },
        "id": "fUXFdzxDvlFZ",
        "outputId": "8baa81fc-1830-4a61-d0b7-e83b48471d33"
      },
      "source": [
        "status_died = data1[data1.status == 'Died'].count()\r\n",
        "status_died"
      ],
      "execution_count": null,
      "outputs": [
        {
          "output_type": "execute_result",
          "data": {
            "text/plain": [
              "date_announced    806\n",
              "status            806\n",
              "dtype: int64"
            ]
          },
          "metadata": {
            "tags": []
          },
          "execution_count": 17
        }
      ]
    },
    {
      "cell_type": "code",
      "metadata": {
        "colab": {
          "base_uri": "https://localhost:8080/"
        },
        "id": "t8bGLqSV0hsa",
        "outputId": "c595cb1d-584c-4a3e-935b-1ece9146c355"
      },
      "source": [
        "df.status.unique()"
      ],
      "execution_count": null,
      "outputs": [
        {
          "output_type": "execute_result",
          "data": {
            "text/plain": [
              "['Recovered', 'Died', 'Admitted', 'Home quarantined', 'For validation']\n",
              "Categories (5, object): ['Recovered', 'Died', 'Admitted', 'Home quarantined', 'For validation']"
            ]
          },
          "metadata": {
            "tags": []
          },
          "execution_count": 19
        }
      ]
    },
    {
      "cell_type": "markdown",
      "metadata": {
        "id": "LRLjRvz-07Kb"
      },
      "source": [
        "Count other data except \"Died\" from status columns"
      ]
    },
    {
      "cell_type": "code",
      "metadata": {
        "colab": {
          "base_uri": "https://localhost:8080/",
          "height": 289
        },
        "id": "BXBqV1l-0zES",
        "outputId": "b4044683-37c9-4b08-8870-3f90f0c514d4"
      },
      "source": [
        "data1[data1.status == 'Recovered'].describe()"
      ],
      "execution_count": null,
      "outputs": [
        {
          "output_type": "stream",
          "text": [
            "/usr/local/lib/python3.6/dist-packages/ipykernel_launcher.py:1: FutureWarning: Treating datetime data as categorical rather than numeric in `.describe` is deprecated and will be removed in a future version of pandas. Specify `datetime_is_numeric=True` to silence this warning and adopt the future behavior now.\n",
            "  \"\"\"Entry point for launching an IPython kernel.\n"
          ],
          "name": "stderr"
        },
        {
          "output_type": "execute_result",
          "data": {
            "text/html": [
              "<div>\n",
              "<style scoped>\n",
              "    .dataframe tbody tr th:only-of-type {\n",
              "        vertical-align: middle;\n",
              "    }\n",
              "\n",
              "    .dataframe tbody tr th {\n",
              "        vertical-align: top;\n",
              "    }\n",
              "\n",
              "    .dataframe thead th {\n",
              "        text-align: right;\n",
              "    }\n",
              "</style>\n",
              "<table border=\"1\" class=\"dataframe\">\n",
              "  <thead>\n",
              "    <tr style=\"text-align: right;\">\n",
              "      <th></th>\n",
              "      <th>date_announced</th>\n",
              "      <th>status</th>\n",
              "    </tr>\n",
              "  </thead>\n",
              "  <tbody>\n",
              "    <tr>\n",
              "      <th>count</th>\n",
              "      <td>2460</td>\n",
              "      <td>2460</td>\n",
              "    </tr>\n",
              "    <tr>\n",
              "      <th>unique</th>\n",
              "      <td>65</td>\n",
              "      <td>1</td>\n",
              "    </tr>\n",
              "    <tr>\n",
              "      <th>top</th>\n",
              "      <td>2020-03-31 00:00:00</td>\n",
              "      <td>Recovered</td>\n",
              "    </tr>\n",
              "    <tr>\n",
              "      <th>freq</th>\n",
              "      <td>254</td>\n",
              "      <td>2460</td>\n",
              "    </tr>\n",
              "    <tr>\n",
              "      <th>first</th>\n",
              "      <td>2020-01-30 00:00:00</td>\n",
              "      <td>NaN</td>\n",
              "    </tr>\n",
              "    <tr>\n",
              "      <th>last</th>\n",
              "      <td>2020-05-14 00:00:00</td>\n",
              "      <td>NaN</td>\n",
              "    </tr>\n",
              "  </tbody>\n",
              "</table>\n",
              "</div>"
            ],
            "text/plain": [
              "             date_announced     status\n",
              "count                  2460       2460\n",
              "unique                   65          1\n",
              "top     2020-03-31 00:00:00  Recovered\n",
              "freq                    254       2460\n",
              "first   2020-01-30 00:00:00        NaN\n",
              "last    2020-05-14 00:00:00        NaN"
            ]
          },
          "metadata": {
            "tags": []
          },
          "execution_count": 20
        }
      ]
    },
    {
      "cell_type": "code",
      "metadata": {
        "colab": {
          "base_uri": "https://localhost:8080/"
        },
        "id": "a_2UQ6AO16hp",
        "outputId": "e8c94bde-22e6-46b2-bea1-f2db434d4e30"
      },
      "source": [
        "status_recovered = data1[data1.status == 'Recovered'].count()\r\n",
        "status_recovered"
      ],
      "execution_count": null,
      "outputs": [
        {
          "output_type": "execute_result",
          "data": {
            "text/plain": [
              "date_announced    2460\n",
              "status            2460\n",
              "dtype: int64"
            ]
          },
          "metadata": {
            "tags": []
          },
          "execution_count": 25
        }
      ]
    },
    {
      "cell_type": "code",
      "metadata": {
        "colab": {
          "base_uri": "https://localhost:8080/",
          "height": 289
        },
        "id": "-MAgXSh_0wzV",
        "outputId": "33feeab8-d969-48d9-8675-aa1e7b978865"
      },
      "source": [
        "data1[data1.status == 'Admitted'].describe()"
      ],
      "execution_count": null,
      "outputs": [
        {
          "output_type": "stream",
          "text": [
            "/usr/local/lib/python3.6/dist-packages/ipykernel_launcher.py:1: FutureWarning: Treating datetime data as categorical rather than numeric in `.describe` is deprecated and will be removed in a future version of pandas. Specify `datetime_is_numeric=True` to silence this warning and adopt the future behavior now.\n",
            "  \"\"\"Entry point for launching an IPython kernel.\n"
          ],
          "name": "stderr"
        },
        {
          "output_type": "execute_result",
          "data": {
            "text/html": [
              "<div>\n",
              "<style scoped>\n",
              "    .dataframe tbody tr th:only-of-type {\n",
              "        vertical-align: middle;\n",
              "    }\n",
              "\n",
              "    .dataframe tbody tr th {\n",
              "        vertical-align: top;\n",
              "    }\n",
              "\n",
              "    .dataframe thead th {\n",
              "        text-align: right;\n",
              "    }\n",
              "</style>\n",
              "<table border=\"1\" class=\"dataframe\">\n",
              "  <thead>\n",
              "    <tr style=\"text-align: right;\">\n",
              "      <th></th>\n",
              "      <th>date_announced</th>\n",
              "      <th>status</th>\n",
              "    </tr>\n",
              "  </thead>\n",
              "  <tbody>\n",
              "    <tr>\n",
              "      <th>count</th>\n",
              "      <td>1772</td>\n",
              "      <td>1772</td>\n",
              "    </tr>\n",
              "    <tr>\n",
              "      <th>unique</th>\n",
              "      <td>60</td>\n",
              "      <td>1</td>\n",
              "    </tr>\n",
              "    <tr>\n",
              "      <th>top</th>\n",
              "      <td>2020-03-31 00:00:00</td>\n",
              "      <td>Admitted</td>\n",
              "    </tr>\n",
              "    <tr>\n",
              "      <th>freq</th>\n",
              "      <td>111</td>\n",
              "      <td>1772</td>\n",
              "    </tr>\n",
              "    <tr>\n",
              "      <th>first</th>\n",
              "      <td>2020-03-11 00:00:00</td>\n",
              "      <td>NaN</td>\n",
              "    </tr>\n",
              "    <tr>\n",
              "      <th>last</th>\n",
              "      <td>2020-05-15 00:00:00</td>\n",
              "      <td>NaN</td>\n",
              "    </tr>\n",
              "  </tbody>\n",
              "</table>\n",
              "</div>"
            ],
            "text/plain": [
              "             date_announced    status\n",
              "count                  1772      1772\n",
              "unique                   60         1\n",
              "top     2020-03-31 00:00:00  Admitted\n",
              "freq                    111      1772\n",
              "first   2020-03-11 00:00:00       NaN\n",
              "last    2020-05-15 00:00:00       NaN"
            ]
          },
          "metadata": {
            "tags": []
          },
          "execution_count": 21
        }
      ]
    },
    {
      "cell_type": "code",
      "metadata": {
        "colab": {
          "base_uri": "https://localhost:8080/"
        },
        "id": "WCuT0hud2CRH",
        "outputId": "ee94be02-74e7-48be-f604-529082bb8d2c"
      },
      "source": [
        "status_admitted = data1[data1.status == 'Admitted'].count()\r\n",
        "status_admitted"
      ],
      "execution_count": null,
      "outputs": [
        {
          "output_type": "execute_result",
          "data": {
            "text/plain": [
              "date_announced    1772\n",
              "status            1772\n",
              "dtype: int64"
            ]
          },
          "metadata": {
            "tags": []
          },
          "execution_count": 26
        }
      ]
    },
    {
      "cell_type": "code",
      "metadata": {
        "colab": {
          "base_uri": "https://localhost:8080/",
          "height": 289
        },
        "id": "oUsFlP1V1nj_",
        "outputId": "4f90eebe-fa23-47a6-8d3d-2d48afd14e07"
      },
      "source": [
        "data1[data1.status == 'Home quarantined'].describe()"
      ],
      "execution_count": null,
      "outputs": [
        {
          "output_type": "stream",
          "text": [
            "/usr/local/lib/python3.6/dist-packages/ipykernel_launcher.py:1: FutureWarning: Treating datetime data as categorical rather than numeric in `.describe` is deprecated and will be removed in a future version of pandas. Specify `datetime_is_numeric=True` to silence this warning and adopt the future behavior now.\n",
            "  \"\"\"Entry point for launching an IPython kernel.\n"
          ],
          "name": "stderr"
        },
        {
          "output_type": "execute_result",
          "data": {
            "text/html": [
              "<div>\n",
              "<style scoped>\n",
              "    .dataframe tbody tr th:only-of-type {\n",
              "        vertical-align: middle;\n",
              "    }\n",
              "\n",
              "    .dataframe tbody tr th {\n",
              "        vertical-align: top;\n",
              "    }\n",
              "\n",
              "    .dataframe thead th {\n",
              "        text-align: right;\n",
              "    }\n",
              "</style>\n",
              "<table border=\"1\" class=\"dataframe\">\n",
              "  <thead>\n",
              "    <tr style=\"text-align: right;\">\n",
              "      <th></th>\n",
              "      <th>date_announced</th>\n",
              "      <th>status</th>\n",
              "    </tr>\n",
              "  </thead>\n",
              "  <tbody>\n",
              "    <tr>\n",
              "      <th>count</th>\n",
              "      <td>1263</td>\n",
              "      <td>1263</td>\n",
              "    </tr>\n",
              "    <tr>\n",
              "      <th>unique</th>\n",
              "      <td>58</td>\n",
              "      <td>1</td>\n",
              "    </tr>\n",
              "    <tr>\n",
              "      <th>top</th>\n",
              "      <td>2020-04-13 00:00:00</td>\n",
              "      <td>Home quarantined</td>\n",
              "    </tr>\n",
              "    <tr>\n",
              "      <th>freq</th>\n",
              "      <td>72</td>\n",
              "      <td>1263</td>\n",
              "    </tr>\n",
              "    <tr>\n",
              "      <th>first</th>\n",
              "      <td>2020-03-17 00:00:00</td>\n",
              "      <td>NaN</td>\n",
              "    </tr>\n",
              "    <tr>\n",
              "      <th>last</th>\n",
              "      <td>2020-05-15 00:00:00</td>\n",
              "      <td>NaN</td>\n",
              "    </tr>\n",
              "  </tbody>\n",
              "</table>\n",
              "</div>"
            ],
            "text/plain": [
              "             date_announced            status\n",
              "count                  1263              1263\n",
              "unique                   58                 1\n",
              "top     2020-04-13 00:00:00  Home quarantined\n",
              "freq                     72              1263\n",
              "first   2020-03-17 00:00:00               NaN\n",
              "last    2020-05-15 00:00:00               NaN"
            ]
          },
          "metadata": {
            "tags": []
          },
          "execution_count": 23
        }
      ]
    },
    {
      "cell_type": "code",
      "metadata": {
        "colab": {
          "base_uri": "https://localhost:8080/"
        },
        "id": "RL7pbo9e2Jua",
        "outputId": "fb89a0a1-51f6-40e0-8017-da304ea57040"
      },
      "source": [
        "status_homeq = data1[data1.status == 'Home quarantined'].count()\r\n",
        "status_homeq"
      ],
      "execution_count": null,
      "outputs": [
        {
          "output_type": "execute_result",
          "data": {
            "text/plain": [
              "date_announced    1263\n",
              "status            1263\n",
              "dtype: int64"
            ]
          },
          "metadata": {
            "tags": []
          },
          "execution_count": 27
        }
      ]
    },
    {
      "cell_type": "code",
      "metadata": {
        "colab": {
          "base_uri": "https://localhost:8080/",
          "height": 163
        },
        "id": "7WK2ULHS1x6d",
        "outputId": "5a6056e9-6b27-42b3-8dda-1ef5a2fca5fe"
      },
      "source": [
        "data1[data1.status == 'For validation'].describe()"
      ],
      "execution_count": null,
      "outputs": [
        {
          "output_type": "error",
          "ename": "NameError",
          "evalue": "ignored",
          "traceback": [
            "\u001b[0;31m---------------------------------------------------------------------------\u001b[0m",
            "\u001b[0;31mNameError\u001b[0m                                 Traceback (most recent call last)",
            "\u001b[0;32m<ipython-input-52-af2a998f0f9c>\u001b[0m in \u001b[0;36m<module>\u001b[0;34m()\u001b[0m\n\u001b[0;32m----> 1\u001b[0;31m \u001b[0mdata1\u001b[0m\u001b[0;34m[\u001b[0m\u001b[0mdata1\u001b[0m\u001b[0;34m.\u001b[0m\u001b[0mstatus\u001b[0m \u001b[0;34m==\u001b[0m \u001b[0;34m'For validation'\u001b[0m\u001b[0;34m]\u001b[0m\u001b[0;34m.\u001b[0m\u001b[0mdescribe\u001b[0m\u001b[0;34m(\u001b[0m\u001b[0;34m)\u001b[0m\u001b[0;34m\u001b[0m\u001b[0;34m\u001b[0m\u001b[0m\n\u001b[0m",
            "\u001b[0;31mNameError\u001b[0m: name 'data1' is not defined"
          ]
        }
      ]
    },
    {
      "cell_type": "code",
      "metadata": {
        "colab": {
          "base_uri": "https://localhost:8080/"
        },
        "id": "mGEJLDZk2ST9",
        "outputId": "cadcee6f-5cff-4c1e-818c-7ba8f9a16157"
      },
      "source": [
        "status_validation = data1[data1.status == 'For validation'].count()\r\n",
        "status_validation"
      ],
      "execution_count": null,
      "outputs": [
        {
          "output_type": "execute_result",
          "data": {
            "text/plain": [
              "date_announced    5790\n",
              "status            5790\n",
              "dtype: int64"
            ]
          },
          "metadata": {
            "tags": []
          },
          "execution_count": 28
        }
      ]
    },
    {
      "cell_type": "code",
      "metadata": {
        "colab": {
          "base_uri": "https://localhost:8080/"
        },
        "id": "oF2Nma_n2aPx",
        "outputId": "8367e550-63cd-4887-987e-4d1bef8870a5"
      },
      "source": [
        "total = status_died + status_admitted + status_homeq + status_recovered + status_validation\r\n",
        "died_percentage = round((status_died / total)*100)\r\n",
        "died_percentage\r\n"
      ],
      "execution_count": null,
      "outputs": [
        {
          "output_type": "execute_result",
          "data": {
            "text/plain": [
              "date_announced    7.0\n",
              "status            7.0\n",
              "dtype: float64"
            ]
          },
          "metadata": {
            "tags": []
          },
          "execution_count": 29
        }
      ]
    },
    {
      "cell_type": "code",
      "metadata": {
        "colab": {
          "base_uri": "https://localhost:8080/"
        },
        "id": "HYcGedhM3E-B",
        "outputId": "8ddb0b5b-21f6-4283-b37f-1b3a207b3e70"
      },
      "source": [
        "total"
      ],
      "execution_count": null,
      "outputs": [
        {
          "output_type": "execute_result",
          "data": {
            "text/plain": [
              "date_announced    12091\n",
              "status            12091\n",
              "dtype: int64"
            ]
          },
          "metadata": {
            "tags": []
          },
          "execution_count": 30
        }
      ]
    },
    {
      "cell_type": "markdown",
      "metadata": {
        "id": "qgkcdxx035Ka"
      },
      "source": [
        "Using pie chart to calculate the percentage of Died and total recorded cases"
      ]
    },
    {
      "cell_type": "code",
      "metadata": {
        "colab": {
          "base_uri": "https://localhost:8080/",
          "height": 248
        },
        "id": "aQEhkTLQ3KVV",
        "outputId": "89a98cd4-a772-4d1f-92a3-109326a644ea"
      },
      "source": [
        "status_died, status_recovered, status_admitted, status_homeq, status_validation = 806, 2460, 1772, 1263, 5790\r\n",
        "fiq, ax = plt.subplots()\r\n",
        "ax.pie((status_died, status_recovered, status_admitted, status_homeq, status_validation), labels=('Died','recovered','Admitted','Home Quarantined','For validation'), autopct='%1.1f%%')\r\n",
        "plt.show()"
      ],
      "execution_count": null,
      "outputs": [
        {
          "output_type": "display_data",
          "data": {
            "image/png": "[encoded data removed]",
            "text/plain": [
              "<Figure size 432x288 with 1 Axes>"
            ]
          },
          "metadata": {
            "tags": []
          }
        }
      ]
    },
    {
      "cell_type": "markdown",
      "metadata": {
        "id": "nfZeX0b1aoJn"
      },
      "source": [
        "# Patient Status accoring to the Month"
      ]
    },
    {
      "cell_type": "markdown",
      "metadata": {
        "id": "z2jh5c9e5l8C"
      },
      "source": [
        "Extract month from status columns"
      ]
    },
    {
      "cell_type": "code",
      "metadata": {
        "colab": {
          "base_uri": "https://localhost:8080/",
          "height": 521
        },
        "id": "sqtHsY9D5qAe",
        "outputId": "ee580de2-e4e1-4c02-db77-87054f7154e0"
      },
      "source": [
        "data1['month'] = pd.DatetimeIndex(data1['date_announced']).month\r\n",
        "data1"
      ],
      "execution_count": null,
      "outputs": [
        {
          "output_type": "stream",
          "text": [
            "/usr/local/lib/python3.6/dist-packages/ipykernel_launcher.py:1: SettingWithCopyWarning: \n",
            "A value is trying to be set on a copy of a slice from a DataFrame.\n",
            "Try using .loc[row_indexer,col_indexer] = value instead\n",
            "\n",
            "See the caveats in the documentation: https://pandas.pydata.org/pandas-docs/stable/user_guide/indexing.html#returning-a-view-versus-a-copy\n",
            "  \"\"\"Entry point for launching an IPython kernel.\n"
          ],
          "name": "stderr"
        },
        {
          "output_type": "execute_result",
          "data": {
            "text/html": [
              "<div>\n",
              "<style scoped>\n",
              "    .dataframe tbody tr th:only-of-type {\n",
              "        vertical-align: middle;\n",
              "    }\n",
              "\n",
              "    .dataframe tbody tr th {\n",
              "        vertical-align: top;\n",
              "    }\n",
              "\n",
              "    .dataframe thead th {\n",
              "        text-align: right;\n",
              "    }\n",
              "</style>\n",
              "<table border=\"1\" class=\"dataframe\">\n",
              "  <thead>\n",
              "    <tr style=\"text-align: right;\">\n",
              "      <th></th>\n",
              "      <th>date_announced</th>\n",
              "      <th>status</th>\n",
              "      <th>month</th>\n",
              "    </tr>\n",
              "  </thead>\n",
              "  <tbody>\n",
              "    <tr>\n",
              "      <th>0</th>\n",
              "      <td>2020-01-30</td>\n",
              "      <td>Recovered</td>\n",
              "      <td>1</td>\n",
              "    </tr>\n",
              "    <tr>\n",
              "      <th>1</th>\n",
              "      <td>2020-02-03</td>\n",
              "      <td>Died</td>\n",
              "      <td>2</td>\n",
              "    </tr>\n",
              "    <tr>\n",
              "      <th>2</th>\n",
              "      <td>2020-02-05</td>\n",
              "      <td>Recovered</td>\n",
              "      <td>2</td>\n",
              "    </tr>\n",
              "    <tr>\n",
              "      <th>3</th>\n",
              "      <td>2020-03-06</td>\n",
              "      <td>Recovered</td>\n",
              "      <td>3</td>\n",
              "    </tr>\n",
              "    <tr>\n",
              "      <th>4</th>\n",
              "      <td>2020-03-06</td>\n",
              "      <td>Died</td>\n",
              "      <td>3</td>\n",
              "    </tr>\n",
              "    <tr>\n",
              "      <th>...</th>\n",
              "      <td>...</td>\n",
              "      <td>...</td>\n",
              "      <td>...</td>\n",
              "    </tr>\n",
              "    <tr>\n",
              "      <th>12086</th>\n",
              "      <td>2020-05-15</td>\n",
              "      <td>For validation</td>\n",
              "      <td>5</td>\n",
              "    </tr>\n",
              "    <tr>\n",
              "      <th>12087</th>\n",
              "      <td>2020-05-15</td>\n",
              "      <td>Died</td>\n",
              "      <td>5</td>\n",
              "    </tr>\n",
              "    <tr>\n",
              "      <th>12088</th>\n",
              "      <td>2020-05-15</td>\n",
              "      <td>For validation</td>\n",
              "      <td>5</td>\n",
              "    </tr>\n",
              "    <tr>\n",
              "      <th>12089</th>\n",
              "      <td>2020-05-15</td>\n",
              "      <td>Home quarantined</td>\n",
              "      <td>5</td>\n",
              "    </tr>\n",
              "    <tr>\n",
              "      <th>12090</th>\n",
              "      <td>2020-05-15</td>\n",
              "      <td>For validation</td>\n",
              "      <td>5</td>\n",
              "    </tr>\n",
              "  </tbody>\n",
              "</table>\n",
              "<p>12091 rows × 3 columns</p>\n",
              "</div>"
            ],
            "text/plain": [
              "      date_announced            status  month\n",
              "0         2020-01-30         Recovered      1\n",
              "1         2020-02-03              Died      2\n",
              "2         2020-02-05         Recovered      2\n",
              "3         2020-03-06         Recovered      3\n",
              "4         2020-03-06              Died      3\n",
              "...              ...               ...    ...\n",
              "12086     2020-05-15    For validation      5\n",
              "12087     2020-05-15              Died      5\n",
              "12088     2020-05-15    For validation      5\n",
              "12089     2020-05-15  Home quarantined      5\n",
              "12090     2020-05-15    For validation      5\n",
              "\n",
              "[12091 rows x 3 columns]"
            ]
          },
          "metadata": {
            "tags": []
          },
          "execution_count": 54
        }
      ]
    },
    {
      "cell_type": "code",
      "metadata": {
        "colab": {
          "base_uri": "https://localhost:8080/"
        },
        "id": "9UWnSMbf5-K2",
        "outputId": "0907b5e6-5b44-4866-a849-0c6e994589c0"
      },
      "source": [
        "data1_test = data1.groupby([\"month\", \"status\"])[\"date_announced\"].size()\r\n",
        "data1_test"
      ],
      "execution_count": null,
      "outputs": [
        {
          "output_type": "execute_result",
          "data": {
            "text/plain": [
              "month  status          \n",
              "1      Admitted               0\n",
              "       Died                   0\n",
              "       For validation         0\n",
              "       Home quarantined       0\n",
              "       Recovered              1\n",
              "2      Admitted               0\n",
              "       Died                   1\n",
              "       For validation         0\n",
              "       Home quarantined       0\n",
              "       Recovered              1\n",
              "3      Admitted             349\n",
              "       Died                 340\n",
              "       For validation       120\n",
              "       Home quarantined     108\n",
              "       Recovered           1164\n",
              "4      Admitted            1115\n",
              "       Died                 399\n",
              "       For validation      2674\n",
              "       Home quarantined     942\n",
              "       Recovered           1274\n",
              "5      Admitted             308\n",
              "       Died                  66\n",
              "       For validation      2996\n",
              "       Home quarantined     213\n",
              "       Recovered             20\n",
              "Name: date_announced, dtype: int64"
            ]
          },
          "metadata": {
            "tags": []
          },
          "execution_count": 57
        }
      ]
    },
    {
      "cell_type": "code",
      "metadata": {
        "colab": {
          "base_uri": "https://localhost:8080/",
          "height": 235
        },
        "id": "X8UwdeWz6Hfg",
        "outputId": "1cb2006f-8ab7-404e-c5d2-8e00f6efab4b"
      },
      "source": [
        "data1_test1 = data1_test.unstack()\r\n",
        "data1_test1"
      ],
      "execution_count": null,
      "outputs": [
        {
          "output_type": "execute_result",
          "data": {
            "text/html": [
              "<div>\n",
              "<style scoped>\n",
              "    .dataframe tbody tr th:only-of-type {\n",
              "        vertical-align: middle;\n",
              "    }\n",
              "\n",
              "    .dataframe tbody tr th {\n",
              "        vertical-align: top;\n",
              "    }\n",
              "\n",
              "    .dataframe thead th {\n",
              "        text-align: right;\n",
              "    }\n",
              "</style>\n",
              "<table border=\"1\" class=\"dataframe\">\n",
              "  <thead>\n",
              "    <tr style=\"text-align: right;\">\n",
              "      <th>status</th>\n",
              "      <th>Admitted</th>\n",
              "      <th>Died</th>\n",
              "      <th>For validation</th>\n",
              "      <th>Home quarantined</th>\n",
              "      <th>Recovered</th>\n",
              "    </tr>\n",
              "    <tr>\n",
              "      <th>month</th>\n",
              "      <th></th>\n",
              "      <th></th>\n",
              "      <th></th>\n",
              "      <th></th>\n",
              "      <th></th>\n",
              "    </tr>\n",
              "  </thead>\n",
              "  <tbody>\n",
              "    <tr>\n",
              "      <th>1</th>\n",
              "      <td>0</td>\n",
              "      <td>0</td>\n",
              "      <td>0</td>\n",
              "      <td>0</td>\n",
              "      <td>1</td>\n",
              "    </tr>\n",
              "    <tr>\n",
              "      <th>2</th>\n",
              "      <td>0</td>\n",
              "      <td>1</td>\n",
              "      <td>0</td>\n",
              "      <td>0</td>\n",
              "      <td>1</td>\n",
              "    </tr>\n",
              "    <tr>\n",
              "      <th>3</th>\n",
              "      <td>349</td>\n",
              "      <td>340</td>\n",
              "      <td>120</td>\n",
              "      <td>108</td>\n",
              "      <td>1164</td>\n",
              "    </tr>\n",
              "    <tr>\n",
              "      <th>4</th>\n",
              "      <td>1115</td>\n",
              "      <td>399</td>\n",
              "      <td>2674</td>\n",
              "      <td>942</td>\n",
              "      <td>1274</td>\n",
              "    </tr>\n",
              "    <tr>\n",
              "      <th>5</th>\n",
              "      <td>308</td>\n",
              "      <td>66</td>\n",
              "      <td>2996</td>\n",
              "      <td>213</td>\n",
              "      <td>20</td>\n",
              "    </tr>\n",
              "  </tbody>\n",
              "</table>\n",
              "</div>"
            ],
            "text/plain": [
              "status  Admitted  Died  For validation  Home quarantined  Recovered\n",
              "month                                                              \n",
              "1              0     0               0                 0          1\n",
              "2              0     1               0                 0          1\n",
              "3            349   340             120               108       1164\n",
              "4           1115   399            2674               942       1274\n",
              "5            308    66            2996               213         20"
            ]
          },
          "metadata": {
            "tags": []
          },
          "execution_count": 58
        }
      ]
    },
    {
      "cell_type": "code",
      "metadata": {
        "colab": {
          "base_uri": "https://localhost:8080/",
          "height": 401
        },
        "id": "mG5WQr0x6K2X",
        "outputId": "da6d35e0-beac-4287-8d82-ad62d569ffa7"
      },
      "source": [
        "data1_test1.plot(kind='bar', title=\"\", figsize=[16,6], colormap='viridis')"
      ],
      "execution_count": null,
      "outputs": [
        {
          "output_type": "execute_result",
          "data": {
            "text/plain": [
              "<matplotlib.axes._subplots.AxesSubplot at 0x7f11303cb2b0>"
            ]
          },
          "metadata": {
            "tags": []
          },
          "execution_count": 65
        },
        {
          "output_type": "display_data",
          "data": {
            "image/png": "[encoded data removed]",
            "text/plain": [
              "<Figure size 1152x432 with 1 Axes>"
            ]
          },
          "metadata": {
            "tags": [],
            "needs_background": "light"
          }
        }
      ]
    },
    {
      "cell_type": "markdown",
      "metadata": {
        "id": "WJFIYP0Z7N7y"
      },
      "source": [
        "# 2. The different recovery rates and death rates per age group in Philippines?"
      ]
    },
    {
      "cell_type": "code",
      "metadata": {
        "colab": {
          "base_uri": "https://localhost:8080/"
        },
        "id": "qLY-_WBl7ZvG",
        "outputId": "94f42d03-9bb6-4a64-e1ca-f97a9abe108f"
      },
      "source": [
        "df['status'].describe()"
      ],
      "execution_count": 100,
      "outputs": [
        {
          "output_type": "execute_result",
          "data": {
            "text/plain": [
              "count              12091\n",
              "unique                 5\n",
              "top       For validation\n",
              "freq                5790\n",
              "Name: status, dtype: object"
            ]
          },
          "metadata": {
            "tags": []
          },
          "execution_count": 100
        }
      ]
    },
    {
      "cell_type": "code",
      "metadata": {
        "colab": {
          "base_uri": "https://localhost:8080/",
          "height": 419
        },
        "id": "cGCF6Uiu71xp",
        "outputId": "2429e7ec-d033-43a9-a6b1-6497f1858c89"
      },
      "source": [
        "data7 = df[['age_group','age','status']]\r\n",
        "data7"
      ],
      "execution_count": 101,
      "outputs": [
        {
          "output_type": "execute_result",
          "data": {
            "text/html": [
              "<div>\n",
              "<style scoped>\n",
              "    .dataframe tbody tr th:only-of-type {\n",
              "        vertical-align: middle;\n",
              "    }\n",
              "\n",
              "    .dataframe tbody tr th {\n",
              "        vertical-align: top;\n",
              "    }\n",
              "\n",
              "    .dataframe thead th {\n",
              "        text-align: right;\n",
              "    }\n",
              "</style>\n",
              "<table border=\"1\" class=\"dataframe\">\n",
              "  <thead>\n",
              "    <tr style=\"text-align: right;\">\n",
              "      <th></th>\n",
              "      <th>age_group</th>\n",
              "      <th>age</th>\n",
              "      <th>status</th>\n",
              "    </tr>\n",
              "  </thead>\n",
              "  <tbody>\n",
              "    <tr>\n",
              "      <th>0</th>\n",
              "      <td>35 to 39</td>\n",
              "      <td>38.0</td>\n",
              "      <td>Recovered</td>\n",
              "    </tr>\n",
              "    <tr>\n",
              "      <th>1</th>\n",
              "      <td>40 to 44</td>\n",
              "      <td>44.0</td>\n",
              "      <td>Died</td>\n",
              "    </tr>\n",
              "    <tr>\n",
              "      <th>2</th>\n",
              "      <td>60 to 64</td>\n",
              "      <td>60.0</td>\n",
              "      <td>Recovered</td>\n",
              "    </tr>\n",
              "    <tr>\n",
              "      <th>3</th>\n",
              "      <td>45 to 49</td>\n",
              "      <td>48.0</td>\n",
              "      <td>Recovered</td>\n",
              "    </tr>\n",
              "    <tr>\n",
              "      <th>4</th>\n",
              "      <td>60 to 64</td>\n",
              "      <td>62.0</td>\n",
              "      <td>Died</td>\n",
              "    </tr>\n",
              "    <tr>\n",
              "      <th>...</th>\n",
              "      <td>...</td>\n",
              "      <td>...</td>\n",
              "      <td>...</td>\n",
              "    </tr>\n",
              "    <tr>\n",
              "      <th>12086</th>\n",
              "      <td>35 to 39</td>\n",
              "      <td>35.0</td>\n",
              "      <td>For validation</td>\n",
              "    </tr>\n",
              "    <tr>\n",
              "      <th>12087</th>\n",
              "      <td>35 to 39</td>\n",
              "      <td>37.0</td>\n",
              "      <td>Died</td>\n",
              "    </tr>\n",
              "    <tr>\n",
              "      <th>12088</th>\n",
              "      <td>60 to 64</td>\n",
              "      <td>62.0</td>\n",
              "      <td>For validation</td>\n",
              "    </tr>\n",
              "    <tr>\n",
              "      <th>12089</th>\n",
              "      <td>15 to 19</td>\n",
              "      <td>18.0</td>\n",
              "      <td>Home quarantined</td>\n",
              "    </tr>\n",
              "    <tr>\n",
              "      <th>12090</th>\n",
              "      <td>50 to 54</td>\n",
              "      <td>50.0</td>\n",
              "      <td>For validation</td>\n",
              "    </tr>\n",
              "  </tbody>\n",
              "</table>\n",
              "<p>12091 rows × 3 columns</p>\n",
              "</div>"
            ],
            "text/plain": [
              "      age_group   age            status\n",
              "0      35 to 39  38.0         Recovered\n",
              "1      40 to 44  44.0              Died\n",
              "2      60 to 64  60.0         Recovered\n",
              "3      45 to 49  48.0         Recovered\n",
              "4      60 to 64  62.0              Died\n",
              "...         ...   ...               ...\n",
              "12086  35 to 39  35.0    For validation\n",
              "12087  35 to 39  37.0              Died\n",
              "12088  60 to 64  62.0    For validation\n",
              "12089  15 to 19  18.0  Home quarantined\n",
              "12090  50 to 54  50.0    For validation\n",
              "\n",
              "[12091 rows x 3 columns]"
            ]
          },
          "metadata": {
            "tags": []
          },
          "execution_count": 101
        }
      ]
    },
    {
      "cell_type": "markdown",
      "metadata": {
        "id": "qC5nDKmtBjUy"
      },
      "source": [
        "Drop rows in the new data frame that have the Nan values"
      ]
    },
    {
      "cell_type": "code",
      "metadata": {
        "colab": {
          "base_uri": "https://localhost:8080/",
          "height": 419
        },
        "id": "TzLNOESz8uOd",
        "outputId": "c678bf9a-0361-4780-f5d0-7766b4b5f55a"
      },
      "source": [
        "data7= data7.dropna()\r\n",
        "data7= data7.reset_index(drop=True)\r\n",
        "data7"
      ],
      "execution_count": 102,
      "outputs": [
        {
          "output_type": "execute_result",
          "data": {
            "text/html": [
              "<div>\n",
              "<style scoped>\n",
              "    .dataframe tbody tr th:only-of-type {\n",
              "        vertical-align: middle;\n",
              "    }\n",
              "\n",
              "    .dataframe tbody tr th {\n",
              "        vertical-align: top;\n",
              "    }\n",
              "\n",
              "    .dataframe thead th {\n",
              "        text-align: right;\n",
              "    }\n",
              "</style>\n",
              "<table border=\"1\" class=\"dataframe\">\n",
              "  <thead>\n",
              "    <tr style=\"text-align: right;\">\n",
              "      <th></th>\n",
              "      <th>age_group</th>\n",
              "      <th>age</th>\n",
              "      <th>status</th>\n",
              "    </tr>\n",
              "  </thead>\n",
              "  <tbody>\n",
              "    <tr>\n",
              "      <th>0</th>\n",
              "      <td>35 to 39</td>\n",
              "      <td>38.0</td>\n",
              "      <td>Recovered</td>\n",
              "    </tr>\n",
              "    <tr>\n",
              "      <th>1</th>\n",
              "      <td>40 to 44</td>\n",
              "      <td>44.0</td>\n",
              "      <td>Died</td>\n",
              "    </tr>\n",
              "    <tr>\n",
              "      <th>2</th>\n",
              "      <td>60 to 64</td>\n",
              "      <td>60.0</td>\n",
              "      <td>Recovered</td>\n",
              "    </tr>\n",
              "    <tr>\n",
              "      <th>3</th>\n",
              "      <td>45 to 49</td>\n",
              "      <td>48.0</td>\n",
              "      <td>Recovered</td>\n",
              "    </tr>\n",
              "    <tr>\n",
              "      <th>4</th>\n",
              "      <td>60 to 64</td>\n",
              "      <td>62.0</td>\n",
              "      <td>Died</td>\n",
              "    </tr>\n",
              "    <tr>\n",
              "      <th>...</th>\n",
              "      <td>...</td>\n",
              "      <td>...</td>\n",
              "      <td>...</td>\n",
              "    </tr>\n",
              "    <tr>\n",
              "      <th>12065</th>\n",
              "      <td>35 to 39</td>\n",
              "      <td>35.0</td>\n",
              "      <td>For validation</td>\n",
              "    </tr>\n",
              "    <tr>\n",
              "      <th>12066</th>\n",
              "      <td>35 to 39</td>\n",
              "      <td>37.0</td>\n",
              "      <td>Died</td>\n",
              "    </tr>\n",
              "    <tr>\n",
              "      <th>12067</th>\n",
              "      <td>60 to 64</td>\n",
              "      <td>62.0</td>\n",
              "      <td>For validation</td>\n",
              "    </tr>\n",
              "    <tr>\n",
              "      <th>12068</th>\n",
              "      <td>15 to 19</td>\n",
              "      <td>18.0</td>\n",
              "      <td>Home quarantined</td>\n",
              "    </tr>\n",
              "    <tr>\n",
              "      <th>12069</th>\n",
              "      <td>50 to 54</td>\n",
              "      <td>50.0</td>\n",
              "      <td>For validation</td>\n",
              "    </tr>\n",
              "  </tbody>\n",
              "</table>\n",
              "<p>12070 rows × 3 columns</p>\n",
              "</div>"
            ],
            "text/plain": [
              "      age_group   age            status\n",
              "0      35 to 39  38.0         Recovered\n",
              "1      40 to 44  44.0              Died\n",
              "2      60 to 64  60.0         Recovered\n",
              "3      45 to 49  48.0         Recovered\n",
              "4      60 to 64  62.0              Died\n",
              "...         ...   ...               ...\n",
              "12065  35 to 39  35.0    For validation\n",
              "12066  35 to 39  37.0              Died\n",
              "12067  60 to 64  62.0    For validation\n",
              "12068  15 to 19  18.0  Home quarantined\n",
              "12069  50 to 54  50.0    For validation\n",
              "\n",
              "[12070 rows x 3 columns]"
            ]
          },
          "metadata": {
            "tags": []
          },
          "execution_count": 102
        }
      ]
    },
    {
      "cell_type": "markdown",
      "metadata": {
        "id": "qoim2nJABraE"
      },
      "source": [
        "Group the data according to the age group and the patient status"
      ]
    },
    {
      "cell_type": "code",
      "metadata": {
        "colab": {
          "base_uri": "https://localhost:8080/"
        },
        "id": "8DvAl7cl9BEF",
        "outputId": "60f3794c-9b78-4a8b-f756-7dce8bf9d4df"
      },
      "source": [
        "data7_count = data7.groupby([\"age_group\"])[\"status\"].value_counts()\r\n",
        "data7_count"
      ],
      "execution_count": 103,
      "outputs": [
        {
          "output_type": "execute_result",
          "data": {
            "text/plain": [
              "age_group  status          \n",
              "0 to 4     For validation      100\n",
              "           Admitted             22\n",
              "           Recovered            14\n",
              "           Home quarantined     11\n",
              "           Died                  7\n",
              "                              ... \n",
              "80+        Died                108\n",
              "           For validation       90\n",
              "           Admitted             72\n",
              "           Recovered            37\n",
              "           Home quarantined     14\n",
              "Name: status, Length: 85, dtype: int64"
            ]
          },
          "metadata": {
            "tags": []
          },
          "execution_count": 103
        }
      ]
    },
    {
      "cell_type": "code",
      "metadata": {
        "colab": {
          "base_uri": "https://localhost:8080/"
        },
        "id": "131jt9sy9iOH",
        "outputId": "6c320e4e-8407-4c45-f529-5adacdf0ce6a"
      },
      "source": [
        " data7_count= data7.groupby(\"age_group\")[\"status\"].count()\r\n",
        " data7_count"
      ],
      "execution_count": 104,
      "outputs": [
        {
          "output_type": "execute_result",
          "data": {
            "text/plain": [
              "age_group\n",
              "0 to 4       154\n",
              "10 to 14     169\n",
              "15 to 19     282\n",
              "20 to 24     767\n",
              "25 to 29    1289\n",
              "30 to 34    1510\n",
              "35 to 39    1061\n",
              "40 to 44     967\n",
              "45 to 49    1002\n",
              "5 to 9       122\n",
              "50 to 54     973\n",
              "55 to 59     967\n",
              "60 to 64     921\n",
              "65 to 69     713\n",
              "70 to 74     565\n",
              "75 to 79     287\n",
              "80+          321\n",
              "Name: status, dtype: int64"
            ]
          },
          "metadata": {
            "tags": []
          },
          "execution_count": 104
        }
      ]
    },
    {
      "cell_type": "markdown",
      "metadata": {
        "id": "tuVTm4ib91Kl"
      },
      "source": [
        "Use unstack function to separate the unique data from status column into 5 differents new column. The data in the new columns is a value accumulate from each of the age_group column. Then, add 3 more additional columns which are total, Died_percent, and Recovered_percent. The formula has been added into the code for calculating the Died percentange and Recovered percentage for each age group."
      ]
    },
    {
      "cell_type": "code",
      "metadata": {
        "colab": {
          "base_uri": "https://localhost:8080/",
          "height": 607
        },
        "id": "cNvaLwgJ93FN",
        "outputId": "c6dd9b0a-795f-4c83-8668-82f949219c61"
      },
      "source": [
        "data7_status = data2.groupby('age_group')['status'].value_counts().unstack().fillna(0)\r\n",
        "data7_status.rename(columns = {'Home quarantined':'home_quarantined'}, inplace = True)\r\n",
        "data7_status.rename(columns = {'For validation':'for_validation'}, inplace = True)\r\n",
        "data7_status['total'] = data7_status.apply(lambda row: row.Admitted + row.Died + row.for_validation + row.home_quarantined + row.Recovered, axis=1)\r\n",
        "data7_status['Died_percentage'] = data7_status.apply(lambda row: row.Died/ row.total * 100, axis=1)\r\n",
        "data7_status['Recovered_percentage'] = data7_status.apply(lambda row: row.Recovered/ row.total * 100, axis=1)\r\n",
        "data7_status = data7_status.round(2)\r\n",
        "data7_status"
      ],
      "execution_count": 105,
      "outputs": [
        {
          "output_type": "execute_result",
          "data": {
            "text/html": [
              "<div>\n",
              "<style scoped>\n",
              "    .dataframe tbody tr th:only-of-type {\n",
              "        vertical-align: middle;\n",
              "    }\n",
              "\n",
              "    .dataframe tbody tr th {\n",
              "        vertical-align: top;\n",
              "    }\n",
              "\n",
              "    .dataframe thead th {\n",
              "        text-align: right;\n",
              "    }\n",
              "</style>\n",
              "<table border=\"1\" class=\"dataframe\">\n",
              "  <thead>\n",
              "    <tr style=\"text-align: right;\">\n",
              "      <th>status</th>\n",
              "      <th>Admitted</th>\n",
              "      <th>Died</th>\n",
              "      <th>for_validation</th>\n",
              "      <th>home_quarantined</th>\n",
              "      <th>Recovered</th>\n",
              "      <th>total</th>\n",
              "      <th>Died_percentage</th>\n",
              "      <th>Recovered_percentage</th>\n",
              "    </tr>\n",
              "    <tr>\n",
              "      <th>age_group</th>\n",
              "      <th></th>\n",
              "      <th></th>\n",
              "      <th></th>\n",
              "      <th></th>\n",
              "      <th></th>\n",
              "      <th></th>\n",
              "      <th></th>\n",
              "      <th></th>\n",
              "    </tr>\n",
              "  </thead>\n",
              "  <tbody>\n",
              "    <tr>\n",
              "      <th>0 to 4</th>\n",
              "      <td>22</td>\n",
              "      <td>7</td>\n",
              "      <td>100</td>\n",
              "      <td>11</td>\n",
              "      <td>14</td>\n",
              "      <td>154</td>\n",
              "      <td>4.55</td>\n",
              "      <td>9.09</td>\n",
              "    </tr>\n",
              "    <tr>\n",
              "      <th>10 to 14</th>\n",
              "      <td>8</td>\n",
              "      <td>1</td>\n",
              "      <td>142</td>\n",
              "      <td>11</td>\n",
              "      <td>7</td>\n",
              "      <td>169</td>\n",
              "      <td>0.59</td>\n",
              "      <td>4.14</td>\n",
              "    </tr>\n",
              "    <tr>\n",
              "      <th>15 to 19</th>\n",
              "      <td>25</td>\n",
              "      <td>4</td>\n",
              "      <td>228</td>\n",
              "      <td>15</td>\n",
              "      <td>10</td>\n",
              "      <td>282</td>\n",
              "      <td>1.42</td>\n",
              "      <td>3.55</td>\n",
              "    </tr>\n",
              "    <tr>\n",
              "      <th>20 to 24</th>\n",
              "      <td>97</td>\n",
              "      <td>3</td>\n",
              "      <td>451</td>\n",
              "      <td>90</td>\n",
              "      <td>126</td>\n",
              "      <td>767</td>\n",
              "      <td>0.39</td>\n",
              "      <td>16.43</td>\n",
              "    </tr>\n",
              "    <tr>\n",
              "      <th>25 to 29</th>\n",
              "      <td>140</td>\n",
              "      <td>6</td>\n",
              "      <td>718</td>\n",
              "      <td>184</td>\n",
              "      <td>241</td>\n",
              "      <td>1289</td>\n",
              "      <td>0.47</td>\n",
              "      <td>18.70</td>\n",
              "    </tr>\n",
              "    <tr>\n",
              "      <th>30 to 34</th>\n",
              "      <td>185</td>\n",
              "      <td>11</td>\n",
              "      <td>745</td>\n",
              "      <td>230</td>\n",
              "      <td>339</td>\n",
              "      <td>1510</td>\n",
              "      <td>0.73</td>\n",
              "      <td>22.45</td>\n",
              "    </tr>\n",
              "    <tr>\n",
              "      <th>35 to 39</th>\n",
              "      <td>129</td>\n",
              "      <td>20</td>\n",
              "      <td>563</td>\n",
              "      <td>130</td>\n",
              "      <td>219</td>\n",
              "      <td>1061</td>\n",
              "      <td>1.89</td>\n",
              "      <td>20.64</td>\n",
              "    </tr>\n",
              "    <tr>\n",
              "      <th>40 to 44</th>\n",
              "      <td>128</td>\n",
              "      <td>30</td>\n",
              "      <td>506</td>\n",
              "      <td>114</td>\n",
              "      <td>189</td>\n",
              "      <td>967</td>\n",
              "      <td>3.10</td>\n",
              "      <td>19.54</td>\n",
              "    </tr>\n",
              "    <tr>\n",
              "      <th>45 to 49</th>\n",
              "      <td>151</td>\n",
              "      <td>38</td>\n",
              "      <td>483</td>\n",
              "      <td>103</td>\n",
              "      <td>227</td>\n",
              "      <td>1002</td>\n",
              "      <td>3.79</td>\n",
              "      <td>22.65</td>\n",
              "    </tr>\n",
              "    <tr>\n",
              "      <th>5 to 9</th>\n",
              "      <td>5</td>\n",
              "      <td>1</td>\n",
              "      <td>98</td>\n",
              "      <td>6</td>\n",
              "      <td>12</td>\n",
              "      <td>122</td>\n",
              "      <td>0.82</td>\n",
              "      <td>9.84</td>\n",
              "    </tr>\n",
              "    <tr>\n",
              "      <th>50 to 54</th>\n",
              "      <td>137</td>\n",
              "      <td>60</td>\n",
              "      <td>441</td>\n",
              "      <td>101</td>\n",
              "      <td>234</td>\n",
              "      <td>973</td>\n",
              "      <td>6.17</td>\n",
              "      <td>24.05</td>\n",
              "    </tr>\n",
              "    <tr>\n",
              "      <th>55 to 59</th>\n",
              "      <td>172</td>\n",
              "      <td>77</td>\n",
              "      <td>416</td>\n",
              "      <td>82</td>\n",
              "      <td>220</td>\n",
              "      <td>967</td>\n",
              "      <td>7.96</td>\n",
              "      <td>22.75</td>\n",
              "    </tr>\n",
              "    <tr>\n",
              "      <th>60 to 64</th>\n",
              "      <td>168</td>\n",
              "      <td>129</td>\n",
              "      <td>348</td>\n",
              "      <td>68</td>\n",
              "      <td>208</td>\n",
              "      <td>921</td>\n",
              "      <td>14.01</td>\n",
              "      <td>22.58</td>\n",
              "    </tr>\n",
              "    <tr>\n",
              "      <th>65 to 69</th>\n",
              "      <td>153</td>\n",
              "      <td>125</td>\n",
              "      <td>193</td>\n",
              "      <td>50</td>\n",
              "      <td>192</td>\n",
              "      <td>713</td>\n",
              "      <td>17.53</td>\n",
              "      <td>26.93</td>\n",
              "    </tr>\n",
              "    <tr>\n",
              "      <th>70 to 74</th>\n",
              "      <td>123</td>\n",
              "      <td>109</td>\n",
              "      <td>163</td>\n",
              "      <td>44</td>\n",
              "      <td>126</td>\n",
              "      <td>565</td>\n",
              "      <td>19.29</td>\n",
              "      <td>22.30</td>\n",
              "    </tr>\n",
              "    <tr>\n",
              "      <th>75 to 79</th>\n",
              "      <td>55</td>\n",
              "      <td>77</td>\n",
              "      <td>88</td>\n",
              "      <td>9</td>\n",
              "      <td>58</td>\n",
              "      <td>287</td>\n",
              "      <td>26.83</td>\n",
              "      <td>20.21</td>\n",
              "    </tr>\n",
              "    <tr>\n",
              "      <th>80+</th>\n",
              "      <td>72</td>\n",
              "      <td>108</td>\n",
              "      <td>90</td>\n",
              "      <td>14</td>\n",
              "      <td>37</td>\n",
              "      <td>321</td>\n",
              "      <td>33.64</td>\n",
              "      <td>11.53</td>\n",
              "    </tr>\n",
              "  </tbody>\n",
              "</table>\n",
              "</div>"
            ],
            "text/plain": [
              "status     Admitted  Died  ...  Died_percentage  Recovered_percentage\n",
              "age_group                  ...                                       \n",
              "0 to 4           22     7  ...             4.55                  9.09\n",
              "10 to 14          8     1  ...             0.59                  4.14\n",
              "15 to 19         25     4  ...             1.42                  3.55\n",
              "20 to 24         97     3  ...             0.39                 16.43\n",
              "25 to 29        140     6  ...             0.47                 18.70\n",
              "30 to 34        185    11  ...             0.73                 22.45\n",
              "35 to 39        129    20  ...             1.89                 20.64\n",
              "40 to 44        128    30  ...             3.10                 19.54\n",
              "45 to 49        151    38  ...             3.79                 22.65\n",
              "5 to 9            5     1  ...             0.82                  9.84\n",
              "50 to 54        137    60  ...             6.17                 24.05\n",
              "55 to 59        172    77  ...             7.96                 22.75\n",
              "60 to 64        168   129  ...            14.01                 22.58\n",
              "65 to 69        153   125  ...            17.53                 26.93\n",
              "70 to 74        123   109  ...            19.29                 22.30\n",
              "75 to 79         55    77  ...            26.83                 20.21\n",
              "80+              72   108  ...            33.64                 11.53\n",
              "\n",
              "[17 rows x 8 columns]"
            ]
          },
          "metadata": {
            "tags": []
          },
          "execution_count": 105
        }
      ]
    },
    {
      "cell_type": "code",
      "metadata": {
        "colab": {
          "base_uri": "https://localhost:8080/"
        },
        "id": "Rc9RM9uMCchc",
        "outputId": "cbe52dd4-ae8d-4cca-a066-e6ce8e65b5fe"
      },
      "source": [
        "data7_status.dtypes"
      ],
      "execution_count": 106,
      "outputs": [
        {
          "output_type": "execute_result",
          "data": {
            "text/plain": [
              "status\n",
              "Admitted                  int64\n",
              "Died                      int64\n",
              "for_validation            int64\n",
              "home_quarantined          int64\n",
              "Recovered                 int64\n",
              "total                     int64\n",
              "Died_percentage         float64\n",
              "Recovered_percentage    float64\n",
              "dtype: object"
            ]
          },
          "metadata": {
            "tags": []
          },
          "execution_count": 106
        }
      ]
    },
    {
      "cell_type": "markdown",
      "metadata": {
        "id": "hMoFAw2bCklz"
      },
      "source": [
        "Finding the maximum number of Died Cases bases on each age group"
      ]
    },
    {
      "cell_type": "markdown",
      "metadata": {
        "id": "qmNQFQ0kDQSN"
      },
      "source": [
        "Plotting the graph based on Died percentage corresponding with the age group"
      ]
    },
    {
      "cell_type": "code",
      "metadata": {
        "colab": {
          "base_uri": "https://localhost:8080/"
        },
        "id": "bSWdmg4WwXOn",
        "outputId": "3da8d18b-cb93-42dc-eeff-92a6b6da09b8"
      },
      "source": [
        "print(\"Died_percentage\")"
      ],
      "execution_count": null,
      "outputs": [
        {
          "output_type": "stream",
          "text": [
            "Died_percentage\n"
          ],
          "name": "stdout"
        }
      ]
    },
    {
      "cell_type": "code",
      "metadata": {
        "colab": {
          "base_uri": "https://localhost:8080/",
          "height": 437
        },
        "id": "HyOP7zd-5NBG",
        "outputId": "2674d7c5-1f66-4a22-be97-fb1832958535"
      },
      "source": [
        "data2_status.plot(kind='bar', y='Died_percentage', figsize=[16,6])"
      ],
      "execution_count": 133,
      "outputs": [
        {
          "output_type": "execute_result",
          "data": {
            "text/plain": [
              "<matplotlib.axes._subplots.AxesSubplot at 0x7f112ca9d6d8>"
            ]
          },
          "metadata": {
            "tags": []
          },
          "execution_count": 133
        },
        {
          "output_type": "display_data",
          "data": {
            "image/png": "[encoded data removed]",
            "text/plain": [
              "<Figure size 1152x432 with 1 Axes>"
            ]
          },
          "metadata": {
            "tags": [],
            "needs_background": "light"
          }
        }
      ]
    },
    {
      "cell_type": "code",
      "metadata": {
        "colab": {
          "base_uri": "https://localhost:8080/",
          "height": 438
        },
        "id": "rfNJp0fnDZD9",
        "outputId": "04dada79-8117-4406-fd0e-b2aff79aa9a1"
      },
      "source": [
        "data7_status.plot(kind='bar', y='Died_percentage', figsize=[16,6])"
      ],
      "execution_count": 108,
      "outputs": [
        {
          "output_type": "execute_result",
          "data": {
            "text/plain": [
              "<matplotlib.axes._subplots.AxesSubplot at 0x7f112fb37ac8>"
            ]
          },
          "metadata": {
            "tags": []
          },
          "execution_count": 108
        },
        {
          "output_type": "display_data",
          "data": {
            "image/png": "[encoded data removed]",
            "text/plain": [
              "<Figure size 1152x432 with 1 Axes>"
            ]
          },
          "metadata": {
            "tags": [],
            "needs_background": "light"
          }
        }
      ]
    },
    {
      "cell_type": "code",
      "metadata": {
        "colab": {
          "base_uri": "https://localhost:8080/",
          "height": 437
        },
        "id": "uLGcfzYwyUfs",
        "outputId": "5ea311bf-7306-49de-b800-f12175a0436c"
      },
      "source": [
        "data7_status.plot(kind='bar', y='Recovered_percentage', figsize=[16,6])"
      ],
      "execution_count": 109,
      "outputs": [
        {
          "output_type": "execute_result",
          "data": {
            "text/plain": [
              "<matplotlib.axes._subplots.AxesSubplot at 0x7f112fb59908>"
            ]
          },
          "metadata": {
            "tags": []
          },
          "execution_count": 109
        },
        {
          "output_type": "display_data",
          "data": {
            "image/png": "[encoded data removed]",
            "text/plain": [
              "<Figure size 1152x432 with 1 Axes>"
            ]
          },
          "metadata": {
            "tags": [],
            "needs_background": "light"
          }
        }
      ]
    },
    {
      "cell_type": "markdown",
      "metadata": {
        "id": "8VhHTHFG4E8d"
      },
      "source": [
        "Death Rate between Gender"
      ]
    },
    {
      "cell_type": "code",
      "metadata": {
        "colab": {
          "base_uri": "https://localhost:8080/",
          "height": 419
        },
        "id": "fzvmOMsZ4Hki",
        "outputId": "cf0527eb-cf26-4306-d5dc-228e3fd6b90f"
      },
      "source": [
        "sex = df[['sex', 'status']]\r\n",
        "sex"
      ],
      "execution_count": 117,
      "outputs": [
        {
          "output_type": "execute_result",
          "data": {
            "text/html": [
              "<div>\n",
              "<style scoped>\n",
              "    .dataframe tbody tr th:only-of-type {\n",
              "        vertical-align: middle;\n",
              "    }\n",
              "\n",
              "    .dataframe tbody tr th {\n",
              "        vertical-align: top;\n",
              "    }\n",
              "\n",
              "    .dataframe thead th {\n",
              "        text-align: right;\n",
              "    }\n",
              "</style>\n",
              "<table border=\"1\" class=\"dataframe\">\n",
              "  <thead>\n",
              "    <tr style=\"text-align: right;\">\n",
              "      <th></th>\n",
              "      <th>sex</th>\n",
              "      <th>status</th>\n",
              "    </tr>\n",
              "  </thead>\n",
              "  <tbody>\n",
              "    <tr>\n",
              "      <th>0</th>\n",
              "      <td>Female</td>\n",
              "      <td>Recovered</td>\n",
              "    </tr>\n",
              "    <tr>\n",
              "      <th>1</th>\n",
              "      <td>Male</td>\n",
              "      <td>Died</td>\n",
              "    </tr>\n",
              "    <tr>\n",
              "      <th>2</th>\n",
              "      <td>Female</td>\n",
              "      <td>Recovered</td>\n",
              "    </tr>\n",
              "    <tr>\n",
              "      <th>3</th>\n",
              "      <td>Male</td>\n",
              "      <td>Recovered</td>\n",
              "    </tr>\n",
              "    <tr>\n",
              "      <th>4</th>\n",
              "      <td>Male</td>\n",
              "      <td>Died</td>\n",
              "    </tr>\n",
              "    <tr>\n",
              "      <th>...</th>\n",
              "      <td>...</td>\n",
              "      <td>...</td>\n",
              "    </tr>\n",
              "    <tr>\n",
              "      <th>12086</th>\n",
              "      <td>Male</td>\n",
              "      <td>For validation</td>\n",
              "    </tr>\n",
              "    <tr>\n",
              "      <th>12087</th>\n",
              "      <td>Male</td>\n",
              "      <td>Died</td>\n",
              "    </tr>\n",
              "    <tr>\n",
              "      <th>12088</th>\n",
              "      <td>Female</td>\n",
              "      <td>For validation</td>\n",
              "    </tr>\n",
              "    <tr>\n",
              "      <th>12089</th>\n",
              "      <td>Female</td>\n",
              "      <td>Home quarantined</td>\n",
              "    </tr>\n",
              "    <tr>\n",
              "      <th>12090</th>\n",
              "      <td>Female</td>\n",
              "      <td>For validation</td>\n",
              "    </tr>\n",
              "  </tbody>\n",
              "</table>\n",
              "<p>12091 rows × 2 columns</p>\n",
              "</div>"
            ],
            "text/plain": [
              "          sex            status\n",
              "0      Female         Recovered\n",
              "1        Male              Died\n",
              "2      Female         Recovered\n",
              "3        Male         Recovered\n",
              "4        Male              Died\n",
              "...       ...               ...\n",
              "12086    Male    For validation\n",
              "12087    Male              Died\n",
              "12088  Female    For validation\n",
              "12089  Female  Home quarantined\n",
              "12090  Female    For validation\n",
              "\n",
              "[12091 rows x 2 columns]"
            ]
          },
          "metadata": {
            "tags": []
          },
          "execution_count": 117
        }
      ]
    },
    {
      "cell_type": "code",
      "metadata": {
        "colab": {
          "base_uri": "https://localhost:8080/",
          "height": 173
        },
        "id": "Ao7PtD2n4LjT",
        "outputId": "be970417-e4cc-4d30-ac41-d47c9d5f3546"
      },
      "source": [
        "sex.describe()"
      ],
      "execution_count": 118,
      "outputs": [
        {
          "output_type": "execute_result",
          "data": {
            "text/html": [
              "<div>\n",
              "<style scoped>\n",
              "    .dataframe tbody tr th:only-of-type {\n",
              "        vertical-align: middle;\n",
              "    }\n",
              "\n",
              "    .dataframe tbody tr th {\n",
              "        vertical-align: top;\n",
              "    }\n",
              "\n",
              "    .dataframe thead th {\n",
              "        text-align: right;\n",
              "    }\n",
              "</style>\n",
              "<table border=\"1\" class=\"dataframe\">\n",
              "  <thead>\n",
              "    <tr style=\"text-align: right;\">\n",
              "      <th></th>\n",
              "      <th>sex</th>\n",
              "      <th>status</th>\n",
              "    </tr>\n",
              "  </thead>\n",
              "  <tbody>\n",
              "    <tr>\n",
              "      <th>count</th>\n",
              "      <td>12091</td>\n",
              "      <td>12091</td>\n",
              "    </tr>\n",
              "    <tr>\n",
              "      <th>unique</th>\n",
              "      <td>2</td>\n",
              "      <td>5</td>\n",
              "    </tr>\n",
              "    <tr>\n",
              "      <th>top</th>\n",
              "      <td>Male</td>\n",
              "      <td>For validation</td>\n",
              "    </tr>\n",
              "    <tr>\n",
              "      <th>freq</th>\n",
              "      <td>6521</td>\n",
              "      <td>5790</td>\n",
              "    </tr>\n",
              "  </tbody>\n",
              "</table>\n",
              "</div>"
            ],
            "text/plain": [
              "          sex          status\n",
              "count   12091           12091\n",
              "unique      2               5\n",
              "top      Male  For validation\n",
              "freq     6521            5790"
            ]
          },
          "metadata": {
            "tags": []
          },
          "execution_count": 118
        }
      ]
    },
    {
      "cell_type": "code",
      "metadata": {
        "colab": {
          "base_uri": "https://localhost:8080/"
        },
        "id": "r-fEEPrr4NhO",
        "outputId": "cc9693cd-2171-41ea-e887-95eca37c222c"
      },
      "source": [
        "sex_count = sex.groupby([\"sex\"])[\"status\"].value_counts()\r\n",
        "sex_count"
      ],
      "execution_count": 119,
      "outputs": [
        {
          "output_type": "execute_result",
          "data": {
            "text/plain": [
              "sex     status          \n",
              "Female  For validation      2645\n",
              "        Recovered           1131\n",
              "        Admitted             842\n",
              "        Home quarantined     669\n",
              "        Died                 283\n",
              "Male    For validation      3145\n",
              "        Recovered           1329\n",
              "        Admitted             930\n",
              "        Home quarantined     594\n",
              "        Died                 523\n",
              "Name: status, dtype: int64"
            ]
          },
          "metadata": {
            "tags": []
          },
          "execution_count": 119
        }
      ]
    },
    {
      "cell_type": "code",
      "metadata": {
        "colab": {
          "base_uri": "https://localhost:8080/"
        },
        "id": "ASNYg9cA4P9Q",
        "outputId": "0c8b8060-2032-4743-9793-9608e929fd1d"
      },
      "source": [
        "sex_ge= sex.groupby(\"sex\")[\"status\"].count()\r\n",
        "sex_ge"
      ],
      "execution_count": 120,
      "outputs": [
        {
          "output_type": "execute_result",
          "data": {
            "text/plain": [
              "sex\n",
              "Female    5570\n",
              "Male      6521\n",
              "Name: status, dtype: int64"
            ]
          },
          "metadata": {
            "tags": []
          },
          "execution_count": 120
        }
      ]
    },
    {
      "cell_type": "code",
      "metadata": {
        "colab": {
          "base_uri": "https://localhost:8080/",
          "height": 142
        },
        "id": "U2IrP9YC4Trq",
        "outputId": "32e4db0e-30f7-43a9-bfb8-0b38c15ff4e4"
      },
      "source": [
        "sex_status = sex.groupby('sex')['status'].value_counts().unstack().fillna(0)\r\n",
        "sex_status.rename(columns = {'Home quarantined':'home_quarantined'}, inplace = True)\r\n",
        "sex_status.rename(columns = {'For validation':'for_validation'}, inplace = True)\r\n",
        "sex_status['total'] = sex_status.apply(lambda row: row.Admitted + row.Died + row.for_validation + row.home_quarantined + row.Recovered, axis=1)\r\n",
        "sex_status['Died_percent'] = sex_status.apply(lambda row: row.Died/ row.total * 100, axis=1)\r\n",
        "sex_status"
      ],
      "execution_count": 121,
      "outputs": [
        {
          "output_type": "execute_result",
          "data": {
            "text/html": [
              "<div>\n",
              "<style scoped>\n",
              "    .dataframe tbody tr th:only-of-type {\n",
              "        vertical-align: middle;\n",
              "    }\n",
              "\n",
              "    .dataframe tbody tr th {\n",
              "        vertical-align: top;\n",
              "    }\n",
              "\n",
              "    .dataframe thead th {\n",
              "        text-align: right;\n",
              "    }\n",
              "</style>\n",
              "<table border=\"1\" class=\"dataframe\">\n",
              "  <thead>\n",
              "    <tr style=\"text-align: right;\">\n",
              "      <th>status</th>\n",
              "      <th>Admitted</th>\n",
              "      <th>Died</th>\n",
              "      <th>for_validation</th>\n",
              "      <th>home_quarantined</th>\n",
              "      <th>Recovered</th>\n",
              "      <th>total</th>\n",
              "      <th>Died_percent</th>\n",
              "    </tr>\n",
              "    <tr>\n",
              "      <th>sex</th>\n",
              "      <th></th>\n",
              "      <th></th>\n",
              "      <th></th>\n",
              "      <th></th>\n",
              "      <th></th>\n",
              "      <th></th>\n",
              "      <th></th>\n",
              "    </tr>\n",
              "  </thead>\n",
              "  <tbody>\n",
              "    <tr>\n",
              "      <th>Female</th>\n",
              "      <td>842</td>\n",
              "      <td>283</td>\n",
              "      <td>2645</td>\n",
              "      <td>669</td>\n",
              "      <td>1131</td>\n",
              "      <td>5570</td>\n",
              "      <td>5.080790</td>\n",
              "    </tr>\n",
              "    <tr>\n",
              "      <th>Male</th>\n",
              "      <td>930</td>\n",
              "      <td>523</td>\n",
              "      <td>3145</td>\n",
              "      <td>594</td>\n",
              "      <td>1329</td>\n",
              "      <td>6521</td>\n",
              "      <td>8.020242</td>\n",
              "    </tr>\n",
              "  </tbody>\n",
              "</table>\n",
              "</div>"
            ],
            "text/plain": [
              "status  Admitted  Died  for_validation  ...  Recovered  total  Died_percent\n",
              "sex                                     ...                                \n",
              "Female       842   283            2645  ...       1131   5570      5.080790\n",
              "Male         930   523            3145  ...       1329   6521      8.020242\n",
              "\n",
              "[2 rows x 7 columns]"
            ]
          },
          "metadata": {
            "tags": []
          },
          "execution_count": 121
        }
      ]
    },
    {
      "cell_type": "code",
      "metadata": {
        "colab": {
          "base_uri": "https://localhost:8080/",
          "height": 322
        },
        "id": "xLKharzF4WFS",
        "outputId": "1ad45d06-bbad-4faf-cd68-8b4144c91e22"
      },
      "source": [
        "sex_status.plot.bar(y='Died_percent')"
      ],
      "execution_count": 122,
      "outputs": [
        {
          "output_type": "execute_result",
          "data": {
            "text/plain": [
              "<matplotlib.axes._subplots.AxesSubplot at 0x7f112fa1e828>"
            ]
          },
          "metadata": {
            "tags": []
          },
          "execution_count": 122
        },
        {
          "output_type": "display_data",
          "data": {
            "image/png": "[encoded data removed]",
            "text/plain": [
              "<Figure size 432x288 with 1 Axes>"
            ]
          },
          "metadata": {
            "tags": [],
            "needs_background": "light"
          }
        }
      ]
    },
    {
      "cell_type": "markdown",
      "metadata": {
        "id": "ebJUj-jPWe3R"
      },
      "source": [
        "# 4. Which province in the Philippine that led to increase number of cases"
      ]
    },
    {
      "cell_type": "markdown",
      "metadata": {
        "id": "r3EDghwVWqQJ"
      },
      "source": [
        "Select case_id and province column for this analysis into new data frame. Drop any rows that maybe containt NaN value. Count the number cases accorinding to the province"
      ]
    },
    {
      "cell_type": "code",
      "metadata": {
        "colab": {
          "base_uri": "https://localhost:8080/"
        },
        "id": "4ZxUgpMRXvKI",
        "outputId": "57b94aa7-870c-418a-f45c-57b511f8ab0b"
      },
      "source": [
        "df['province'].describe()"
      ],
      "execution_count": null,
      "outputs": [
        {
          "output_type": "execute_result",
          "data": {
            "text/plain": [
              "count                   11053\n",
              "unique                     61\n",
              "top       Metropolitan Manila\n",
              "freq                     6873\n",
              "Name: province, dtype: object"
            ]
          },
          "metadata": {
            "tags": []
          },
          "execution_count": 76
        }
      ]
    },
    {
      "cell_type": "code",
      "metadata": {
        "colab": {
          "base_uri": "https://localhost:8080/",
          "height": 419
        },
        "id": "1TUeMj8QWeMw",
        "outputId": "5c9b4034-a25a-4cfe-8be9-b495457835ac"
      },
      "source": [
        "data4 = df[[\"case_id\",\"province\"]]\r\n",
        "data4 = data4.dropna()\r\n",
        "data4 = data4.reset_index(drop=True)\r\n",
        "data4['count'] = data4.groupby(\"province\").transform('count')\r\n",
        "data4.drop('case_id', inplace=True, axis=1)\r\n",
        "data4 = data4.drop_duplicates()\r\n",
        "data4"
      ],
      "execution_count": null,
      "outputs": [
        {
          "output_type": "execute_result",
          "data": {
            "text/html": [
              "<div>\n",
              "<style scoped>\n",
              "    .dataframe tbody tr th:only-of-type {\n",
              "        vertical-align: middle;\n",
              "    }\n",
              "\n",
              "    .dataframe tbody tr th {\n",
              "        vertical-align: top;\n",
              "    }\n",
              "\n",
              "    .dataframe thead th {\n",
              "        text-align: right;\n",
              "    }\n",
              "</style>\n",
              "<table border=\"1\" class=\"dataframe\">\n",
              "  <thead>\n",
              "    <tr style=\"text-align: right;\">\n",
              "      <th></th>\n",
              "      <th>province</th>\n",
              "      <th>count</th>\n",
              "    </tr>\n",
              "  </thead>\n",
              "  <tbody>\n",
              "    <tr>\n",
              "      <th>0</th>\n",
              "      <td>Negros Oriental</td>\n",
              "      <td>7</td>\n",
              "    </tr>\n",
              "    <tr>\n",
              "      <th>2</th>\n",
              "      <td>Bohol</td>\n",
              "      <td>1</td>\n",
              "    </tr>\n",
              "    <tr>\n",
              "      <th>3</th>\n",
              "      <td>Metropolitan Manila</td>\n",
              "      <td>6873</td>\n",
              "    </tr>\n",
              "    <tr>\n",
              "      <th>4</th>\n",
              "      <td>Rizal</td>\n",
              "      <td>417</td>\n",
              "    </tr>\n",
              "    <tr>\n",
              "      <th>12</th>\n",
              "      <td>Bulacan</td>\n",
              "      <td>141</td>\n",
              "    </tr>\n",
              "    <tr>\n",
              "      <th>...</th>\n",
              "      <td>...</td>\n",
              "      <td>...</td>\n",
              "    </tr>\n",
              "    <tr>\n",
              "      <th>7038</th>\n",
              "      <td>Ifugao</td>\n",
              "      <td>2</td>\n",
              "    </tr>\n",
              "    <tr>\n",
              "      <th>8321</th>\n",
              "      <td>Sulu</td>\n",
              "      <td>1</td>\n",
              "    </tr>\n",
              "    <tr>\n",
              "      <th>8783</th>\n",
              "      <td>Guimaras</td>\n",
              "      <td>2</td>\n",
              "    </tr>\n",
              "    <tr>\n",
              "      <th>9289</th>\n",
              "      <td>Davao Occidental</td>\n",
              "      <td>1</td>\n",
              "    </tr>\n",
              "    <tr>\n",
              "      <th>10369</th>\n",
              "      <td>Camarines Norte</td>\n",
              "      <td>1</td>\n",
              "    </tr>\n",
              "  </tbody>\n",
              "</table>\n",
              "<p>61 rows × 2 columns</p>\n",
              "</div>"
            ],
            "text/plain": [
              "                  province  count\n",
              "0          Negros Oriental      7\n",
              "2                    Bohol      1\n",
              "3      Metropolitan Manila   6873\n",
              "4                    Rizal    417\n",
              "12                 Bulacan    141\n",
              "...                    ...    ...\n",
              "7038                Ifugao      2\n",
              "8321                  Sulu      1\n",
              "8783              Guimaras      2\n",
              "9289      Davao Occidental      1\n",
              "10369      Camarines Norte      1\n",
              "\n",
              "[61 rows x 2 columns]"
            ]
          },
          "metadata": {
            "tags": []
          },
          "execution_count": 74
        }
      ]
    },
    {
      "cell_type": "markdown",
      "metadata": {
        "id": "vwCQZhFPX8Az"
      },
      "source": [
        "Finding the highest cases in province"
      ]
    },
    {
      "cell_type": "code",
      "metadata": {
        "colab": {
          "base_uri": "https://localhost:8080/"
        },
        "id": "y-SfC_idXAgp",
        "outputId": "bcf1884a-2607-4c2f-8629-545f0d2b257c"
      },
      "source": [
        "province_max = data4.max()\r\n",
        "province_max"
      ],
      "execution_count": null,
      "outputs": [
        {
          "output_type": "execute_result",
          "data": {
            "text/plain": [
              "province    Zamboanga del Sur\n",
              "count                    6873\n",
              "dtype: object"
            ]
          },
          "metadata": {
            "tags": []
          },
          "execution_count": 77
        }
      ]
    },
    {
      "cell_type": "code",
      "metadata": {
        "colab": {
          "base_uri": "https://localhost:8080/"
        },
        "id": "NzlEYsJ7YLIE",
        "outputId": "6eae9f63-f72b-422a-ed6d-3d3f55b1e436"
      },
      "source": [
        "# Finding the lowest cases\r\n",
        "province_min = data4.min()\r\n",
        "province_min"
      ],
      "execution_count": null,
      "outputs": [
        {
          "output_type": "execute_result",
          "data": {
            "text/plain": [
              "province    Abra\n",
              "count          1\n",
              "dtype: object"
            ]
          },
          "metadata": {
            "tags": []
          },
          "execution_count": 78
        }
      ]
    },
    {
      "cell_type": "code",
      "metadata": {
        "colab": {
          "base_uri": "https://localhost:8080/",
          "height": 368
        },
        "id": "MuR7t_4SYVAF",
        "outputId": "df0cbfd0-34dc-4aa2-ef4d-4c3196b3d6fc"
      },
      "source": [
        "data4.plot(x='province', y='count', kind ='bar')\r\n",
        "plt.show()"
      ],
      "execution_count": null,
      "outputs": [
        {
          "output_type": "display_data",
          "data": {
            "image/png": "[encoded data removed]",
            "text/plain": [
              "<Figure size 432x288 with 1 Axes>"
            ]
          },
          "metadata": {
            "tags": [],
            "needs_background": "light"
          }
        }
      ]
    },
    {
      "cell_type": "code",
      "metadata": {
        "colab": {
          "base_uri": "https://localhost:8080/",
          "height": 576
        },
        "id": "TR_5ZLDC4c8q",
        "outputId": "03a1f7a3-d7a0-4110-fb6e-9cd7d9685e66"
      },
      "source": [
        "# Most Cases recorded by region\r\n",
        "region = df[[\"case_id\", \"region\"]]\r\n",
        "region = region.dropna()\r\n",
        "region = region.reset_index(drop=True)\r\n",
        "region['count'] = region.groupby(\"region\").transform('count')\r\n",
        "region.drop('case_id', inplace=True, axis=1)\r\n",
        "region = region.drop_duplicates()\r\n",
        "region"
      ],
      "execution_count": 124,
      "outputs": [
        {
          "output_type": "execute_result",
          "data": {
            "text/html": [
              "<div>\n",
              "<style scoped>\n",
              "    .dataframe tbody tr th:only-of-type {\n",
              "        vertical-align: middle;\n",
              "    }\n",
              "\n",
              "    .dataframe tbody tr th {\n",
              "        vertical-align: top;\n",
              "    }\n",
              "\n",
              "    .dataframe thead th {\n",
              "        text-align: right;\n",
              "    }\n",
              "</style>\n",
              "<table border=\"1\" class=\"dataframe\">\n",
              "  <thead>\n",
              "    <tr style=\"text-align: right;\">\n",
              "      <th></th>\n",
              "      <th>region</th>\n",
              "      <th>count</th>\n",
              "    </tr>\n",
              "  </thead>\n",
              "  <tbody>\n",
              "    <tr>\n",
              "      <th>0</th>\n",
              "      <td>Central Visayas (Region VII)</td>\n",
              "      <td>1750</td>\n",
              "    </tr>\n",
              "    <tr>\n",
              "      <th>3</th>\n",
              "      <td>Metropolitan Manila</td>\n",
              "      <td>6873</td>\n",
              "    </tr>\n",
              "    <tr>\n",
              "      <th>4</th>\n",
              "      <td>CALABARZON (Region IV-A)</td>\n",
              "      <td>1327</td>\n",
              "    </tr>\n",
              "    <tr>\n",
              "      <th>12</th>\n",
              "      <td>Central Luzon (Region III)</td>\n",
              "      <td>401</td>\n",
              "    </tr>\n",
              "    <tr>\n",
              "      <th>24</th>\n",
              "      <td>Bicol Region (Region V)</td>\n",
              "      <td>59</td>\n",
              "    </tr>\n",
              "    <tr>\n",
              "      <th>64</th>\n",
              "      <td>Cordillera Administrative Region (CAR)</td>\n",
              "      <td>45</td>\n",
              "    </tr>\n",
              "    <tr>\n",
              "      <th>124</th>\n",
              "      <td>Davao Region (Region XI)</td>\n",
              "      <td>191</td>\n",
              "    </tr>\n",
              "    <tr>\n",
              "      <th>151</th>\n",
              "      <td>Autonomous Region of Muslim Mindanao (ARMM)</td>\n",
              "      <td>17</td>\n",
              "    </tr>\n",
              "    <tr>\n",
              "      <th>231</th>\n",
              "      <td>MIMAROPA (Region IV-B)</td>\n",
              "      <td>35</td>\n",
              "    </tr>\n",
              "    <tr>\n",
              "      <th>245</th>\n",
              "      <td>Western Visayas (Region VI)</td>\n",
              "      <td>102</td>\n",
              "    </tr>\n",
              "    <tr>\n",
              "      <th>256</th>\n",
              "      <td>Cagayan Valley (Region II)</td>\n",
              "      <td>33</td>\n",
              "    </tr>\n",
              "    <tr>\n",
              "      <th>264</th>\n",
              "      <td>Ilocos Region (Region I)</td>\n",
              "      <td>61</td>\n",
              "    </tr>\n",
              "    <tr>\n",
              "      <th>496</th>\n",
              "      <td>Eastern Visayas (Region VIII)</td>\n",
              "      <td>24</td>\n",
              "    </tr>\n",
              "    <tr>\n",
              "      <th>548</th>\n",
              "      <td>Northern Mindanao (Region X)</td>\n",
              "      <td>21</td>\n",
              "    </tr>\n",
              "    <tr>\n",
              "      <th>556</th>\n",
              "      <td>Zamboanga Peninsula (Region IX)</td>\n",
              "      <td>101</td>\n",
              "    </tr>\n",
              "    <tr>\n",
              "      <th>629</th>\n",
              "      <td>SOCCSKSARGEN (Region XII)</td>\n",
              "      <td>10</td>\n",
              "    </tr>\n",
              "    <tr>\n",
              "      <th>3727</th>\n",
              "      <td>Caraga (Region XIII)</td>\n",
              "      <td>3</td>\n",
              "    </tr>\n",
              "  </tbody>\n",
              "</table>\n",
              "</div>"
            ],
            "text/plain": [
              "                                           region  count\n",
              "0                    Central Visayas (Region VII)   1750\n",
              "3                             Metropolitan Manila   6873\n",
              "4                        CALABARZON (Region IV-A)   1327\n",
              "12                     Central Luzon (Region III)    401\n",
              "24                        Bicol Region (Region V)     59\n",
              "64         Cordillera Administrative Region (CAR)     45\n",
              "124                      Davao Region (Region XI)    191\n",
              "151   Autonomous Region of Muslim Mindanao (ARMM)     17\n",
              "231                        MIMAROPA (Region IV-B)     35\n",
              "245                   Western Visayas (Region VI)    102\n",
              "256                    Cagayan Valley (Region II)     33\n",
              "264                      Ilocos Region (Region I)     61\n",
              "496                 Eastern Visayas (Region VIII)     24\n",
              "548                  Northern Mindanao (Region X)     21\n",
              "556               Zamboanga Peninsula (Region IX)    101\n",
              "629                     SOCCSKSARGEN (Region XII)     10\n",
              "3727                         Caraga (Region XIII)      3"
            ]
          },
          "metadata": {
            "tags": []
          },
          "execution_count": 124
        }
      ]
    },
    {
      "cell_type": "code",
      "metadata": {
        "colab": {
          "base_uri": "https://localhost:8080/",
          "height": 542
        },
        "id": "NkOdpHMi4k38",
        "outputId": "703b7211-45a6-4147-a3e4-d545d902076d"
      },
      "source": [
        "fig = px.bar(region[['region', 'count']].sort_values('count', ascending=False), y=\"count\", x=\"region\", color='region', log_y=True, template='ggplot2', title='Location of  Coronavirus')\r\n",
        "fig.show()"
      ],
      "execution_count": 127,
      "outputs": [
        {
          "output_type": "display_data",
          "data": {
            "text/html": [
              "<html>\n",
              "<head><meta charset=\"utf-8\" /></head>\n",
              "<body>\n",
              "    <div>\n",
              "            <script src=\"https://cdnjs.cloudflare.com/ajax/libs/mathjax/2.7.5/MathJax.js?config=TeX-AMS-MML_SVG\"></script><script type=\"text/javascript\">if (window.MathJax) {MathJax.Hub.Config({SVG: {font: \"STIX-Web\"}});}</script>\n",
              "                <script type=\"text/javascript\">window.PlotlyConfig = {MathJaxConfig: 'local'};</script>\n",
              "        <script src=\"https://cdn.plot.ly/plotly-latest.min.js\"></script>    \n",
              "            <div id=\"97214e72-3dad-4fa6-85e7-8b975e2af6c1\" class=\"plotly-graph-div\" style=\"height:525px; width:100%;\"></div>\n",
              "            <script type=\"text/javascript\">\n",
              "                \n",
              "                    window.PLOTLYENV=window.PLOTLYENV || {};\n",
              "                    \n",
              "                if (document.getElementById(\"97214e72-3dad-4fa6-85e7-8b975e2af6c1\")) {\n",
              "                    Plotly.newPlot(\n",
              "                        '97214e72-3dad-4fa6-85e7-8b975e2af6c1',\n",
              "                        [{\"alignmentgroup\": \"True\", \"hoverlabel\": {\"namelength\": 0}, \"hovertemplate\": \"region=%{x}<br>count=%{y}\", \"legendgroup\": \"region=Metropolitan Manila\", \"marker\": {\"color\": \"#F8766D\"}, \"name\": \"region=Metropolitan Manila\", \"offsetgroup\": \"region=Metropolitan Manila\", \"orientation\": \"v\", \"showlegend\": true, \"textposition\": \"auto\", \"type\": \"bar\", \"x\": [\"Metropolitan Manila\"], \"xaxis\": \"x\", \"y\": [6873], \"yaxis\": \"y\"}, {\"alignmentgroup\": \"True\", \"hoverlabel\": {\"namelength\": 0}, \"hovertemplate\": \"region=%{x}<br>count=%{y}\", \"legendgroup\": \"region=Central Visayas (Region VII)\", \"marker\": {\"color\": \"#A3A500\"}, \"name\": \"region=Central Visayas (Region VII)\", \"offsetgroup\": \"region=Central Visayas (Region VII)\", \"orientation\": \"v\", \"showlegend\": true, \"textposition\": \"auto\", \"type\": \"bar\", \"x\": [\"Central Visayas (Region VII)\"], \"xaxis\": \"x\", \"y\": [1750], \"yaxis\": \"y\"}, {\"alignmentgroup\": \"True\", \"hoverlabel\": {\"namelength\": 0}, \"hovertemplate\": \"region=%{x}<br>count=%{y}\", \"legendgroup\": \"region=CALABARZON (Region IV-A)\", \"marker\": {\"color\": \"#00BF7D\"}, \"name\": \"region=CALABARZON (Region IV-A)\", \"offsetgroup\": \"region=CALABARZON (Region IV-A)\", \"orientation\": \"v\", \"showlegend\": true, \"textposition\": \"auto\", \"type\": \"bar\", \"x\": [\"CALABARZON (Region IV-A)\"], \"xaxis\": \"x\", \"y\": [1327], \"yaxis\": \"y\"}, {\"alignmentgroup\": \"True\", \"hoverlabel\": {\"namelength\": 0}, \"hovertemplate\": \"region=%{x}<br>count=%{y}\", \"legendgroup\": \"region=Central Luzon (Region III)\", \"marker\": {\"color\": \"#00B0F6\"}, \"name\": \"region=Central Luzon (Region III)\", \"offsetgroup\": \"region=Central Luzon (Region III)\", \"orientation\": \"v\", \"showlegend\": true, \"textposition\": \"auto\", \"type\": \"bar\", \"x\": [\"Central Luzon (Region III)\"], \"xaxis\": \"x\", \"y\": [401], \"yaxis\": \"y\"}, {\"alignmentgroup\": \"True\", \"hoverlabel\": {\"namelength\": 0}, \"hovertemplate\": \"region=%{x}<br>count=%{y}\", \"legendgroup\": \"region=Davao Region (Region XI)\", \"marker\": {\"color\": \"#E76BF3\"}, \"name\": \"region=Davao Region (Region XI)\", \"offsetgroup\": \"region=Davao Region (Region XI)\", \"orientation\": \"v\", \"showlegend\": true, \"textposition\": \"auto\", \"type\": \"bar\", \"x\": [\"Davao Region (Region XI)\"], \"xaxis\": \"x\", \"y\": [191], \"yaxis\": \"y\"}, {\"alignmentgroup\": \"True\", \"hoverlabel\": {\"namelength\": 0}, \"hovertemplate\": \"region=%{x}<br>count=%{y}\", \"legendgroup\": \"region=Western Visayas (Region VI)\", \"marker\": {\"color\": \"#F8766D\"}, \"name\": \"region=Western Visayas (Region VI)\", \"offsetgroup\": \"region=Western Visayas (Region VI)\", \"orientation\": \"v\", \"showlegend\": true, \"textposition\": \"auto\", \"type\": \"bar\", \"x\": [\"Western Visayas (Region VI)\"], \"xaxis\": \"x\", \"y\": [102], \"yaxis\": \"y\"}, {\"alignmentgroup\": \"True\", \"hoverlabel\": {\"namelength\": 0}, \"hovertemplate\": \"region=%{x}<br>count=%{y}\", \"legendgroup\": \"region=Zamboanga Peninsula (Region IX)\", \"marker\": {\"color\": \"#A3A500\"}, \"name\": \"region=Zamboanga Peninsula (Region IX)\", \"offsetgroup\": \"region=Zamboanga Peninsula (Region IX)\", \"orientation\": \"v\", \"showlegend\": true, \"textposition\": \"auto\", \"type\": \"bar\", \"x\": [\"Zamboanga Peninsula (Region IX)\"], \"xaxis\": \"x\", \"y\": [101], \"yaxis\": \"y\"}, {\"alignmentgroup\": \"True\", \"hoverlabel\": {\"namelength\": 0}, \"hovertemplate\": \"region=%{x}<br>count=%{y}\", \"legendgroup\": \"region=Ilocos Region (Region I)\", \"marker\": {\"color\": \"#00BF7D\"}, \"name\": \"region=Ilocos Region (Region I)\", \"offsetgroup\": \"region=Ilocos Region (Region I)\", \"orientation\": \"v\", \"showlegend\": true, \"textposition\": \"auto\", \"type\": \"bar\", \"x\": [\"Ilocos Region (Region I)\"], \"xaxis\": \"x\", \"y\": [61], \"yaxis\": \"y\"}, {\"alignmentgroup\": \"True\", \"hoverlabel\": {\"namelength\": 0}, \"hovertemplate\": \"region=%{x}<br>count=%{y}\", \"legendgroup\": \"region=Bicol Region (Region V)\", \"marker\": {\"color\": \"#00B0F6\"}, \"name\": \"region=Bicol Region (Region V)\", \"offsetgroup\": \"region=Bicol Region (Region V)\", \"orientation\": \"v\", \"showlegend\": true, \"textposition\": \"auto\", \"type\": \"bar\", \"x\": [\"Bicol Region (Region V)\"], \"xaxis\": \"x\", \"y\": [59], \"yaxis\": \"y\"}, {\"alignmentgroup\": \"True\", \"hoverlabel\": {\"namelength\": 0}, \"hovertemplate\": \"region=%{x}<br>count=%{y}\", \"legendgroup\": \"region=Cordillera Administrative Region (CAR)\", \"marker\": {\"color\": \"#E76BF3\"}, \"name\": \"region=Cordillera Administrative Region (CAR)\", \"offsetgroup\": \"region=Cordillera Administrative Region (CAR)\", \"orientation\": \"v\", \"showlegend\": true, \"textposition\": \"auto\", \"type\": \"bar\", \"x\": [\"Cordillera Administrative Region (CAR)\"], \"xaxis\": \"x\", \"y\": [45], \"yaxis\": \"y\"}, {\"alignmentgroup\": \"True\", \"hoverlabel\": {\"namelength\": 0}, \"hovertemplate\": \"region=%{x}<br>count=%{y}\", \"legendgroup\": \"region=MIMAROPA (Region IV-B)\", \"marker\": {\"color\": \"#F8766D\"}, \"name\": \"region=MIMAROPA (Region IV-B)\", \"offsetgroup\": \"region=MIMAROPA (Region IV-B)\", \"orientation\": \"v\", \"showlegend\": true, \"textposition\": \"auto\", \"type\": \"bar\", \"x\": [\"MIMAROPA (Region IV-B)\"], \"xaxis\": \"x\", \"y\": [35], \"yaxis\": \"y\"}, {\"alignmentgroup\": \"True\", \"hoverlabel\": {\"namelength\": 0}, \"hovertemplate\": \"region=%{x}<br>count=%{y}\", \"legendgroup\": \"region=Cagayan Valley (Region II)\", \"marker\": {\"color\": \"#A3A500\"}, \"name\": \"region=Cagayan Valley (Region II)\", \"offsetgroup\": \"region=Cagayan Valley (Region II)\", \"orientation\": \"v\", \"showlegend\": true, \"textposition\": \"auto\", \"type\": \"bar\", \"x\": [\"Cagayan Valley (Region II)\"], \"xaxis\": \"x\", \"y\": [33], \"yaxis\": \"y\"}, {\"alignmentgroup\": \"True\", \"hoverlabel\": {\"namelength\": 0}, \"hovertemplate\": \"region=%{x}<br>count=%{y}\", \"legendgroup\": \"region=Eastern Visayas (Region VIII)\", \"marker\": {\"color\": \"#00BF7D\"}, \"name\": \"region=Eastern Visayas (Region VIII)\", \"offsetgroup\": \"region=Eastern Visayas (Region VIII)\", \"orientation\": \"v\", \"showlegend\": true, \"textposition\": \"auto\", \"type\": \"bar\", \"x\": [\"Eastern Visayas (Region VIII)\"], \"xaxis\": \"x\", \"y\": [24], \"yaxis\": \"y\"}, {\"alignmentgroup\": \"True\", \"hoverlabel\": {\"namelength\": 0}, \"hovertemplate\": \"region=%{x}<br>count=%{y}\", \"legendgroup\": \"region=Northern Mindanao (Region X)\", \"marker\": {\"color\": \"#00B0F6\"}, \"name\": \"region=Northern Mindanao (Region X)\", \"offsetgroup\": \"region=Northern Mindanao (Region X)\", \"orientation\": \"v\", \"showlegend\": true, \"textposition\": \"auto\", \"type\": \"bar\", \"x\": [\"Northern Mindanao (Region X)\"], \"xaxis\": \"x\", \"y\": [21], \"yaxis\": \"y\"}, {\"alignmentgroup\": \"True\", \"hoverlabel\": {\"namelength\": 0}, \"hovertemplate\": \"region=%{x}<br>count=%{y}\", \"legendgroup\": \"region=Autonomous Region of Muslim Mindanao (ARMM)\", \"marker\": {\"color\": \"#E76BF3\"}, \"name\": \"region=Autonomous Region of Muslim Mindanao (ARMM)\", \"offsetgroup\": \"region=Autonomous Region of Muslim Mindanao (ARMM)\", \"orientation\": \"v\", \"showlegend\": true, \"textposition\": \"auto\", \"type\": \"bar\", \"x\": [\"Autonomous Region of Muslim Mindanao (ARMM)\"], \"xaxis\": \"x\", \"y\": [17], \"yaxis\": \"y\"}, {\"alignmentgroup\": \"True\", \"hoverlabel\": {\"namelength\": 0}, \"hovertemplate\": \"region=%{x}<br>count=%{y}\", \"legendgroup\": \"region=SOCCSKSARGEN (Region XII)\", \"marker\": {\"color\": \"#F8766D\"}, \"name\": \"region=SOCCSKSARGEN (Region XII)\", \"offsetgroup\": \"region=SOCCSKSARGEN (Region XII)\", \"orientation\": \"v\", \"showlegend\": true, \"textposition\": \"auto\", \"type\": \"bar\", \"x\": [\"SOCCSKSARGEN (Region XII)\"], \"xaxis\": \"x\", \"y\": [10], \"yaxis\": \"y\"}, {\"alignmentgroup\": \"True\", \"hoverlabel\": {\"namelength\": 0}, \"hovertemplate\": \"region=%{x}<br>count=%{y}\", \"legendgroup\": \"region=Caraga (Region XIII)\", \"marker\": {\"color\": \"#A3A500\"}, \"name\": \"region=Caraga (Region XIII)\", \"offsetgroup\": \"region=Caraga (Region XIII)\", \"orientation\": \"v\", \"showlegend\": true, \"textposition\": \"auto\", \"type\": \"bar\", \"x\": [\"Caraga (Region XIII)\"], \"xaxis\": \"x\", \"y\": [3], \"yaxis\": \"y\"}],\n",
              "                        {\"barmode\": \"relative\", \"legend\": {\"tracegroupgap\": 0}, \"template\": {\"data\": {\"bar\": [{\"error_x\": {\"color\": \"rgb(51,51,51)\"}, \"error_y\": {\"color\": \"rgb(51,51,51)\"}, \"marker\": {\"line\": {\"color\": \"rgb(237,237,237)\", \"width\": 0.5}}, \"type\": \"bar\"}], \"barpolar\": [{\"marker\": {\"line\": {\"color\": \"rgb(237,237,237)\", \"width\": 0.5}}, \"type\": \"barpolar\"}], \"carpet\": [{\"aaxis\": {\"endlinecolor\": \"rgb(51,51,51)\", \"gridcolor\": \"white\", \"linecolor\": \"white\", \"minorgridcolor\": \"white\", \"startlinecolor\": \"rgb(51,51,51)\"}, \"baxis\": {\"endlinecolor\": \"rgb(51,51,51)\", \"gridcolor\": \"white\", \"linecolor\": \"white\", \"minorgridcolor\": \"white\", \"startlinecolor\": \"rgb(51,51,51)\"}, \"type\": \"carpet\"}], \"choropleth\": [{\"colorbar\": {\"outlinewidth\": 0, \"tickcolor\": \"rgb(237,237,237)\", \"ticklen\": 6, \"ticks\": \"inside\"}, \"type\": \"choropleth\"}], \"contour\": [{\"colorbar\": {\"outlinewidth\": 0, \"tickcolor\": \"rgb(237,237,237)\", \"ticklen\": 6, \"ticks\": \"inside\"}, \"colorscale\": [[0, \"rgb(20,44,66)\"], [1, \"rgb(90,179,244)\"]], \"type\": \"contour\"}], \"contourcarpet\": [{\"colorbar\": {\"outlinewidth\": 0, \"tickcolor\": \"rgb(237,237,237)\", \"ticklen\": 6, \"ticks\": \"inside\"}, \"type\": \"contourcarpet\"}], \"heatmap\": [{\"colorbar\": {\"outlinewidth\": 0, \"tickcolor\": \"rgb(237,237,237)\", \"ticklen\": 6, \"ticks\": \"inside\"}, \"colorscale\": [[0, \"rgb(20,44,66)\"], [1, \"rgb(90,179,244)\"]], \"type\": \"heatmap\"}], \"heatmapgl\": [{\"colorbar\": {\"outlinewidth\": 0, \"tickcolor\": \"rgb(237,237,237)\", \"ticklen\": 6, \"ticks\": \"inside\"}, \"colorscale\": [[0, \"rgb(20,44,66)\"], [1, \"rgb(90,179,244)\"]], \"type\": \"heatmapgl\"}], \"histogram\": [{\"marker\": {\"colorbar\": {\"outlinewidth\": 0, \"tickcolor\": \"rgb(237,237,237)\", \"ticklen\": 6, \"ticks\": \"inside\"}}, \"type\": \"histogram\"}], \"histogram2d\": [{\"colorbar\": {\"outlinewidth\": 0, \"tickcolor\": \"rgb(237,237,237)\", \"ticklen\": 6, \"ticks\": \"inside\"}, \"colorscale\": [[0, \"rgb(20,44,66)\"], [1, \"rgb(90,179,244)\"]], \"type\": \"histogram2d\"}], \"histogram2dcontour\": [{\"colorbar\": {\"outlinewidth\": 0, \"tickcolor\": \"rgb(237,237,237)\", \"ticklen\": 6, \"ticks\": \"inside\"}, \"colorscale\": [[0, \"rgb(20,44,66)\"], [1, \"rgb(90,179,244)\"]], \"type\": \"histogram2dcontour\"}], \"mesh3d\": [{\"colorbar\": {\"outlinewidth\": 0, \"tickcolor\": \"rgb(237,237,237)\", \"ticklen\": 6, \"ticks\": \"inside\"}, \"type\": \"mesh3d\"}], \"parcoords\": [{\"line\": {\"colorbar\": {\"outlinewidth\": 0, \"tickcolor\": \"rgb(237,237,237)\", \"ticklen\": 6, \"ticks\": \"inside\"}}, \"type\": \"parcoords\"}], \"pie\": [{\"automargin\": true, \"type\": \"pie\"}], \"scatter\": [{\"marker\": {\"colorbar\": {\"outlinewidth\": 0, \"tickcolor\": \"rgb(237,237,237)\", \"ticklen\": 6, \"ticks\": \"inside\"}}, \"type\": \"scatter\"}], \"scatter3d\": [{\"line\": {\"colorbar\": {\"outlinewidth\": 0, \"tickcolor\": \"rgb(237,237,237)\", \"ticklen\": 6, \"ticks\": \"inside\"}}, \"marker\": {\"colorbar\": {\"outlinewidth\": 0, \"tickcolor\": \"rgb(237,237,237)\", \"ticklen\": 6, \"ticks\": \"inside\"}}, \"type\": \"scatter3d\"}], \"scattercarpet\": [{\"marker\": {\"colorbar\": {\"outlinewidth\": 0, \"tickcolor\": \"rgb(237,237,237)\", \"ticklen\": 6, \"ticks\": \"inside\"}}, \"type\": \"scattercarpet\"}], \"scattergeo\": [{\"marker\": {\"colorbar\": {\"outlinewidth\": 0, \"tickcolor\": \"rgb(237,237,237)\", \"ticklen\": 6, \"ticks\": \"inside\"}}, \"type\": \"scattergeo\"}], \"scattergl\": [{\"marker\": {\"colorbar\": {\"outlinewidth\": 0, \"tickcolor\": \"rgb(237,237,237)\", \"ticklen\": 6, \"ticks\": \"inside\"}}, \"type\": \"scattergl\"}], \"scattermapbox\": [{\"marker\": {\"colorbar\": {\"outlinewidth\": 0, \"tickcolor\": \"rgb(237,237,237)\", \"ticklen\": 6, \"ticks\": \"inside\"}}, \"type\": \"scattermapbox\"}], \"scatterpolar\": [{\"marker\": {\"colorbar\": {\"outlinewidth\": 0, \"tickcolor\": \"rgb(237,237,237)\", \"ticklen\": 6, \"ticks\": \"inside\"}}, \"type\": \"scatterpolar\"}], \"scatterpolargl\": [{\"marker\": {\"colorbar\": {\"outlinewidth\": 0, \"tickcolor\": \"rgb(237,237,237)\", \"ticklen\": 6, \"ticks\": \"inside\"}}, \"type\": \"scatterpolargl\"}], \"scatterternary\": [{\"marker\": {\"colorbar\": {\"outlinewidth\": 0, \"tickcolor\": \"rgb(237,237,237)\", \"ticklen\": 6, \"ticks\": \"inside\"}}, \"type\": \"scatterternary\"}], \"surface\": [{\"colorbar\": {\"outlinewidth\": 0, \"tickcolor\": \"rgb(237,237,237)\", \"ticklen\": 6, \"ticks\": \"inside\"}, \"colorscale\": [[0, \"rgb(20,44,66)\"], [1, \"rgb(90,179,244)\"]], \"type\": \"surface\"}], \"table\": [{\"cells\": {\"fill\": {\"color\": \"rgb(237,237,237)\"}, \"line\": {\"color\": \"white\"}}, \"header\": {\"fill\": {\"color\": \"rgb(217,217,217)\"}, \"line\": {\"color\": \"white\"}}, \"type\": \"table\"}]}, \"layout\": {\"annotationdefaults\": {\"arrowhead\": 0, \"arrowwidth\": 1}, \"coloraxis\": {\"colorbar\": {\"outlinewidth\": 0, \"tickcolor\": \"rgb(237,237,237)\", \"ticklen\": 6, \"ticks\": \"inside\"}}, \"colorscale\": {\"sequential\": [[0, \"rgb(20,44,66)\"], [1, \"rgb(90,179,244)\"]], \"sequentialminus\": [[0, \"rgb(20,44,66)\"], [1, \"rgb(90,179,244)\"]]}, \"colorway\": [\"#F8766D\", \"#A3A500\", \"#00BF7D\", \"#00B0F6\", \"#E76BF3\"], \"font\": {\"color\": \"rgb(51,51,51)\"}, \"geo\": {\"bgcolor\": \"white\", \"lakecolor\": \"white\", \"landcolor\": \"rgb(237,237,237)\", \"showlakes\": true, \"showland\": true, \"subunitcolor\": \"white\"}, \"hoverlabel\": {\"align\": \"left\"}, \"hovermode\": \"closest\", \"paper_bgcolor\": \"white\", \"plot_bgcolor\": \"rgb(237,237,237)\", \"polar\": {\"angularaxis\": {\"gridcolor\": \"white\", \"linecolor\": \"white\", \"showgrid\": true, \"tickcolor\": \"rgb(51,51,51)\", \"ticks\": \"outside\"}, \"bgcolor\": \"rgb(237,237,237)\", \"radialaxis\": {\"gridcolor\": \"white\", \"linecolor\": \"white\", \"showgrid\": true, \"tickcolor\": \"rgb(51,51,51)\", \"ticks\": \"outside\"}}, \"scene\": {\"xaxis\": {\"backgroundcolor\": \"rgb(237,237,237)\", \"gridcolor\": \"white\", \"gridwidth\": 2, \"linecolor\": \"white\", \"showbackground\": true, \"showgrid\": true, \"tickcolor\": \"rgb(51,51,51)\", \"ticks\": \"outside\", \"zerolinecolor\": \"white\"}, \"yaxis\": {\"backgroundcolor\": \"rgb(237,237,237)\", \"gridcolor\": \"white\", \"gridwidth\": 2, \"linecolor\": \"white\", \"showbackground\": true, \"showgrid\": true, \"tickcolor\": \"rgb(51,51,51)\", \"ticks\": \"outside\", \"zerolinecolor\": \"white\"}, \"zaxis\": {\"backgroundcolor\": \"rgb(237,237,237)\", \"gridcolor\": \"white\", \"gridwidth\": 2, \"linecolor\": \"white\", \"showbackground\": true, \"showgrid\": true, \"tickcolor\": \"rgb(51,51,51)\", \"ticks\": \"outside\", \"zerolinecolor\": \"white\"}}, \"shapedefaults\": {\"fillcolor\": \"black\", \"line\": {\"width\": 0}, \"opacity\": 0.3}, \"ternary\": {\"aaxis\": {\"gridcolor\": \"white\", \"linecolor\": \"white\", \"showgrid\": true, \"tickcolor\": \"rgb(51,51,51)\", \"ticks\": \"outside\"}, \"baxis\": {\"gridcolor\": \"white\", \"linecolor\": \"white\", \"showgrid\": true, \"tickcolor\": \"rgb(51,51,51)\", \"ticks\": \"outside\"}, \"bgcolor\": \"rgb(237,237,237)\", \"caxis\": {\"gridcolor\": \"white\", \"linecolor\": \"white\", \"showgrid\": true, \"tickcolor\": \"rgb(51,51,51)\", \"ticks\": \"outside\"}}, \"xaxis\": {\"automargin\": true, \"gridcolor\": \"white\", \"linecolor\": \"white\", \"showgrid\": true, \"tickcolor\": \"rgb(51,51,51)\", \"ticks\": \"outside\", \"title\": {\"standoff\": 15}, \"zerolinecolor\": \"white\"}, \"yaxis\": {\"automargin\": true, \"gridcolor\": \"white\", \"linecolor\": \"white\", \"showgrid\": true, \"tickcolor\": \"rgb(51,51,51)\", \"ticks\": \"outside\", \"title\": {\"standoff\": 15}, \"zerolinecolor\": \"white\"}}}, \"title\": {\"text\": \"Location of  Coronavirus\"}, \"xaxis\": {\"anchor\": \"y\", \"categoryarray\": [\"Metropolitan Manila\", \"Central Visayas (Region VII)\", \"CALABARZON (Region IV-A)\", \"Central Luzon (Region III)\", \"Davao Region (Region XI)\", \"Western Visayas (Region VI)\", \"Zamboanga Peninsula (Region IX)\", \"Ilocos Region (Region I)\", \"Bicol Region (Region V)\", \"Cordillera Administrative Region (CAR)\", \"MIMAROPA (Region IV-B)\", \"Cagayan Valley (Region II)\", \"Eastern Visayas (Region VIII)\", \"Northern Mindanao (Region X)\", \"Autonomous Region of Muslim Mindanao (ARMM)\", \"SOCCSKSARGEN (Region XII)\", \"Caraga (Region XIII)\"], \"categoryorder\": \"array\", \"domain\": [0.0, 1.0], \"title\": {\"text\": \"region\"}}, \"yaxis\": {\"anchor\": \"x\", \"domain\": [0.0, 1.0], \"title\": {\"text\": \"count\"}, \"type\": \"log\"}},\n",
              "                        {\"responsive\": true}\n",
              "                    ).then(function(){\n",
              "                            \n",
              "var gd = document.getElementById('97214e72-3dad-4fa6-85e7-8b975e2af6c1');\n",
              "var x = new MutationObserver(function (mutations, observer) {{\n",
              "        var display = window.getComputedStyle(gd).display;\n",
              "        if (!display || display === 'none') {{\n",
              "            console.log([gd, 'removed!']);\n",
              "            Plotly.purge(gd);\n",
              "            observer.disconnect();\n",
              "        }}\n",
              "}});\n",
              "\n",
              "// Listen for the removal of the full notebook cells\n",
              "var notebookContainer = gd.closest('#notebook-container');\n",
              "if (notebookContainer) {{\n",
              "    x.observe(notebookContainer, {childList: true});\n",
              "}}\n",
              "\n",
              "// Listen for the clearing of the current output cell\n",
              "var outputEl = gd.closest('.output');\n",
              "if (outputEl) {{\n",
              "    x.observe(outputEl, {childList: true});\n",
              "}}\n",
              "\n",
              "                        })\n",
              "                };\n",
              "                \n",
              "            </script>\n",
              "        </div>\n",
              "</body>\n",
              "</html>"
            ]
          },
          "metadata": {
            "tags": []
          }
        }
      ]
    },
    {
      "cell_type": "code",
      "metadata": {
        "colab": {
          "base_uri": "https://localhost:8080/"
        },
        "id": "946DDqaB40Cc",
        "outputId": "6167a77b-65a5-47bf-9395-e33f79b63b7a"
      },
      "source": [
        "remax = region.max()\r\n",
        "remax"
      ],
      "execution_count": 128,
      "outputs": [
        {
          "output_type": "execute_result",
          "data": {
            "text/plain": [
              "count    6873\n",
              "dtype: int64"
            ]
          },
          "metadata": {
            "tags": []
          },
          "execution_count": 128
        }
      ]
    },
    {
      "cell_type": "code",
      "metadata": {
        "colab": {
          "base_uri": "https://localhost:8080/"
        },
        "id": "oWNG8O_G43WH",
        "outputId": "18dc6db4-65cf-46ce-8bf4-0bc6db1eba04"
      },
      "source": [
        "remin = region.min()\r\n",
        "remin"
      ],
      "execution_count": 129,
      "outputs": [
        {
          "output_type": "execute_result",
          "data": {
            "text/plain": [
              "count    3\n",
              "dtype: int64"
            ]
          },
          "metadata": {
            "tags": []
          },
          "execution_count": 129
        }
      ]
    },
    {
      "cell_type": "markdown",
      "metadata": {
        "id": "lf8dhIXU47hA"
      },
      "source": [
        "Finding the highest cases in City of Philippines\r\n",
        "\r\n",
        "\r\n"
      ]
    },
    {
      "cell_type": "code",
      "metadata": {
        "colab": {
          "base_uri": "https://localhost:8080/",
          "height": 419
        },
        "id": "dtA8FvcS44-Z",
        "outputId": "e14535d8-5e1d-45d5-f6c0-0d9504710d57"
      },
      "source": [
        "city = df[[\"case_id\", \"muni_city\"]]\r\n",
        "city = city.dropna()\r\n",
        "city = city.reset_index(drop=True)\r\n",
        "city['count'] = city.groupby(\"muni_city\").transform('count')\r\n",
        "city.drop('case_id', inplace=True, axis=1)\r\n",
        "city = city.drop_duplicates()\r\n",
        "city"
      ],
      "execution_count": 131,
      "outputs": [
        {
          "output_type": "execute_result",
          "data": {
            "text/html": [
              "<div>\n",
              "<style scoped>\n",
              "    .dataframe tbody tr th:only-of-type {\n",
              "        vertical-align: middle;\n",
              "    }\n",
              "\n",
              "    .dataframe tbody tr th {\n",
              "        vertical-align: top;\n",
              "    }\n",
              "\n",
              "    .dataframe thead th {\n",
              "        text-align: right;\n",
              "    }\n",
              "</style>\n",
              "<table border=\"1\" class=\"dataframe\">\n",
              "  <thead>\n",
              "    <tr style=\"text-align: right;\">\n",
              "      <th></th>\n",
              "      <th>muni_city</th>\n",
              "      <th>count</th>\n",
              "    </tr>\n",
              "  </thead>\n",
              "  <tbody>\n",
              "    <tr>\n",
              "      <th>0</th>\n",
              "      <td>Dumaguete City</td>\n",
              "      <td>3</td>\n",
              "    </tr>\n",
              "    <tr>\n",
              "      <th>2</th>\n",
              "      <td>Panglao</td>\n",
              "      <td>1</td>\n",
              "    </tr>\n",
              "    <tr>\n",
              "      <th>3</th>\n",
              "      <td>Taguig</td>\n",
              "      <td>352</td>\n",
              "    </tr>\n",
              "    <tr>\n",
              "      <th>4</th>\n",
              "      <td>Cainta</td>\n",
              "      <td>99</td>\n",
              "    </tr>\n",
              "    <tr>\n",
              "      <th>6</th>\n",
              "      <td>Makati City</td>\n",
              "      <td>537</td>\n",
              "    </tr>\n",
              "    <tr>\n",
              "      <th>...</th>\n",
              "      <td>...</td>\n",
              "      <td>...</td>\n",
              "    </tr>\n",
              "    <tr>\n",
              "      <th>10840</th>\n",
              "      <td>Valladolid</td>\n",
              "      <td>1</td>\n",
              "    </tr>\n",
              "    <tr>\n",
              "      <th>10906</th>\n",
              "      <td>Bago City</td>\n",
              "      <td>1</td>\n",
              "    </tr>\n",
              "    <tr>\n",
              "      <th>10955</th>\n",
              "      <td>Hinigaran</td>\n",
              "      <td>1</td>\n",
              "    </tr>\n",
              "    <tr>\n",
              "      <th>10959</th>\n",
              "      <td>Minalabac</td>\n",
              "      <td>1</td>\n",
              "    </tr>\n",
              "    <tr>\n",
              "      <th>11040</th>\n",
              "      <td>Hagonoy</td>\n",
              "      <td>1</td>\n",
              "    </tr>\n",
              "  </tbody>\n",
              "</table>\n",
              "<p>363 rows × 2 columns</p>\n",
              "</div>"
            ],
            "text/plain": [
              "            muni_city  count\n",
              "0      Dumaguete City      3\n",
              "2             Panglao      1\n",
              "3              Taguig    352\n",
              "4              Cainta     99\n",
              "6         Makati City    537\n",
              "...               ...    ...\n",
              "10840      Valladolid      1\n",
              "10906       Bago City      1\n",
              "10955       Hinigaran      1\n",
              "10959       Minalabac      1\n",
              "11040         Hagonoy      1\n",
              "\n",
              "[363 rows x 2 columns]"
            ]
          },
          "metadata": {
            "tags": []
          },
          "execution_count": 131
        }
      ]
    },
    {
      "cell_type": "code",
      "metadata": {
        "colab": {
          "base_uri": "https://localhost:8080/",
          "height": 542
        },
        "id": "ZfPaeIPP5FeQ",
        "outputId": "c2500645-d471-445d-b784-7929a33548d4"
      },
      "source": [
        "fig2 = px.bar(city[['muni_city', 'count']].sort_values('count', ascending=False), y=\"count\", x=\"muni_city\", color='muni_city', log_y=True, template='ggplot2', title='Location of  Coronavirus')\r\n",
        "fig2.show()"
      ],
      "execution_count": 132,
      "outputs": [
        {
          "output_type": "display_data",
          "data": {
            "text/html": [
              "<html>\n",
              "<head><meta charset=\"utf-8\" /></head>\n",
              "<body>\n",
              "    <div>\n",
              "            <script src=\"https://cdnjs.cloudflare.com/ajax/libs/mathjax/2.7.5/MathJax.js?config=TeX-AMS-MML_SVG\"></script><script type=\"text/javascript\">if (window.MathJax) {MathJax.Hub.Config({SVG: {font: \"STIX-Web\"}});}</script>\n",
              "                <script type=\"text/javascript\">window.PlotlyConfig = {MathJaxConfig: 'local'};</script>\n",
              "        <script src=\"https://cdn.plot.ly/plotly-latest.min.js\"></script>    \n",
              "            <div id=\"87b40742-8bab-476f-805d-618ff079bce4\" class=\"plotly-graph-div\" style=\"height:525px; width:100%;\"></div>\n",
              "            <script type=\"text/javascript\">\n",
              "                \n",
              "                    window.PLOTLYENV=window.PLOTLYENV || {};\n",
              "                    \n",
              "                if (document.getElementById(\"87b40742-8bab-476f-805d-618ff079bce4\")) {\n",
              "                    Plotly.newPlot(\n",
              "                        '87b40742-8bab-476f-805d-618ff079bce4',\n",
              "                        [{\"alignmentgroup\": \"True\", \"hoverlabel\": {\"namelength\": 0}, \"hovertemplate\": \"muni_city=%{x}<br>count=%{y}\", \"legendgroup\": \"muni_city=Quezon City\", \"marker\": {\"color\": \"#F8766D\"}, \"name\": \"muni_city=Quezon City\", \"offsetgroup\": \"muni_city=Quezon City\", \"orientation\": \"v\", \"showlegend\": true, \"textposition\": \"auto\", \"type\": \"bar\", \"x\": [\"Quezon City\"], \"xaxis\": \"x\", \"y\": [1765], \"yaxis\": \"y\"}, {\"alignmentgroup\": \"True\", \"hoverlabel\": {\"namelength\": 0}, \"hovertemplate\": \"muni_city=%{x}<br>count=%{y}\", \"legendgroup\": \"muni_city=Cebu City\", \"marker\": {\"color\": \"#A3A500\"}, \"name\": \"muni_city=Cebu City\", \"offsetgroup\": \"muni_city=Cebu City\", \"orientation\": \"v\", \"showlegend\": true, \"textposition\": \"auto\", \"type\": \"bar\", \"x\": [\"Cebu City\"], \"xaxis\": \"x\", \"y\": [1544], \"yaxis\": \"y\"}, {\"alignmentgroup\": \"True\", \"hoverlabel\": {\"namelength\": 0}, \"hovertemplate\": \"muni_city=%{x}<br>count=%{y}\", \"legendgroup\": \"muni_city=Manila\", \"marker\": {\"color\": \"#00BF7D\"}, \"name\": \"muni_city=Manila\", \"offsetgroup\": \"muni_city=Manila\", \"orientation\": \"v\", \"showlegend\": true, \"textposition\": \"auto\", \"type\": \"bar\", \"x\": [\"Manila\"], \"xaxis\": \"x\", \"y\": [988], \"yaxis\": \"y\"}, {\"alignmentgroup\": \"True\", \"hoverlabel\": {\"namelength\": 0}, \"hovertemplate\": \"muni_city=%{x}<br>count=%{y}\", \"legendgroup\": \"muni_city=Para\\u00f1aque\", \"marker\": {\"color\": \"#00B0F6\"}, \"name\": \"muni_city=Para\\u00f1aque\", \"offsetgroup\": \"muni_city=Para\\u00f1aque\", \"orientation\": \"v\", \"showlegend\": true, \"textposition\": \"auto\", \"type\": \"bar\", \"x\": [\"Para\\u00f1aque\"], \"xaxis\": \"x\", \"y\": [564], \"yaxis\": \"y\"}, {\"alignmentgroup\": \"True\", \"hoverlabel\": {\"namelength\": 0}, \"hovertemplate\": \"muni_city=%{x}<br>count=%{y}\", \"legendgroup\": \"muni_city=Mandaluyong\", \"marker\": {\"color\": \"#E76BF3\"}, \"name\": \"muni_city=Mandaluyong\", \"offsetgroup\": \"muni_city=Mandaluyong\", \"orientation\": \"v\", \"showlegend\": true, \"textposition\": \"auto\", \"type\": \"bar\", \"x\": [\"Mandaluyong\"], \"xaxis\": \"x\", \"y\": [538], \"yaxis\": \"y\"}, {\"alignmentgroup\": \"True\", \"hoverlabel\": {\"namelength\": 0}, \"hovertemplate\": \"muni_city=%{x}<br>count=%{y}\", \"legendgroup\": \"muni_city=Makati City\", \"marker\": {\"color\": \"#F8766D\"}, \"name\": \"muni_city=Makati City\", \"offsetgroup\": \"muni_city=Makati City\", \"orientation\": \"v\", \"showlegend\": true, \"textposition\": \"auto\", \"type\": \"bar\", \"x\": [\"Makati City\"], \"xaxis\": \"x\", \"y\": [537], \"yaxis\": \"y\"}, {\"alignmentgroup\": \"True\", \"hoverlabel\": {\"namelength\": 0}, \"hovertemplate\": \"muni_city=%{x}<br>count=%{y}\", \"legendgroup\": \"muni_city=Pasig City\", \"marker\": {\"color\": \"#A3A500\"}, \"name\": \"muni_city=Pasig City\", \"offsetgroup\": \"muni_city=Pasig City\", \"orientation\": \"v\", \"showlegend\": true, \"textposition\": \"auto\", \"type\": \"bar\", \"x\": [\"Pasig City\"], \"xaxis\": \"x\", \"y\": [393], \"yaxis\": \"y\"}, {\"alignmentgroup\": \"True\", \"hoverlabel\": {\"namelength\": 0}, \"hovertemplate\": \"muni_city=%{x}<br>count=%{y}\", \"legendgroup\": \"muni_city=Taguig\", \"marker\": {\"color\": \"#00BF7D\"}, \"name\": \"muni_city=Taguig\", \"offsetgroup\": \"muni_city=Taguig\", \"orientation\": \"v\", \"showlegend\": true, \"textposition\": \"auto\", \"type\": \"bar\", \"x\": [\"Taguig\"], \"xaxis\": \"x\", \"y\": [352], \"yaxis\": \"y\"}, {\"alignmentgroup\": \"True\", \"hoverlabel\": {\"namelength\": 0}, \"hovertemplate\": \"muni_city=%{x}<br>count=%{y}\", \"legendgroup\": \"muni_city=Pasay City\", \"marker\": {\"color\": \"#00B0F6\"}, \"name\": \"muni_city=Pasay City\", \"offsetgroup\": \"muni_city=Pasay City\", \"orientation\": \"v\", \"showlegend\": true, \"textposition\": \"auto\", \"type\": \"bar\", \"x\": [\"Pasay City\"], \"xaxis\": \"x\", \"y\": [291], \"yaxis\": \"y\"}, {\"alignmentgroup\": \"True\", \"hoverlabel\": {\"namelength\": 0}, \"hovertemplate\": \"muni_city=%{x}<br>count=%{y}\", \"legendgroup\": \"muni_city=Kalookan City\", \"marker\": {\"color\": \"#E76BF3\"}, \"name\": \"muni_city=Kalookan City\", \"offsetgroup\": \"muni_city=Kalookan City\", \"orientation\": \"v\", \"showlegend\": true, \"textposition\": \"auto\", \"type\": \"bar\", \"x\": [\"Kalookan City\"], \"xaxis\": \"x\", \"y\": [282], \"yaxis\": \"y\"}, {\"alignmentgroup\": \"True\", \"hoverlabel\": {\"namelength\": 0}, \"hovertemplate\": \"muni_city=%{x}<br>count=%{y}\", \"legendgroup\": \"muni_city=San Juan\", \"marker\": {\"color\": \"#F8766D\"}, \"name\": \"muni_city=San Juan\", \"offsetgroup\": \"muni_city=San Juan\", \"orientation\": \"v\", \"showlegend\": true, \"textposition\": \"auto\", \"type\": \"bar\", \"x\": [\"San Juan\"], \"xaxis\": \"x\", \"y\": [272], \"yaxis\": \"y\"}, {\"alignmentgroup\": \"True\", \"hoverlabel\": {\"namelength\": 0}, \"hovertemplate\": \"muni_city=%{x}<br>count=%{y}\", \"legendgroup\": \"muni_city=Las Pi\\u00f1as\", \"marker\": {\"color\": \"#A3A500\"}, \"name\": \"muni_city=Las Pi\\u00f1as\", \"offsetgroup\": \"muni_city=Las Pi\\u00f1as\", \"orientation\": \"v\", \"showlegend\": true, \"textposition\": \"auto\", \"type\": \"bar\", \"x\": [\"Las Pi\\u00f1as\"], \"xaxis\": \"x\", \"y\": [218], \"yaxis\": \"y\"}, {\"alignmentgroup\": \"True\", \"hoverlabel\": {\"namelength\": 0}, \"hovertemplate\": \"muni_city=%{x}<br>count=%{y}\", \"legendgroup\": \"muni_city=Muntinlupa\", \"marker\": {\"color\": \"#00BF7D\"}, \"name\": \"muni_city=Muntinlupa\", \"offsetgroup\": \"muni_city=Muntinlupa\", \"orientation\": \"v\", \"showlegend\": true, \"textposition\": \"auto\", \"type\": \"bar\", \"x\": [\"Muntinlupa\"], \"xaxis\": \"x\", \"y\": [209], \"yaxis\": \"y\"}, {\"alignmentgroup\": \"True\", \"hoverlabel\": {\"namelength\": 0}, \"hovertemplate\": \"muni_city=%{x}<br>count=%{y}\", \"legendgroup\": \"muni_city=Davao City\", \"marker\": {\"color\": \"#00B0F6\"}, \"name\": \"muni_city=Davao City\", \"offsetgroup\": \"muni_city=Davao City\", \"orientation\": \"v\", \"showlegend\": true, \"textposition\": \"auto\", \"type\": \"bar\", \"x\": [\"Davao City\"], \"xaxis\": \"x\", \"y\": [171], \"yaxis\": \"y\"}, {\"alignmentgroup\": \"True\", \"hoverlabel\": {\"namelength\": 0}, \"hovertemplate\": \"muni_city=%{x}<br>count=%{y}\", \"legendgroup\": \"muni_city=Marikina\", \"marker\": {\"color\": \"#E76BF3\"}, \"name\": \"muni_city=Marikina\", \"offsetgroup\": \"muni_city=Marikina\", \"orientation\": \"v\", \"showlegend\": true, \"textposition\": \"auto\", \"type\": \"bar\", \"x\": [\"Marikina\"], \"xaxis\": \"x\", \"y\": [157], \"yaxis\": \"y\"}, {\"alignmentgroup\": \"True\", \"hoverlabel\": {\"namelength\": 0}, \"hovertemplate\": \"muni_city=%{x}<br>count=%{y}\", \"legendgroup\": \"muni_city=Valenzuela\", \"marker\": {\"color\": \"#F8766D\"}, \"name\": \"muni_city=Valenzuela\", \"offsetgroup\": \"muni_city=Valenzuela\", \"orientation\": \"v\", \"showlegend\": true, \"textposition\": \"auto\", \"type\": \"bar\", \"x\": [\"Valenzuela\"], \"xaxis\": \"x\", \"y\": [143], \"yaxis\": \"y\"}, {\"alignmentgroup\": \"True\", \"hoverlabel\": {\"namelength\": 0}, \"hovertemplate\": \"muni_city=%{x}<br>count=%{y}\", \"legendgroup\": \"muni_city=Antipolo City\", \"marker\": {\"color\": \"#A3A500\"}, \"name\": \"muni_city=Antipolo City\", \"offsetgroup\": \"muni_city=Antipolo City\", \"orientation\": \"v\", \"showlegend\": true, \"textposition\": \"auto\", \"type\": \"bar\", \"x\": [\"Antipolo City\"], \"xaxis\": \"x\", \"y\": [132], \"yaxis\": \"y\"}, {\"alignmentgroup\": \"True\", \"hoverlabel\": {\"namelength\": 0}, \"hovertemplate\": \"muni_city=%{x}<br>count=%{y}\", \"legendgroup\": \"muni_city=Bacoor\", \"marker\": {\"color\": \"#00BF7D\"}, \"name\": \"muni_city=Bacoor\", \"offsetgroup\": \"muni_city=Bacoor\", \"orientation\": \"v\", \"showlegend\": true, \"textposition\": \"auto\", \"type\": \"bar\", \"x\": [\"Bacoor\"], \"xaxis\": \"x\", \"y\": [107], \"yaxis\": \"y\"}, {\"alignmentgroup\": \"True\", \"hoverlabel\": {\"namelength\": 0}, \"hovertemplate\": \"muni_city=%{x}<br>count=%{y}\", \"legendgroup\": \"muni_city=Mandaue City\", \"marker\": {\"color\": \"#00B0F6\"}, \"name\": \"muni_city=Mandaue City\", \"offsetgroup\": \"muni_city=Mandaue City\", \"orientation\": \"v\", \"showlegend\": true, \"textposition\": \"auto\", \"type\": \"bar\", \"x\": [\"Mandaue City\"], \"xaxis\": \"x\", \"y\": [100], \"yaxis\": \"y\"}, {\"alignmentgroup\": \"True\", \"hoverlabel\": {\"namelength\": 0}, \"hovertemplate\": \"muni_city=%{x}<br>count=%{y}\", \"legendgroup\": \"muni_city=Cainta\", \"marker\": {\"color\": \"#E76BF3\"}, \"name\": \"muni_city=Cainta\", \"offsetgroup\": \"muni_city=Cainta\", \"orientation\": \"v\", \"showlegend\": true, \"textposition\": \"auto\", \"type\": \"bar\", \"x\": [\"Cainta\"], \"xaxis\": \"x\", \"y\": [99], \"yaxis\": \"y\"}, {\"alignmentgroup\": \"True\", \"hoverlabel\": {\"namelength\": 0}, \"hovertemplate\": \"muni_city=%{x}<br>count=%{y}\", \"legendgroup\": \"muni_city=Zamboanga City\", \"marker\": {\"color\": \"#F8766D\"}, \"name\": \"muni_city=Zamboanga City\", \"offsetgroup\": \"muni_city=Zamboanga City\", \"orientation\": \"v\", \"showlegend\": true, \"textposition\": \"auto\", \"type\": \"bar\", \"x\": [\"Zamboanga City\"], \"xaxis\": \"x\", \"y\": [96], \"yaxis\": \"y\"}, {\"alignmentgroup\": \"True\", \"hoverlabel\": {\"namelength\": 0}, \"hovertemplate\": \"muni_city=%{x}<br>count=%{y}\", \"legendgroup\": \"muni_city=San Pedro\", \"marker\": {\"color\": \"#A3A500\"}, \"name\": \"muni_city=San Pedro\", \"offsetgroup\": \"muni_city=San Pedro\", \"orientation\": \"v\", \"showlegend\": true, \"textposition\": \"auto\", \"type\": \"bar\", \"x\": [\"San Pedro\"], \"xaxis\": \"x\", \"y\": [88], \"yaxis\": \"y\"}, {\"alignmentgroup\": \"True\", \"hoverlabel\": {\"namelength\": 0}, \"hovertemplate\": \"muni_city=%{x}<br>count=%{y}\", \"legendgroup\": \"muni_city=Malabon\", \"marker\": {\"color\": \"#00BF7D\"}, \"name\": \"muni_city=Malabon\", \"offsetgroup\": \"muni_city=Malabon\", \"orientation\": \"v\", \"showlegend\": true, \"textposition\": \"auto\", \"type\": \"bar\", \"x\": [\"Malabon\"], \"xaxis\": \"x\", \"y\": [81], \"yaxis\": \"y\"}, {\"alignmentgroup\": \"True\", \"hoverlabel\": {\"namelength\": 0}, \"hovertemplate\": \"muni_city=%{x}<br>count=%{y}\", \"legendgroup\": \"muni_city=Lapu-Lapu City\", \"marker\": {\"color\": \"#00B0F6\"}, \"name\": \"muni_city=Lapu-Lapu City\", \"offsetgroup\": \"muni_city=Lapu-Lapu City\", \"orientation\": \"v\", \"showlegend\": true, \"textposition\": \"auto\", \"type\": \"bar\", \"x\": [\"Lapu-Lapu City\"], \"xaxis\": \"x\", \"y\": [58], \"yaxis\": \"y\"}, {\"alignmentgroup\": \"True\", \"hoverlabel\": {\"namelength\": 0}, \"hovertemplate\": \"muni_city=%{x}<br>count=%{y}\", \"legendgroup\": \"muni_city=Navotas\", \"marker\": {\"color\": \"#E76BF3\"}, \"name\": \"muni_city=Navotas\", \"offsetgroup\": \"muni_city=Navotas\", \"orientation\": \"v\", \"showlegend\": true, \"textposition\": \"auto\", \"type\": \"bar\", \"x\": [\"Navotas\"], \"xaxis\": \"x\", \"y\": [56], \"yaxis\": \"y\"}, {\"alignmentgroup\": \"True\", \"hoverlabel\": {\"namelength\": 0}, \"hovertemplate\": \"muni_city=%{x}<br>count=%{y}\", \"legendgroup\": \"muni_city=Imus\", \"marker\": {\"color\": \"#F8766D\"}, \"name\": \"muni_city=Imus\", \"offsetgroup\": \"muni_city=Imus\", \"orientation\": \"v\", \"showlegend\": true, \"textposition\": \"auto\", \"type\": \"bar\", \"x\": [\"Imus\"], \"xaxis\": \"x\", \"y\": [49], \"yaxis\": \"y\"}, {\"alignmentgroup\": \"True\", \"hoverlabel\": {\"namelength\": 0}, \"hovertemplate\": \"muni_city=%{x}<br>count=%{y}\", \"legendgroup\": \"muni_city=Calamba\", \"marker\": {\"color\": \"#A3A500\"}, \"name\": \"muni_city=Calamba\", \"offsetgroup\": \"muni_city=Calamba\", \"orientation\": \"v\", \"showlegend\": true, \"textposition\": \"auto\", \"type\": \"bar\", \"x\": [\"Calamba\"], \"xaxis\": \"x\", \"y\": [47], \"yaxis\": \"y\"}, {\"alignmentgroup\": \"True\", \"hoverlabel\": {\"namelength\": 0}, \"hovertemplate\": \"muni_city=%{x}<br>count=%{y}\", \"legendgroup\": \"muni_city=Dasmari\\u00f1as\", \"marker\": {\"color\": \"#00BF7D\"}, \"name\": \"muni_city=Dasmari\\u00f1as\", \"offsetgroup\": \"muni_city=Dasmari\\u00f1as\", \"orientation\": \"v\", \"showlegend\": true, \"textposition\": \"auto\", \"type\": \"bar\", \"x\": [\"Dasmari\\u00f1as\"], \"xaxis\": \"x\", \"y\": [46], \"yaxis\": \"y\"}, {\"alignmentgroup\": \"True\", \"hoverlabel\": {\"namelength\": 0}, \"hovertemplate\": \"muni_city=%{x}<br>count=%{y}\", \"legendgroup\": \"muni_city=Taytay\", \"marker\": {\"color\": \"#00B0F6\"}, \"name\": \"muni_city=Taytay\", \"offsetgroup\": \"muni_city=Taytay\", \"orientation\": \"v\", \"showlegend\": true, \"textposition\": \"auto\", \"type\": \"bar\", \"x\": [\"Taytay\"], \"xaxis\": \"x\", \"y\": [44], \"yaxis\": \"y\"}, {\"alignmentgroup\": \"True\", \"hoverlabel\": {\"namelength\": 0}, \"hovertemplate\": \"muni_city=%{x}<br>count=%{y}\", \"legendgroup\": \"muni_city=Lipa City\", \"marker\": {\"color\": \"#E76BF3\"}, \"name\": \"muni_city=Lipa City\", \"offsetgroup\": \"muni_city=Lipa City\", \"orientation\": \"v\", \"showlegend\": true, \"textposition\": \"auto\", \"type\": \"bar\", \"x\": [\"Lipa City\"], \"xaxis\": \"x\", \"y\": [42], \"yaxis\": \"y\"}, {\"alignmentgroup\": \"True\", \"hoverlabel\": {\"namelength\": 0}, \"hovertemplate\": \"muni_city=%{x}<br>count=%{y}\", \"legendgroup\": \"muni_city=Los Ba\\u00f1os\", \"marker\": {\"color\": \"#F8766D\"}, \"name\": \"muni_city=Los Ba\\u00f1os\", \"offsetgroup\": \"muni_city=Los Ba\\u00f1os\", \"orientation\": \"v\", \"showlegend\": true, \"textposition\": \"auto\", \"type\": \"bar\", \"x\": [\"Los Ba\\u00f1os\"], \"xaxis\": \"x\", \"y\": [41], \"yaxis\": \"y\"}, {\"alignmentgroup\": \"True\", \"hoverlabel\": {\"namelength\": 0}, \"hovertemplate\": \"muni_city=%{x}<br>count=%{y}\", \"legendgroup\": \"muni_city=Binangonan\", \"marker\": {\"color\": \"#A3A500\"}, \"name\": \"muni_city=Binangonan\", \"offsetgroup\": \"muni_city=Binangonan\", \"orientation\": \"v\", \"showlegend\": true, \"textposition\": \"auto\", \"type\": \"bar\", \"x\": [\"Binangonan\"], \"xaxis\": \"x\", \"y\": [38], \"yaxis\": \"y\"}, {\"alignmentgroup\": \"True\", \"hoverlabel\": {\"namelength\": 0}, \"hovertemplate\": \"muni_city=%{x}<br>count=%{y}\", \"legendgroup\": \"muni_city=Santa Rosa\", \"marker\": {\"color\": \"#00BF7D\"}, \"name\": \"muni_city=Santa Rosa\", \"offsetgroup\": \"muni_city=Santa Rosa\", \"orientation\": \"v\", \"showlegend\": true, \"textposition\": \"auto\", \"type\": \"bar\", \"x\": [\"Santa Rosa\"], \"xaxis\": \"x\", \"y\": [38], \"yaxis\": \"y\"}, {\"alignmentgroup\": \"True\", \"hoverlabel\": {\"namelength\": 0}, \"hovertemplate\": \"muni_city=%{x}<br>count=%{y}\", \"legendgroup\": \"muni_city=Bi\\u00f1an\", \"marker\": {\"color\": \"#00B0F6\"}, \"name\": \"muni_city=Bi\\u00f1an\", \"offsetgroup\": \"muni_city=Bi\\u00f1an\", \"orientation\": \"v\", \"showlegend\": true, \"textposition\": \"auto\", \"type\": \"bar\", \"x\": [\"Bi\\u00f1an\"], \"xaxis\": \"x\", \"y\": [36], \"yaxis\": \"y\"}, {\"alignmentgroup\": \"True\", \"hoverlabel\": {\"namelength\": 0}, \"hovertemplate\": \"muni_city=%{x}<br>count=%{y}\", \"legendgroup\": \"muni_city=Balanga City\", \"marker\": {\"color\": \"#E76BF3\"}, \"name\": \"muni_city=Balanga City\", \"offsetgroup\": \"muni_city=Balanga City\", \"orientation\": \"v\", \"showlegend\": true, \"textposition\": \"auto\", \"type\": \"bar\", \"x\": [\"Balanga City\"], \"xaxis\": \"x\", \"y\": [33], \"yaxis\": \"y\"}, {\"alignmentgroup\": \"True\", \"hoverlabel\": {\"namelength\": 0}, \"hovertemplate\": \"muni_city=%{x}<br>count=%{y}\", \"legendgroup\": \"muni_city=Rodriguez\", \"marker\": {\"color\": \"#F8766D\"}, \"name\": \"muni_city=Rodriguez\", \"offsetgroup\": \"muni_city=Rodriguez\", \"orientation\": \"v\", \"showlegend\": true, \"textposition\": \"auto\", \"type\": \"bar\", \"x\": [\"Rodriguez\"], \"xaxis\": \"x\", \"y\": [31], \"yaxis\": \"y\"}, {\"alignmentgroup\": \"True\", \"hoverlabel\": {\"namelength\": 0}, \"hovertemplate\": \"muni_city=%{x}<br>count=%{y}\", \"legendgroup\": \"muni_city=Batangas City\", \"marker\": {\"color\": \"#A3A500\"}, \"name\": \"muni_city=Batangas City\", \"offsetgroup\": \"muni_city=Batangas City\", \"orientation\": \"v\", \"showlegend\": true, \"textposition\": \"auto\", \"type\": \"bar\", \"x\": [\"Batangas City\"], \"xaxis\": \"x\", \"y\": [31], \"yaxis\": \"y\"}, {\"alignmentgroup\": \"True\", \"hoverlabel\": {\"namelength\": 0}, \"hovertemplate\": \"muni_city=%{x}<br>count=%{y}\", \"legendgroup\": \"muni_city=Pateros\", \"marker\": {\"color\": \"#00BF7D\"}, \"name\": \"muni_city=Pateros\", \"offsetgroup\": \"muni_city=Pateros\", \"orientation\": \"v\", \"showlegend\": true, \"textposition\": \"auto\", \"type\": \"bar\", \"x\": [\"Pateros\"], \"xaxis\": \"x\", \"y\": [30], \"yaxis\": \"y\"}, {\"alignmentgroup\": \"True\", \"hoverlabel\": {\"namelength\": 0}, \"hovertemplate\": \"muni_city=%{x}<br>count=%{y}\", \"legendgroup\": \"muni_city=San Mateo\", \"marker\": {\"color\": \"#00B0F6\"}, \"name\": \"muni_city=San Mateo\", \"offsetgroup\": \"muni_city=San Mateo\", \"orientation\": \"v\", \"showlegend\": true, \"textposition\": \"auto\", \"type\": \"bar\", \"x\": [\"San Mateo\"], \"xaxis\": \"x\", \"y\": [30], \"yaxis\": \"y\"}, {\"alignmentgroup\": \"True\", \"hoverlabel\": {\"namelength\": 0}, \"hovertemplate\": \"muni_city=%{x}<br>count=%{y}\", \"legendgroup\": \"muni_city=Baguio City\", \"marker\": {\"color\": \"#E76BF3\"}, \"name\": \"muni_city=Baguio City\", \"offsetgroup\": \"muni_city=Baguio City\", \"orientation\": \"v\", \"showlegend\": true, \"textposition\": \"auto\", \"type\": \"bar\", \"x\": [\"Baguio City\"], \"xaxis\": \"x\", \"y\": [30], \"yaxis\": \"y\"}, {\"alignmentgroup\": \"True\", \"hoverlabel\": {\"namelength\": 0}, \"hovertemplate\": \"muni_city=%{x}<br>count=%{y}\", \"legendgroup\": \"muni_city=Lucena City\", \"marker\": {\"color\": \"#F8766D\"}, \"name\": \"muni_city=Lucena City\", \"offsetgroup\": \"muni_city=Lucena City\", \"orientation\": \"v\", \"showlegend\": true, \"textposition\": \"auto\", \"type\": \"bar\", \"x\": [\"Lucena City\"], \"xaxis\": \"x\", \"y\": [29], \"yaxis\": \"y\"}, {\"alignmentgroup\": \"True\", \"hoverlabel\": {\"namelength\": 0}, \"hovertemplate\": \"muni_city=%{x}<br>count=%{y}\", \"legendgroup\": \"muni_city=San Jose del Monte City\", \"marker\": {\"color\": \"#A3A500\"}, \"name\": \"muni_city=San Jose del Monte City\", \"offsetgroup\": \"muni_city=San Jose del Monte City\", \"orientation\": \"v\", \"showlegend\": true, \"textposition\": \"auto\", \"type\": \"bar\", \"x\": [\"San Jose del Monte City\"], \"xaxis\": \"x\", \"y\": [26], \"yaxis\": \"y\"}, {\"alignmentgroup\": \"True\", \"hoverlabel\": {\"namelength\": 0}, \"hovertemplate\": \"muni_city=%{x}<br>count=%{y}\", \"legendgroup\": \"muni_city=Iloilo City\", \"marker\": {\"color\": \"#00BF7D\"}, \"name\": \"muni_city=Iloilo City\", \"offsetgroup\": \"muni_city=Iloilo City\", \"orientation\": \"v\", \"showlegend\": true, \"textposition\": \"auto\", \"type\": \"bar\", \"x\": [\"Iloilo City\"], \"xaxis\": \"x\", \"y\": [25], \"yaxis\": \"y\"}, {\"alignmentgroup\": \"True\", \"hoverlabel\": {\"namelength\": 0}, \"hovertemplate\": \"muni_city=%{x}<br>count=%{y}\", \"legendgroup\": \"muni_city=Santa Cruz\", \"marker\": {\"color\": \"#00B0F6\"}, \"name\": \"muni_city=Santa Cruz\", \"offsetgroup\": \"muni_city=Santa Cruz\", \"orientation\": \"v\", \"showlegend\": true, \"textposition\": \"auto\", \"type\": \"bar\", \"x\": [\"Santa Cruz\"], \"xaxis\": \"x\", \"y\": [24], \"yaxis\": \"y\"}, {\"alignmentgroup\": \"True\", \"hoverlabel\": {\"namelength\": 0}, \"hovertemplate\": \"muni_city=%{x}<br>count=%{y}\", \"legendgroup\": \"muni_city=Cabuyao\", \"marker\": {\"color\": \"#E76BF3\"}, \"name\": \"muni_city=Cabuyao\", \"offsetgroup\": \"muni_city=Cabuyao\", \"orientation\": \"v\", \"showlegend\": true, \"textposition\": \"auto\", \"type\": \"bar\", \"x\": [\"Cabuyao\"], \"xaxis\": \"x\", \"y\": [23], \"yaxis\": \"y\"}, {\"alignmentgroup\": \"True\", \"hoverlabel\": {\"namelength\": 0}, \"hovertemplate\": \"muni_city=%{x}<br>count=%{y}\", \"legendgroup\": \"muni_city=San Fernando\", \"marker\": {\"color\": \"#F8766D\"}, \"name\": \"muni_city=San Fernando\", \"offsetgroup\": \"muni_city=San Fernando\", \"orientation\": \"v\", \"showlegend\": true, \"textposition\": \"auto\", \"type\": \"bar\", \"x\": [\"San Fernando\"], \"xaxis\": \"x\", \"y\": [22], \"yaxis\": \"y\"}, {\"alignmentgroup\": \"True\", \"hoverlabel\": {\"namelength\": 0}, \"hovertemplate\": \"muni_city=%{x}<br>count=%{y}\", \"legendgroup\": \"muni_city=Legazpi City\", \"marker\": {\"color\": \"#A3A500\"}, \"name\": \"muni_city=Legazpi City\", \"offsetgroup\": \"muni_city=Legazpi City\", \"orientation\": \"v\", \"showlegend\": true, \"textposition\": \"auto\", \"type\": \"bar\", \"x\": [\"Legazpi City\"], \"xaxis\": \"x\", \"y\": [20], \"yaxis\": \"y\"}, {\"alignmentgroup\": \"True\", \"hoverlabel\": {\"namelength\": 0}, \"hovertemplate\": \"muni_city=%{x}<br>count=%{y}\", \"legendgroup\": \"muni_city=General Trias\", \"marker\": {\"color\": \"#00BF7D\"}, \"name\": \"muni_city=General Trias\", \"offsetgroup\": \"muni_city=General Trias\", \"orientation\": \"v\", \"showlegend\": true, \"textposition\": \"auto\", \"type\": \"bar\", \"x\": [\"General Trias\"], \"xaxis\": \"x\", \"y\": [20], \"yaxis\": \"y\"}, {\"alignmentgroup\": \"True\", \"hoverlabel\": {\"namelength\": 0}, \"hovertemplate\": \"muni_city=%{x}<br>count=%{y}\", \"legendgroup\": \"muni_city=Tarangnan\", \"marker\": {\"color\": \"#00B0F6\"}, \"name\": \"muni_city=Tarangnan\", \"offsetgroup\": \"muni_city=Tarangnan\", \"orientation\": \"v\", \"showlegend\": true, \"textposition\": \"auto\", \"type\": \"bar\", \"x\": [\"Tarangnan\"], \"xaxis\": \"x\", \"y\": [19], \"yaxis\": \"y\"}, {\"alignmentgroup\": \"True\", \"hoverlabel\": {\"namelength\": 0}, \"hovertemplate\": \"muni_city=%{x}<br>count=%{y}\", \"legendgroup\": \"muni_city=Marilao\", \"marker\": {\"color\": \"#E76BF3\"}, \"name\": \"muni_city=Marilao\", \"offsetgroup\": \"muni_city=Marilao\", \"orientation\": \"v\", \"showlegend\": true, \"textposition\": \"auto\", \"type\": \"bar\", \"x\": [\"Marilao\"], \"xaxis\": \"x\", \"y\": [19], \"yaxis\": \"y\"}, {\"alignmentgroup\": \"True\", \"hoverlabel\": {\"namelength\": 0}, \"hovertemplate\": \"muni_city=%{x}<br>count=%{y}\", \"legendgroup\": \"muni_city=Cabanatuan City\", \"marker\": {\"color\": \"#F8766D\"}, \"name\": \"muni_city=Cabanatuan City\", \"offsetgroup\": \"muni_city=Cabanatuan City\", \"orientation\": \"v\", \"showlegend\": true, \"textposition\": \"auto\", \"type\": \"bar\", \"x\": [\"Cabanatuan City\"], \"xaxis\": \"x\", \"y\": [19], \"yaxis\": \"y\"}, {\"alignmentgroup\": \"True\", \"hoverlabel\": {\"namelength\": 0}, \"hovertemplate\": \"muni_city=%{x}<br>count=%{y}\", \"legendgroup\": \"muni_city=San Pablo City\", \"marker\": {\"color\": \"#A3A500\"}, \"name\": \"muni_city=San Pablo City\", \"offsetgroup\": \"muni_city=San Pablo City\", \"orientation\": \"v\", \"showlegend\": true, \"textposition\": \"auto\", \"type\": \"bar\", \"x\": [\"San Pablo City\"], \"xaxis\": \"x\", \"y\": [19], \"yaxis\": \"y\"}, {\"alignmentgroup\": \"True\", \"hoverlabel\": {\"namelength\": 0}, \"hovertemplate\": \"muni_city=%{x}<br>count=%{y}\", \"legendgroup\": \"muni_city=Nasugbu\", \"marker\": {\"color\": \"#00BF7D\"}, \"name\": \"muni_city=Nasugbu\", \"offsetgroup\": \"muni_city=Nasugbu\", \"orientation\": \"v\", \"showlegend\": true, \"textposition\": \"auto\", \"type\": \"bar\", \"x\": [\"Nasugbu\"], \"xaxis\": \"x\", \"y\": [18], \"yaxis\": \"y\"}, {\"alignmentgroup\": \"True\", \"hoverlabel\": {\"namelength\": 0}, \"hovertemplate\": \"muni_city=%{x}<br>count=%{y}\", \"legendgroup\": \"muni_city=Malolos City\", \"marker\": {\"color\": \"#00B0F6\"}, \"name\": \"muni_city=Malolos City\", \"offsetgroup\": \"muni_city=Malolos City\", \"orientation\": \"v\", \"showlegend\": true, \"textposition\": \"auto\", \"type\": \"bar\", \"x\": [\"Malolos City\"], \"xaxis\": \"x\", \"y\": [17], \"yaxis\": \"y\"}, {\"alignmentgroup\": \"True\", \"hoverlabel\": {\"namelength\": 0}, \"hovertemplate\": \"muni_city=%{x}<br>count=%{y}\", \"legendgroup\": \"muni_city=Angono\", \"marker\": {\"color\": \"#E76BF3\"}, \"name\": \"muni_city=Angono\", \"offsetgroup\": \"muni_city=Angono\", \"orientation\": \"v\", \"showlegend\": true, \"textposition\": \"auto\", \"type\": \"bar\", \"x\": [\"Angono\"], \"xaxis\": \"x\", \"y\": [14], \"yaxis\": \"y\"}, {\"alignmentgroup\": \"True\", \"hoverlabel\": {\"namelength\": 0}, \"hovertemplate\": \"muni_city=%{x}<br>count=%{y}\", \"legendgroup\": \"muni_city=Talisay\", \"marker\": {\"color\": \"#F8766D\"}, \"name\": \"muni_city=Talisay\", \"offsetgroup\": \"muni_city=Talisay\", \"orientation\": \"v\", \"showlegend\": true, \"textposition\": \"auto\", \"type\": \"bar\", \"x\": [\"Talisay\"], \"xaxis\": \"x\", \"y\": [13], \"yaxis\": \"y\"}, {\"alignmentgroup\": \"True\", \"hoverlabel\": {\"namelength\": 0}, \"hovertemplate\": \"muni_city=%{x}<br>count=%{y}\", \"legendgroup\": \"muni_city=Bacolod City\", \"marker\": {\"color\": \"#A3A500\"}, \"name\": \"muni_city=Bacolod City\", \"offsetgroup\": \"muni_city=Bacolod City\", \"orientation\": \"v\", \"showlegend\": true, \"textposition\": \"auto\", \"type\": \"bar\", \"x\": [\"Bacolod City\"], \"xaxis\": \"x\", \"y\": [13], \"yaxis\": \"y\"}, {\"alignmentgroup\": \"True\", \"hoverlabel\": {\"namelength\": 0}, \"hovertemplate\": \"muni_city=%{x}<br>count=%{y}\", \"legendgroup\": \"muni_city=Olongapo City\", \"marker\": {\"color\": \"#00BF7D\"}, \"name\": \"muni_city=Olongapo City\", \"offsetgroup\": \"muni_city=Olongapo City\", \"orientation\": \"v\", \"showlegend\": true, \"textposition\": \"auto\", \"type\": \"bar\", \"x\": [\"Olongapo City\"], \"xaxis\": \"x\", \"y\": [13], \"yaxis\": \"y\"}, {\"alignmentgroup\": \"True\", \"hoverlabel\": {\"namelength\": 0}, \"hovertemplate\": \"muni_city=%{x}<br>count=%{y}\", \"legendgroup\": \"muni_city=Bay\", \"marker\": {\"color\": \"#00B0F6\"}, \"name\": \"muni_city=Bay\", \"offsetgroup\": \"muni_city=Bay\", \"orientation\": \"v\", \"showlegend\": true, \"textposition\": \"auto\", \"type\": \"bar\", \"x\": [\"Bay\"], \"xaxis\": \"x\", \"y\": [13], \"yaxis\": \"y\"}, {\"alignmentgroup\": \"True\", \"hoverlabel\": {\"namelength\": 0}, \"hovertemplate\": \"muni_city=%{x}<br>count=%{y}\", \"legendgroup\": \"muni_city=Daraga\", \"marker\": {\"color\": \"#E76BF3\"}, \"name\": \"muni_city=Daraga\", \"offsetgroup\": \"muni_city=Daraga\", \"orientation\": \"v\", \"showlegend\": true, \"textposition\": \"auto\", \"type\": \"bar\", \"x\": [\"Daraga\"], \"xaxis\": \"x\", \"y\": [12], \"yaxis\": \"y\"}, {\"alignmentgroup\": \"True\", \"hoverlabel\": {\"namelength\": 0}, \"hovertemplate\": \"muni_city=%{x}<br>count=%{y}\", \"legendgroup\": \"muni_city=Santa Maria\", \"marker\": {\"color\": \"#F8766D\"}, \"name\": \"muni_city=Santa Maria\", \"offsetgroup\": \"muni_city=Santa Maria\", \"orientation\": \"v\", \"showlegend\": true, \"textposition\": \"auto\", \"type\": \"bar\", \"x\": [\"Santa Maria\"], \"xaxis\": \"x\", \"y\": [12], \"yaxis\": \"y\"}, {\"alignmentgroup\": \"True\", \"hoverlabel\": {\"namelength\": 0}, \"hovertemplate\": \"muni_city=%{x}<br>count=%{y}\", \"legendgroup\": \"muni_city=Meycauayan City\", \"marker\": {\"color\": \"#A3A500\"}, \"name\": \"muni_city=Meycauayan City\", \"offsetgroup\": \"muni_city=Meycauayan City\", \"orientation\": \"v\", \"showlegend\": true, \"textposition\": \"auto\", \"type\": \"bar\", \"x\": [\"Meycauayan City\"], \"xaxis\": \"x\", \"y\": [12], \"yaxis\": \"y\"}, {\"alignmentgroup\": \"True\", \"hoverlabel\": {\"namelength\": 0}, \"hovertemplate\": \"muni_city=%{x}<br>count=%{y}\", \"legendgroup\": \"muni_city=Tuguegarao City\", \"marker\": {\"color\": \"#00BF7D\"}, \"name\": \"muni_city=Tuguegarao City\", \"offsetgroup\": \"muni_city=Tuguegarao City\", \"orientation\": \"v\", \"showlegend\": true, \"textposition\": \"auto\", \"type\": \"bar\", \"x\": [\"Tuguegarao City\"], \"xaxis\": \"x\", \"y\": [12], \"yaxis\": \"y\"}, {\"alignmentgroup\": \"True\", \"hoverlabel\": {\"namelength\": 0}, \"hovertemplate\": \"muni_city=%{x}<br>count=%{y}\", \"legendgroup\": \"muni_city=Minglanilla\", \"marker\": {\"color\": \"#00B0F6\"}, \"name\": \"muni_city=Minglanilla\", \"offsetgroup\": \"muni_city=Minglanilla\", \"orientation\": \"v\", \"showlegend\": true, \"textposition\": \"auto\", \"type\": \"bar\", \"x\": [\"Minglanilla\"], \"xaxis\": \"x\", \"y\": [11], \"yaxis\": \"y\"}, {\"alignmentgroup\": \"True\", \"hoverlabel\": {\"namelength\": 0}, \"hovertemplate\": \"muni_city=%{x}<br>count=%{y}\", \"legendgroup\": \"muni_city=Angeles City\", \"marker\": {\"color\": \"#E76BF3\"}, \"name\": \"muni_city=Angeles City\", \"offsetgroup\": \"muni_city=Angeles City\", \"orientation\": \"v\", \"showlegend\": true, \"textposition\": \"auto\", \"type\": \"bar\", \"x\": [\"Angeles City\"], \"xaxis\": \"x\", \"y\": [11], \"yaxis\": \"y\"}, {\"alignmentgroup\": \"True\", \"hoverlabel\": {\"namelength\": 0}, \"hovertemplate\": \"muni_city=%{x}<br>count=%{y}\", \"legendgroup\": \"muni_city=Teresa\", \"marker\": {\"color\": \"#F8766D\"}, \"name\": \"muni_city=Teresa\", \"offsetgroup\": \"muni_city=Teresa\", \"orientation\": \"v\", \"showlegend\": true, \"textposition\": \"auto\", \"type\": \"bar\", \"x\": [\"Teresa\"], \"xaxis\": \"x\", \"y\": [11], \"yaxis\": \"y\"}, {\"alignmentgroup\": \"True\", \"hoverlabel\": {\"namelength\": 0}, \"hovertemplate\": \"muni_city=%{x}<br>count=%{y}\", \"legendgroup\": \"muni_city=Cavite City\", \"marker\": {\"color\": \"#A3A500\"}, \"name\": \"muni_city=Cavite City\", \"offsetgroup\": \"muni_city=Cavite City\", \"orientation\": \"v\", \"showlegend\": true, \"textposition\": \"auto\", \"type\": \"bar\", \"x\": [\"Cavite City\"], \"xaxis\": \"x\", \"y\": [11], \"yaxis\": \"y\"}, {\"alignmentgroup\": \"True\", \"hoverlabel\": {\"namelength\": 0}, \"hovertemplate\": \"muni_city=%{x}<br>count=%{y}\", \"legendgroup\": \"muni_city=Baliuag\", \"marker\": {\"color\": \"#00BF7D\"}, \"name\": \"muni_city=Baliuag\", \"offsetgroup\": \"muni_city=Baliuag\", \"orientation\": \"v\", \"showlegend\": true, \"textposition\": \"auto\", \"type\": \"bar\", \"x\": [\"Baliuag\"], \"xaxis\": \"x\", \"y\": [10], \"yaxis\": \"y\"}, {\"alignmentgroup\": \"True\", \"hoverlabel\": {\"namelength\": 0}, \"hovertemplate\": \"muni_city=%{x}<br>count=%{y}\", \"legendgroup\": \"muni_city=Calauan\", \"marker\": {\"color\": \"#00B0F6\"}, \"name\": \"muni_city=Calauan\", \"offsetgroup\": \"muni_city=Calauan\", \"orientation\": \"v\", \"showlegend\": true, \"textposition\": \"auto\", \"type\": \"bar\", \"x\": [\"Calauan\"], \"xaxis\": \"x\", \"y\": [10], \"yaxis\": \"y\"}, {\"alignmentgroup\": \"True\", \"hoverlabel\": {\"namelength\": 0}, \"hovertemplate\": \"muni_city=%{x}<br>count=%{y}\", \"legendgroup\": \"muni_city=Tanza\", \"marker\": {\"color\": \"#E76BF3\"}, \"name\": \"muni_city=Tanza\", \"offsetgroup\": \"muni_city=Tanza\", \"orientation\": \"v\", \"showlegend\": true, \"textposition\": \"auto\", \"type\": \"bar\", \"x\": [\"Tanza\"], \"xaxis\": \"x\", \"y\": [10], \"yaxis\": \"y\"}, {\"alignmentgroup\": \"True\", \"hoverlabel\": {\"namelength\": 0}, \"hovertemplate\": \"muni_city=%{x}<br>count=%{y}\", \"legendgroup\": \"muni_city=Orani\", \"marker\": {\"color\": \"#F8766D\"}, \"name\": \"muni_city=Orani\", \"offsetgroup\": \"muni_city=Orani\", \"orientation\": \"v\", \"showlegend\": true, \"textposition\": \"auto\", \"type\": \"bar\", \"x\": [\"Orani\"], \"xaxis\": \"x\", \"y\": [10], \"yaxis\": \"y\"}, {\"alignmentgroup\": \"True\", \"hoverlabel\": {\"namelength\": 0}, \"hovertemplate\": \"muni_city=%{x}<br>count=%{y}\", \"legendgroup\": \"muni_city=Tarlac City\", \"marker\": {\"color\": \"#A3A500\"}, \"name\": \"muni_city=Tarlac City\", \"offsetgroup\": \"muni_city=Tarlac City\", \"orientation\": \"v\", \"showlegend\": true, \"textposition\": \"auto\", \"type\": \"bar\", \"x\": [\"Tarlac City\"], \"xaxis\": \"x\", \"y\": [10], \"yaxis\": \"y\"}, {\"alignmentgroup\": \"True\", \"hoverlabel\": {\"namelength\": 0}, \"hovertemplate\": \"muni_city=%{x}<br>count=%{y}\", \"legendgroup\": \"muni_city=Candelaria\", \"marker\": {\"color\": \"#00BF7D\"}, \"name\": \"muni_city=Candelaria\", \"offsetgroup\": \"muni_city=Candelaria\", \"orientation\": \"v\", \"showlegend\": true, \"textposition\": \"auto\", \"type\": \"bar\", \"x\": [\"Candelaria\"], \"xaxis\": \"x\", \"y\": [10], \"yaxis\": \"y\"}, {\"alignmentgroup\": \"True\", \"hoverlabel\": {\"namelength\": 0}, \"hovertemplate\": \"muni_city=%{x}<br>count=%{y}\", \"legendgroup\": \"muni_city=Tagum City\", \"marker\": {\"color\": \"#00B0F6\"}, \"name\": \"muni_city=Tagum City\", \"offsetgroup\": \"muni_city=Tagum City\", \"orientation\": \"v\", \"showlegend\": true, \"textposition\": \"auto\", \"type\": \"bar\", \"x\": [\"Tagum City\"], \"xaxis\": \"x\", \"y\": [10], \"yaxis\": \"y\"}, {\"alignmentgroup\": \"True\", \"hoverlabel\": {\"namelength\": 0}, \"hovertemplate\": \"muni_city=%{x}<br>count=%{y}\", \"legendgroup\": \"muni_city=Tanauan\", \"marker\": {\"color\": \"#E76BF3\"}, \"name\": \"muni_city=Tanauan\", \"offsetgroup\": \"muni_city=Tanauan\", \"orientation\": \"v\", \"showlegend\": true, \"textposition\": \"auto\", \"type\": \"bar\", \"x\": [\"Tanauan\"], \"xaxis\": \"x\", \"y\": [10], \"yaxis\": \"y\"}, {\"alignmentgroup\": \"True\", \"hoverlabel\": {\"namelength\": 0}, \"hovertemplate\": \"muni_city=%{x}<br>count=%{y}\", \"legendgroup\": \"muni_city=Bocaue\", \"marker\": {\"color\": \"#F8766D\"}, \"name\": \"muni_city=Bocaue\", \"offsetgroup\": \"muni_city=Bocaue\", \"orientation\": \"v\", \"showlegend\": true, \"textposition\": \"auto\", \"type\": \"bar\", \"x\": [\"Bocaue\"], \"xaxis\": \"x\", \"y\": [10], \"yaxis\": \"y\"}, {\"alignmentgroup\": \"True\", \"hoverlabel\": {\"namelength\": 0}, \"hovertemplate\": \"muni_city=%{x}<br>count=%{y}\", \"legendgroup\": \"muni_city=Dagupan City\", \"marker\": {\"color\": \"#A3A500\"}, \"name\": \"muni_city=Dagupan City\", \"offsetgroup\": \"muni_city=Dagupan City\", \"orientation\": \"v\", \"showlegend\": true, \"textposition\": \"auto\", \"type\": \"bar\", \"x\": [\"Dagupan City\"], \"xaxis\": \"x\", \"y\": [9], \"yaxis\": \"y\"}, {\"alignmentgroup\": \"True\", \"hoverlabel\": {\"namelength\": 0}, \"hovertemplate\": \"muni_city=%{x}<br>count=%{y}\", \"legendgroup\": \"muni_city=Samal\", \"marker\": {\"color\": \"#00BF7D\"}, \"name\": \"muni_city=Samal\", \"offsetgroup\": \"muni_city=Samal\", \"orientation\": \"v\", \"showlegend\": true, \"textposition\": \"auto\", \"type\": \"bar\", \"x\": [\"Samal\"], \"xaxis\": \"x\", \"y\": [9], \"yaxis\": \"y\"}, {\"alignmentgroup\": \"True\", \"hoverlabel\": {\"namelength\": 0}, \"hovertemplate\": \"muni_city=%{x}<br>count=%{y}\", \"legendgroup\": \"muni_city=La Trinidad\", \"marker\": {\"color\": \"#00B0F6\"}, \"name\": \"muni_city=La Trinidad\", \"offsetgroup\": \"muni_city=La Trinidad\", \"orientation\": \"v\", \"showlegend\": true, \"textposition\": \"auto\", \"type\": \"bar\", \"x\": [\"La Trinidad\"], \"xaxis\": \"x\", \"y\": [9], \"yaxis\": \"y\"}, {\"alignmentgroup\": \"True\", \"hoverlabel\": {\"namelength\": 0}, \"hovertemplate\": \"muni_city=%{x}<br>count=%{y}\", \"legendgroup\": \"muni_city=Calapan City\", \"marker\": {\"color\": \"#E76BF3\"}, \"name\": \"muni_city=Calapan City\", \"offsetgroup\": \"muni_city=Calapan City\", \"orientation\": \"v\", \"showlegend\": true, \"textposition\": \"auto\", \"type\": \"bar\", \"x\": [\"Calapan City\"], \"xaxis\": \"x\", \"y\": [9], \"yaxis\": \"y\"}, {\"alignmentgroup\": \"True\", \"hoverlabel\": {\"namelength\": 0}, \"hovertemplate\": \"muni_city=%{x}<br>count=%{y}\", \"legendgroup\": \"muni_city=Santo Tomas\", \"marker\": {\"color\": \"#F8766D\"}, \"name\": \"muni_city=Santo Tomas\", \"offsetgroup\": \"muni_city=Santo Tomas\", \"orientation\": \"v\", \"showlegend\": true, \"textposition\": \"auto\", \"type\": \"bar\", \"x\": [\"Santo Tomas\"], \"xaxis\": \"x\", \"y\": [9], \"yaxis\": \"y\"}, {\"alignmentgroup\": \"True\", \"hoverlabel\": {\"namelength\": 0}, \"hovertemplate\": \"muni_city=%{x}<br>count=%{y}\", \"legendgroup\": \"muni_city=Silang\", \"marker\": {\"color\": \"#A3A500\"}, \"name\": \"muni_city=Silang\", \"offsetgroup\": \"muni_city=Silang\", \"orientation\": \"v\", \"showlegend\": true, \"textposition\": \"auto\", \"type\": \"bar\", \"x\": [\"Silang\"], \"xaxis\": \"x\", \"y\": [9], \"yaxis\": \"y\"}, {\"alignmentgroup\": \"True\", \"hoverlabel\": {\"namelength\": 0}, \"hovertemplate\": \"muni_city=%{x}<br>count=%{y}\", \"legendgroup\": \"muni_city=Cagayan de Oro City\", \"marker\": {\"color\": \"#00BF7D\"}, \"name\": \"muni_city=Cagayan de Oro City\", \"offsetgroup\": \"muni_city=Cagayan de Oro City\", \"orientation\": \"v\", \"showlegend\": true, \"textposition\": \"auto\", \"type\": \"bar\", \"x\": [\"Cagayan de Oro City\"], \"xaxis\": \"x\", \"y\": [8], \"yaxis\": \"y\"}, {\"alignmentgroup\": \"True\", \"hoverlabel\": {\"namelength\": 0}, \"hovertemplate\": \"muni_city=%{x}<br>count=%{y}\", \"legendgroup\": \"muni_city=Pila\", \"marker\": {\"color\": \"#00B0F6\"}, \"name\": \"muni_city=Pila\", \"offsetgroup\": \"muni_city=Pila\", \"orientation\": \"v\", \"showlegend\": true, \"textposition\": \"auto\", \"type\": \"bar\", \"x\": [\"Pila\"], \"xaxis\": \"x\", \"y\": [8], \"yaxis\": \"y\"}, {\"alignmentgroup\": \"True\", \"hoverlabel\": {\"namelength\": 0}, \"hovertemplate\": \"muni_city=%{x}<br>count=%{y}\", \"legendgroup\": \"muni_city=Tayabas City\", \"marker\": {\"color\": \"#E76BF3\"}, \"name\": \"muni_city=Tayabas City\", \"offsetgroup\": \"muni_city=Tayabas City\", \"orientation\": \"v\", \"showlegend\": true, \"textposition\": \"auto\", \"type\": \"bar\", \"x\": [\"Tayabas City\"], \"xaxis\": \"x\", \"y\": [8], \"yaxis\": \"y\"}, {\"alignmentgroup\": \"True\", \"hoverlabel\": {\"namelength\": 0}, \"hovertemplate\": \"muni_city=%{x}<br>count=%{y}\", \"legendgroup\": \"muni_city=Mariveles\", \"marker\": {\"color\": \"#F8766D\"}, \"name\": \"muni_city=Mariveles\", \"offsetgroup\": \"muni_city=Mariveles\", \"orientation\": \"v\", \"showlegend\": true, \"textposition\": \"auto\", \"type\": \"bar\", \"x\": [\"Mariveles\"], \"xaxis\": \"x\", \"y\": [8], \"yaxis\": \"y\"}, {\"alignmentgroup\": \"True\", \"hoverlabel\": {\"namelength\": 0}, \"hovertemplate\": \"muni_city=%{x}<br>count=%{y}\", \"legendgroup\": \"muni_city=Cardona\", \"marker\": {\"color\": \"#A3A500\"}, \"name\": \"muni_city=Cardona\", \"offsetgroup\": \"muni_city=Cardona\", \"orientation\": \"v\", \"showlegend\": true, \"textposition\": \"auto\", \"type\": \"bar\", \"x\": [\"Cardona\"], \"xaxis\": \"x\", \"y\": [8], \"yaxis\": \"y\"}, {\"alignmentgroup\": \"True\", \"hoverlabel\": {\"namelength\": 0}, \"hovertemplate\": \"muni_city=%{x}<br>count=%{y}\", \"legendgroup\": \"muni_city=Gapan City\", \"marker\": {\"color\": \"#00BF7D\"}, \"name\": \"muni_city=Gapan City\", \"offsetgroup\": \"muni_city=Gapan City\", \"orientation\": \"v\", \"showlegend\": true, \"textposition\": \"auto\", \"type\": \"bar\", \"x\": [\"Gapan City\"], \"xaxis\": \"x\", \"y\": [8], \"yaxis\": \"y\"}, {\"alignmentgroup\": \"True\", \"hoverlabel\": {\"namelength\": 0}, \"hovertemplate\": \"muni_city=%{x}<br>count=%{y}\", \"legendgroup\": \"muni_city=Pandan\", \"marker\": {\"color\": \"#00B0F6\"}, \"name\": \"muni_city=Pandan\", \"offsetgroup\": \"muni_city=Pandan\", \"orientation\": \"v\", \"showlegend\": true, \"textposition\": \"auto\", \"type\": \"bar\", \"x\": [\"Pandan\"], \"xaxis\": \"x\", \"y\": [8], \"yaxis\": \"y\"}, {\"alignmentgroup\": \"True\", \"hoverlabel\": {\"namelength\": 0}, \"hovertemplate\": \"muni_city=%{x}<br>count=%{y}\", \"legendgroup\": \"muni_city=Victoria\", \"marker\": {\"color\": \"#E76BF3\"}, \"name\": \"muni_city=Victoria\", \"offsetgroup\": \"muni_city=Victoria\", \"orientation\": \"v\", \"showlegend\": true, \"textposition\": \"auto\", \"type\": \"bar\", \"x\": [\"Victoria\"], \"xaxis\": \"x\", \"y\": [7], \"yaxis\": \"y\"}, {\"alignmentgroup\": \"True\", \"hoverlabel\": {\"namelength\": 0}, \"hovertemplate\": \"muni_city=%{x}<br>count=%{y}\", \"legendgroup\": \"muni_city=Marawi City\", \"marker\": {\"color\": \"#F8766D\"}, \"name\": \"muni_city=Marawi City\", \"offsetgroup\": \"muni_city=Marawi City\", \"orientation\": \"v\", \"showlegend\": true, \"textposition\": \"auto\", \"type\": \"bar\", \"x\": [\"Marawi City\"], \"xaxis\": \"x\", \"y\": [7], \"yaxis\": \"y\"}, {\"alignmentgroup\": \"True\", \"hoverlabel\": {\"namelength\": 0}, \"hovertemplate\": \"muni_city=%{x}<br>count=%{y}\", \"legendgroup\": \"muni_city=Trece Martires City\", \"marker\": {\"color\": \"#A3A500\"}, \"name\": \"muni_city=Trece Martires City\", \"offsetgroup\": \"muni_city=Trece Martires City\", \"orientation\": \"v\", \"showlegend\": true, \"textposition\": \"auto\", \"type\": \"bar\", \"x\": [\"Trece Martires City\"], \"xaxis\": \"x\", \"y\": [7], \"yaxis\": \"y\"}, {\"alignmentgroup\": \"True\", \"hoverlabel\": {\"namelength\": 0}, \"hovertemplate\": \"muni_city=%{x}<br>count=%{y}\", \"legendgroup\": \"muni_city=Alaminos\", \"marker\": {\"color\": \"#00BF7D\"}, \"name\": \"muni_city=Alaminos\", \"offsetgroup\": \"muni_city=Alaminos\", \"orientation\": \"v\", \"showlegend\": true, \"textposition\": \"auto\", \"type\": \"bar\", \"x\": [\"Alaminos\"], \"xaxis\": \"x\", \"y\": [7], \"yaxis\": \"y\"}, {\"alignmentgroup\": \"True\", \"hoverlabel\": {\"namelength\": 0}, \"hovertemplate\": \"muni_city=%{x}<br>count=%{y}\", \"legendgroup\": \"muni_city=Naga City\", \"marker\": {\"color\": \"#00B0F6\"}, \"name\": \"muni_city=Naga City\", \"offsetgroup\": \"muni_city=Naga City\", \"orientation\": \"v\", \"showlegend\": true, \"textposition\": \"auto\", \"type\": \"bar\", \"x\": [\"Naga City\"], \"xaxis\": \"x\", \"y\": [7], \"yaxis\": \"y\"}, {\"alignmentgroup\": \"True\", \"hoverlabel\": {\"namelength\": 0}, \"hovertemplate\": \"muni_city=%{x}<br>count=%{y}\", \"legendgroup\": \"muni_city=Calauag\", \"marker\": {\"color\": \"#E76BF3\"}, \"name\": \"muni_city=Calauag\", \"offsetgroup\": \"muni_city=Calauag\", \"orientation\": \"v\", \"showlegend\": true, \"textposition\": \"auto\", \"type\": \"bar\", \"x\": [\"Calauag\"], \"xaxis\": \"x\", \"y\": [7], \"yaxis\": \"y\"}, {\"alignmentgroup\": \"True\", \"hoverlabel\": {\"namelength\": 0}, \"hovertemplate\": \"muni_city=%{x}<br>count=%{y}\", \"legendgroup\": \"muni_city=Orion\", \"marker\": {\"color\": \"#F8766D\"}, \"name\": \"muni_city=Orion\", \"offsetgroup\": \"muni_city=Orion\", \"orientation\": \"v\", \"showlegend\": true, \"textposition\": \"auto\", \"type\": \"bar\", \"x\": [\"Orion\"], \"xaxis\": \"x\", \"y\": [7], \"yaxis\": \"y\"}, {\"alignmentgroup\": \"True\", \"hoverlabel\": {\"namelength\": 0}, \"hovertemplate\": \"muni_city=%{x}<br>count=%{y}\", \"legendgroup\": \"muni_city=Limay\", \"marker\": {\"color\": \"#A3A500\"}, \"name\": \"muni_city=Limay\", \"offsetgroup\": \"muni_city=Limay\", \"orientation\": \"v\", \"showlegend\": true, \"textposition\": \"auto\", \"type\": \"bar\", \"x\": [\"Limay\"], \"xaxis\": \"x\", \"y\": [6], \"yaxis\": \"y\"}, {\"alignmentgroup\": \"True\", \"hoverlabel\": {\"namelength\": 0}, \"hovertemplate\": \"muni_city=%{x}<br>count=%{y}\", \"legendgroup\": \"muni_city=Liliw\", \"marker\": {\"color\": \"#00BF7D\"}, \"name\": \"muni_city=Liliw\", \"offsetgroup\": \"muni_city=Liliw\", \"orientation\": \"v\", \"showlegend\": true, \"textposition\": \"auto\", \"type\": \"bar\", \"x\": [\"Liliw\"], \"xaxis\": \"x\", \"y\": [6], \"yaxis\": \"y\"}, {\"alignmentgroup\": \"True\", \"hoverlabel\": {\"namelength\": 0}, \"hovertemplate\": \"muni_city=%{x}<br>count=%{y}\", \"legendgroup\": \"muni_city=Bulacan\", \"marker\": {\"color\": \"#00B0F6\"}, \"name\": \"muni_city=Bulacan\", \"offsetgroup\": \"muni_city=Bulacan\", \"orientation\": \"v\", \"showlegend\": true, \"textposition\": \"auto\", \"type\": \"bar\", \"x\": [\"Bulacan\"], \"xaxis\": \"x\", \"y\": [6], \"yaxis\": \"y\"}, {\"alignmentgroup\": \"True\", \"hoverlabel\": {\"namelength\": 0}, \"hovertemplate\": \"muni_city=%{x}<br>count=%{y}\", \"legendgroup\": \"muni_city=Cotabato City\", \"marker\": {\"color\": \"#E76BF3\"}, \"name\": \"muni_city=Cotabato City\", \"offsetgroup\": \"muni_city=Cotabato City\", \"orientation\": \"v\", \"showlegend\": true, \"textposition\": \"auto\", \"type\": \"bar\", \"x\": [\"Cotabato City\"], \"xaxis\": \"x\", \"y\": [6], \"yaxis\": \"y\"}, {\"alignmentgroup\": \"True\", \"hoverlabel\": {\"namelength\": 0}, \"hovertemplate\": \"muni_city=%{x}<br>count=%{y}\", \"legendgroup\": \"muni_city=Maragondon\", \"marker\": {\"color\": \"#F8766D\"}, \"name\": \"muni_city=Maragondon\", \"offsetgroup\": \"muni_city=Maragondon\", \"orientation\": \"v\", \"showlegend\": true, \"textposition\": \"auto\", \"type\": \"bar\", \"x\": [\"Maragondon\"], \"xaxis\": \"x\", \"y\": [6], \"yaxis\": \"y\"}, {\"alignmentgroup\": \"True\", \"hoverlabel\": {\"namelength\": 0}, \"hovertemplate\": \"muni_city=%{x}<br>count=%{y}\", \"legendgroup\": \"muni_city=Caluya\", \"marker\": {\"color\": \"#A3A500\"}, \"name\": \"muni_city=Caluya\", \"offsetgroup\": \"muni_city=Caluya\", \"orientation\": \"v\", \"showlegend\": true, \"textposition\": \"auto\", \"type\": \"bar\", \"x\": [\"Caluya\"], \"xaxis\": \"x\", \"y\": [6], \"yaxis\": \"y\"}, {\"alignmentgroup\": \"True\", \"hoverlabel\": {\"namelength\": 0}, \"hovertemplate\": \"muni_city=%{x}<br>count=%{y}\", \"legendgroup\": \"muni_city=Camiling\", \"marker\": {\"color\": \"#00BF7D\"}, \"name\": \"muni_city=Camiling\", \"offsetgroup\": \"muni_city=Camiling\", \"orientation\": \"v\", \"showlegend\": true, \"textposition\": \"auto\", \"type\": \"bar\", \"x\": [\"Camiling\"], \"xaxis\": \"x\", \"y\": [6], \"yaxis\": \"y\"}, {\"alignmentgroup\": \"True\", \"hoverlabel\": {\"namelength\": 0}, \"hovertemplate\": \"muni_city=%{x}<br>count=%{y}\", \"legendgroup\": \"muni_city=San Jose\", \"marker\": {\"color\": \"#00B0F6\"}, \"name\": \"muni_city=San Jose\", \"offsetgroup\": \"muni_city=San Jose\", \"orientation\": \"v\", \"showlegend\": true, \"textposition\": \"auto\", \"type\": \"bar\", \"x\": [\"San Jose\"], \"xaxis\": \"x\", \"y\": [6], \"yaxis\": \"y\"}, {\"alignmentgroup\": \"True\", \"hoverlabel\": {\"namelength\": 0}, \"hovertemplate\": \"muni_city=%{x}<br>count=%{y}\", \"legendgroup\": \"muni_city=Lumban\", \"marker\": {\"color\": \"#E76BF3\"}, \"name\": \"muni_city=Lumban\", \"offsetgroup\": \"muni_city=Lumban\", \"orientation\": \"v\", \"showlegend\": true, \"textposition\": \"auto\", \"type\": \"bar\", \"x\": [\"Lumban\"], \"xaxis\": \"x\", \"y\": [6], \"yaxis\": \"y\"}, {\"alignmentgroup\": \"True\", \"hoverlabel\": {\"namelength\": 0}, \"hovertemplate\": \"muni_city=%{x}<br>count=%{y}\", \"legendgroup\": \"muni_city=Kawit\", \"marker\": {\"color\": \"#F8766D\"}, \"name\": \"muni_city=Kawit\", \"offsetgroup\": \"muni_city=Kawit\", \"orientation\": \"v\", \"showlegend\": true, \"textposition\": \"auto\", \"type\": \"bar\", \"x\": [\"Kawit\"], \"xaxis\": \"x\", \"y\": [6], \"yaxis\": \"y\"}, {\"alignmentgroup\": \"True\", \"hoverlabel\": {\"namelength\": 0}, \"hovertemplate\": \"muni_city=%{x}<br>count=%{y}\", \"legendgroup\": \"muni_city=Nagcarlan\", \"marker\": {\"color\": \"#A3A500\"}, \"name\": \"muni_city=Nagcarlan\", \"offsetgroup\": \"muni_city=Nagcarlan\", \"orientation\": \"v\", \"showlegend\": true, \"textposition\": \"auto\", \"type\": \"bar\", \"x\": [\"Nagcarlan\"], \"xaxis\": \"x\", \"y\": [6], \"yaxis\": \"y\"}, {\"alignmentgroup\": \"True\", \"hoverlabel\": {\"namelength\": 0}, \"hovertemplate\": \"muni_city=%{x}<br>count=%{y}\", \"legendgroup\": \"muni_city=Guiguinto\", \"marker\": {\"color\": \"#00BF7D\"}, \"name\": \"muni_city=Guiguinto\", \"offsetgroup\": \"muni_city=Guiguinto\", \"orientation\": \"v\", \"showlegend\": true, \"textposition\": \"auto\", \"type\": \"bar\", \"x\": [\"Guiguinto\"], \"xaxis\": \"x\", \"y\": [5], \"yaxis\": \"y\"}, {\"alignmentgroup\": \"True\", \"hoverlabel\": {\"namelength\": 0}, \"hovertemplate\": \"muni_city=%{x}<br>count=%{y}\", \"legendgroup\": \"muni_city=Lambunao\", \"marker\": {\"color\": \"#00B0F6\"}, \"name\": \"muni_city=Lambunao\", \"offsetgroup\": \"muni_city=Lambunao\", \"orientation\": \"v\", \"showlegend\": true, \"textposition\": \"auto\", \"type\": \"bar\", \"x\": [\"Lambunao\"], \"xaxis\": \"x\", \"y\": [5], \"yaxis\": \"y\"}, {\"alignmentgroup\": \"True\", \"hoverlabel\": {\"namelength\": 0}, \"hovertemplate\": \"muni_city=%{x}<br>count=%{y}\", \"legendgroup\": \"muni_city=Majayjay\", \"marker\": {\"color\": \"#E76BF3\"}, \"name\": \"muni_city=Majayjay\", \"offsetgroup\": \"muni_city=Majayjay\", \"orientation\": \"v\", \"showlegend\": true, \"textposition\": \"auto\", \"type\": \"bar\", \"x\": [\"Majayjay\"], \"xaxis\": \"x\", \"y\": [5], \"yaxis\": \"y\"}, {\"alignmentgroup\": \"True\", \"hoverlabel\": {\"namelength\": 0}, \"hovertemplate\": \"muni_city=%{x}<br>count=%{y}\", \"legendgroup\": \"muni_city=Bauan\", \"marker\": {\"color\": \"#F8766D\"}, \"name\": \"muni_city=Bauan\", \"offsetgroup\": \"muni_city=Bauan\", \"orientation\": \"v\", \"showlegend\": true, \"textposition\": \"auto\", \"type\": \"bar\", \"x\": [\"Bauan\"], \"xaxis\": \"x\", \"y\": [5], \"yaxis\": \"y\"}, {\"alignmentgroup\": \"True\", \"hoverlabel\": {\"namelength\": 0}, \"hovertemplate\": \"muni_city=%{x}<br>count=%{y}\", \"legendgroup\": \"muni_city=Guinobatan\", \"marker\": {\"color\": \"#A3A500\"}, \"name\": \"muni_city=Guinobatan\", \"offsetgroup\": \"muni_city=Guinobatan\", \"orientation\": \"v\", \"showlegend\": true, \"textposition\": \"auto\", \"type\": \"bar\", \"x\": [\"Guinobatan\"], \"xaxis\": \"x\", \"y\": [5], \"yaxis\": \"y\"}, {\"alignmentgroup\": \"True\", \"hoverlabel\": {\"namelength\": 0}, \"hovertemplate\": \"muni_city=%{x}<br>count=%{y}\", \"legendgroup\": \"muni_city=General Mariano Alvarez\", \"marker\": {\"color\": \"#00BF7D\"}, \"name\": \"muni_city=General Mariano Alvarez\", \"offsetgroup\": \"muni_city=General Mariano Alvarez\", \"orientation\": \"v\", \"showlegend\": true, \"textposition\": \"auto\", \"type\": \"bar\", \"x\": [\"General Mariano Alvarez\"], \"xaxis\": \"x\", \"y\": [5], \"yaxis\": \"y\"}, {\"alignmentgroup\": \"True\", \"hoverlabel\": {\"namelength\": 0}, \"hovertemplate\": \"muni_city=%{x}<br>count=%{y}\", \"legendgroup\": \"muni_city=Bayambang\", \"marker\": {\"color\": \"#00B0F6\"}, \"name\": \"muni_city=Bayambang\", \"offsetgroup\": \"muni_city=Bayambang\", \"orientation\": \"v\", \"showlegend\": true, \"textposition\": \"auto\", \"type\": \"bar\", \"x\": [\"Bayambang\"], \"xaxis\": \"x\", \"y\": [5], \"yaxis\": \"y\"}, {\"alignmentgroup\": \"True\", \"hoverlabel\": {\"namelength\": 0}, \"hovertemplate\": \"muni_city=%{x}<br>count=%{y}\", \"legendgroup\": \"muni_city=Lubao\", \"marker\": {\"color\": \"#E76BF3\"}, \"name\": \"muni_city=Lubao\", \"offsetgroup\": \"muni_city=Lubao\", \"orientation\": \"v\", \"showlegend\": true, \"textposition\": \"auto\", \"type\": \"bar\", \"x\": [\"Lubao\"], \"xaxis\": \"x\", \"y\": [5], \"yaxis\": \"y\"}, {\"alignmentgroup\": \"True\", \"hoverlabel\": {\"namelength\": 0}, \"hovertemplate\": \"muni_city=%{x}<br>count=%{y}\", \"legendgroup\": \"muni_city=Naic\", \"marker\": {\"color\": \"#F8766D\"}, \"name\": \"muni_city=Naic\", \"offsetgroup\": \"muni_city=Naic\", \"orientation\": \"v\", \"showlegend\": true, \"textposition\": \"auto\", \"type\": \"bar\", \"x\": [\"Naic\"], \"xaxis\": \"x\", \"y\": [5], \"yaxis\": \"y\"}, {\"alignmentgroup\": \"True\", \"hoverlabel\": {\"namelength\": 0}, \"hovertemplate\": \"muni_city=%{x}<br>count=%{y}\", \"legendgroup\": \"muni_city=San Isidro\", \"marker\": {\"color\": \"#A3A500\"}, \"name\": \"muni_city=San Isidro\", \"offsetgroup\": \"muni_city=San Isidro\", \"orientation\": \"v\", \"showlegend\": true, \"textposition\": \"auto\", \"type\": \"bar\", \"x\": [\"San Isidro\"], \"xaxis\": \"x\", \"y\": [4], \"yaxis\": \"y\"}, {\"alignmentgroup\": \"True\", \"hoverlabel\": {\"namelength\": 0}, \"hovertemplate\": \"muni_city=%{x}<br>count=%{y}\", \"legendgroup\": \"muni_city=Porac\", \"marker\": {\"color\": \"#00BF7D\"}, \"name\": \"muni_city=Porac\", \"offsetgroup\": \"muni_city=Porac\", \"orientation\": \"v\", \"showlegend\": true, \"textposition\": \"auto\", \"type\": \"bar\", \"x\": [\"Porac\"], \"xaxis\": \"x\", \"y\": [4], \"yaxis\": \"y\"}, {\"alignmentgroup\": \"True\", \"hoverlabel\": {\"namelength\": 0}, \"hovertemplate\": \"muni_city=%{x}<br>count=%{y}\", \"legendgroup\": \"muni_city=Pilar\", \"marker\": {\"color\": \"#00B0F6\"}, \"name\": \"muni_city=Pilar\", \"offsetgroup\": \"muni_city=Pilar\", \"orientation\": \"v\", \"showlegend\": true, \"textposition\": \"auto\", \"type\": \"bar\", \"x\": [\"Pilar\"], \"xaxis\": \"x\", \"y\": [4], \"yaxis\": \"y\"}, {\"alignmentgroup\": \"True\", \"hoverlabel\": {\"namelength\": 0}, \"hovertemplate\": \"muni_city=%{x}<br>count=%{y}\", \"legendgroup\": \"muni_city=Indang\", \"marker\": {\"color\": \"#E76BF3\"}, \"name\": \"muni_city=Indang\", \"offsetgroup\": \"muni_city=Indang\", \"orientation\": \"v\", \"showlegend\": true, \"textposition\": \"auto\", \"type\": \"bar\", \"x\": [\"Indang\"], \"xaxis\": \"x\", \"y\": [4], \"yaxis\": \"y\"}, {\"alignmentgroup\": \"True\", \"hoverlabel\": {\"namelength\": 0}, \"hovertemplate\": \"muni_city=%{x}<br>count=%{y}\", \"legendgroup\": \"muni_city=San Rafael\", \"marker\": {\"color\": \"#F8766D\"}, \"name\": \"muni_city=San Rafael\", \"offsetgroup\": \"muni_city=San Rafael\", \"orientation\": \"v\", \"showlegend\": true, \"textposition\": \"auto\", \"type\": \"bar\", \"x\": [\"San Rafael\"], \"xaxis\": \"x\", \"y\": [4], \"yaxis\": \"y\"}, {\"alignmentgroup\": \"True\", \"hoverlabel\": {\"namelength\": 0}, \"hovertemplate\": \"muni_city=%{x}<br>count=%{y}\", \"legendgroup\": \"muni_city=Noveleta\", \"marker\": {\"color\": \"#A3A500\"}, \"name\": \"muni_city=Noveleta\", \"offsetgroup\": \"muni_city=Noveleta\", \"orientation\": \"v\", \"showlegend\": true, \"textposition\": \"auto\", \"type\": \"bar\", \"x\": [\"Noveleta\"], \"xaxis\": \"x\", \"y\": [4], \"yaxis\": \"y\"}, {\"alignmentgroup\": \"True\", \"hoverlabel\": {\"namelength\": 0}, \"hovertemplate\": \"muni_city=%{x}<br>count=%{y}\", \"legendgroup\": \"muni_city=Guagua\", \"marker\": {\"color\": \"#00BF7D\"}, \"name\": \"muni_city=Guagua\", \"offsetgroup\": \"muni_city=Guagua\", \"orientation\": \"v\", \"showlegend\": true, \"textposition\": \"auto\", \"type\": \"bar\", \"x\": [\"Guagua\"], \"xaxis\": \"x\", \"y\": [4], \"yaxis\": \"y\"}, {\"alignmentgroup\": \"True\", \"hoverlabel\": {\"namelength\": 0}, \"hovertemplate\": \"muni_city=%{x}<br>count=%{y}\", \"legendgroup\": \"muni_city=Lopez\", \"marker\": {\"color\": \"#00B0F6\"}, \"name\": \"muni_city=Lopez\", \"offsetgroup\": \"muni_city=Lopez\", \"orientation\": \"v\", \"showlegend\": true, \"textposition\": \"auto\", \"type\": \"bar\", \"x\": [\"Lopez\"], \"xaxis\": \"x\", \"y\": [4], \"yaxis\": \"y\"}, {\"alignmentgroup\": \"True\", \"hoverlabel\": {\"namelength\": 0}, \"hovertemplate\": \"muni_city=%{x}<br>count=%{y}\", \"legendgroup\": \"muni_city=Pandi\", \"marker\": {\"color\": \"#E76BF3\"}, \"name\": \"muni_city=Pandi\", \"offsetgroup\": \"muni_city=Pandi\", \"orientation\": \"v\", \"showlegend\": true, \"textposition\": \"auto\", \"type\": \"bar\", \"x\": [\"Pandi\"], \"xaxis\": \"x\", \"y\": [4], \"yaxis\": \"y\"}, {\"alignmentgroup\": \"True\", \"hoverlabel\": {\"namelength\": 0}, \"hovertemplate\": \"muni_city=%{x}<br>count=%{y}\", \"legendgroup\": \"muni_city=Paniqui\", \"marker\": {\"color\": \"#F8766D\"}, \"name\": \"muni_city=Paniqui\", \"offsetgroup\": \"muni_city=Paniqui\", \"orientation\": \"v\", \"showlegend\": true, \"textposition\": \"auto\", \"type\": \"bar\", \"x\": [\"Paniqui\"], \"xaxis\": \"x\", \"y\": [4], \"yaxis\": \"y\"}, {\"alignmentgroup\": \"True\", \"hoverlabel\": {\"namelength\": 0}, \"hovertemplate\": \"muni_city=%{x}<br>count=%{y}\", \"legendgroup\": \"muni_city=Rosario\", \"marker\": {\"color\": \"#A3A500\"}, \"name\": \"muni_city=Rosario\", \"offsetgroup\": \"muni_city=Rosario\", \"orientation\": \"v\", \"showlegend\": true, \"textposition\": \"auto\", \"type\": \"bar\", \"x\": [\"Rosario\"], \"xaxis\": \"x\", \"y\": [4], \"yaxis\": \"y\"}, {\"alignmentgroup\": \"True\", \"hoverlabel\": {\"namelength\": 0}, \"hovertemplate\": \"muni_city=%{x}<br>count=%{y}\", \"legendgroup\": \"muni_city=Consolacion\", \"marker\": {\"color\": \"#00BF7D\"}, \"name\": \"muni_city=Consolacion\", \"offsetgroup\": \"muni_city=Consolacion\", \"orientation\": \"v\", \"showlegend\": true, \"textposition\": \"auto\", \"type\": \"bar\", \"x\": [\"Consolacion\"], \"xaxis\": \"x\", \"y\": [4], \"yaxis\": \"y\"}, {\"alignmentgroup\": \"True\", \"hoverlabel\": {\"namelength\": 0}, \"hovertemplate\": \"muni_city=%{x}<br>count=%{y}\", \"legendgroup\": \"muni_city=Alitagtag\", \"marker\": {\"color\": \"#00B0F6\"}, \"name\": \"muni_city=Alitagtag\", \"offsetgroup\": \"muni_city=Alitagtag\", \"orientation\": \"v\", \"showlegend\": true, \"textposition\": \"auto\", \"type\": \"bar\", \"x\": [\"Alitagtag\"], \"xaxis\": \"x\", \"y\": [4], \"yaxis\": \"y\"}, {\"alignmentgroup\": \"True\", \"hoverlabel\": {\"namelength\": 0}, \"hovertemplate\": \"muni_city=%{x}<br>count=%{y}\", \"legendgroup\": \"muni_city=Iligan City\", \"marker\": {\"color\": \"#E76BF3\"}, \"name\": \"muni_city=Iligan City\", \"offsetgroup\": \"muni_city=Iligan City\", \"orientation\": \"v\", \"showlegend\": true, \"textposition\": \"auto\", \"type\": \"bar\", \"x\": [\"Iligan City\"], \"xaxis\": \"x\", \"y\": [4], \"yaxis\": \"y\"}, {\"alignmentgroup\": \"True\", \"hoverlabel\": {\"namelength\": 0}, \"hovertemplate\": \"muni_city=%{x}<br>count=%{y}\", \"legendgroup\": \"muni_city=Carmona\", \"marker\": {\"color\": \"#F8766D\"}, \"name\": \"muni_city=Carmona\", \"offsetgroup\": \"muni_city=Carmona\", \"orientation\": \"v\", \"showlegend\": true, \"textposition\": \"auto\", \"type\": \"bar\", \"x\": [\"Carmona\"], \"xaxis\": \"x\", \"y\": [4], \"yaxis\": \"y\"}, {\"alignmentgroup\": \"True\", \"hoverlabel\": {\"namelength\": 0}, \"hovertemplate\": \"muni_city=%{x}<br>count=%{y}\", \"legendgroup\": \"muni_city=Torrijos\", \"marker\": {\"color\": \"#A3A500\"}, \"name\": \"muni_city=Torrijos\", \"offsetgroup\": \"muni_city=Torrijos\", \"orientation\": \"v\", \"showlegend\": true, \"textposition\": \"auto\", \"type\": \"bar\", \"x\": [\"Torrijos\"], \"xaxis\": \"x\", \"y\": [4], \"yaxis\": \"y\"}, {\"alignmentgroup\": \"True\", \"hoverlabel\": {\"namelength\": 0}, \"hovertemplate\": \"muni_city=%{x}<br>count=%{y}\", \"legendgroup\": \"muni_city=Morong\", \"marker\": {\"color\": \"#00BF7D\"}, \"name\": \"muni_city=Morong\", \"offsetgroup\": \"muni_city=Morong\", \"orientation\": \"v\", \"showlegend\": true, \"textposition\": \"auto\", \"type\": \"bar\", \"x\": [\"Morong\"], \"xaxis\": \"x\", \"y\": [4], \"yaxis\": \"y\"}, {\"alignmentgroup\": \"True\", \"hoverlabel\": {\"namelength\": 0}, \"hovertemplate\": \"muni_city=%{x}<br>count=%{y}\", \"legendgroup\": \"muni_city=Urdaneta City\", \"marker\": {\"color\": \"#00B0F6\"}, \"name\": \"muni_city=Urdaneta City\", \"offsetgroup\": \"muni_city=Urdaneta City\", \"orientation\": \"v\", \"showlegend\": true, \"textposition\": \"auto\", \"type\": \"bar\", \"x\": [\"Urdaneta City\"], \"xaxis\": \"x\", \"y\": [3], \"yaxis\": \"y\"}, {\"alignmentgroup\": \"True\", \"hoverlabel\": {\"namelength\": 0}, \"hovertemplate\": \"muni_city=%{x}<br>count=%{y}\", \"legendgroup\": \"muni_city=Castillejos\", \"marker\": {\"color\": \"#E76BF3\"}, \"name\": \"muni_city=Castillejos\", \"offsetgroup\": \"muni_city=Castillejos\", \"orientation\": \"v\", \"showlegend\": true, \"textposition\": \"auto\", \"type\": \"bar\", \"x\": [\"Castillejos\"], \"xaxis\": \"x\", \"y\": [3], \"yaxis\": \"y\"}, {\"alignmentgroup\": \"True\", \"hoverlabel\": {\"namelength\": 0}, \"hovertemplate\": \"muni_city=%{x}<br>count=%{y}\", \"legendgroup\": \"muni_city=San Simon\", \"marker\": {\"color\": \"#F8766D\"}, \"name\": \"muni_city=San Simon\", \"offsetgroup\": \"muni_city=San Simon\", \"orientation\": \"v\", \"showlegend\": true, \"textposition\": \"auto\", \"type\": \"bar\", \"x\": [\"San Simon\"], \"xaxis\": \"x\", \"y\": [3], \"yaxis\": \"y\"}, {\"alignmentgroup\": \"True\", \"hoverlabel\": {\"namelength\": 0}, \"hovertemplate\": \"muni_city=%{x}<br>count=%{y}\", \"legendgroup\": \"muni_city=Dumaguete City\", \"marker\": {\"color\": \"#A3A500\"}, \"name\": \"muni_city=Dumaguete City\", \"offsetgroup\": \"muni_city=Dumaguete City\", \"orientation\": \"v\", \"showlegend\": true, \"textposition\": \"auto\", \"type\": \"bar\", \"x\": [\"Dumaguete City\"], \"xaxis\": \"x\", \"y\": [3], \"yaxis\": \"y\"}, {\"alignmentgroup\": \"True\", \"hoverlabel\": {\"namelength\": 0}, \"hovertemplate\": \"muni_city=%{x}<br>count=%{y}\", \"legendgroup\": \"muni_city=Mabalacat\", \"marker\": {\"color\": \"#00BF7D\"}, \"name\": \"muni_city=Mabalacat\", \"offsetgroup\": \"muni_city=Mabalacat\", \"orientation\": \"v\", \"showlegend\": true, \"textposition\": \"auto\", \"type\": \"bar\", \"x\": [\"Mabalacat\"], \"xaxis\": \"x\", \"y\": [3], \"yaxis\": \"y\"}, {\"alignmentgroup\": \"True\", \"hoverlabel\": {\"namelength\": 0}, \"hovertemplate\": \"muni_city=%{x}<br>count=%{y}\", \"legendgroup\": \"muni_city=Ternate\", \"marker\": {\"color\": \"#00B0F6\"}, \"name\": \"muni_city=Ternate\", \"offsetgroup\": \"muni_city=Ternate\", \"orientation\": \"v\", \"showlegend\": true, \"textposition\": \"auto\", \"type\": \"bar\", \"x\": [\"Ternate\"], \"xaxis\": \"x\", \"y\": [3], \"yaxis\": \"y\"}, {\"alignmentgroup\": \"True\", \"hoverlabel\": {\"namelength\": 0}, \"hovertemplate\": \"muni_city=%{x}<br>count=%{y}\", \"legendgroup\": \"muni_city=Lingayen\", \"marker\": {\"color\": \"#E76BF3\"}, \"name\": \"muni_city=Lingayen\", \"offsetgroup\": \"muni_city=Lingayen\", \"orientation\": \"v\", \"showlegend\": true, \"textposition\": \"auto\", \"type\": \"bar\", \"x\": [\"Lingayen\"], \"xaxis\": \"x\", \"y\": [3], \"yaxis\": \"y\"}, {\"alignmentgroup\": \"True\", \"hoverlabel\": {\"namelength\": 0}, \"hovertemplate\": \"muni_city=%{x}<br>count=%{y}\", \"legendgroup\": \"muni_city=Calumpit\", \"marker\": {\"color\": \"#F8766D\"}, \"name\": \"muni_city=Calumpit\", \"offsetgroup\": \"muni_city=Calumpit\", \"orientation\": \"v\", \"showlegend\": true, \"textposition\": \"auto\", \"type\": \"bar\", \"x\": [\"Calumpit\"], \"xaxis\": \"x\", \"y\": [3], \"yaxis\": \"y\"}, {\"alignmentgroup\": \"True\", \"hoverlabel\": {\"namelength\": 0}, \"hovertemplate\": \"muni_city=%{x}<br>count=%{y}\", \"legendgroup\": \"muni_city=Roxas City\", \"marker\": {\"color\": \"#A3A500\"}, \"name\": \"muni_city=Roxas City\", \"offsetgroup\": \"muni_city=Roxas City\", \"orientation\": \"v\", \"showlegend\": true, \"textposition\": \"auto\", \"type\": \"bar\", \"x\": [\"Roxas City\"], \"xaxis\": \"x\", \"y\": [3], \"yaxis\": \"y\"}, {\"alignmentgroup\": \"True\", \"hoverlabel\": {\"namelength\": 0}, \"hovertemplate\": \"muni_city=%{x}<br>count=%{y}\", \"legendgroup\": \"muni_city=Baras\", \"marker\": {\"color\": \"#00BF7D\"}, \"name\": \"muni_city=Baras\", \"offsetgroup\": \"muni_city=Baras\", \"orientation\": \"v\", \"showlegend\": true, \"textposition\": \"auto\", \"type\": \"bar\", \"x\": [\"Baras\"], \"xaxis\": \"x\", \"y\": [3], \"yaxis\": \"y\"}, {\"alignmentgroup\": \"True\", \"hoverlabel\": {\"namelength\": 0}, \"hovertemplate\": \"muni_city=%{x}<br>count=%{y}\", \"legendgroup\": \"muni_city=Unisan\", \"marker\": {\"color\": \"#00B0F6\"}, \"name\": \"muni_city=Unisan\", \"offsetgroup\": \"muni_city=Unisan\", \"orientation\": \"v\", \"showlegend\": true, \"textposition\": \"auto\", \"type\": \"bar\", \"x\": [\"Unisan\"], \"xaxis\": \"x\", \"y\": [3], \"yaxis\": \"y\"}, {\"alignmentgroup\": \"True\", \"hoverlabel\": {\"namelength\": 0}, \"hovertemplate\": \"muni_city=%{x}<br>count=%{y}\", \"legendgroup\": \"muni_city=San Felipe\", \"marker\": {\"color\": \"#E76BF3\"}, \"name\": \"muni_city=San Felipe\", \"offsetgroup\": \"muni_city=San Felipe\", \"orientation\": \"v\", \"showlegend\": true, \"textposition\": \"auto\", \"type\": \"bar\", \"x\": [\"San Felipe\"], \"xaxis\": \"x\", \"y\": [3], \"yaxis\": \"y\"}, {\"alignmentgroup\": \"True\", \"hoverlabel\": {\"namelength\": 0}, \"hovertemplate\": \"muni_city=%{x}<br>count=%{y}\", \"legendgroup\": \"muni_city=Pagsanjan\", \"marker\": {\"color\": \"#F8766D\"}, \"name\": \"muni_city=Pagsanjan\", \"offsetgroup\": \"muni_city=Pagsanjan\", \"orientation\": \"v\", \"showlegend\": true, \"textposition\": \"auto\", \"type\": \"bar\", \"x\": [\"Pagsanjan\"], \"xaxis\": \"x\", \"y\": [3], \"yaxis\": \"y\"}, {\"alignmentgroup\": \"True\", \"hoverlabel\": {\"namelength\": 0}, \"hovertemplate\": \"muni_city=%{x}<br>count=%{y}\", \"legendgroup\": \"muni_city=Tagaytay City\", \"marker\": {\"color\": \"#A3A500\"}, \"name\": \"muni_city=Tagaytay City\", \"offsetgroup\": \"muni_city=Tagaytay City\", \"orientation\": \"v\", \"showlegend\": true, \"textposition\": \"auto\", \"type\": \"bar\", \"x\": [\"Tagaytay City\"], \"xaxis\": \"x\", \"y\": [3], \"yaxis\": \"y\"}, {\"alignmentgroup\": \"True\", \"hoverlabel\": {\"namelength\": 0}, \"hovertemplate\": \"muni_city=%{x}<br>count=%{y}\", \"legendgroup\": \"muni_city=Pavia\", \"marker\": {\"color\": \"#00BF7D\"}, \"name\": \"muni_city=Pavia\", \"offsetgroup\": \"muni_city=Pavia\", \"orientation\": \"v\", \"showlegend\": true, \"textposition\": \"auto\", \"type\": \"bar\", \"x\": [\"Pavia\"], \"xaxis\": \"x\", \"y\": [3], \"yaxis\": \"y\"}, {\"alignmentgroup\": \"True\", \"hoverlabel\": {\"namelength\": 0}, \"hovertemplate\": \"muni_city=%{x}<br>count=%{y}\", \"legendgroup\": \"muni_city=Rizal\", \"marker\": {\"color\": \"#00B0F6\"}, \"name\": \"muni_city=Rizal\", \"offsetgroup\": \"muni_city=Rizal\", \"orientation\": \"v\", \"showlegend\": true, \"textposition\": \"auto\", \"type\": \"bar\", \"x\": [\"Rizal\"], \"xaxis\": \"x\", \"y\": [3], \"yaxis\": \"y\"}, {\"alignmentgroup\": \"True\", \"hoverlabel\": {\"namelength\": 0}, \"hovertemplate\": \"muni_city=%{x}<br>count=%{y}\", \"legendgroup\": \"muni_city=Tabaco City\", \"marker\": {\"color\": \"#E76BF3\"}, \"name\": \"muni_city=Tabaco City\", \"offsetgroup\": \"muni_city=Tabaco City\", \"orientation\": \"v\", \"showlegend\": true, \"textposition\": \"auto\", \"type\": \"bar\", \"x\": [\"Tabaco City\"], \"xaxis\": \"x\", \"y\": [3], \"yaxis\": \"y\"}, {\"alignmentgroup\": \"True\", \"hoverlabel\": {\"namelength\": 0}, \"hovertemplate\": \"muni_city=%{x}<br>count=%{y}\", \"legendgroup\": \"muni_city=Malvar\", \"marker\": {\"color\": \"#F8766D\"}, \"name\": \"muni_city=Malvar\", \"offsetgroup\": \"muni_city=Malvar\", \"orientation\": \"v\", \"showlegend\": true, \"textposition\": \"auto\", \"type\": \"bar\", \"x\": [\"Malvar\"], \"xaxis\": \"x\", \"y\": [3], \"yaxis\": \"y\"}, {\"alignmentgroup\": \"True\", \"hoverlabel\": {\"namelength\": 0}, \"hovertemplate\": \"muni_city=%{x}<br>count=%{y}\", \"legendgroup\": \"muni_city=Norzagaray\", \"marker\": {\"color\": \"#A3A500\"}, \"name\": \"muni_city=Norzagaray\", \"offsetgroup\": \"muni_city=Norzagaray\", \"orientation\": \"v\", \"showlegend\": true, \"textposition\": \"auto\", \"type\": \"bar\", \"x\": [\"Norzagaray\"], \"xaxis\": \"x\", \"y\": [3], \"yaxis\": \"y\"}, {\"alignmentgroup\": \"True\", \"hoverlabel\": {\"namelength\": 0}, \"hovertemplate\": \"muni_city=%{x}<br>count=%{y}\", \"legendgroup\": \"muni_city=Butuan City\", \"marker\": {\"color\": \"#00BF7D\"}, \"name\": \"muni_city=Butuan City\", \"offsetgroup\": \"muni_city=Butuan City\", \"orientation\": \"v\", \"showlegend\": true, \"textposition\": \"auto\", \"type\": \"bar\", \"x\": [\"Butuan City\"], \"xaxis\": \"x\", \"y\": [3], \"yaxis\": \"y\"}, {\"alignmentgroup\": \"True\", \"hoverlabel\": {\"namelength\": 0}, \"hovertemplate\": \"muni_city=%{x}<br>count=%{y}\", \"legendgroup\": \"muni_city=Concepcion\", \"marker\": {\"color\": \"#00B0F6\"}, \"name\": \"muni_city=Concepcion\", \"offsetgroup\": \"muni_city=Concepcion\", \"orientation\": \"v\", \"showlegend\": true, \"textposition\": \"auto\", \"type\": \"bar\", \"x\": [\"Concepcion\"], \"xaxis\": \"x\", \"y\": [3], \"yaxis\": \"y\"}, {\"alignmentgroup\": \"True\", \"hoverlabel\": {\"namelength\": 0}, \"hovertemplate\": \"muni_city=%{x}<br>count=%{y}\", \"legendgroup\": \"muni_city=Alfonso\", \"marker\": {\"color\": \"#E76BF3\"}, \"name\": \"muni_city=Alfonso\", \"offsetgroup\": \"muni_city=Alfonso\", \"orientation\": \"v\", \"showlegend\": true, \"textposition\": \"auto\", \"type\": \"bar\", \"x\": [\"Alfonso\"], \"xaxis\": \"x\", \"y\": [3], \"yaxis\": \"y\"}, {\"alignmentgroup\": \"True\", \"hoverlabel\": {\"namelength\": 0}, \"hovertemplate\": \"muni_city=%{x}<br>count=%{y}\", \"legendgroup\": \"muni_city=Caba\", \"marker\": {\"color\": \"#F8766D\"}, \"name\": \"muni_city=Caba\", \"offsetgroup\": \"muni_city=Caba\", \"orientation\": \"v\", \"showlegend\": true, \"textposition\": \"auto\", \"type\": \"bar\", \"x\": [\"Caba\"], \"xaxis\": \"x\", \"y\": [3], \"yaxis\": \"y\"}, {\"alignmentgroup\": \"True\", \"hoverlabel\": {\"namelength\": 0}, \"hovertemplate\": \"muni_city=%{x}<br>count=%{y}\", \"legendgroup\": \"muni_city=Rosales\", \"marker\": {\"color\": \"#A3A500\"}, \"name\": \"muni_city=Rosales\", \"offsetgroup\": \"muni_city=Rosales\", \"orientation\": \"v\", \"showlegend\": true, \"textposition\": \"auto\", \"type\": \"bar\", \"x\": [\"Rosales\"], \"xaxis\": \"x\", \"y\": [3], \"yaxis\": \"y\"}, {\"alignmentgroup\": \"True\", \"hoverlabel\": {\"namelength\": 0}, \"hovertemplate\": \"muni_city=%{x}<br>count=%{y}\", \"legendgroup\": \"muni_city=San Antonio\", \"marker\": {\"color\": \"#00BF7D\"}, \"name\": \"muni_city=San Antonio\", \"offsetgroup\": \"muni_city=San Antonio\", \"orientation\": \"v\", \"showlegend\": true, \"textposition\": \"auto\", \"type\": \"bar\", \"x\": [\"San Antonio\"], \"xaxis\": \"x\", \"y\": [3], \"yaxis\": \"y\"}, {\"alignmentgroup\": \"True\", \"hoverlabel\": {\"namelength\": 0}, \"hovertemplate\": \"muni_city=%{x}<br>count=%{y}\", \"legendgroup\": \"muni_city=Malasiqui\", \"marker\": {\"color\": \"#00B0F6\"}, \"name\": \"muni_city=Malasiqui\", \"offsetgroup\": \"muni_city=Malasiqui\", \"orientation\": \"v\", \"showlegend\": true, \"textposition\": \"auto\", \"type\": \"bar\", \"x\": [\"Malasiqui\"], \"xaxis\": \"x\", \"y\": [3], \"yaxis\": \"y\"}, {\"alignmentgroup\": \"True\", \"hoverlabel\": {\"namelength\": 0}, \"hovertemplate\": \"muni_city=%{x}<br>count=%{y}\", \"legendgroup\": \"muni_city=Miagao\", \"marker\": {\"color\": \"#E76BF3\"}, \"name\": \"muni_city=Miagao\", \"offsetgroup\": \"muni_city=Miagao\", \"orientation\": \"v\", \"showlegend\": true, \"textposition\": \"auto\", \"type\": \"bar\", \"x\": [\"Miagao\"], \"xaxis\": \"x\", \"y\": [3], \"yaxis\": \"y\"}, {\"alignmentgroup\": \"True\", \"hoverlabel\": {\"namelength\": 0}, \"hovertemplate\": \"muni_city=%{x}<br>count=%{y}\", \"legendgroup\": \"muni_city=San Miguel\", \"marker\": {\"color\": \"#F8766D\"}, \"name\": \"muni_city=San Miguel\", \"offsetgroup\": \"muni_city=San Miguel\", \"orientation\": \"v\", \"showlegend\": true, \"textposition\": \"auto\", \"type\": \"bar\", \"x\": [\"San Miguel\"], \"xaxis\": \"x\", \"y\": [3], \"yaxis\": \"y\"}, {\"alignmentgroup\": \"True\", \"hoverlabel\": {\"namelength\": 0}, \"hovertemplate\": \"muni_city=%{x}<br>count=%{y}\", \"legendgroup\": \"muni_city=Guimbal\", \"marker\": {\"color\": \"#A3A500\"}, \"name\": \"muni_city=Guimbal\", \"offsetgroup\": \"muni_city=Guimbal\", \"orientation\": \"v\", \"showlegend\": true, \"textposition\": \"auto\", \"type\": \"bar\", \"x\": [\"Guimbal\"], \"xaxis\": \"x\", \"y\": [3], \"yaxis\": \"y\"}, {\"alignmentgroup\": \"True\", \"hoverlabel\": {\"namelength\": 0}, \"hovertemplate\": \"muni_city=%{x}<br>count=%{y}\", \"legendgroup\": \"muni_city=Alicia\", \"marker\": {\"color\": \"#00BF7D\"}, \"name\": \"muni_city=Alicia\", \"offsetgroup\": \"muni_city=Alicia\", \"orientation\": \"v\", \"showlegend\": true, \"textposition\": \"auto\", \"type\": \"bar\", \"x\": [\"Alicia\"], \"xaxis\": \"x\", \"y\": [3], \"yaxis\": \"y\"}, {\"alignmentgroup\": \"True\", \"hoverlabel\": {\"namelength\": 0}, \"hovertemplate\": \"muni_city=%{x}<br>count=%{y}\", \"legendgroup\": \"muni_city=Macabebe\", \"marker\": {\"color\": \"#00B0F6\"}, \"name\": \"muni_city=Macabebe\", \"offsetgroup\": \"muni_city=Macabebe\", \"orientation\": \"v\", \"showlegend\": true, \"textposition\": \"auto\", \"type\": \"bar\", \"x\": [\"Macabebe\"], \"xaxis\": \"x\", \"y\": [3], \"yaxis\": \"y\"}, {\"alignmentgroup\": \"True\", \"hoverlabel\": {\"namelength\": 0}, \"hovertemplate\": \"muni_city=%{x}<br>count=%{y}\", \"legendgroup\": \"muni_city=Abucay\", \"marker\": {\"color\": \"#E76BF3\"}, \"name\": \"muni_city=Abucay\", \"offsetgroup\": \"muni_city=Abucay\", \"orientation\": \"v\", \"showlegend\": true, \"textposition\": \"auto\", \"type\": \"bar\", \"x\": [\"Abucay\"], \"xaxis\": \"x\", \"y\": [3], \"yaxis\": \"y\"}, {\"alignmentgroup\": \"True\", \"hoverlabel\": {\"namelength\": 0}, \"hovertemplate\": \"muni_city=%{x}<br>count=%{y}\", \"legendgroup\": \"muni_city=Floridablanca\", \"marker\": {\"color\": \"#F8766D\"}, \"name\": \"muni_city=Floridablanca\", \"offsetgroup\": \"muni_city=Floridablanca\", \"orientation\": \"v\", \"showlegend\": true, \"textposition\": \"auto\", \"type\": \"bar\", \"x\": [\"Floridablanca\"], \"xaxis\": \"x\", \"y\": [3], \"yaxis\": \"y\"}, {\"alignmentgroup\": \"True\", \"hoverlabel\": {\"namelength\": 0}, \"hovertemplate\": \"muni_city=%{x}<br>count=%{y}\", \"legendgroup\": \"muni_city=Solano\", \"marker\": {\"color\": \"#A3A500\"}, \"name\": \"muni_city=Solano\", \"offsetgroup\": \"muni_city=Solano\", \"orientation\": \"v\", \"showlegend\": true, \"textposition\": \"auto\", \"type\": \"bar\", \"x\": [\"Solano\"], \"xaxis\": \"x\", \"y\": [3], \"yaxis\": \"y\"}, {\"alignmentgroup\": \"True\", \"hoverlabel\": {\"namelength\": 0}, \"hovertemplate\": \"muni_city=%{x}<br>count=%{y}\", \"legendgroup\": \"muni_city=Mati City\", \"marker\": {\"color\": \"#00BF7D\"}, \"name\": \"muni_city=Mati City\", \"offsetgroup\": \"muni_city=Mati City\", \"orientation\": \"v\", \"showlegend\": true, \"textposition\": \"auto\", \"type\": \"bar\", \"x\": [\"Mati City\"], \"xaxis\": \"x\", \"y\": [3], \"yaxis\": \"y\"}, {\"alignmentgroup\": \"True\", \"hoverlabel\": {\"namelength\": 0}, \"hovertemplate\": \"muni_city=%{x}<br>count=%{y}\", \"legendgroup\": \"muni_city=Kalibo\", \"marker\": {\"color\": \"#00B0F6\"}, \"name\": \"muni_city=Kalibo\", \"offsetgroup\": \"muni_city=Kalibo\", \"orientation\": \"v\", \"showlegend\": true, \"textposition\": \"auto\", \"type\": \"bar\", \"x\": [\"Kalibo\"], \"xaxis\": \"x\", \"y\": [3], \"yaxis\": \"y\"}, {\"alignmentgroup\": \"True\", \"hoverlabel\": {\"namelength\": 0}, \"hovertemplate\": \"muni_city=%{x}<br>count=%{y}\", \"legendgroup\": \"muni_city=Sariaya\", \"marker\": {\"color\": \"#E76BF3\"}, \"name\": \"muni_city=Sariaya\", \"offsetgroup\": \"muni_city=Sariaya\", \"orientation\": \"v\", \"showlegend\": true, \"textposition\": \"auto\", \"type\": \"bar\", \"x\": [\"Sariaya\"], \"xaxis\": \"x\", \"y\": [3], \"yaxis\": \"y\"}, {\"alignmentgroup\": \"True\", \"hoverlabel\": {\"namelength\": 0}, \"hovertemplate\": \"muni_city=%{x}<br>count=%{y}\", \"legendgroup\": \"muni_city=Tuao\", \"marker\": {\"color\": \"#F8766D\"}, \"name\": \"muni_city=Tuao\", \"offsetgroup\": \"muni_city=Tuao\", \"orientation\": \"v\", \"showlegend\": true, \"textposition\": \"auto\", \"type\": \"bar\", \"x\": [\"Tuao\"], \"xaxis\": \"x\", \"y\": [2], \"yaxis\": \"y\"}, {\"alignmentgroup\": \"True\", \"hoverlabel\": {\"namelength\": 0}, \"hovertemplate\": \"muni_city=%{x}<br>count=%{y}\", \"legendgroup\": \"muni_city=Gerona\", \"marker\": {\"color\": \"#A3A500\"}, \"name\": \"muni_city=Gerona\", \"offsetgroup\": \"muni_city=Gerona\", \"orientation\": \"v\", \"showlegend\": true, \"textposition\": \"auto\", \"type\": \"bar\", \"x\": [\"Gerona\"], \"xaxis\": \"x\", \"y\": [2], \"yaxis\": \"y\"}, {\"alignmentgroup\": \"True\", \"hoverlabel\": {\"namelength\": 0}, \"hovertemplate\": \"muni_city=%{x}<br>count=%{y}\", \"legendgroup\": \"muni_city=San Carlos City\", \"marker\": {\"color\": \"#00BF7D\"}, \"name\": \"muni_city=San Carlos City\", \"offsetgroup\": \"muni_city=San Carlos City\", \"orientation\": \"v\", \"showlegend\": true, \"textposition\": \"auto\", \"type\": \"bar\", \"x\": [\"San Carlos City\"], \"xaxis\": \"x\", \"y\": [2], \"yaxis\": \"y\"}, {\"alignmentgroup\": \"True\", \"hoverlabel\": {\"namelength\": 0}, \"hovertemplate\": \"muni_city=%{x}<br>count=%{y}\", \"legendgroup\": \"muni_city=Aritao\", \"marker\": {\"color\": \"#00B0F6\"}, \"name\": \"muni_city=Aritao\", \"offsetgroup\": \"muni_city=Aritao\", \"orientation\": \"v\", \"showlegend\": true, \"textposition\": \"auto\", \"type\": \"bar\", \"x\": [\"Aritao\"], \"xaxis\": \"x\", \"y\": [2], \"yaxis\": \"y\"}, {\"alignmentgroup\": \"True\", \"hoverlabel\": {\"namelength\": 0}, \"hovertemplate\": \"muni_city=%{x}<br>count=%{y}\", \"legendgroup\": \"muni_city=Cabiao\", \"marker\": {\"color\": \"#E76BF3\"}, \"name\": \"muni_city=Cabiao\", \"offsetgroup\": \"muni_city=Cabiao\", \"orientation\": \"v\", \"showlegend\": true, \"textposition\": \"auto\", \"type\": \"bar\", \"x\": [\"Cabiao\"], \"xaxis\": \"x\", \"y\": [2], \"yaxis\": \"y\"}, {\"alignmentgroup\": \"True\", \"hoverlabel\": {\"namelength\": 0}, \"hovertemplate\": \"muni_city=%{x}<br>count=%{y}\", \"legendgroup\": \"muni_city=Magsaysay\", \"marker\": {\"color\": \"#F8766D\"}, \"name\": \"muni_city=Magsaysay\", \"offsetgroup\": \"muni_city=Magsaysay\", \"orientation\": \"v\", \"showlegend\": true, \"textposition\": \"auto\", \"type\": \"bar\", \"x\": [\"Magsaysay\"], \"xaxis\": \"x\", \"y\": [2], \"yaxis\": \"y\"}, {\"alignmentgroup\": \"True\", \"hoverlabel\": {\"namelength\": 0}, \"hovertemplate\": \"muni_city=%{x}<br>count=%{y}\", \"legendgroup\": \"muni_city=Cuenca\", \"marker\": {\"color\": \"#A3A500\"}, \"name\": \"muni_city=Cuenca\", \"offsetgroup\": \"muni_city=Cuenca\", \"orientation\": \"v\", \"showlegend\": true, \"textposition\": \"auto\", \"type\": \"bar\", \"x\": [\"Cuenca\"], \"xaxis\": \"x\", \"y\": [2], \"yaxis\": \"y\"}, {\"alignmentgroup\": \"True\", \"hoverlabel\": {\"namelength\": 0}, \"hovertemplate\": \"muni_city=%{x}<br>count=%{y}\", \"legendgroup\": \"muni_city=Amadeo\", \"marker\": {\"color\": \"#00BF7D\"}, \"name\": \"muni_city=Amadeo\", \"offsetgroup\": \"muni_city=Amadeo\", \"orientation\": \"v\", \"showlegend\": true, \"textposition\": \"auto\", \"type\": \"bar\", \"x\": [\"Amadeo\"], \"xaxis\": \"x\", \"y\": [2], \"yaxis\": \"y\"}, {\"alignmentgroup\": \"True\", \"hoverlabel\": {\"namelength\": 0}, \"hovertemplate\": \"muni_city=%{x}<br>count=%{y}\", \"legendgroup\": \"muni_city=Lamut\", \"marker\": {\"color\": \"#00B0F6\"}, \"name\": \"muni_city=Lamut\", \"offsetgroup\": \"muni_city=Lamut\", \"orientation\": \"v\", \"showlegend\": true, \"textposition\": \"auto\", \"type\": \"bar\", \"x\": [\"Lamut\"], \"xaxis\": \"x\", \"y\": [2], \"yaxis\": \"y\"}, {\"alignmentgroup\": \"True\", \"hoverlabel\": {\"namelength\": 0}, \"hovertemplate\": \"muni_city=%{x}<br>count=%{y}\", \"legendgroup\": \"muni_city=Jimenez\", \"marker\": {\"color\": \"#E76BF3\"}, \"name\": \"muni_city=Jimenez\", \"offsetgroup\": \"muni_city=Jimenez\", \"orientation\": \"v\", \"showlegend\": true, \"textposition\": \"auto\", \"type\": \"bar\", \"x\": [\"Jimenez\"], \"xaxis\": \"x\", \"y\": [2], \"yaxis\": \"y\"}, {\"alignmentgroup\": \"True\", \"hoverlabel\": {\"namelength\": 0}, \"hovertemplate\": \"muni_city=%{x}<br>count=%{y}\", \"legendgroup\": \"muni_city=Pagadian City\", \"marker\": {\"color\": \"#F8766D\"}, \"name\": \"muni_city=Pagadian City\", \"offsetgroup\": \"muni_city=Pagadian City\", \"orientation\": \"v\", \"showlegend\": true, \"textposition\": \"auto\", \"type\": \"bar\", \"x\": [\"Pagadian City\"], \"xaxis\": \"x\", \"y\": [2], \"yaxis\": \"y\"}, {\"alignmentgroup\": \"True\", \"hoverlabel\": {\"namelength\": 0}, \"hovertemplate\": \"muni_city=%{x}<br>count=%{y}\", \"legendgroup\": \"muni_city=Ligao City\", \"marker\": {\"color\": \"#A3A500\"}, \"name\": \"muni_city=Ligao City\", \"offsetgroup\": \"muni_city=Ligao City\", \"orientation\": \"v\", \"showlegend\": true, \"textposition\": \"auto\", \"type\": \"bar\", \"x\": [\"Ligao City\"], \"xaxis\": \"x\", \"y\": [2], \"yaxis\": \"y\"}, {\"alignmentgroup\": \"True\", \"hoverlabel\": {\"namelength\": 0}, \"hovertemplate\": \"muni_city=%{x}<br>count=%{y}\", \"legendgroup\": \"muni_city=San Marcelino\", \"marker\": {\"color\": \"#00BF7D\"}, \"name\": \"muni_city=San Marcelino\", \"offsetgroup\": \"muni_city=San Marcelino\", \"orientation\": \"v\", \"showlegend\": true, \"textposition\": \"auto\", \"type\": \"bar\", \"x\": [\"San Marcelino\"], \"xaxis\": \"x\", \"y\": [2], \"yaxis\": \"y\"}, {\"alignmentgroup\": \"True\", \"hoverlabel\": {\"namelength\": 0}, \"hovertemplate\": \"muni_city=%{x}<br>count=%{y}\", \"legendgroup\": \"muni_city=Cavinti\", \"marker\": {\"color\": \"#00B0F6\"}, \"name\": \"muni_city=Cavinti\", \"offsetgroup\": \"muni_city=Cavinti\", \"orientation\": \"v\", \"showlegend\": true, \"textposition\": \"auto\", \"type\": \"bar\", \"x\": [\"Cavinti\"], \"xaxis\": \"x\", \"y\": [2], \"yaxis\": \"y\"}, {\"alignmentgroup\": \"True\", \"hoverlabel\": {\"namelength\": 0}, \"hovertemplate\": \"muni_city=%{x}<br>count=%{y}\", \"legendgroup\": \"muni_city=Banga\", \"marker\": {\"color\": \"#E76BF3\"}, \"name\": \"muni_city=Banga\", \"offsetgroup\": \"muni_city=Banga\", \"orientation\": \"v\", \"showlegend\": true, \"textposition\": \"auto\", \"type\": \"bar\", \"x\": [\"Banga\"], \"xaxis\": \"x\", \"y\": [2], \"yaxis\": \"y\"}, {\"alignmentgroup\": \"True\", \"hoverlabel\": {\"namelength\": 0}, \"hovertemplate\": \"muni_city=%{x}<br>count=%{y}\", \"legendgroup\": \"muni_city=Santa Ana\", \"marker\": {\"color\": \"#F8766D\"}, \"name\": \"muni_city=Santa Ana\", \"offsetgroup\": \"muni_city=Santa Ana\", \"orientation\": \"v\", \"showlegend\": true, \"textposition\": \"auto\", \"type\": \"bar\", \"x\": [\"Santa Ana\"], \"xaxis\": \"x\", \"y\": [2], \"yaxis\": \"y\"}, {\"alignmentgroup\": \"True\", \"hoverlabel\": {\"namelength\": 0}, \"hovertemplate\": \"muni_city=%{x}<br>count=%{y}\", \"legendgroup\": \"muni_city=Mansalay\", \"marker\": {\"color\": \"#A3A500\"}, \"name\": \"muni_city=Mansalay\", \"offsetgroup\": \"muni_city=Mansalay\", \"orientation\": \"v\", \"showlegend\": true, \"textposition\": \"auto\", \"type\": \"bar\", \"x\": [\"Mansalay\"], \"xaxis\": \"x\", \"y\": [2], \"yaxis\": \"y\"}, {\"alignmentgroup\": \"True\", \"hoverlabel\": {\"namelength\": 0}, \"hovertemplate\": \"muni_city=%{x}<br>count=%{y}\", \"legendgroup\": \"muni_city=Hermosa\", \"marker\": {\"color\": \"#00BF7D\"}, \"name\": \"muni_city=Hermosa\", \"offsetgroup\": \"muni_city=Hermosa\", \"orientation\": \"v\", \"showlegend\": true, \"textposition\": \"auto\", \"type\": \"bar\", \"x\": [\"Hermosa\"], \"xaxis\": \"x\", \"y\": [2], \"yaxis\": \"y\"}, {\"alignmentgroup\": \"True\", \"hoverlabel\": {\"namelength\": 0}, \"hovertemplate\": \"muni_city=%{x}<br>count=%{y}\", \"legendgroup\": \"muni_city=Sasmuan\", \"marker\": {\"color\": \"#00B0F6\"}, \"name\": \"muni_city=Sasmuan\", \"offsetgroup\": \"muni_city=Sasmuan\", \"orientation\": \"v\", \"showlegend\": true, \"textposition\": \"auto\", \"type\": \"bar\", \"x\": [\"Sasmuan\"], \"xaxis\": \"x\", \"y\": [2], \"yaxis\": \"y\"}, {\"alignmentgroup\": \"True\", \"hoverlabel\": {\"namelength\": 0}, \"hovertemplate\": \"muni_city=%{x}<br>count=%{y}\", \"legendgroup\": \"muni_city=Puerto Princesa City\", \"marker\": {\"color\": \"#E76BF3\"}, \"name\": \"muni_city=Puerto Princesa City\", \"offsetgroup\": \"muni_city=Puerto Princesa City\", \"orientation\": \"v\", \"showlegend\": true, \"textposition\": \"auto\", \"type\": \"bar\", \"x\": [\"Puerto Princesa City\"], \"xaxis\": \"x\", \"y\": [2], \"yaxis\": \"y\"}, {\"alignmentgroup\": \"True\", \"hoverlabel\": {\"namelength\": 0}, \"hovertemplate\": \"muni_city=%{x}<br>count=%{y}\", \"legendgroup\": \"muni_city=Pagbilao\", \"marker\": {\"color\": \"#F8766D\"}, \"name\": \"muni_city=Pagbilao\", \"offsetgroup\": \"muni_city=Pagbilao\", \"orientation\": \"v\", \"showlegend\": true, \"textposition\": \"auto\", \"type\": \"bar\", \"x\": [\"Pagbilao\"], \"xaxis\": \"x\", \"y\": [2], \"yaxis\": \"y\"}, {\"alignmentgroup\": \"True\", \"hoverlabel\": {\"namelength\": 0}, \"hovertemplate\": \"muni_city=%{x}<br>count=%{y}\", \"legendgroup\": \"muni_city=Real\", \"marker\": {\"color\": \"#A3A500\"}, \"name\": \"muni_city=Real\", \"offsetgroup\": \"muni_city=Real\", \"orientation\": \"v\", \"showlegend\": true, \"textposition\": \"auto\", \"type\": \"bar\", \"x\": [\"Real\"], \"xaxis\": \"x\", \"y\": [2], \"yaxis\": \"y\"}, {\"alignmentgroup\": \"True\", \"hoverlabel\": {\"namelength\": 0}, \"hovertemplate\": \"muni_city=%{x}<br>count=%{y}\", \"legendgroup\": \"muni_city=Tudela\", \"marker\": {\"color\": \"#00BF7D\"}, \"name\": \"muni_city=Tudela\", \"offsetgroup\": \"muni_city=Tudela\", \"orientation\": \"v\", \"showlegend\": true, \"textposition\": \"auto\", \"type\": \"bar\", \"x\": [\"Tudela\"], \"xaxis\": \"x\", \"y\": [2], \"yaxis\": \"y\"}, {\"alignmentgroup\": \"True\", \"hoverlabel\": {\"namelength\": 0}, \"hovertemplate\": \"muni_city=%{x}<br>count=%{y}\", \"legendgroup\": \"muni_city=Lemery\", \"marker\": {\"color\": \"#00B0F6\"}, \"name\": \"muni_city=Lemery\", \"offsetgroup\": \"muni_city=Lemery\", \"orientation\": \"v\", \"showlegend\": true, \"textposition\": \"auto\", \"type\": \"bar\", \"x\": [\"Lemery\"], \"xaxis\": \"x\", \"y\": [2], \"yaxis\": \"y\"}, {\"alignmentgroup\": \"True\", \"hoverlabel\": {\"namelength\": 0}, \"hovertemplate\": \"muni_city=%{x}<br>count=%{y}\", \"legendgroup\": \"muni_city=Santiago\", \"marker\": {\"color\": \"#E76BF3\"}, \"name\": \"muni_city=Santiago\", \"offsetgroup\": \"muni_city=Santiago\", \"orientation\": \"v\", \"showlegend\": true, \"textposition\": \"auto\", \"type\": \"bar\", \"x\": [\"Santiago\"], \"xaxis\": \"x\", \"y\": [2], \"yaxis\": \"y\"}, {\"alignmentgroup\": \"True\", \"hoverlabel\": {\"namelength\": 0}, \"hovertemplate\": \"muni_city=%{x}<br>count=%{y}\", \"legendgroup\": \"muni_city=Puerto Galera\", \"marker\": {\"color\": \"#F8766D\"}, \"name\": \"muni_city=Puerto Galera\", \"offsetgroup\": \"muni_city=Puerto Galera\", \"orientation\": \"v\", \"showlegend\": true, \"textposition\": \"auto\", \"type\": \"bar\", \"x\": [\"Puerto Galera\"], \"xaxis\": \"x\", \"y\": [2], \"yaxis\": \"y\"}, {\"alignmentgroup\": \"True\", \"hoverlabel\": {\"namelength\": 0}, \"hovertemplate\": \"muni_city=%{x}<br>count=%{y}\", \"legendgroup\": \"muni_city=Lucban\", \"marker\": {\"color\": \"#A3A500\"}, \"name\": \"muni_city=Lucban\", \"offsetgroup\": \"muni_city=Lucban\", \"orientation\": \"v\", \"showlegend\": true, \"textposition\": \"auto\", \"type\": \"bar\", \"x\": [\"Lucban\"], \"xaxis\": \"x\", \"y\": [2], \"yaxis\": \"y\"}, {\"alignmentgroup\": \"True\", \"hoverlabel\": {\"namelength\": 0}, \"hovertemplate\": \"muni_city=%{x}<br>count=%{y}\", \"legendgroup\": \"muni_city=Mataas Na Kahoy\", \"marker\": {\"color\": \"#00BF7D\"}, \"name\": \"muni_city=Mataas Na Kahoy\", \"offsetgroup\": \"muni_city=Mataas Na Kahoy\", \"orientation\": \"v\", \"showlegend\": true, \"textposition\": \"auto\", \"type\": \"bar\", \"x\": [\"Mataas Na Kahoy\"], \"xaxis\": \"x\", \"y\": [2], \"yaxis\": \"y\"}, {\"alignmentgroup\": \"True\", \"hoverlabel\": {\"namelength\": 0}, \"hovertemplate\": \"muni_city=%{x}<br>count=%{y}\", \"legendgroup\": \"muni_city=Jala-Jala\", \"marker\": {\"color\": \"#00B0F6\"}, \"name\": \"muni_city=Jala-Jala\", \"offsetgroup\": \"muni_city=Jala-Jala\", \"orientation\": \"v\", \"showlegend\": true, \"textposition\": \"auto\", \"type\": \"bar\", \"x\": [\"Jala-Jala\"], \"xaxis\": \"x\", \"y\": [2], \"yaxis\": \"y\"}, {\"alignmentgroup\": \"True\", \"hoverlabel\": {\"namelength\": 0}, \"hovertemplate\": \"muni_city=%{x}<br>count=%{y}\", \"legendgroup\": \"muni_city=Panabo City\", \"marker\": {\"color\": \"#E76BF3\"}, \"name\": \"muni_city=Panabo City\", \"offsetgroup\": \"muni_city=Panabo City\", \"orientation\": \"v\", \"showlegend\": true, \"textposition\": \"auto\", \"type\": \"bar\", \"x\": [\"Panabo City\"], \"xaxis\": \"x\", \"y\": [2], \"yaxis\": \"y\"}, {\"alignmentgroup\": \"True\", \"hoverlabel\": {\"namelength\": 0}, \"hovertemplate\": \"muni_city=%{x}<br>count=%{y}\", \"legendgroup\": \"muni_city=General Mamerto Natividad\", \"marker\": {\"color\": \"#F8766D\"}, \"name\": \"muni_city=General Mamerto Natividad\", \"offsetgroup\": \"muni_city=General Mamerto Natividad\", \"orientation\": \"v\", \"showlegend\": true, \"textposition\": \"auto\", \"type\": \"bar\", \"x\": [\"General Mamerto Natividad\"], \"xaxis\": \"x\", \"y\": [2], \"yaxis\": \"y\"}, {\"alignmentgroup\": \"True\", \"hoverlabel\": {\"namelength\": 0}, \"hovertemplate\": \"muni_city=%{x}<br>count=%{y}\", \"legendgroup\": \"muni_city=Bacolor\", \"marker\": {\"color\": \"#A3A500\"}, \"name\": \"muni_city=Bacolor\", \"offsetgroup\": \"muni_city=Bacolor\", \"orientation\": \"v\", \"showlegend\": true, \"textposition\": \"auto\", \"type\": \"bar\", \"x\": [\"Bacolor\"], \"xaxis\": \"x\", \"y\": [2], \"yaxis\": \"y\"}, {\"alignmentgroup\": \"True\", \"hoverlabel\": {\"namelength\": 0}, \"hovertemplate\": \"muni_city=%{x}<br>count=%{y}\", \"legendgroup\": \"muni_city=Burauen\", \"marker\": {\"color\": \"#00BF7D\"}, \"name\": \"muni_city=Burauen\", \"offsetgroup\": \"muni_city=Burauen\", \"orientation\": \"v\", \"showlegend\": true, \"textposition\": \"auto\", \"type\": \"bar\", \"x\": [\"Burauen\"], \"xaxis\": \"x\", \"y\": [2], \"yaxis\": \"y\"}, {\"alignmentgroup\": \"True\", \"hoverlabel\": {\"namelength\": 0}, \"hovertemplate\": \"muni_city=%{x}<br>count=%{y}\", \"legendgroup\": \"muni_city=Tigbauan\", \"marker\": {\"color\": \"#00B0F6\"}, \"name\": \"muni_city=Tigbauan\", \"offsetgroup\": \"muni_city=Tigbauan\", \"orientation\": \"v\", \"showlegend\": true, \"textposition\": \"auto\", \"type\": \"bar\", \"x\": [\"Tigbauan\"], \"xaxis\": \"x\", \"y\": [2], \"yaxis\": \"y\"}, {\"alignmentgroup\": \"True\", \"hoverlabel\": {\"namelength\": 0}, \"hovertemplate\": \"muni_city=%{x}<br>count=%{y}\", \"legendgroup\": \"muni_city=Agoo\", \"marker\": {\"color\": \"#E76BF3\"}, \"name\": \"muni_city=Agoo\", \"offsetgroup\": \"muni_city=Agoo\", \"orientation\": \"v\", \"showlegend\": true, \"textposition\": \"auto\", \"type\": \"bar\", \"x\": [\"Agoo\"], \"xaxis\": \"x\", \"y\": [2], \"yaxis\": \"y\"}, {\"alignmentgroup\": \"True\", \"hoverlabel\": {\"namelength\": 0}, \"hovertemplate\": \"muni_city=%{x}<br>count=%{y}\", \"legendgroup\": \"muni_city=La Castellana\", \"marker\": {\"color\": \"#F8766D\"}, \"name\": \"muni_city=La Castellana\", \"offsetgroup\": \"muni_city=La Castellana\", \"orientation\": \"v\", \"showlegend\": true, \"textposition\": \"auto\", \"type\": \"bar\", \"x\": [\"La Castellana\"], \"xaxis\": \"x\", \"y\": [2], \"yaxis\": \"y\"}, {\"alignmentgroup\": \"True\", \"hoverlabel\": {\"namelength\": 0}, \"hovertemplate\": \"muni_city=%{x}<br>count=%{y}\", \"legendgroup\": \"muni_city=Kidapawan City\", \"marker\": {\"color\": \"#A3A500\"}, \"name\": \"muni_city=Kidapawan City\", \"offsetgroup\": \"muni_city=Kidapawan City\", \"orientation\": \"v\", \"showlegend\": true, \"textposition\": \"auto\", \"type\": \"bar\", \"x\": [\"Kidapawan City\"], \"xaxis\": \"x\", \"y\": [2], \"yaxis\": \"y\"}, {\"alignmentgroup\": \"True\", \"hoverlabel\": {\"namelength\": 0}, \"hovertemplate\": \"muni_city=%{x}<br>count=%{y}\", \"legendgroup\": \"muni_city=Mexico\", \"marker\": {\"color\": \"#00BF7D\"}, \"name\": \"muni_city=Mexico\", \"offsetgroup\": \"muni_city=Mexico\", \"orientation\": \"v\", \"showlegend\": true, \"textposition\": \"auto\", \"type\": \"bar\", \"x\": [\"Mexico\"], \"xaxis\": \"x\", \"y\": [2], \"yaxis\": \"y\"}, {\"alignmentgroup\": \"True\", \"hoverlabel\": {\"namelength\": 0}, \"hovertemplate\": \"muni_city=%{x}<br>count=%{y}\", \"legendgroup\": \"muni_city=Enrique B. Magalona\", \"marker\": {\"color\": \"#00B0F6\"}, \"name\": \"muni_city=Enrique B. Magalona\", \"offsetgroup\": \"muni_city=Enrique B. Magalona\", \"orientation\": \"v\", \"showlegend\": true, \"textposition\": \"auto\", \"type\": \"bar\", \"x\": [\"Enrique B. Magalona\"], \"xaxis\": \"x\", \"y\": [2], \"yaxis\": \"y\"}, {\"alignmentgroup\": \"True\", \"hoverlabel\": {\"namelength\": 0}, \"hovertemplate\": \"muni_city=%{x}<br>count=%{y}\", \"legendgroup\": \"muni_city=Liloan\", \"marker\": {\"color\": \"#E76BF3\"}, \"name\": \"muni_city=Liloan\", \"offsetgroup\": \"muni_city=Liloan\", \"orientation\": \"v\", \"showlegend\": true, \"textposition\": \"auto\", \"type\": \"bar\", \"x\": [\"Liloan\"], \"xaxis\": \"x\", \"y\": [2], \"yaxis\": \"y\"}, {\"alignmentgroup\": \"True\", \"hoverlabel\": {\"namelength\": 0}, \"hovertemplate\": \"muni_city=%{x}<br>count=%{y}\", \"legendgroup\": \"muni_city=Tigaon\", \"marker\": {\"color\": \"#F8766D\"}, \"name\": \"muni_city=Tigaon\", \"offsetgroup\": \"muni_city=Tigaon\", \"orientation\": \"v\", \"showlegend\": true, \"textposition\": \"auto\", \"type\": \"bar\", \"x\": [\"Tigaon\"], \"xaxis\": \"x\", \"y\": [2], \"yaxis\": \"y\"}, {\"alignmentgroup\": \"True\", \"hoverlabel\": {\"namelength\": 0}, \"hovertemplate\": \"muni_city=%{x}<br>count=%{y}\", \"legendgroup\": \"muni_city=Bamban\", \"marker\": {\"color\": \"#A3A500\"}, \"name\": \"muni_city=Bamban\", \"offsetgroup\": \"muni_city=Bamban\", \"orientation\": \"v\", \"showlegend\": true, \"textposition\": \"auto\", \"type\": \"bar\", \"x\": [\"Bamban\"], \"xaxis\": \"x\", \"y\": [2], \"yaxis\": \"y\"}, {\"alignmentgroup\": \"True\", \"hoverlabel\": {\"namelength\": 0}, \"hovertemplate\": \"muni_city=%{x}<br>count=%{y}\", \"legendgroup\": \"muni_city=Lian\", \"marker\": {\"color\": \"#00BF7D\"}, \"name\": \"muni_city=Lian\", \"offsetgroup\": \"muni_city=Lian\", \"orientation\": \"v\", \"showlegend\": true, \"textposition\": \"auto\", \"type\": \"bar\", \"x\": [\"Lian\"], \"xaxis\": \"x\", \"y\": [2], \"yaxis\": \"y\"}, {\"alignmentgroup\": \"True\", \"hoverlabel\": {\"namelength\": 0}, \"hovertemplate\": \"muni_city=%{x}<br>count=%{y}\", \"legendgroup\": \"muni_city=Bauang\", \"marker\": {\"color\": \"#00B0F6\"}, \"name\": \"muni_city=Bauang\", \"offsetgroup\": \"muni_city=Bauang\", \"orientation\": \"v\", \"showlegend\": true, \"textposition\": \"auto\", \"type\": \"bar\", \"x\": [\"Bauang\"], \"xaxis\": \"x\", \"y\": [2], \"yaxis\": \"y\"}, {\"alignmentgroup\": \"True\", \"hoverlabel\": {\"namelength\": 0}, \"hovertemplate\": \"muni_city=%{x}<br>count=%{y}\", \"legendgroup\": \"muni_city=Kalayaan\", \"marker\": {\"color\": \"#E76BF3\"}, \"name\": \"muni_city=Kalayaan\", \"offsetgroup\": \"muni_city=Kalayaan\", \"orientation\": \"v\", \"showlegend\": true, \"textposition\": \"auto\", \"type\": \"bar\", \"x\": [\"Kalayaan\"], \"xaxis\": \"x\", \"y\": [2], \"yaxis\": \"y\"}, {\"alignmentgroup\": \"True\", \"hoverlabel\": {\"namelength\": 0}, \"hovertemplate\": \"muni_city=%{x}<br>count=%{y}\", \"legendgroup\": \"muni_city=Jimalalud\", \"marker\": {\"color\": \"#F8766D\"}, \"name\": \"muni_city=Jimalalud\", \"offsetgroup\": \"muni_city=Jimalalud\", \"orientation\": \"v\", \"showlegend\": true, \"textposition\": \"auto\", \"type\": \"bar\", \"x\": [\"Jimalalud\"], \"xaxis\": \"x\", \"y\": [2], \"yaxis\": \"y\"}, {\"alignmentgroup\": \"True\", \"hoverlabel\": {\"namelength\": 0}, \"hovertemplate\": \"muni_city=%{x}<br>count=%{y}\", \"legendgroup\": \"muni_city=Dalaguete\", \"marker\": {\"color\": \"#A3A500\"}, \"name\": \"muni_city=Dalaguete\", \"offsetgroup\": \"muni_city=Dalaguete\", \"orientation\": \"v\", \"showlegend\": true, \"textposition\": \"auto\", \"type\": \"bar\", \"x\": [\"Dalaguete\"], \"xaxis\": \"x\", \"y\": [2], \"yaxis\": \"y\"}, {\"alignmentgroup\": \"True\", \"hoverlabel\": {\"namelength\": 0}, \"hovertemplate\": \"muni_city=%{x}<br>count=%{y}\", \"legendgroup\": \"muni_city=Candaba\", \"marker\": {\"color\": \"#00BF7D\"}, \"name\": \"muni_city=Candaba\", \"offsetgroup\": \"muni_city=Candaba\", \"orientation\": \"v\", \"showlegend\": true, \"textposition\": \"auto\", \"type\": \"bar\", \"x\": [\"Candaba\"], \"xaxis\": \"x\", \"y\": [2], \"yaxis\": \"y\"}, {\"alignmentgroup\": \"True\", \"hoverlabel\": {\"namelength\": 0}, \"hovertemplate\": \"muni_city=%{x}<br>count=%{y}\", \"legendgroup\": \"muni_city=Magdalena\", \"marker\": {\"color\": \"#00B0F6\"}, \"name\": \"muni_city=Magdalena\", \"offsetgroup\": \"muni_city=Magdalena\", \"orientation\": \"v\", \"showlegend\": true, \"textposition\": \"auto\", \"type\": \"bar\", \"x\": [\"Magdalena\"], \"xaxis\": \"x\", \"y\": [2], \"yaxis\": \"y\"}, {\"alignmentgroup\": \"True\", \"hoverlabel\": {\"namelength\": 0}, \"hovertemplate\": \"muni_city=%{x}<br>count=%{y}\", \"legendgroup\": \"muni_city=Capas\", \"marker\": {\"color\": \"#E76BF3\"}, \"name\": \"muni_city=Capas\", \"offsetgroup\": \"muni_city=Capas\", \"orientation\": \"v\", \"showlegend\": true, \"textposition\": \"auto\", \"type\": \"bar\", \"x\": [\"Capas\"], \"xaxis\": \"x\", \"y\": [2], \"yaxis\": \"y\"}, {\"alignmentgroup\": \"True\", \"hoverlabel\": {\"namelength\": 0}, \"hovertemplate\": \"muni_city=%{x}<br>count=%{y}\", \"legendgroup\": \"muni_city=Pulilan\", \"marker\": {\"color\": \"#F8766D\"}, \"name\": \"muni_city=Pulilan\", \"offsetgroup\": \"muni_city=Pulilan\", \"orientation\": \"v\", \"showlegend\": true, \"textposition\": \"auto\", \"type\": \"bar\", \"x\": [\"Pulilan\"], \"xaxis\": \"x\", \"y\": [2], \"yaxis\": \"y\"}, {\"alignmentgroup\": \"True\", \"hoverlabel\": {\"namelength\": 0}, \"hovertemplate\": \"muni_city=%{x}<br>count=%{y}\", \"legendgroup\": \"muni_city=Infanta\", \"marker\": {\"color\": \"#A3A500\"}, \"name\": \"muni_city=Infanta\", \"offsetgroup\": \"muni_city=Infanta\", \"orientation\": \"v\", \"showlegend\": true, \"textposition\": \"auto\", \"type\": \"bar\", \"x\": [\"Infanta\"], \"xaxis\": \"x\", \"y\": [2], \"yaxis\": \"y\"}, {\"alignmentgroup\": \"True\", \"hoverlabel\": {\"namelength\": 0}, \"hovertemplate\": \"muni_city=%{x}<br>count=%{y}\", \"legendgroup\": \"muni_city=Sallapadan\", \"marker\": {\"color\": \"#00BF7D\"}, \"name\": \"muni_city=Sallapadan\", \"offsetgroup\": \"muni_city=Sallapadan\", \"orientation\": \"v\", \"showlegend\": true, \"textposition\": \"auto\", \"type\": \"bar\", \"x\": [\"Sallapadan\"], \"xaxis\": \"x\", \"y\": [2], \"yaxis\": \"y\"}, {\"alignmentgroup\": \"True\", \"hoverlabel\": {\"namelength\": 0}, \"hovertemplate\": \"muni_city=%{x}<br>count=%{y}\", \"legendgroup\": \"muni_city=Daanbantayan\", \"marker\": {\"color\": \"#00B0F6\"}, \"name\": \"muni_city=Daanbantayan\", \"offsetgroup\": \"muni_city=Daanbantayan\", \"orientation\": \"v\", \"showlegend\": true, \"textposition\": \"auto\", \"type\": \"bar\", \"x\": [\"Daanbantayan\"], \"xaxis\": \"x\", \"y\": [2], \"yaxis\": \"y\"}, {\"alignmentgroup\": \"True\", \"hoverlabel\": {\"namelength\": 0}, \"hovertemplate\": \"muni_city=%{x}<br>count=%{y}\", \"legendgroup\": \"muni_city=Barotac Nuevo\", \"marker\": {\"color\": \"#E76BF3\"}, \"name\": \"muni_city=Barotac Nuevo\", \"offsetgroup\": \"muni_city=Barotac Nuevo\", \"orientation\": \"v\", \"showlegend\": true, \"textposition\": \"auto\", \"type\": \"bar\", \"x\": [\"Barotac Nuevo\"], \"xaxis\": \"x\", \"y\": [2], \"yaxis\": \"y\"}, {\"alignmentgroup\": \"True\", \"hoverlabel\": {\"namelength\": 0}, \"hovertemplate\": \"muni_city=%{x}<br>count=%{y}\", \"legendgroup\": \"muni_city=Marantao\", \"marker\": {\"color\": \"#F8766D\"}, \"name\": \"muni_city=Marantao\", \"offsetgroup\": \"muni_city=Marantao\", \"orientation\": \"v\", \"showlegend\": true, \"textposition\": \"auto\", \"type\": \"bar\", \"x\": [\"Marantao\"], \"xaxis\": \"x\", \"y\": [2], \"yaxis\": \"y\"}, {\"alignmentgroup\": \"True\", \"hoverlabel\": {\"namelength\": 0}, \"hovertemplate\": \"muni_city=%{x}<br>count=%{y}\", \"legendgroup\": \"muni_city=Bago City\", \"marker\": {\"color\": \"#A3A500\"}, \"name\": \"muni_city=Bago City\", \"offsetgroup\": \"muni_city=Bago City\", \"orientation\": \"v\", \"showlegend\": true, \"textposition\": \"auto\", \"type\": \"bar\", \"x\": [\"Bago City\"], \"xaxis\": \"x\", \"y\": [1], \"yaxis\": \"y\"}, {\"alignmentgroup\": \"True\", \"hoverlabel\": {\"namelength\": 0}, \"hovertemplate\": \"muni_city=%{x}<br>count=%{y}\", \"legendgroup\": \"muni_city=Ibaan\", \"marker\": {\"color\": \"#00BF7D\"}, \"name\": \"muni_city=Ibaan\", \"offsetgroup\": \"muni_city=Ibaan\", \"orientation\": \"v\", \"showlegend\": true, \"textposition\": \"auto\", \"type\": \"bar\", \"x\": [\"Ibaan\"], \"xaxis\": \"x\", \"y\": [1], \"yaxis\": \"y\"}, {\"alignmentgroup\": \"True\", \"hoverlabel\": {\"namelength\": 0}, \"hovertemplate\": \"muni_city=%{x}<br>count=%{y}\", \"legendgroup\": \"muni_city=Labo\", \"marker\": {\"color\": \"#00B0F6\"}, \"name\": \"muni_city=Labo\", \"offsetgroup\": \"muni_city=Labo\", \"orientation\": \"v\", \"showlegend\": true, \"textposition\": \"auto\", \"type\": \"bar\", \"x\": [\"Labo\"], \"xaxis\": \"x\", \"y\": [1], \"yaxis\": \"y\"}, {\"alignmentgroup\": \"True\", \"hoverlabel\": {\"namelength\": 0}, \"hovertemplate\": \"muni_city=%{x}<br>count=%{y}\", \"legendgroup\": \"muni_city=Bais City\", \"marker\": {\"color\": \"#E76BF3\"}, \"name\": \"muni_city=Bais City\", \"offsetgroup\": \"muni_city=Bais City\", \"orientation\": \"v\", \"showlegend\": true, \"textposition\": \"auto\", \"type\": \"bar\", \"x\": [\"Bais City\"], \"xaxis\": \"x\", \"y\": [1], \"yaxis\": \"y\"}, {\"alignmentgroup\": \"True\", \"hoverlabel\": {\"namelength\": 0}, \"hovertemplate\": \"muni_city=%{x}<br>count=%{y}\", \"legendgroup\": \"muni_city=Magalang\", \"marker\": {\"color\": \"#F8766D\"}, \"name\": \"muni_city=Magalang\", \"offsetgroup\": \"muni_city=Magalang\", \"orientation\": \"v\", \"showlegend\": true, \"textposition\": \"auto\", \"type\": \"bar\", \"x\": [\"Magalang\"], \"xaxis\": \"x\", \"y\": [1], \"yaxis\": \"y\"}, {\"alignmentgroup\": \"True\", \"hoverlabel\": {\"namelength\": 0}, \"hovertemplate\": \"muni_city=%{x}<br>count=%{y}\", \"legendgroup\": \"muni_city=Tayasan\", \"marker\": {\"color\": \"#A3A500\"}, \"name\": \"muni_city=Tayasan\", \"offsetgroup\": \"muni_city=Tayasan\", \"orientation\": \"v\", \"showlegend\": true, \"textposition\": \"auto\", \"type\": \"bar\", \"x\": [\"Tayasan\"], \"xaxis\": \"x\", \"y\": [1], \"yaxis\": \"y\"}, {\"alignmentgroup\": \"True\", \"hoverlabel\": {\"namelength\": 0}, \"hovertemplate\": \"muni_city=%{x}<br>count=%{y}\", \"legendgroup\": \"muni_city=Cauayan\", \"marker\": {\"color\": \"#00BF7D\"}, \"name\": \"muni_city=Cauayan\", \"offsetgroup\": \"muni_city=Cauayan\", \"orientation\": \"v\", \"showlegend\": true, \"textposition\": \"auto\", \"type\": \"bar\", \"x\": [\"Cauayan\"], \"xaxis\": \"x\", \"y\": [1], \"yaxis\": \"y\"}, {\"alignmentgroup\": \"True\", \"hoverlabel\": {\"namelength\": 0}, \"hovertemplate\": \"muni_city=%{x}<br>count=%{y}\", \"legendgroup\": \"muni_city=Manabo\", \"marker\": {\"color\": \"#00B0F6\"}, \"name\": \"muni_city=Manabo\", \"offsetgroup\": \"muni_city=Manabo\", \"orientation\": \"v\", \"showlegend\": true, \"textposition\": \"auto\", \"type\": \"bar\", \"x\": [\"Manabo\"], \"xaxis\": \"x\", \"y\": [1], \"yaxis\": \"y\"}, {\"alignmentgroup\": \"True\", \"hoverlabel\": {\"namelength\": 0}, \"hovertemplate\": \"muni_city=%{x}<br>count=%{y}\", \"legendgroup\": \"muni_city=Hamtic\", \"marker\": {\"color\": \"#E76BF3\"}, \"name\": \"muni_city=Hamtic\", \"offsetgroup\": \"muni_city=Hamtic\", \"orientation\": \"v\", \"showlegend\": true, \"textposition\": \"auto\", \"type\": \"bar\", \"x\": [\"Hamtic\"], \"xaxis\": \"x\", \"y\": [1], \"yaxis\": \"y\"}, {\"alignmentgroup\": \"True\", \"hoverlabel\": {\"namelength\": 0}, \"hovertemplate\": \"muni_city=%{x}<br>count=%{y}\", \"legendgroup\": \"muni_city=Roxas\", \"marker\": {\"color\": \"#F8766D\"}, \"name\": \"muni_city=Roxas\", \"offsetgroup\": \"muni_city=Roxas\", \"orientation\": \"v\", \"showlegend\": true, \"textposition\": \"auto\", \"type\": \"bar\", \"x\": [\"Roxas\"], \"xaxis\": \"x\", \"y\": [1], \"yaxis\": \"y\"}, {\"alignmentgroup\": \"True\", \"hoverlabel\": {\"namelength\": 0}, \"hovertemplate\": \"muni_city=%{x}<br>count=%{y}\", \"legendgroup\": \"muni_city=Minalabac\", \"marker\": {\"color\": \"#A3A500\"}, \"name\": \"muni_city=Minalabac\", \"offsetgroup\": \"muni_city=Minalabac\", \"orientation\": \"v\", \"showlegend\": true, \"textposition\": \"auto\", \"type\": \"bar\", \"x\": [\"Minalabac\"], \"xaxis\": \"x\", \"y\": [1], \"yaxis\": \"y\"}, {\"alignmentgroup\": \"True\", \"hoverlabel\": {\"namelength\": 0}, \"hovertemplate\": \"muni_city=%{x}<br>count=%{y}\", \"legendgroup\": \"muni_city=Valladolid\", \"marker\": {\"color\": \"#00BF7D\"}, \"name\": \"muni_city=Valladolid\", \"offsetgroup\": \"muni_city=Valladolid\", \"orientation\": \"v\", \"showlegend\": true, \"textposition\": \"auto\", \"type\": \"bar\", \"x\": [\"Valladolid\"], \"xaxis\": \"x\", \"y\": [1], \"yaxis\": \"y\"}, {\"alignmentgroup\": \"True\", \"hoverlabel\": {\"namelength\": 0}, \"hovertemplate\": \"muni_city=%{x}<br>count=%{y}\", \"legendgroup\": \"muni_city=Pinamalayan\", \"marker\": {\"color\": \"#00B0F6\"}, \"name\": \"muni_city=Pinamalayan\", \"offsetgroup\": \"muni_city=Pinamalayan\", \"orientation\": \"v\", \"showlegend\": true, \"textposition\": \"auto\", \"type\": \"bar\", \"x\": [\"Pinamalayan\"], \"xaxis\": \"x\", \"y\": [1], \"yaxis\": \"y\"}, {\"alignmentgroup\": \"True\", \"hoverlabel\": {\"namelength\": 0}, \"hovertemplate\": \"muni_city=%{x}<br>count=%{y}\", \"legendgroup\": \"muni_city=Laua-An\", \"marker\": {\"color\": \"#E76BF3\"}, \"name\": \"muni_city=Laua-An\", \"offsetgroup\": \"muni_city=Laua-An\", \"orientation\": \"v\", \"showlegend\": true, \"textposition\": \"auto\", \"type\": \"bar\", \"x\": [\"Laua-An\"], \"xaxis\": \"x\", \"y\": [1], \"yaxis\": \"y\"}, {\"alignmentgroup\": \"True\", \"hoverlabel\": {\"namelength\": 0}, \"hovertemplate\": \"muni_city=%{x}<br>count=%{y}\", \"legendgroup\": \"muni_city=Zaragoza\", \"marker\": {\"color\": \"#F8766D\"}, \"name\": \"muni_city=Zaragoza\", \"offsetgroup\": \"muni_city=Zaragoza\", \"orientation\": \"v\", \"showlegend\": true, \"textposition\": \"auto\", \"type\": \"bar\", \"x\": [\"Zaragoza\"], \"xaxis\": \"x\", \"y\": [1], \"yaxis\": \"y\"}, {\"alignmentgroup\": \"True\", \"hoverlabel\": {\"namelength\": 0}, \"hovertemplate\": \"muni_city=%{x}<br>count=%{y}\", \"legendgroup\": \"muni_city=Boljoon\", \"marker\": {\"color\": \"#A3A500\"}, \"name\": \"muni_city=Boljoon\", \"offsetgroup\": \"muni_city=Boljoon\", \"orientation\": \"v\", \"showlegend\": true, \"textposition\": \"auto\", \"type\": \"bar\", \"x\": [\"Boljoon\"], \"xaxis\": \"x\", \"y\": [1], \"yaxis\": \"y\"}, {\"alignmentgroup\": \"True\", \"hoverlabel\": {\"namelength\": 0}, \"hovertemplate\": \"muni_city=%{x}<br>count=%{y}\", \"legendgroup\": \"muni_city=Banate\", \"marker\": {\"color\": \"#00BF7D\"}, \"name\": \"muni_city=Banate\", \"offsetgroup\": \"muni_city=Banate\", \"orientation\": \"v\", \"showlegend\": true, \"textposition\": \"auto\", \"type\": \"bar\", \"x\": [\"Banate\"], \"xaxis\": \"x\", \"y\": [1], \"yaxis\": \"y\"}, {\"alignmentgroup\": \"True\", \"hoverlabel\": {\"namelength\": 0}, \"hovertemplate\": \"muni_city=%{x}<br>count=%{y}\", \"legendgroup\": \"muni_city=Talugtug\", \"marker\": {\"color\": \"#00B0F6\"}, \"name\": \"muni_city=Talugtug\", \"offsetgroup\": \"muni_city=Talugtug\", \"orientation\": \"v\", \"showlegend\": true, \"textposition\": \"auto\", \"type\": \"bar\", \"x\": [\"Talugtug\"], \"xaxis\": \"x\", \"y\": [1], \"yaxis\": \"y\"}, {\"alignmentgroup\": \"True\", \"hoverlabel\": {\"namelength\": 0}, \"hovertemplate\": \"muni_city=%{x}<br>count=%{y}\", \"legendgroup\": \"muni_city=Tobias Fornier\", \"marker\": {\"color\": \"#E76BF3\"}, \"name\": \"muni_city=Tobias Fornier\", \"offsetgroup\": \"muni_city=Tobias Fornier\", \"orientation\": \"v\", \"showlegend\": true, \"textposition\": \"auto\", \"type\": \"bar\", \"x\": [\"Tobias Fornier\"], \"xaxis\": \"x\", \"y\": [1], \"yaxis\": \"y\"}, {\"alignmentgroup\": \"True\", \"hoverlabel\": {\"namelength\": 0}, \"hovertemplate\": \"muni_city=%{x}<br>count=%{y}\", \"legendgroup\": \"muni_city=San Nicolas\", \"marker\": {\"color\": \"#F8766D\"}, \"name\": \"muni_city=San Nicolas\", \"offsetgroup\": \"muni_city=San Nicolas\", \"orientation\": \"v\", \"showlegend\": true, \"textposition\": \"auto\", \"type\": \"bar\", \"x\": [\"San Nicolas\"], \"xaxis\": \"x\", \"y\": [1], \"yaxis\": \"y\"}, {\"alignmentgroup\": \"True\", \"hoverlabel\": {\"namelength\": 0}, \"hovertemplate\": \"muni_city=%{x}<br>count=%{y}\", \"legendgroup\": \"muni_city=Hinigaran\", \"marker\": {\"color\": \"#A3A500\"}, \"name\": \"muni_city=Hinigaran\", \"offsetgroup\": \"muni_city=Hinigaran\", \"orientation\": \"v\", \"showlegend\": true, \"textposition\": \"auto\", \"type\": \"bar\", \"x\": [\"Hinigaran\"], \"xaxis\": \"x\", \"y\": [1], \"yaxis\": \"y\"}, {\"alignmentgroup\": \"True\", \"hoverlabel\": {\"namelength\": 0}, \"hovertemplate\": \"muni_city=%{x}<br>count=%{y}\", \"legendgroup\": \"muni_city=Kapatagan\", \"marker\": {\"color\": \"#00BF7D\"}, \"name\": \"muni_city=Kapatagan\", \"offsetgroup\": \"muni_city=Kapatagan\", \"orientation\": \"v\", \"showlegend\": true, \"textposition\": \"auto\", \"type\": \"bar\", \"x\": [\"Kapatagan\"], \"xaxis\": \"x\", \"y\": [1], \"yaxis\": \"y\"}, {\"alignmentgroup\": \"True\", \"hoverlabel\": {\"namelength\": 0}, \"hovertemplate\": \"muni_city=%{x}<br>count=%{y}\", \"legendgroup\": \"muni_city=Dinalupihan\", \"marker\": {\"color\": \"#00B0F6\"}, \"name\": \"muni_city=Dinalupihan\", \"offsetgroup\": \"muni_city=Dinalupihan\", \"orientation\": \"v\", \"showlegend\": true, \"textposition\": \"auto\", \"type\": \"bar\", \"x\": [\"Dinalupihan\"], \"xaxis\": \"x\", \"y\": [1], \"yaxis\": \"y\"}, {\"alignmentgroup\": \"True\", \"hoverlabel\": {\"namelength\": 0}, \"hovertemplate\": \"muni_city=%{x}<br>count=%{y}\", \"legendgroup\": \"muni_city=Gloria\", \"marker\": {\"color\": \"#E76BF3\"}, \"name\": \"muni_city=Gloria\", \"offsetgroup\": \"muni_city=Gloria\", \"orientation\": \"v\", \"showlegend\": true, \"textposition\": \"auto\", \"type\": \"bar\", \"x\": [\"Gloria\"], \"xaxis\": \"x\", \"y\": [1], \"yaxis\": \"y\"}, {\"alignmentgroup\": \"True\", \"hoverlabel\": {\"namelength\": 0}, \"hovertemplate\": \"muni_city=%{x}<br>count=%{y}\", \"legendgroup\": \"muni_city=Manaoag\", \"marker\": {\"color\": \"#F8766D\"}, \"name\": \"muni_city=Manaoag\", \"offsetgroup\": \"muni_city=Manaoag\", \"orientation\": \"v\", \"showlegend\": true, \"textposition\": \"auto\", \"type\": \"bar\", \"x\": [\"Manaoag\"], \"xaxis\": \"x\", \"y\": [1], \"yaxis\": \"y\"}, {\"alignmentgroup\": \"True\", \"hoverlabel\": {\"namelength\": 0}, \"hovertemplate\": \"muni_city=%{x}<br>count=%{y}\", \"legendgroup\": \"muni_city=Laurel\", \"marker\": {\"color\": \"#A3A500\"}, \"name\": \"muni_city=Laurel\", \"offsetgroup\": \"muni_city=Laurel\", \"orientation\": \"v\", \"showlegend\": true, \"textposition\": \"auto\", \"type\": \"bar\", \"x\": [\"Laurel\"], \"xaxis\": \"x\", \"y\": [1], \"yaxis\": \"y\"}, {\"alignmentgroup\": \"True\", \"hoverlabel\": {\"namelength\": 0}, \"hovertemplate\": \"muni_city=%{x}<br>count=%{y}\", \"legendgroup\": \"muni_city=Subic\", \"marker\": {\"color\": \"#00BF7D\"}, \"name\": \"muni_city=Subic\", \"offsetgroup\": \"muni_city=Subic\", \"orientation\": \"v\", \"showlegend\": true, \"textposition\": \"auto\", \"type\": \"bar\", \"x\": [\"Subic\"], \"xaxis\": \"x\", \"y\": [1], \"yaxis\": \"y\"}, {\"alignmentgroup\": \"True\", \"hoverlabel\": {\"namelength\": 0}, \"hovertemplate\": \"muni_city=%{x}<br>count=%{y}\", \"legendgroup\": \"muni_city=Ozamis City\", \"marker\": {\"color\": \"#00B0F6\"}, \"name\": \"muni_city=Ozamis City\", \"offsetgroup\": \"muni_city=Ozamis City\", \"orientation\": \"v\", \"showlegend\": true, \"textposition\": \"auto\", \"type\": \"bar\", \"x\": [\"Ozamis City\"], \"xaxis\": \"x\", \"y\": [1], \"yaxis\": \"y\"}, {\"alignmentgroup\": \"True\", \"hoverlabel\": {\"namelength\": 0}, \"hovertemplate\": \"muni_city=%{x}<br>count=%{y}\", \"legendgroup\": \"muni_city=Bantayan\", \"marker\": {\"color\": \"#E76BF3\"}, \"name\": \"muni_city=Bantayan\", \"offsetgroup\": \"muni_city=Bantayan\", \"orientation\": \"v\", \"showlegend\": true, \"textposition\": \"auto\", \"type\": \"bar\", \"x\": [\"Bantayan\"], \"xaxis\": \"x\", \"y\": [1], \"yaxis\": \"y\"}, {\"alignmentgroup\": \"True\", \"hoverlabel\": {\"namelength\": 0}, \"hovertemplate\": \"muni_city=%{x}<br>count=%{y}\", \"legendgroup\": \"muni_city=Aurora\", \"marker\": {\"color\": \"#F8766D\"}, \"name\": \"muni_city=Aurora\", \"offsetgroup\": \"muni_city=Aurora\", \"orientation\": \"v\", \"showlegend\": true, \"textposition\": \"auto\", \"type\": \"bar\", \"x\": [\"Aurora\"], \"xaxis\": \"x\", \"y\": [1], \"yaxis\": \"y\"}, {\"alignmentgroup\": \"True\", \"hoverlabel\": {\"namelength\": 0}, \"hovertemplate\": \"muni_city=%{x}<br>count=%{y}\", \"legendgroup\": \"muni_city=Naga\", \"marker\": {\"color\": \"#A3A500\"}, \"name\": \"muni_city=Naga\", \"offsetgroup\": \"muni_city=Naga\", \"orientation\": \"v\", \"showlegend\": true, \"textposition\": \"auto\", \"type\": \"bar\", \"x\": [\"Naga\"], \"xaxis\": \"x\", \"y\": [1], \"yaxis\": \"y\"}, {\"alignmentgroup\": \"True\", \"hoverlabel\": {\"namelength\": 0}, \"hovertemplate\": \"muni_city=%{x}<br>count=%{y}\", \"legendgroup\": \"muni_city=Atimonan\", \"marker\": {\"color\": \"#00BF7D\"}, \"name\": \"muni_city=Atimonan\", \"offsetgroup\": \"muni_city=Atimonan\", \"orientation\": \"v\", \"showlegend\": true, \"textposition\": \"auto\", \"type\": \"bar\", \"x\": [\"Atimonan\"], \"xaxis\": \"x\", \"y\": [1], \"yaxis\": \"y\"}, {\"alignmentgroup\": \"True\", \"hoverlabel\": {\"namelength\": 0}, \"hovertemplate\": \"muni_city=%{x}<br>count=%{y}\", \"legendgroup\": \"muni_city=Baggao\", \"marker\": {\"color\": \"#00B0F6\"}, \"name\": \"muni_city=Baggao\", \"offsetgroup\": \"muni_city=Baggao\", \"orientation\": \"v\", \"showlegend\": true, \"textposition\": \"auto\", \"type\": \"bar\", \"x\": [\"Baggao\"], \"xaxis\": \"x\", \"y\": [1], \"yaxis\": \"y\"}, {\"alignmentgroup\": \"True\", \"hoverlabel\": {\"namelength\": 0}, \"hovertemplate\": \"muni_city=%{x}<br>count=%{y}\", \"legendgroup\": \"muni_city=Pugo\", \"marker\": {\"color\": \"#E76BF3\"}, \"name\": \"muni_city=Pugo\", \"offsetgroup\": \"muni_city=Pugo\", \"orientation\": \"v\", \"showlegend\": true, \"textposition\": \"auto\", \"type\": \"bar\", \"x\": [\"Pugo\"], \"xaxis\": \"x\", \"y\": [1], \"yaxis\": \"y\"}, {\"alignmentgroup\": \"True\", \"hoverlabel\": {\"namelength\": 0}, \"hovertemplate\": \"muni_city=%{x}<br>count=%{y}\", \"legendgroup\": \"muni_city=Indanan\", \"marker\": {\"color\": \"#F8766D\"}, \"name\": \"muni_city=Indanan\", \"offsetgroup\": \"muni_city=Indanan\", \"orientation\": \"v\", \"showlegend\": true, \"textposition\": \"auto\", \"type\": \"bar\", \"x\": [\"Indanan\"], \"xaxis\": \"x\", \"y\": [1], \"yaxis\": \"y\"}, {\"alignmentgroup\": \"True\", \"hoverlabel\": {\"namelength\": 0}, \"hovertemplate\": \"muni_city=%{x}<br>count=%{y}\", \"legendgroup\": \"muni_city=Catmon\", \"marker\": {\"color\": \"#A3A500\"}, \"name\": \"muni_city=Catmon\", \"offsetgroup\": \"muni_city=Catmon\", \"orientation\": \"v\", \"showlegend\": true, \"textposition\": \"auto\", \"type\": \"bar\", \"x\": [\"Catmon\"], \"xaxis\": \"x\", \"y\": [1], \"yaxis\": \"y\"}, {\"alignmentgroup\": \"True\", \"hoverlabel\": {\"namelength\": 0}, \"hovertemplate\": \"muni_city=%{x}<br>count=%{y}\", \"legendgroup\": \"muni_city=Zarraga\", \"marker\": {\"color\": \"#00BF7D\"}, \"name\": \"muni_city=Zarraga\", \"offsetgroup\": \"muni_city=Zarraga\", \"orientation\": \"v\", \"showlegend\": true, \"textposition\": \"auto\", \"type\": \"bar\", \"x\": [\"Zarraga\"], \"xaxis\": \"x\", \"y\": [1], \"yaxis\": \"y\"}, {\"alignmentgroup\": \"True\", \"hoverlabel\": {\"namelength\": 0}, \"hovertemplate\": \"muni_city=%{x}<br>count=%{y}\", \"legendgroup\": \"muni_city=Danao City\", \"marker\": {\"color\": \"#00B0F6\"}, \"name\": \"muni_city=Danao City\", \"offsetgroup\": \"muni_city=Danao City\", \"orientation\": \"v\", \"showlegend\": true, \"textposition\": \"auto\", \"type\": \"bar\", \"x\": [\"Danao City\"], \"xaxis\": \"x\", \"y\": [1], \"yaxis\": \"y\"}, {\"alignmentgroup\": \"True\", \"hoverlabel\": {\"namelength\": 0}, \"hovertemplate\": \"muni_city=%{x}<br>count=%{y}\", \"legendgroup\": \"muni_city=Gasan\", \"marker\": {\"color\": \"#E76BF3\"}, \"name\": \"muni_city=Gasan\", \"offsetgroup\": \"muni_city=Gasan\", \"orientation\": \"v\", \"showlegend\": true, \"textposition\": \"auto\", \"type\": \"bar\", \"x\": [\"Gasan\"], \"xaxis\": \"x\", \"y\": [1], \"yaxis\": \"y\"}, {\"alignmentgroup\": \"True\", \"hoverlabel\": {\"namelength\": 0}, \"hovertemplate\": \"muni_city=%{x}<br>count=%{y}\", \"legendgroup\": \"muni_city=Buenavista\", \"marker\": {\"color\": \"#F8766D\"}, \"name\": \"muni_city=Buenavista\", \"offsetgroup\": \"muni_city=Buenavista\", \"orientation\": \"v\", \"showlegend\": true, \"textposition\": \"auto\", \"type\": \"bar\", \"x\": [\"Buenavista\"], \"xaxis\": \"x\", \"y\": [1], \"yaxis\": \"y\"}, {\"alignmentgroup\": \"True\", \"hoverlabel\": {\"namelength\": 0}, \"hovertemplate\": \"muni_city=%{x}<br>count=%{y}\", \"legendgroup\": \"muni_city=Catbalogan City\", \"marker\": {\"color\": \"#A3A500\"}, \"name\": \"muni_city=Catbalogan City\", \"offsetgroup\": \"muni_city=Catbalogan City\", \"orientation\": \"v\", \"showlegend\": true, \"textposition\": \"auto\", \"type\": \"bar\", \"x\": [\"Catbalogan City\"], \"xaxis\": \"x\", \"y\": [1], \"yaxis\": \"y\"}, {\"alignmentgroup\": \"True\", \"hoverlabel\": {\"namelength\": 0}, \"hovertemplate\": \"muni_city=%{x}<br>count=%{y}\", \"legendgroup\": \"muni_city=Bagac\", \"marker\": {\"color\": \"#00BF7D\"}, \"name\": \"muni_city=Bagac\", \"offsetgroup\": \"muni_city=Bagac\", \"orientation\": \"v\", \"showlegend\": true, \"textposition\": \"auto\", \"type\": \"bar\", \"x\": [\"Bagac\"], \"xaxis\": \"x\", \"y\": [1], \"yaxis\": \"y\"}, {\"alignmentgroup\": \"True\", \"hoverlabel\": {\"namelength\": 0}, \"hovertemplate\": \"muni_city=%{x}<br>count=%{y}\", \"legendgroup\": \"muni_city=Jaen\", \"marker\": {\"color\": \"#00B0F6\"}, \"name\": \"muni_city=Jaen\", \"offsetgroup\": \"muni_city=Jaen\", \"orientation\": \"v\", \"showlegend\": true, \"textposition\": \"auto\", \"type\": \"bar\", \"x\": [\"Jaen\"], \"xaxis\": \"x\", \"y\": [1], \"yaxis\": \"y\"}, {\"alignmentgroup\": \"True\", \"hoverlabel\": {\"namelength\": 0}, \"hovertemplate\": \"muni_city=%{x}<br>count=%{y}\", \"legendgroup\": \"muni_city=Balaoan\", \"marker\": {\"color\": \"#E76BF3\"}, \"name\": \"muni_city=Balaoan\", \"offsetgroup\": \"muni_city=Balaoan\", \"orientation\": \"v\", \"showlegend\": true, \"textposition\": \"auto\", \"type\": \"bar\", \"x\": [\"Balaoan\"], \"xaxis\": \"x\", \"y\": [1], \"yaxis\": \"y\"}, {\"alignmentgroup\": \"True\", \"hoverlabel\": {\"namelength\": 0}, \"hovertemplate\": \"muni_city=%{x}<br>count=%{y}\", \"legendgroup\": \"muni_city=Dingle\", \"marker\": {\"color\": \"#F8766D\"}, \"name\": \"muni_city=Dingle\", \"offsetgroup\": \"muni_city=Dingle\", \"orientation\": \"v\", \"showlegend\": true, \"textposition\": \"auto\", \"type\": \"bar\", \"x\": [\"Dingle\"], \"xaxis\": \"x\", \"y\": [1], \"yaxis\": \"y\"}, {\"alignmentgroup\": \"True\", \"hoverlabel\": {\"namelength\": 0}, \"hovertemplate\": \"muni_city=%{x}<br>count=%{y}\", \"legendgroup\": \"muni_city=Candoni\", \"marker\": {\"color\": \"#A3A500\"}, \"name\": \"muni_city=Candoni\", \"offsetgroup\": \"muni_city=Candoni\", \"orientation\": \"v\", \"showlegend\": true, \"textposition\": \"auto\", \"type\": \"bar\", \"x\": [\"Candoni\"], \"xaxis\": \"x\", \"y\": [1], \"yaxis\": \"y\"}, {\"alignmentgroup\": \"True\", \"hoverlabel\": {\"namelength\": 0}, \"hovertemplate\": \"muni_city=%{x}<br>count=%{y}\", \"legendgroup\": \"muni_city=Naujan\", \"marker\": {\"color\": \"#00BF7D\"}, \"name\": \"muni_city=Naujan\", \"offsetgroup\": \"muni_city=Naujan\", \"orientation\": \"v\", \"showlegend\": true, \"textposition\": \"auto\", \"type\": \"bar\", \"x\": [\"Naujan\"], \"xaxis\": \"x\", \"y\": [1], \"yaxis\": \"y\"}, {\"alignmentgroup\": \"True\", \"hoverlabel\": {\"namelength\": 0}, \"hovertemplate\": \"muni_city=%{x}<br>count=%{y}\", \"legendgroup\": \"muni_city=Pakil\", \"marker\": {\"color\": \"#00B0F6\"}, \"name\": \"muni_city=Pakil\", \"offsetgroup\": \"muni_city=Pakil\", \"orientation\": \"v\", \"showlegend\": true, \"textposition\": \"auto\", \"type\": \"bar\", \"x\": [\"Pakil\"], \"xaxis\": \"x\", \"y\": [1], \"yaxis\": \"y\"}, {\"alignmentgroup\": \"True\", \"hoverlabel\": {\"namelength\": 0}, \"hovertemplate\": \"muni_city=%{x}<br>count=%{y}\", \"legendgroup\": \"muni_city=Malita\", \"marker\": {\"color\": \"#E76BF3\"}, \"name\": \"muni_city=Malita\", \"offsetgroup\": \"muni_city=Malita\", \"orientation\": \"v\", \"showlegend\": true, \"textposition\": \"auto\", \"type\": \"bar\", \"x\": [\"Malita\"], \"xaxis\": \"x\", \"y\": [1], \"yaxis\": \"y\"}, {\"alignmentgroup\": \"True\", \"hoverlabel\": {\"namelength\": 0}, \"hovertemplate\": \"muni_city=%{x}<br>count=%{y}\", \"legendgroup\": \"muni_city=Bacnotan\", \"marker\": {\"color\": \"#F8766D\"}, \"name\": \"muni_city=Bacnotan\", \"offsetgroup\": \"muni_city=Bacnotan\", \"orientation\": \"v\", \"showlegend\": true, \"textposition\": \"auto\", \"type\": \"bar\", \"x\": [\"Bacnotan\"], \"xaxis\": \"x\", \"y\": [1], \"yaxis\": \"y\"}, {\"alignmentgroup\": \"True\", \"hoverlabel\": {\"namelength\": 0}, \"hovertemplate\": \"muni_city=%{x}<br>count=%{y}\", \"legendgroup\": \"muni_city=Silay City\", \"marker\": {\"color\": \"#A3A500\"}, \"name\": \"muni_city=Silay City\", \"offsetgroup\": \"muni_city=Silay City\", \"orientation\": \"v\", \"showlegend\": true, \"textposition\": \"auto\", \"type\": \"bar\", \"x\": [\"Silay City\"], \"xaxis\": \"x\", \"y\": [1], \"yaxis\": \"y\"}, {\"alignmentgroup\": \"True\", \"hoverlabel\": {\"namelength\": 0}, \"hovertemplate\": \"muni_city=%{x}<br>count=%{y}\", \"legendgroup\": \"muni_city=Camalig\", \"marker\": {\"color\": \"#00BF7D\"}, \"name\": \"muni_city=Camalig\", \"offsetgroup\": \"muni_city=Camalig\", \"orientation\": \"v\", \"showlegend\": true, \"textposition\": \"auto\", \"type\": \"bar\", \"x\": [\"Camalig\"], \"xaxis\": \"x\", \"y\": [1], \"yaxis\": \"y\"}, {\"alignmentgroup\": \"True\", \"hoverlabel\": {\"namelength\": 0}, \"hovertemplate\": \"muni_city=%{x}<br>count=%{y}\", \"legendgroup\": \"muni_city=Nueva Valencia\", \"marker\": {\"color\": \"#00B0F6\"}, \"name\": \"muni_city=Nueva Valencia\", \"offsetgroup\": \"muni_city=Nueva Valencia\", \"orientation\": \"v\", \"showlegend\": true, \"textposition\": \"auto\", \"type\": \"bar\", \"x\": [\"Nueva Valencia\"], \"xaxis\": \"x\", \"y\": [1], \"yaxis\": \"y\"}, {\"alignmentgroup\": \"True\", \"hoverlabel\": {\"namelength\": 0}, \"hovertemplate\": \"muni_city=%{x}<br>count=%{y}\", \"legendgroup\": \"muni_city=Libmanan\", \"marker\": {\"color\": \"#E76BF3\"}, \"name\": \"muni_city=Libmanan\", \"offsetgroup\": \"muni_city=Libmanan\", \"orientation\": \"v\", \"showlegend\": true, \"textposition\": \"auto\", \"type\": \"bar\", \"x\": [\"Libmanan\"], \"xaxis\": \"x\", \"y\": [1], \"yaxis\": \"y\"}, {\"alignmentgroup\": \"True\", \"hoverlabel\": {\"namelength\": 0}, \"hovertemplate\": \"muni_city=%{x}<br>count=%{y}\", \"legendgroup\": \"muni_city=Escalante\", \"marker\": {\"color\": \"#F8766D\"}, \"name\": \"muni_city=Escalante\", \"offsetgroup\": \"muni_city=Escalante\", \"orientation\": \"v\", \"showlegend\": true, \"textposition\": \"auto\", \"type\": \"bar\", \"x\": [\"Escalante\"], \"xaxis\": \"x\", \"y\": [1], \"yaxis\": \"y\"}, {\"alignmentgroup\": \"True\", \"hoverlabel\": {\"namelength\": 0}, \"hovertemplate\": \"muni_city=%{x}<br>count=%{y}\", \"legendgroup\": \"muni_city=Virac\", \"marker\": {\"color\": \"#A3A500\"}, \"name\": \"muni_city=Virac\", \"offsetgroup\": \"muni_city=Virac\", \"orientation\": \"v\", \"showlegend\": true, \"textposition\": \"auto\", \"type\": \"bar\", \"x\": [\"Virac\"], \"xaxis\": \"x\", \"y\": [1], \"yaxis\": \"y\"}, {\"alignmentgroup\": \"True\", \"hoverlabel\": {\"namelength\": 0}, \"hovertemplate\": \"muni_city=%{x}<br>count=%{y}\", \"legendgroup\": \"muni_city=Carcar\", \"marker\": {\"color\": \"#00BF7D\"}, \"name\": \"muni_city=Carcar\", \"offsetgroup\": \"muni_city=Carcar\", \"orientation\": \"v\", \"showlegend\": true, \"textposition\": \"auto\", \"type\": \"bar\", \"x\": [\"Carcar\"], \"xaxis\": \"x\", \"y\": [1], \"yaxis\": \"y\"}, {\"alignmentgroup\": \"True\", \"hoverlabel\": {\"namelength\": 0}, \"hovertemplate\": \"muni_city=%{x}<br>count=%{y}\", \"legendgroup\": \"muni_city=Mendez\", \"marker\": {\"color\": \"#00B0F6\"}, \"name\": \"muni_city=Mendez\", \"offsetgroup\": \"muni_city=Mendez\", \"orientation\": \"v\", \"showlegend\": true, \"textposition\": \"auto\", \"type\": \"bar\", \"x\": [\"Mendez\"], \"xaxis\": \"x\", \"y\": [1], \"yaxis\": \"y\"}, {\"alignmentgroup\": \"True\", \"hoverlabel\": {\"namelength\": 0}, \"hovertemplate\": \"muni_city=%{x}<br>count=%{y}\", \"legendgroup\": \"muni_city=Pitogo\", \"marker\": {\"color\": \"#E76BF3\"}, \"name\": \"muni_city=Pitogo\", \"offsetgroup\": \"muni_city=Pitogo\", \"orientation\": \"v\", \"showlegend\": true, \"textposition\": \"auto\", \"type\": \"bar\", \"x\": [\"Pitogo\"], \"xaxis\": \"x\", \"y\": [1], \"yaxis\": \"y\"}, {\"alignmentgroup\": \"True\", \"hoverlabel\": {\"namelength\": 0}, \"hovertemplate\": \"muni_city=%{x}<br>count=%{y}\", \"legendgroup\": \"muni_city=T'boli\", \"marker\": {\"color\": \"#F8766D\"}, \"name\": \"muni_city=T'boli\", \"offsetgroup\": \"muni_city=T'boli\", \"orientation\": \"v\", \"showlegend\": true, \"textposition\": \"auto\", \"type\": \"bar\", \"x\": [\"T'boli\"], \"xaxis\": \"x\", \"y\": [1], \"yaxis\": \"y\"}, {\"alignmentgroup\": \"True\", \"hoverlabel\": {\"namelength\": 0}, \"hovertemplate\": \"muni_city=%{x}<br>count=%{y}\", \"legendgroup\": \"muni_city=Bustos\", \"marker\": {\"color\": \"#A3A500\"}, \"name\": \"muni_city=Bustos\", \"offsetgroup\": \"muni_city=Bustos\", \"orientation\": \"v\", \"showlegend\": true, \"textposition\": \"auto\", \"type\": \"bar\", \"x\": [\"Bustos\"], \"xaxis\": \"x\", \"y\": [1], \"yaxis\": \"y\"}, {\"alignmentgroup\": \"True\", \"hoverlabel\": {\"namelength\": 0}, \"hovertemplate\": \"muni_city=%{x}<br>count=%{y}\", \"legendgroup\": \"muni_city=Malay\", \"marker\": {\"color\": \"#00BF7D\"}, \"name\": \"muni_city=Malay\", \"offsetgroup\": \"muni_city=Malay\", \"orientation\": \"v\", \"showlegend\": true, \"textposition\": \"auto\", \"type\": \"bar\", \"x\": [\"Malay\"], \"xaxis\": \"x\", \"y\": [1], \"yaxis\": \"y\"}, {\"alignmentgroup\": \"True\", \"hoverlabel\": {\"namelength\": 0}, \"hovertemplate\": \"muni_city=%{x}<br>count=%{y}\", \"legendgroup\": \"muni_city=Lutayan\", \"marker\": {\"color\": \"#00B0F6\"}, \"name\": \"muni_city=Lutayan\", \"offsetgroup\": \"muni_city=Lutayan\", \"orientation\": \"v\", \"showlegend\": true, \"textposition\": \"auto\", \"type\": \"bar\", \"x\": [\"Lutayan\"], \"xaxis\": \"x\", \"y\": [1], \"yaxis\": \"y\"}, {\"alignmentgroup\": \"True\", \"hoverlabel\": {\"namelength\": 0}, \"hovertemplate\": \"muni_city=%{x}<br>count=%{y}\", \"legendgroup\": \"muni_city=Libacao\", \"marker\": {\"color\": \"#E76BF3\"}, \"name\": \"muni_city=Libacao\", \"offsetgroup\": \"muni_city=Libacao\", \"orientation\": \"v\", \"showlegend\": true, \"textposition\": \"auto\", \"type\": \"bar\", \"x\": [\"Libacao\"], \"xaxis\": \"x\", \"y\": [1], \"yaxis\": \"y\"}, {\"alignmentgroup\": \"True\", \"hoverlabel\": {\"namelength\": 0}, \"hovertemplate\": \"muni_city=%{x}<br>count=%{y}\", \"legendgroup\": \"muni_city=Cabangan\", \"marker\": {\"color\": \"#F8766D\"}, \"name\": \"muni_city=Cabangan\", \"offsetgroup\": \"muni_city=Cabangan\", \"orientation\": \"v\", \"showlegend\": true, \"textposition\": \"auto\", \"type\": \"bar\", \"x\": [\"Cabangan\"], \"xaxis\": \"x\", \"y\": [1], \"yaxis\": \"y\"}, {\"alignmentgroup\": \"True\", \"hoverlabel\": {\"namelength\": 0}, \"hovertemplate\": \"muni_city=%{x}<br>count=%{y}\", \"legendgroup\": \"muni_city=Lobo\", \"marker\": {\"color\": \"#A3A500\"}, \"name\": \"muni_city=Lobo\", \"offsetgroup\": \"muni_city=Lobo\", \"orientation\": \"v\", \"showlegend\": true, \"textposition\": \"auto\", \"type\": \"bar\", \"x\": [\"Lobo\"], \"xaxis\": \"x\", \"y\": [1], \"yaxis\": \"y\"}, {\"alignmentgroup\": \"True\", \"hoverlabel\": {\"namelength\": 0}, \"hovertemplate\": \"muni_city=%{x}<br>count=%{y}\", \"legendgroup\": \"muni_city=Cabagan\", \"marker\": {\"color\": \"#00BF7D\"}, \"name\": \"muni_city=Cabagan\", \"offsetgroup\": \"muni_city=Cabagan\", \"orientation\": \"v\", \"showlegend\": true, \"textposition\": \"auto\", \"type\": \"bar\", \"x\": [\"Cabagan\"], \"xaxis\": \"x\", \"y\": [1], \"yaxis\": \"y\"}, {\"alignmentgroup\": \"True\", \"hoverlabel\": {\"namelength\": 0}, \"hovertemplate\": \"muni_city=%{x}<br>count=%{y}\", \"legendgroup\": \"muni_city=Mabini\", \"marker\": {\"color\": \"#00B0F6\"}, \"name\": \"muni_city=Mabini\", \"offsetgroup\": \"muni_city=Mabini\", \"orientation\": \"v\", \"showlegend\": true, \"textposition\": \"auto\", \"type\": \"bar\", \"x\": [\"Mabini\"], \"xaxis\": \"x\", \"y\": [1], \"yaxis\": \"y\"}, {\"alignmentgroup\": \"True\", \"hoverlabel\": {\"namelength\": 0}, \"hovertemplate\": \"muni_city=%{x}<br>count=%{y}\", \"legendgroup\": \"muni_city=Sablayan\", \"marker\": {\"color\": \"#E76BF3\"}, \"name\": \"muni_city=Sablayan\", \"offsetgroup\": \"muni_city=Sablayan\", \"orientation\": \"v\", \"showlegend\": true, \"textposition\": \"auto\", \"type\": \"bar\", \"x\": [\"Sablayan\"], \"xaxis\": \"x\", \"y\": [1], \"yaxis\": \"y\"}, {\"alignmentgroup\": \"True\", \"hoverlabel\": {\"namelength\": 0}, \"hovertemplate\": \"muni_city=%{x}<br>count=%{y}\", \"legendgroup\": \"muni_city=Quezon\", \"marker\": {\"color\": \"#F8766D\"}, \"name\": \"muni_city=Quezon\", \"offsetgroup\": \"muni_city=Quezon\", \"orientation\": \"v\", \"showlegend\": true, \"textposition\": \"auto\", \"type\": \"bar\", \"x\": [\"Quezon\"], \"xaxis\": \"x\", \"y\": [1], \"yaxis\": \"y\"}, {\"alignmentgroup\": \"True\", \"hoverlabel\": {\"namelength\": 0}, \"hovertemplate\": \"muni_city=%{x}<br>count=%{y}\", \"legendgroup\": \"muni_city=Milaor\", \"marker\": {\"color\": \"#A3A500\"}, \"name\": \"muni_city=Milaor\", \"offsetgroup\": \"muni_city=Milaor\", \"orientation\": \"v\", \"showlegend\": true, \"textposition\": \"auto\", \"type\": \"bar\", \"x\": [\"Milaor\"], \"xaxis\": \"x\", \"y\": [1], \"yaxis\": \"y\"}, {\"alignmentgroup\": \"True\", \"hoverlabel\": {\"namelength\": 0}, \"hovertemplate\": \"muni_city=%{x}<br>count=%{y}\", \"legendgroup\": \"muni_city=Echague\", \"marker\": {\"color\": \"#00BF7D\"}, \"name\": \"muni_city=Echague\", \"offsetgroup\": \"muni_city=Echague\", \"orientation\": \"v\", \"showlegend\": true, \"textposition\": \"auto\", \"type\": \"bar\", \"x\": [\"Echague\"], \"xaxis\": \"x\", \"y\": [1], \"yaxis\": \"y\"}, {\"alignmentgroup\": \"True\", \"hoverlabel\": {\"namelength\": 0}, \"hovertemplate\": \"muni_city=%{x}<br>count=%{y}\", \"legendgroup\": \"muni_city=Paoay\", \"marker\": {\"color\": \"#00B0F6\"}, \"name\": \"muni_city=Paoay\", \"offsetgroup\": \"muni_city=Paoay\", \"orientation\": \"v\", \"showlegend\": true, \"textposition\": \"auto\", \"type\": \"bar\", \"x\": [\"Paoay\"], \"xaxis\": \"x\", \"y\": [1], \"yaxis\": \"y\"}, {\"alignmentgroup\": \"True\", \"hoverlabel\": {\"namelength\": 0}, \"hovertemplate\": \"muni_city=%{x}<br>count=%{y}\", \"legendgroup\": \"muni_city=Batac City\", \"marker\": {\"color\": \"#E76BF3\"}, \"name\": \"muni_city=Batac City\", \"offsetgroup\": \"muni_city=Batac City\", \"orientation\": \"v\", \"showlegend\": true, \"textposition\": \"auto\", \"type\": \"bar\", \"x\": [\"Batac City\"], \"xaxis\": \"x\", \"y\": [1], \"yaxis\": \"y\"}, {\"alignmentgroup\": \"True\", \"hoverlabel\": {\"namelength\": 0}, \"hovertemplate\": \"muni_city=%{x}<br>count=%{y}\", \"legendgroup\": \"muni_city=Bacacay\", \"marker\": {\"color\": \"#F8766D\"}, \"name\": \"muni_city=Bacacay\", \"offsetgroup\": \"muni_city=Bacacay\", \"orientation\": \"v\", \"showlegend\": true, \"textposition\": \"auto\", \"type\": \"bar\", \"x\": [\"Bacacay\"], \"xaxis\": \"x\", \"y\": [1], \"yaxis\": \"y\"}, {\"alignmentgroup\": \"True\", \"hoverlabel\": {\"namelength\": 0}, \"hovertemplate\": \"muni_city=%{x}<br>count=%{y}\", \"legendgroup\": \"muni_city=Santa Rita\", \"marker\": {\"color\": \"#A3A500\"}, \"name\": \"muni_city=Santa Rita\", \"offsetgroup\": \"muni_city=Santa Rita\", \"orientation\": \"v\", \"showlegend\": true, \"textposition\": \"auto\", \"type\": \"bar\", \"x\": [\"Santa Rita\"], \"xaxis\": \"x\", \"y\": [1], \"yaxis\": \"y\"}, {\"alignmentgroup\": \"True\", \"hoverlabel\": {\"namelength\": 0}, \"hovertemplate\": \"muni_city=%{x}<br>count=%{y}\", \"legendgroup\": \"muni_city=San Pascual\", \"marker\": {\"color\": \"#00BF7D\"}, \"name\": \"muni_city=San Pascual\", \"offsetgroup\": \"muni_city=San Pascual\", \"orientation\": \"v\", \"showlegend\": true, \"textposition\": \"auto\", \"type\": \"bar\", \"x\": [\"San Pascual\"], \"xaxis\": \"x\", \"y\": [1], \"yaxis\": \"y\"}, {\"alignmentgroup\": \"True\", \"hoverlabel\": {\"namelength\": 0}, \"hovertemplate\": \"muni_city=%{x}<br>count=%{y}\", \"legendgroup\": \"muni_city=Panglao\", \"marker\": {\"color\": \"#00B0F6\"}, \"name\": \"muni_city=Panglao\", \"offsetgroup\": \"muni_city=Panglao\", \"orientation\": \"v\", \"showlegend\": true, \"textposition\": \"auto\", \"type\": \"bar\", \"x\": [\"Panglao\"], \"xaxis\": \"x\", \"y\": [1], \"yaxis\": \"y\"}, {\"alignmentgroup\": \"True\", \"hoverlabel\": {\"namelength\": 0}, \"hovertemplate\": \"muni_city=%{x}<br>count=%{y}\", \"legendgroup\": \"muni_city=San Fabian\", \"marker\": {\"color\": \"#E76BF3\"}, \"name\": \"muni_city=San Fabian\", \"offsetgroup\": \"muni_city=San Fabian\", \"orientation\": \"v\", \"showlegend\": true, \"textposition\": \"auto\", \"type\": \"bar\", \"x\": [\"San Fabian\"], \"xaxis\": \"x\", \"y\": [1], \"yaxis\": \"y\"}, {\"alignmentgroup\": \"True\", \"hoverlabel\": {\"namelength\": 0}, \"hovertemplate\": \"muni_city=%{x}<br>count=%{y}\", \"legendgroup\": \"muni_city=Sampaloc\", \"marker\": {\"color\": \"#F8766D\"}, \"name\": \"muni_city=Sampaloc\", \"offsetgroup\": \"muni_city=Sampaloc\", \"orientation\": \"v\", \"showlegend\": true, \"textposition\": \"auto\", \"type\": \"bar\", \"x\": [\"Sampaloc\"], \"xaxis\": \"x\", \"y\": [1], \"yaxis\": \"y\"}, {\"alignmentgroup\": \"True\", \"hoverlabel\": {\"namelength\": 0}, \"hovertemplate\": \"muni_city=%{x}<br>count=%{y}\", \"legendgroup\": \"muni_city=Basista\", \"marker\": {\"color\": \"#A3A500\"}, \"name\": \"muni_city=Basista\", \"offsetgroup\": \"muni_city=Basista\", \"orientation\": \"v\", \"showlegend\": true, \"textposition\": \"auto\", \"type\": \"bar\", \"x\": [\"Basista\"], \"xaxis\": \"x\", \"y\": [1], \"yaxis\": \"y\"}, {\"alignmentgroup\": \"True\", \"hoverlabel\": {\"namelength\": 0}, \"hovertemplate\": \"muni_city=%{x}<br>count=%{y}\", \"legendgroup\": \"muni_city=Digos City\", \"marker\": {\"color\": \"#00BF7D\"}, \"name\": \"muni_city=Digos City\", \"offsetgroup\": \"muni_city=Digos City\", \"orientation\": \"v\", \"showlegend\": true, \"textposition\": \"auto\", \"type\": \"bar\", \"x\": [\"Digos City\"], \"xaxis\": \"x\", \"y\": [1], \"yaxis\": \"y\"}, {\"alignmentgroup\": \"True\", \"hoverlabel\": {\"namelength\": 0}, \"hovertemplate\": \"muni_city=%{x}<br>count=%{y}\", \"legendgroup\": \"muni_city=Burgos\", \"marker\": {\"color\": \"#00B0F6\"}, \"name\": \"muni_city=Burgos\", \"offsetgroup\": \"muni_city=Burgos\", \"orientation\": \"v\", \"showlegend\": true, \"textposition\": \"auto\", \"type\": \"bar\", \"x\": [\"Burgos\"], \"xaxis\": \"x\", \"y\": [1], \"yaxis\": \"y\"}, {\"alignmentgroup\": \"True\", \"hoverlabel\": {\"namelength\": 0}, \"hovertemplate\": \"muni_city=%{x}<br>count=%{y}\", \"legendgroup\": \"muni_city=Bayombong\", \"marker\": {\"color\": \"#E76BF3\"}, \"name\": \"muni_city=Bayombong\", \"offsetgroup\": \"muni_city=Bayombong\", \"orientation\": \"v\", \"showlegend\": true, \"textposition\": \"auto\", \"type\": \"bar\", \"x\": [\"Bayombong\"], \"xaxis\": \"x\", \"y\": [1], \"yaxis\": \"y\"}, {\"alignmentgroup\": \"True\", \"hoverlabel\": {\"namelength\": 0}, \"hovertemplate\": \"muni_city=%{x}<br>count=%{y}\", \"legendgroup\": \"muni_city=La Carlota City\", \"marker\": {\"color\": \"#F8766D\"}, \"name\": \"muni_city=La Carlota City\", \"offsetgroup\": \"muni_city=La Carlota City\", \"orientation\": \"v\", \"showlegend\": true, \"textposition\": \"auto\", \"type\": \"bar\", \"x\": [\"La Carlota City\"], \"xaxis\": \"x\", \"y\": [1], \"yaxis\": \"y\"}, {\"alignmentgroup\": \"True\", \"hoverlabel\": {\"namelength\": 0}, \"hovertemplate\": \"muni_city=%{x}<br>count=%{y}\", \"legendgroup\": \"muni_city=Mogpog\", \"marker\": {\"color\": \"#A3A500\"}, \"name\": \"muni_city=Mogpog\", \"offsetgroup\": \"muni_city=Mogpog\", \"orientation\": \"v\", \"showlegend\": true, \"textposition\": \"auto\", \"type\": \"bar\", \"x\": [\"Mogpog\"], \"xaxis\": \"x\", \"y\": [1], \"yaxis\": \"y\"}, {\"alignmentgroup\": \"True\", \"hoverlabel\": {\"namelength\": 0}, \"hovertemplate\": \"muni_city=%{x}<br>count=%{y}\", \"legendgroup\": \"muni_city=Labangan\", \"marker\": {\"color\": \"#00BF7D\"}, \"name\": \"muni_city=Labangan\", \"offsetgroup\": \"muni_city=Labangan\", \"orientation\": \"v\", \"showlegend\": true, \"textposition\": \"auto\", \"type\": \"bar\", \"x\": [\"Labangan\"], \"xaxis\": \"x\", \"y\": [1], \"yaxis\": \"y\"}, {\"alignmentgroup\": \"True\", \"hoverlabel\": {\"namelength\": 0}, \"hovertemplate\": \"muni_city=%{x}<br>count=%{y}\", \"legendgroup\": \"muni_city=Tagudin\", \"marker\": {\"color\": \"#00B0F6\"}, \"name\": \"muni_city=Tagudin\", \"offsetgroup\": \"muni_city=Tagudin\", \"orientation\": \"v\", \"showlegend\": true, \"textposition\": \"auto\", \"type\": \"bar\", \"x\": [\"Tagudin\"], \"xaxis\": \"x\", \"y\": [1], \"yaxis\": \"y\"}, {\"alignmentgroup\": \"True\", \"hoverlabel\": {\"namelength\": 0}, \"hovertemplate\": \"muni_city=%{x}<br>count=%{y}\", \"legendgroup\": \"muni_city=Apalit\", \"marker\": {\"color\": \"#E76BF3\"}, \"name\": \"muni_city=Apalit\", \"offsetgroup\": \"muni_city=Apalit\", \"orientation\": \"v\", \"showlegend\": true, \"textposition\": \"auto\", \"type\": \"bar\", \"x\": [\"Apalit\"], \"xaxis\": \"x\", \"y\": [1], \"yaxis\": \"y\"}, {\"alignmentgroup\": \"True\", \"hoverlabel\": {\"namelength\": 0}, \"hovertemplate\": \"muni_city=%{x}<br>count=%{y}\", \"legendgroup\": \"muni_city=Asingan\", \"marker\": {\"color\": \"#F8766D\"}, \"name\": \"muni_city=Asingan\", \"offsetgroup\": \"muni_city=Asingan\", \"orientation\": \"v\", \"showlegend\": true, \"textposition\": \"auto\", \"type\": \"bar\", \"x\": [\"Asingan\"], \"xaxis\": \"x\", \"y\": [1], \"yaxis\": \"y\"}, {\"alignmentgroup\": \"True\", \"hoverlabel\": {\"namelength\": 0}, \"hovertemplate\": \"muni_city=%{x}<br>count=%{y}\", \"legendgroup\": \"muni_city=Laur\", \"marker\": {\"color\": \"#A3A500\"}, \"name\": \"muni_city=Laur\", \"offsetgroup\": \"muni_city=Laur\", \"orientation\": \"v\", \"showlegend\": true, \"textposition\": \"auto\", \"type\": \"bar\", \"x\": [\"Laur\"], \"xaxis\": \"x\", \"y\": [1], \"yaxis\": \"y\"}, {\"alignmentgroup\": \"True\", \"hoverlabel\": {\"namelength\": 0}, \"hovertemplate\": \"muni_city=%{x}<br>count=%{y}\", \"legendgroup\": \"muni_city=Alfonso Castaneda\", \"marker\": {\"color\": \"#00BF7D\"}, \"name\": \"muni_city=Alfonso Castaneda\", \"offsetgroup\": \"muni_city=Alfonso Castaneda\", \"orientation\": \"v\", \"showlegend\": true, \"textposition\": \"auto\", \"type\": \"bar\", \"x\": [\"Alfonso Castaneda\"], \"xaxis\": \"x\", \"y\": [1], \"yaxis\": \"y\"}, {\"alignmentgroup\": \"True\", \"hoverlabel\": {\"namelength\": 0}, \"hovertemplate\": \"muni_city=%{x}<br>count=%{y}\", \"legendgroup\": \"muni_city=Matanao\", \"marker\": {\"color\": \"#00B0F6\"}, \"name\": \"muni_city=Matanao\", \"offsetgroup\": \"muni_city=Matanao\", \"orientation\": \"v\", \"showlegend\": true, \"textposition\": \"auto\", \"type\": \"bar\", \"x\": [\"Matanao\"], \"xaxis\": \"x\", \"y\": [1], \"yaxis\": \"y\"}, {\"alignmentgroup\": \"True\", \"hoverlabel\": {\"namelength\": 0}, \"hovertemplate\": \"muni_city=%{x}<br>count=%{y}\", \"legendgroup\": \"muni_city=Licab\", \"marker\": {\"color\": \"#E76BF3\"}, \"name\": \"muni_city=Licab\", \"offsetgroup\": \"muni_city=Licab\", \"orientation\": \"v\", \"showlegend\": true, \"textposition\": \"auto\", \"type\": \"bar\", \"x\": [\"Licab\"], \"xaxis\": \"x\", \"y\": [1], \"yaxis\": \"y\"}, {\"alignmentgroup\": \"True\", \"hoverlabel\": {\"namelength\": 0}, \"hovertemplate\": \"muni_city=%{x}<br>count=%{y}\", \"legendgroup\": \"muni_city=Urbiztondo\", \"marker\": {\"color\": \"#F8766D\"}, \"name\": \"muni_city=Urbiztondo\", \"offsetgroup\": \"muni_city=Urbiztondo\", \"orientation\": \"v\", \"showlegend\": true, \"textposition\": \"auto\", \"type\": \"bar\", \"x\": [\"Urbiztondo\"], \"xaxis\": \"x\", \"y\": [1], \"yaxis\": \"y\"}, {\"alignmentgroup\": \"True\", \"hoverlabel\": {\"namelength\": 0}, \"hovertemplate\": \"muni_city=%{x}<br>count=%{y}\", \"legendgroup\": \"muni_city=Cordoba\", \"marker\": {\"color\": \"#A3A500\"}, \"name\": \"muni_city=Cordoba\", \"offsetgroup\": \"muni_city=Cordoba\", \"orientation\": \"v\", \"showlegend\": true, \"textposition\": \"auto\", \"type\": \"bar\", \"x\": [\"Cordoba\"], \"xaxis\": \"x\", \"y\": [1], \"yaxis\": \"y\"}, {\"alignmentgroup\": \"True\", \"hoverlabel\": {\"namelength\": 0}, \"hovertemplate\": \"muni_city=%{x}<br>count=%{y}\", \"legendgroup\": \"muni_city=Mambusao\", \"marker\": {\"color\": \"#00BF7D\"}, \"name\": \"muni_city=Mambusao\", \"offsetgroup\": \"muni_city=Mambusao\", \"orientation\": \"v\", \"showlegend\": true, \"textposition\": \"auto\", \"type\": \"bar\", \"x\": [\"Mambusao\"], \"xaxis\": \"x\", \"y\": [1], \"yaxis\": \"y\"}, {\"alignmentgroup\": \"True\", \"hoverlabel\": {\"namelength\": 0}, \"hovertemplate\": \"muni_city=%{x}<br>count=%{y}\", \"legendgroup\": \"muni_city=Pasacao\", \"marker\": {\"color\": \"#00B0F6\"}, \"name\": \"muni_city=Pasacao\", \"offsetgroup\": \"muni_city=Pasacao\", \"orientation\": \"v\", \"showlegend\": true, \"textposition\": \"auto\", \"type\": \"bar\", \"x\": [\"Pasacao\"], \"xaxis\": \"x\", \"y\": [1], \"yaxis\": \"y\"}, {\"alignmentgroup\": \"True\", \"hoverlabel\": {\"namelength\": 0}, \"hovertemplate\": \"muni_city=%{x}<br>count=%{y}\", \"legendgroup\": \"muni_city=San Leonardo\", \"marker\": {\"color\": \"#E76BF3\"}, \"name\": \"muni_city=San Leonardo\", \"offsetgroup\": \"muni_city=San Leonardo\", \"orientation\": \"v\", \"showlegend\": true, \"textposition\": \"auto\", \"type\": \"bar\", \"x\": [\"San Leonardo\"], \"xaxis\": \"x\", \"y\": [1], \"yaxis\": \"y\"}, {\"alignmentgroup\": \"True\", \"hoverlabel\": {\"namelength\": 0}, \"hovertemplate\": \"muni_city=%{x}<br>count=%{y}\", \"legendgroup\": \"muni_city=Taal\", \"marker\": {\"color\": \"#F8766D\"}, \"name\": \"muni_city=Taal\", \"offsetgroup\": \"muni_city=Taal\", \"orientation\": \"v\", \"showlegend\": true, \"textposition\": \"auto\", \"type\": \"bar\", \"x\": [\"Taal\"], \"xaxis\": \"x\", \"y\": [1], \"yaxis\": \"y\"}, {\"alignmentgroup\": \"True\", \"hoverlabel\": {\"namelength\": 0}, \"hovertemplate\": \"muni_city=%{x}<br>count=%{y}\", \"legendgroup\": \"muni_city=General Santos City\", \"marker\": {\"color\": \"#A3A500\"}, \"name\": \"muni_city=General Santos City\", \"offsetgroup\": \"muni_city=General Santos City\", \"orientation\": \"v\", \"showlegend\": true, \"textposition\": \"auto\", \"type\": \"bar\", \"x\": [\"General Santos City\"], \"xaxis\": \"x\", \"y\": [1], \"yaxis\": \"y\"}, {\"alignmentgroup\": \"True\", \"hoverlabel\": {\"namelength\": 0}, \"hovertemplate\": \"muni_city=%{x}<br>count=%{y}\", \"legendgroup\": \"muni_city=Mawab\", \"marker\": {\"color\": \"#00BF7D\"}, \"name\": \"muni_city=Mawab\", \"offsetgroup\": \"muni_city=Mawab\", \"orientation\": \"v\", \"showlegend\": true, \"textposition\": \"auto\", \"type\": \"bar\", \"x\": [\"Mawab\"], \"xaxis\": \"x\", \"y\": [1], \"yaxis\": \"y\"}, {\"alignmentgroup\": \"True\", \"hoverlabel\": {\"namelength\": 0}, \"hovertemplate\": \"muni_city=%{x}<br>count=%{y}\", \"legendgroup\": \"muni_city=Catarman\", \"marker\": {\"color\": \"#00B0F6\"}, \"name\": \"muni_city=Catarman\", \"offsetgroup\": \"muni_city=Catarman\", \"orientation\": \"v\", \"showlegend\": true, \"textposition\": \"auto\", \"type\": \"bar\", \"x\": [\"Catarman\"], \"xaxis\": \"x\", \"y\": [1], \"yaxis\": \"y\"}, {\"alignmentgroup\": \"True\", \"hoverlabel\": {\"namelength\": 0}, \"hovertemplate\": \"muni_city=%{x}<br>count=%{y}\", \"legendgroup\": \"muni_city=Koronadal City\", \"marker\": {\"color\": \"#E76BF3\"}, \"name\": \"muni_city=Koronadal City\", \"offsetgroup\": \"muni_city=Koronadal City\", \"orientation\": \"v\", \"showlegend\": true, \"textposition\": \"auto\", \"type\": \"bar\", \"x\": [\"Koronadal City\"], \"xaxis\": \"x\", \"y\": [1], \"yaxis\": \"y\"}, {\"alignmentgroup\": \"True\", \"hoverlabel\": {\"namelength\": 0}, \"hovertemplate\": \"muni_city=%{x}<br>count=%{y}\", \"legendgroup\": \"muni_city=Tiaong\", \"marker\": {\"color\": \"#F8766D\"}, \"name\": \"muni_city=Tiaong\", \"offsetgroup\": \"muni_city=Tiaong\", \"orientation\": \"v\", \"showlegend\": true, \"textposition\": \"auto\", \"type\": \"bar\", \"x\": [\"Tiaong\"], \"xaxis\": \"x\", \"y\": [1], \"yaxis\": \"y\"}, {\"alignmentgroup\": \"True\", \"hoverlabel\": {\"namelength\": 0}, \"hovertemplate\": \"muni_city=%{x}<br>count=%{y}\", \"legendgroup\": \"muni_city=San Ildefonso\", \"marker\": {\"color\": \"#A3A500\"}, \"name\": \"muni_city=San Ildefonso\", \"offsetgroup\": \"muni_city=San Ildefonso\", \"orientation\": \"v\", \"showlegend\": true, \"textposition\": \"auto\", \"type\": \"bar\", \"x\": [\"San Ildefonso\"], \"xaxis\": \"x\", \"y\": [1], \"yaxis\": \"y\"}, {\"alignmentgroup\": \"True\", \"hoverlabel\": {\"namelength\": 0}, \"hovertemplate\": \"muni_city=%{x}<br>count=%{y}\", \"legendgroup\": \"muni_city=Cuyapo\", \"marker\": {\"color\": \"#00BF7D\"}, \"name\": \"muni_city=Cuyapo\", \"offsetgroup\": \"muni_city=Cuyapo\", \"orientation\": \"v\", \"showlegend\": true, \"textposition\": \"auto\", \"type\": \"bar\", \"x\": [\"Cuyapo\"], \"xaxis\": \"x\", \"y\": [1], \"yaxis\": \"y\"}, {\"alignmentgroup\": \"True\", \"hoverlabel\": {\"namelength\": 0}, \"hovertemplate\": \"muni_city=%{x}<br>count=%{y}\", \"legendgroup\": \"muni_city=Valencia\", \"marker\": {\"color\": \"#00B0F6\"}, \"name\": \"muni_city=Valencia\", \"offsetgroup\": \"muni_city=Valencia\", \"orientation\": \"v\", \"showlegend\": true, \"textposition\": \"auto\", \"type\": \"bar\", \"x\": [\"Valencia\"], \"xaxis\": \"x\", \"y\": [1], \"yaxis\": \"y\"}, {\"alignmentgroup\": \"True\", \"hoverlabel\": {\"namelength\": 0}, \"hovertemplate\": \"muni_city=%{x}<br>count=%{y}\", \"legendgroup\": \"muni_city=Jamindan\", \"marker\": {\"color\": \"#E76BF3\"}, \"name\": \"muni_city=Jamindan\", \"offsetgroup\": \"muni_city=Jamindan\", \"orientation\": \"v\", \"showlegend\": true, \"textposition\": \"auto\", \"type\": \"bar\", \"x\": [\"Jamindan\"], \"xaxis\": \"x\", \"y\": [1], \"yaxis\": \"y\"}, {\"alignmentgroup\": \"True\", \"hoverlabel\": {\"namelength\": 0}, \"hovertemplate\": \"muni_city=%{x}<br>count=%{y}\", \"legendgroup\": \"muni_city=Pantukan\", \"marker\": {\"color\": \"#F8766D\"}, \"name\": \"muni_city=Pantukan\", \"offsetgroup\": \"muni_city=Pantukan\", \"orientation\": \"v\", \"showlegend\": true, \"textposition\": \"auto\", \"type\": \"bar\", \"x\": [\"Pantukan\"], \"xaxis\": \"x\", \"y\": [1], \"yaxis\": \"y\"}, {\"alignmentgroup\": \"True\", \"hoverlabel\": {\"namelength\": 0}, \"hovertemplate\": \"muni_city=%{x}<br>count=%{y}\", \"legendgroup\": \"muni_city=San Agustin\", \"marker\": {\"color\": \"#A3A500\"}, \"name\": \"muni_city=San Agustin\", \"offsetgroup\": \"muni_city=San Agustin\", \"orientation\": \"v\", \"showlegend\": true, \"textposition\": \"auto\", \"type\": \"bar\", \"x\": [\"San Agustin\"], \"xaxis\": \"x\", \"y\": [1], \"yaxis\": \"y\"}, {\"alignmentgroup\": \"True\", \"hoverlabel\": {\"namelength\": 0}, \"hovertemplate\": \"muni_city=%{x}<br>count=%{y}\", \"legendgroup\": \"muni_city=Laoac\", \"marker\": {\"color\": \"#00BF7D\"}, \"name\": \"muni_city=Laoac\", \"offsetgroup\": \"muni_city=Laoac\", \"orientation\": \"v\", \"showlegend\": true, \"textposition\": \"auto\", \"type\": \"bar\", \"x\": [\"Laoac\"], \"xaxis\": \"x\", \"y\": [1], \"yaxis\": \"y\"}, {\"alignmentgroup\": \"True\", \"hoverlabel\": {\"namelength\": 0}, \"hovertemplate\": \"muni_city=%{x}<br>count=%{y}\", \"legendgroup\": \"muni_city=Famy\", \"marker\": {\"color\": \"#00B0F6\"}, \"name\": \"muni_city=Famy\", \"offsetgroup\": \"muni_city=Famy\", \"orientation\": \"v\", \"showlegend\": true, \"textposition\": \"auto\", \"type\": \"bar\", \"x\": [\"Famy\"], \"xaxis\": \"x\", \"y\": [1], \"yaxis\": \"y\"}, {\"alignmentgroup\": \"True\", \"hoverlabel\": {\"namelength\": 0}, \"hovertemplate\": \"muni_city=%{x}<br>count=%{y}\", \"legendgroup\": \"muni_city=Paombong\", \"marker\": {\"color\": \"#E76BF3\"}, \"name\": \"muni_city=Paombong\", \"offsetgroup\": \"muni_city=Paombong\", \"orientation\": \"v\", \"showlegend\": true, \"textposition\": \"auto\", \"type\": \"bar\", \"x\": [\"Paombong\"], \"xaxis\": \"x\", \"y\": [1], \"yaxis\": \"y\"}, {\"alignmentgroup\": \"True\", \"hoverlabel\": {\"namelength\": 0}, \"hovertemplate\": \"muni_city=%{x}<br>count=%{y}\", \"legendgroup\": \"muni_city=Bongabong\", \"marker\": {\"color\": \"#F8766D\"}, \"name\": \"muni_city=Bongabong\", \"offsetgroup\": \"muni_city=Bongabong\", \"orientation\": \"v\", \"showlegend\": true, \"textposition\": \"auto\", \"type\": \"bar\", \"x\": [\"Bongabong\"], \"xaxis\": \"x\", \"y\": [1], \"yaxis\": \"y\"}, {\"alignmentgroup\": \"True\", \"hoverlabel\": {\"namelength\": 0}, \"hovertemplate\": \"muni_city=%{x}<br>count=%{y}\", \"legendgroup\": \"muni_city=Angat\", \"marker\": {\"color\": \"#A3A500\"}, \"name\": \"muni_city=Angat\", \"offsetgroup\": \"muni_city=Angat\", \"orientation\": \"v\", \"showlegend\": true, \"textposition\": \"auto\", \"type\": \"bar\", \"x\": [\"Angat\"], \"xaxis\": \"x\", \"y\": [1], \"yaxis\": \"y\"}, {\"alignmentgroup\": \"True\", \"hoverlabel\": {\"namelength\": 0}, \"hovertemplate\": \"muni_city=%{x}<br>count=%{y}\", \"legendgroup\": \"muni_city=Mahinog\", \"marker\": {\"color\": \"#00BF7D\"}, \"name\": \"muni_city=Mahinog\", \"offsetgroup\": \"muni_city=Mahinog\", \"orientation\": \"v\", \"showlegend\": true, \"textposition\": \"auto\", \"type\": \"bar\", \"x\": [\"Mahinog\"], \"xaxis\": \"x\", \"y\": [1], \"yaxis\": \"y\"}, {\"alignmentgroup\": \"True\", \"hoverlabel\": {\"namelength\": 0}, \"hovertemplate\": \"muni_city=%{x}<br>count=%{y}\", \"legendgroup\": \"muni_city=Lambayong\", \"marker\": {\"color\": \"#00B0F6\"}, \"name\": \"muni_city=Lambayong\", \"offsetgroup\": \"muni_city=Lambayong\", \"orientation\": \"v\", \"showlegend\": true, \"textposition\": \"auto\", \"type\": \"bar\", \"x\": [\"Lambayong\"], \"xaxis\": \"x\", \"y\": [1], \"yaxis\": \"y\"}, {\"alignmentgroup\": \"True\", \"hoverlabel\": {\"namelength\": 0}, \"hovertemplate\": \"muni_city=%{x}<br>count=%{y}\", \"legendgroup\": \"muni_city=Naguilian\", \"marker\": {\"color\": \"#E76BF3\"}, \"name\": \"muni_city=Naguilian\", \"offsetgroup\": \"muni_city=Naguilian\", \"orientation\": \"v\", \"showlegend\": true, \"textposition\": \"auto\", \"type\": \"bar\", \"x\": [\"Naguilian\"], \"xaxis\": \"x\", \"y\": [1], \"yaxis\": \"y\"}, {\"alignmentgroup\": \"True\", \"hoverlabel\": {\"namelength\": 0}, \"hovertemplate\": \"muni_city=%{x}<br>count=%{y}\", \"legendgroup\": \"muni_city=Dumalinao\", \"marker\": {\"color\": \"#F8766D\"}, \"name\": \"muni_city=Dumalinao\", \"offsetgroup\": \"muni_city=Dumalinao\", \"orientation\": \"v\", \"showlegend\": true, \"textposition\": \"auto\", \"type\": \"bar\", \"x\": [\"Dumalinao\"], \"xaxis\": \"x\", \"y\": [1], \"yaxis\": \"y\"}, {\"alignmentgroup\": \"True\", \"hoverlabel\": {\"namelength\": 0}, \"hovertemplate\": \"muni_city=%{x}<br>count=%{y}\", \"legendgroup\": \"muni_city=Padre Garcia\", \"marker\": {\"color\": \"#A3A500\"}, \"name\": \"muni_city=Padre Garcia\", \"offsetgroup\": \"muni_city=Padre Garcia\", \"orientation\": \"v\", \"showlegend\": true, \"textposition\": \"auto\", \"type\": \"bar\", \"x\": [\"Padre Garcia\"], \"xaxis\": \"x\", \"y\": [1], \"yaxis\": \"y\"}, {\"alignmentgroup\": \"True\", \"hoverlabel\": {\"namelength\": 0}, \"hovertemplate\": \"muni_city=%{x}<br>count=%{y}\", \"legendgroup\": \"muni_city=Calbayog City\", \"marker\": {\"color\": \"#00BF7D\"}, \"name\": \"muni_city=Calbayog City\", \"offsetgroup\": \"muni_city=Calbayog City\", \"orientation\": \"v\", \"showlegend\": true, \"textposition\": \"auto\", \"type\": \"bar\", \"x\": [\"Calbayog City\"], \"xaxis\": \"x\", \"y\": [1], \"yaxis\": \"y\"}, {\"alignmentgroup\": \"True\", \"hoverlabel\": {\"namelength\": 0}, \"hovertemplate\": \"muni_city=%{x}<br>count=%{y}\", \"legendgroup\": \"muni_city=Piat\", \"marker\": {\"color\": \"#00B0F6\"}, \"name\": \"muni_city=Piat\", \"offsetgroup\": \"muni_city=Piat\", \"orientation\": \"v\", \"showlegend\": true, \"textposition\": \"auto\", \"type\": \"bar\", \"x\": [\"Piat\"], \"xaxis\": \"x\", \"y\": [1], \"yaxis\": \"y\"}, {\"alignmentgroup\": \"True\", \"hoverlabel\": {\"namelength\": 0}, \"hovertemplate\": \"muni_city=%{x}<br>count=%{y}\", \"legendgroup\": \"muni_city=Tubod\", \"marker\": {\"color\": \"#E76BF3\"}, \"name\": \"muni_city=Tubod\", \"offsetgroup\": \"muni_city=Tubod\", \"orientation\": \"v\", \"showlegend\": true, \"textposition\": \"auto\", \"type\": \"bar\", \"x\": [\"Tubod\"], \"xaxis\": \"x\", \"y\": [1], \"yaxis\": \"y\"}, {\"alignmentgroup\": \"True\", \"hoverlabel\": {\"namelength\": 0}, \"hovertemplate\": \"muni_city=%{x}<br>count=%{y}\", \"legendgroup\": \"muni_city=Altavas\", \"marker\": {\"color\": \"#F8766D\"}, \"name\": \"muni_city=Altavas\", \"offsetgroup\": \"muni_city=Altavas\", \"orientation\": \"v\", \"showlegend\": true, \"textposition\": \"auto\", \"type\": \"bar\", \"x\": [\"Altavas\"], \"xaxis\": \"x\", \"y\": [1], \"yaxis\": \"y\"}, {\"alignmentgroup\": \"True\", \"hoverlabel\": {\"namelength\": 0}, \"hovertemplate\": \"muni_city=%{x}<br>count=%{y}\", \"legendgroup\": \"muni_city=Calaca\", \"marker\": {\"color\": \"#A3A500\"}, \"name\": \"muni_city=Calaca\", \"offsetgroup\": \"muni_city=Calaca\", \"orientation\": \"v\", \"showlegend\": true, \"textposition\": \"auto\", \"type\": \"bar\", \"x\": [\"Calaca\"], \"xaxis\": \"x\", \"y\": [1], \"yaxis\": \"y\"}, {\"alignmentgroup\": \"True\", \"hoverlabel\": {\"namelength\": 0}, \"hovertemplate\": \"muni_city=%{x}<br>count=%{y}\", \"legendgroup\": \"muni_city=Laoag City\", \"marker\": {\"color\": \"#00BF7D\"}, \"name\": \"muni_city=Laoag City\", \"offsetgroup\": \"muni_city=Laoag City\", \"orientation\": \"v\", \"showlegend\": true, \"textposition\": \"auto\", \"type\": \"bar\", \"x\": [\"Laoag City\"], \"xaxis\": \"x\", \"y\": [1], \"yaxis\": \"y\"}, {\"alignmentgroup\": \"True\", \"hoverlabel\": {\"namelength\": 0}, \"hovertemplate\": \"muni_city=%{x}<br>count=%{y}\", \"legendgroup\": \"muni_city=Gattaran\", \"marker\": {\"color\": \"#00B0F6\"}, \"name\": \"muni_city=Gattaran\", \"offsetgroup\": \"muni_city=Gattaran\", \"orientation\": \"v\", \"showlegend\": true, \"textposition\": \"auto\", \"type\": \"bar\", \"x\": [\"Gattaran\"], \"xaxis\": \"x\", \"y\": [1], \"yaxis\": \"y\"}, {\"alignmentgroup\": \"True\", \"hoverlabel\": {\"namelength\": 0}, \"hovertemplate\": \"muni_city=%{x}<br>count=%{y}\", \"legendgroup\": \"muni_city=Tacurong City\", \"marker\": {\"color\": \"#E76BF3\"}, \"name\": \"muni_city=Tacurong City\", \"offsetgroup\": \"muni_city=Tacurong City\", \"orientation\": \"v\", \"showlegend\": true, \"textposition\": \"auto\", \"type\": \"bar\", \"x\": [\"Tacurong City\"], \"xaxis\": \"x\", \"y\": [1], \"yaxis\": \"y\"}, {\"alignmentgroup\": \"True\", \"hoverlabel\": {\"namelength\": 0}, \"hovertemplate\": \"muni_city=%{x}<br>count=%{y}\", \"legendgroup\": \"muni_city=Tanay\", \"marker\": {\"color\": \"#F8766D\"}, \"name\": \"muni_city=Tanay\", \"offsetgroup\": \"muni_city=Tanay\", \"orientation\": \"v\", \"showlegend\": true, \"textposition\": \"auto\", \"type\": \"bar\", \"x\": [\"Tanay\"], \"xaxis\": \"x\", \"y\": [1], \"yaxis\": \"y\"}, {\"alignmentgroup\": \"True\", \"hoverlabel\": {\"namelength\": 0}, \"hovertemplate\": \"muni_city=%{x}<br>count=%{y}\", \"legendgroup\": \"muni_city=Bokod\", \"marker\": {\"color\": \"#A3A500\"}, \"name\": \"muni_city=Bokod\", \"offsetgroup\": \"muni_city=Bokod\", \"orientation\": \"v\", \"showlegend\": true, \"textposition\": \"auto\", \"type\": \"bar\", \"x\": [\"Bokod\"], \"xaxis\": \"x\", \"y\": [1], \"yaxis\": \"y\"}, {\"alignmentgroup\": \"True\", \"hoverlabel\": {\"namelength\": 0}, \"hovertemplate\": \"muni_city=%{x}<br>count=%{y}\", \"legendgroup\": \"muni_city=Binalonan\", \"marker\": {\"color\": \"#00BF7D\"}, \"name\": \"muni_city=Binalonan\", \"offsetgroup\": \"muni_city=Binalonan\", \"orientation\": \"v\", \"showlegend\": true, \"textposition\": \"auto\", \"type\": \"bar\", \"x\": [\"Binalonan\"], \"xaxis\": \"x\", \"y\": [1], \"yaxis\": \"y\"}, {\"alignmentgroup\": \"True\", \"hoverlabel\": {\"namelength\": 0}, \"hovertemplate\": \"muni_city=%{x}<br>count=%{y}\", \"legendgroup\": \"muni_city=Paete\", \"marker\": {\"color\": \"#00B0F6\"}, \"name\": \"muni_city=Paete\", \"offsetgroup\": \"muni_city=Paete\", \"orientation\": \"v\", \"showlegend\": true, \"textposition\": \"auto\", \"type\": \"bar\", \"x\": [\"Paete\"], \"xaxis\": \"x\", \"y\": [1], \"yaxis\": \"y\"}, {\"alignmentgroup\": \"True\", \"hoverlabel\": {\"namelength\": 0}, \"hovertemplate\": \"muni_city=%{x}<br>count=%{y}\", \"legendgroup\": \"muni_city=Datu Odin Sinsuat\", \"marker\": {\"color\": \"#E76BF3\"}, \"name\": \"muni_city=Datu Odin Sinsuat\", \"offsetgroup\": \"muni_city=Datu Odin Sinsuat\", \"orientation\": \"v\", \"showlegend\": true, \"textposition\": \"auto\", \"type\": \"bar\", \"x\": [\"Datu Odin Sinsuat\"], \"xaxis\": \"x\", \"y\": [1], \"yaxis\": \"y\"}, {\"alignmentgroup\": \"True\", \"hoverlabel\": {\"namelength\": 0}, \"hovertemplate\": \"muni_city=%{x}<br>count=%{y}\", \"legendgroup\": \"muni_city=Obando\", \"marker\": {\"color\": \"#F8766D\"}, \"name\": \"muni_city=Obando\", \"offsetgroup\": \"muni_city=Obando\", \"orientation\": \"v\", \"showlegend\": true, \"textposition\": \"auto\", \"type\": \"bar\", \"x\": [\"Obando\"], \"xaxis\": \"x\", \"y\": [1], \"yaxis\": \"y\"}, {\"alignmentgroup\": \"True\", \"hoverlabel\": {\"namelength\": 0}, \"hovertemplate\": \"muni_city=%{x}<br>count=%{y}\", \"legendgroup\": \"muni_city=Midsayap\", \"marker\": {\"color\": \"#A3A500\"}, \"name\": \"muni_city=Midsayap\", \"offsetgroup\": \"muni_city=Midsayap\", \"orientation\": \"v\", \"showlegend\": true, \"textposition\": \"auto\", \"type\": \"bar\", \"x\": [\"Midsayap\"], \"xaxis\": \"x\", \"y\": [1], \"yaxis\": \"y\"}, {\"alignmentgroup\": \"True\", \"hoverlabel\": {\"namelength\": 0}, \"hovertemplate\": \"muni_city=%{x}<br>count=%{y}\", \"legendgroup\": \"muni_city=Hagonoy\", \"marker\": {\"color\": \"#00BF7D\"}, \"name\": \"muni_city=Hagonoy\", \"offsetgroup\": \"muni_city=Hagonoy\", \"orientation\": \"v\", \"showlegend\": true, \"textposition\": \"auto\", \"type\": \"bar\", \"x\": [\"Hagonoy\"], \"xaxis\": \"x\", \"y\": [1], \"yaxis\": \"y\"}],\n",
              "                        {\"barmode\": \"relative\", \"legend\": {\"tracegroupgap\": 0}, \"template\": {\"data\": {\"bar\": [{\"error_x\": {\"color\": \"rgb(51,51,51)\"}, \"error_y\": {\"color\": \"rgb(51,51,51)\"}, \"marker\": {\"line\": {\"color\": \"rgb(237,237,237)\", \"width\": 0.5}}, \"type\": \"bar\"}], \"barpolar\": [{\"marker\": {\"line\": {\"color\": \"rgb(237,237,237)\", \"width\": 0.5}}, \"type\": \"barpolar\"}], \"carpet\": [{\"aaxis\": {\"endlinecolor\": \"rgb(51,51,51)\", \"gridcolor\": \"white\", \"linecolor\": \"white\", \"minorgridcolor\": \"white\", \"startlinecolor\": \"rgb(51,51,51)\"}, \"baxis\": {\"endlinecolor\": \"rgb(51,51,51)\", \"gridcolor\": \"white\", \"linecolor\": \"white\", \"minorgridcolor\": \"white\", \"startlinecolor\": \"rgb(51,51,51)\"}, \"type\": \"carpet\"}], \"choropleth\": [{\"colorbar\": {\"outlinewidth\": 0, \"tickcolor\": \"rgb(237,237,237)\", \"ticklen\": 6, \"ticks\": \"inside\"}, \"type\": \"choropleth\"}], \"contour\": [{\"colorbar\": {\"outlinewidth\": 0, \"tickcolor\": \"rgb(237,237,237)\", \"ticklen\": 6, \"ticks\": \"inside\"}, \"colorscale\": [[0, \"rgb(20,44,66)\"], [1, \"rgb(90,179,244)\"]], \"type\": \"contour\"}], \"contourcarpet\": [{\"colorbar\": {\"outlinewidth\": 0, \"tickcolor\": \"rgb(237,237,237)\", \"ticklen\": 6, \"ticks\": \"inside\"}, \"type\": \"contourcarpet\"}], \"heatmap\": [{\"colorbar\": {\"outlinewidth\": 0, \"tickcolor\": \"rgb(237,237,237)\", \"ticklen\": 6, \"ticks\": \"inside\"}, \"colorscale\": [[0, \"rgb(20,44,66)\"], [1, \"rgb(90,179,244)\"]], \"type\": \"heatmap\"}], \"heatmapgl\": [{\"colorbar\": {\"outlinewidth\": 0, \"tickcolor\": \"rgb(237,237,237)\", \"ticklen\": 6, \"ticks\": \"inside\"}, \"colorscale\": [[0, \"rgb(20,44,66)\"], [1, \"rgb(90,179,244)\"]], \"type\": \"heatmapgl\"}], \"histogram\": [{\"marker\": {\"colorbar\": {\"outlinewidth\": 0, \"tickcolor\": \"rgb(237,237,237)\", \"ticklen\": 6, \"ticks\": \"inside\"}}, \"type\": \"histogram\"}], \"histogram2d\": [{\"colorbar\": {\"outlinewidth\": 0, \"tickcolor\": \"rgb(237,237,237)\", \"ticklen\": 6, \"ticks\": \"inside\"}, \"colorscale\": [[0, \"rgb(20,44,66)\"], [1, \"rgb(90,179,244)\"]], \"type\": \"histogram2d\"}], \"histogram2dcontour\": [{\"colorbar\": {\"outlinewidth\": 0, \"tickcolor\": \"rgb(237,237,237)\", \"ticklen\": 6, \"ticks\": \"inside\"}, \"colorscale\": [[0, \"rgb(20,44,66)\"], [1, \"rgb(90,179,244)\"]], \"type\": \"histogram2dcontour\"}], \"mesh3d\": [{\"colorbar\": {\"outlinewidth\": 0, \"tickcolor\": \"rgb(237,237,237)\", \"ticklen\": 6, \"ticks\": \"inside\"}, \"type\": \"mesh3d\"}], \"parcoords\": [{\"line\": {\"colorbar\": {\"outlinewidth\": 0, \"tickcolor\": \"rgb(237,237,237)\", \"ticklen\": 6, \"ticks\": \"inside\"}}, \"type\": \"parcoords\"}], \"pie\": [{\"automargin\": true, \"type\": \"pie\"}], \"scatter\": [{\"marker\": {\"colorbar\": {\"outlinewidth\": 0, \"tickcolor\": \"rgb(237,237,237)\", \"ticklen\": 6, \"ticks\": \"inside\"}}, \"type\": \"scatter\"}], \"scatter3d\": [{\"line\": {\"colorbar\": {\"outlinewidth\": 0, \"tickcolor\": \"rgb(237,237,237)\", \"ticklen\": 6, \"ticks\": \"inside\"}}, \"marker\": {\"colorbar\": {\"outlinewidth\": 0, \"tickcolor\": \"rgb(237,237,237)\", \"ticklen\": 6, \"ticks\": \"inside\"}}, \"type\": \"scatter3d\"}], \"scattercarpet\": [{\"marker\": {\"colorbar\": {\"outlinewidth\": 0, \"tickcolor\": \"rgb(237,237,237)\", \"ticklen\": 6, \"ticks\": \"inside\"}}, \"type\": \"scattercarpet\"}], \"scattergeo\": [{\"marker\": {\"colorbar\": {\"outlinewidth\": 0, \"tickcolor\": \"rgb(237,237,237)\", \"ticklen\": 6, \"ticks\": \"inside\"}}, \"type\": \"scattergeo\"}], \"scattergl\": [{\"marker\": {\"colorbar\": {\"outlinewidth\": 0, \"tickcolor\": \"rgb(237,237,237)\", \"ticklen\": 6, \"ticks\": \"inside\"}}, \"type\": \"scattergl\"}], \"scattermapbox\": [{\"marker\": {\"colorbar\": {\"outlinewidth\": 0, \"tickcolor\": \"rgb(237,237,237)\", \"ticklen\": 6, \"ticks\": \"inside\"}}, \"type\": \"scattermapbox\"}], \"scatterpolar\": [{\"marker\": {\"colorbar\": {\"outlinewidth\": 0, \"tickcolor\": \"rgb(237,237,237)\", \"ticklen\": 6, \"ticks\": \"inside\"}}, \"type\": \"scatterpolar\"}], \"scatterpolargl\": [{\"marker\": {\"colorbar\": {\"outlinewidth\": 0, \"tickcolor\": \"rgb(237,237,237)\", \"ticklen\": 6, \"ticks\": \"inside\"}}, \"type\": \"scatterpolargl\"}], \"scatterternary\": [{\"marker\": {\"colorbar\": {\"outlinewidth\": 0, \"tickcolor\": \"rgb(237,237,237)\", \"ticklen\": 6, \"ticks\": \"inside\"}}, \"type\": \"scatterternary\"}], \"surface\": [{\"colorbar\": {\"outlinewidth\": 0, \"tickcolor\": \"rgb(237,237,237)\", \"ticklen\": 6, \"ticks\": \"inside\"}, \"colorscale\": [[0, \"rgb(20,44,66)\"], [1, \"rgb(90,179,244)\"]], \"type\": \"surface\"}], \"table\": [{\"cells\": {\"fill\": {\"color\": \"rgb(237,237,237)\"}, \"line\": {\"color\": \"white\"}}, \"header\": {\"fill\": {\"color\": \"rgb(217,217,217)\"}, \"line\": {\"color\": \"white\"}}, \"type\": \"table\"}]}, \"layout\": {\"annotationdefaults\": {\"arrowhead\": 0, \"arrowwidth\": 1}, \"coloraxis\": {\"colorbar\": {\"outlinewidth\": 0, \"tickcolor\": \"rgb(237,237,237)\", \"ticklen\": 6, \"ticks\": \"inside\"}}, \"colorscale\": {\"sequential\": [[0, \"rgb(20,44,66)\"], [1, \"rgb(90,179,244)\"]], \"sequentialminus\": [[0, \"rgb(20,44,66)\"], [1, \"rgb(90,179,244)\"]]}, \"colorway\": [\"#F8766D\", \"#A3A500\", \"#00BF7D\", \"#00B0F6\", \"#E76BF3\"], \"font\": {\"color\": \"rgb(51,51,51)\"}, \"geo\": {\"bgcolor\": \"white\", \"lakecolor\": \"white\", \"landcolor\": \"rgb(237,237,237)\", \"showlakes\": true, \"showland\": true, \"subunitcolor\": \"white\"}, \"hoverlabel\": {\"align\": \"left\"}, \"hovermode\": \"closest\", \"paper_bgcolor\": \"white\", \"plot_bgcolor\": \"rgb(237,237,237)\", \"polar\": {\"angularaxis\": {\"gridcolor\": \"white\", \"linecolor\": \"white\", \"showgrid\": true, \"tickcolor\": \"rgb(51,51,51)\", \"ticks\": \"outside\"}, \"bgcolor\": \"rgb(237,237,237)\", \"radialaxis\": {\"gridcolor\": \"white\", \"linecolor\": \"white\", \"showgrid\": true, \"tickcolor\": \"rgb(51,51,51)\", \"ticks\": \"outside\"}}, \"scene\": {\"xaxis\": {\"backgroundcolor\": \"rgb(237,237,237)\", \"gridcolor\": \"white\", \"gridwidth\": 2, \"linecolor\": \"white\", \"showbackground\": true, \"showgrid\": true, \"tickcolor\": \"rgb(51,51,51)\", \"ticks\": \"outside\", \"zerolinecolor\": \"white\"}, \"yaxis\": {\"backgroundcolor\": \"rgb(237,237,237)\", \"gridcolor\": \"white\", \"gridwidth\": 2, \"linecolor\": \"white\", \"showbackground\": true, \"showgrid\": true, \"tickcolor\": \"rgb(51,51,51)\", \"ticks\": \"outside\", \"zerolinecolor\": \"white\"}, \"zaxis\": {\"backgroundcolor\": \"rgb(237,237,237)\", \"gridcolor\": \"white\", \"gridwidth\": 2, \"linecolor\": \"white\", \"showbackground\": true, \"showgrid\": true, \"tickcolor\": \"rgb(51,51,51)\", \"ticks\": \"outside\", \"zerolinecolor\": \"white\"}}, \"shapedefaults\": {\"fillcolor\": \"black\", \"line\": {\"width\": 0}, \"opacity\": 0.3}, \"ternary\": {\"aaxis\": {\"gridcolor\": \"white\", \"linecolor\": \"white\", \"showgrid\": true, \"tickcolor\": \"rgb(51,51,51)\", \"ticks\": \"outside\"}, \"baxis\": {\"gridcolor\": \"white\", \"linecolor\": \"white\", \"showgrid\": true, \"tickcolor\": \"rgb(51,51,51)\", \"ticks\": \"outside\"}, \"bgcolor\": \"rgb(237,237,237)\", \"caxis\": {\"gridcolor\": \"white\", \"linecolor\": \"white\", \"showgrid\": true, \"tickcolor\": \"rgb(51,51,51)\", \"ticks\": \"outside\"}}, \"xaxis\": {\"automargin\": true, \"gridcolor\": \"white\", \"linecolor\": \"white\", \"showgrid\": true, \"tickcolor\": \"rgb(51,51,51)\", \"ticks\": \"outside\", \"title\": {\"standoff\": 15}, \"zerolinecolor\": \"white\"}, \"yaxis\": {\"automargin\": true, \"gridcolor\": \"white\", \"linecolor\": \"white\", \"showgrid\": true, \"tickcolor\": \"rgb(51,51,51)\", \"ticks\": \"outside\", \"title\": {\"standoff\": 15}, \"zerolinecolor\": \"white\"}}}, \"title\": {\"text\": \"Location of  Coronavirus\"}, \"xaxis\": {\"anchor\": \"y\", \"categoryarray\": [\"Quezon City\", \"Cebu City\", \"Manila\", \"Para\\u00f1aque\", \"Mandaluyong\", \"Makati City\", \"Pasig City\", \"Taguig\", \"Pasay City\", \"Kalookan City\", \"San Juan\", \"Las Pi\\u00f1as\", \"Muntinlupa\", \"Davao City\", \"Marikina\", \"Valenzuela\", \"Antipolo City\", \"Bacoor\", \"Mandaue City\", \"Cainta\", \"Zamboanga City\", \"San Pedro\", \"Malabon\", \"Lapu-Lapu City\", \"Navotas\", \"Imus\", \"Calamba\", \"Dasmari\\u00f1as\", \"Taytay\", \"Lipa City\", \"Los Ba\\u00f1os\", \"Binangonan\", \"Santa Rosa\", \"Bi\\u00f1an\", \"Balanga City\", \"Rodriguez\", \"Batangas City\", \"Pateros\", \"San Mateo\", \"Baguio City\", \"Lucena City\", \"San Jose del Monte City\", \"Iloilo City\", \"Santa Cruz\", \"Cabuyao\", \"San Fernando\", \"Legazpi City\", \"General Trias\", \"Tarangnan\", \"Marilao\", \"Cabanatuan City\", \"San Pablo City\", \"Nasugbu\", \"Malolos City\", \"Angono\", \"Talisay\", \"Bacolod City\", \"Olongapo City\", \"Bay\", \"Daraga\", \"Santa Maria\", \"Meycauayan City\", \"Tuguegarao City\", \"Minglanilla\", \"Angeles City\", \"Teresa\", \"Cavite City\", \"Baliuag\", \"Calauan\", \"Tanza\", \"Orani\", \"Tarlac City\", \"Candelaria\", \"Tagum City\", \"Tanauan\", \"Bocaue\", \"Dagupan City\", \"Samal\", \"La Trinidad\", \"Calapan City\", \"Santo Tomas\", \"Silang\", \"Cagayan de Oro City\", \"Pila\", \"Tayabas City\", \"Mariveles\", \"Cardona\", \"Gapan City\", \"Pandan\", \"Victoria\", \"Marawi City\", \"Trece Martires City\", \"Alaminos\", \"Naga City\", \"Calauag\", \"Orion\", \"Limay\", \"Liliw\", \"Bulacan\", \"Cotabato City\", \"Maragondon\", \"Caluya\", \"Camiling\", \"San Jose\", \"Lumban\", \"Kawit\", \"Nagcarlan\", \"Guiguinto\", \"Lambunao\", \"Majayjay\", \"Bauan\", \"Guinobatan\", \"General Mariano Alvarez\", \"Bayambang\", \"Lubao\", \"Naic\", \"San Isidro\", \"Porac\", \"Pilar\", \"Indang\", \"San Rafael\", \"Noveleta\", \"Guagua\", \"Lopez\", \"Pandi\", \"Paniqui\", \"Rosario\", \"Consolacion\", \"Alitagtag\", \"Iligan City\", \"Carmona\", \"Torrijos\", \"Morong\", \"Urdaneta City\", \"Castillejos\", \"San Simon\", \"Dumaguete City\", \"Mabalacat\", \"Ternate\", \"Lingayen\", \"Calumpit\", \"Roxas City\", \"Baras\", \"Unisan\", \"San Felipe\", \"Pagsanjan\", \"Tagaytay City\", \"Pavia\", \"Rizal\", \"Tabaco City\", \"Malvar\", \"Norzagaray\", \"Butuan City\", \"Concepcion\", \"Alfonso\", \"Caba\", \"Rosales\", \"San Antonio\", \"Malasiqui\", \"Miagao\", \"San Miguel\", \"Guimbal\", \"Alicia\", \"Macabebe\", \"Abucay\", \"Floridablanca\", \"Solano\", \"Mati City\", \"Kalibo\", \"Sariaya\", \"Tuao\", \"Gerona\", \"San Carlos City\", \"Aritao\", \"Cabiao\", \"Magsaysay\", \"Cuenca\", \"Amadeo\", \"Lamut\", \"Jimenez\", \"Pagadian City\", \"Ligao City\", \"San Marcelino\", \"Cavinti\", \"Banga\", \"Santa Ana\", \"Mansalay\", \"Hermosa\", \"Sasmuan\", \"Puerto Princesa City\", \"Pagbilao\", \"Real\", \"Tudela\", \"Lemery\", \"Santiago\", \"Puerto Galera\", \"Lucban\", \"Mataas Na Kahoy\", \"Jala-Jala\", \"Panabo City\", \"General Mamerto Natividad\", \"Bacolor\", \"Burauen\", \"Tigbauan\", \"Agoo\", \"La Castellana\", \"Kidapawan City\", \"Mexico\", \"Enrique B. Magalona\", \"Liloan\", \"Tigaon\", \"Bamban\", \"Lian\", \"Bauang\", \"Kalayaan\", \"Jimalalud\", \"Dalaguete\", \"Candaba\", \"Magdalena\", \"Capas\", \"Pulilan\", \"Infanta\", \"Sallapadan\", \"Daanbantayan\", \"Barotac Nuevo\", \"Marantao\", \"Bago City\", \"Ibaan\", \"Labo\", \"Bais City\", \"Magalang\", \"Tayasan\", \"Cauayan\", \"Manabo\", \"Hamtic\", \"Roxas\", \"Minalabac\", \"Valladolid\", \"Pinamalayan\", \"Laua-An\", \"Zaragoza\", \"Boljoon\", \"Banate\", \"Talugtug\", \"Tobias Fornier\", \"San Nicolas\", \"Hinigaran\", \"Kapatagan\", \"Dinalupihan\", \"Gloria\", \"Manaoag\", \"Laurel\", \"Subic\", \"Ozamis City\", \"Bantayan\", \"Aurora\", \"Naga\", \"Atimonan\", \"Baggao\", \"Pugo\", \"Indanan\", \"Catmon\", \"Zarraga\", \"Danao City\", \"Gasan\", \"Buenavista\", \"Catbalogan City\", \"Bagac\", \"Jaen\", \"Balaoan\", \"Dingle\", \"Candoni\", \"Naujan\", \"Pakil\", \"Malita\", \"Bacnotan\", \"Silay City\", \"Camalig\", \"Nueva Valencia\", \"Libmanan\", \"Escalante\", \"Virac\", \"Carcar\", \"Mendez\", \"Pitogo\", \"T'boli\", \"Bustos\", \"Malay\", \"Lutayan\", \"Libacao\", \"Cabangan\", \"Lobo\", \"Cabagan\", \"Mabini\", \"Sablayan\", \"Quezon\", \"Milaor\", \"Echague\", \"Paoay\", \"Batac City\", \"Bacacay\", \"Santa Rita\", \"San Pascual\", \"Panglao\", \"San Fabian\", \"Sampaloc\", \"Basista\", \"Digos City\", \"Burgos\", \"Bayombong\", \"La Carlota City\", \"Mogpog\", \"Labangan\", \"Tagudin\", \"Apalit\", \"Asingan\", \"Laur\", \"Alfonso Castaneda\", \"Matanao\", \"Licab\", \"Urbiztondo\", \"Cordoba\", \"Mambusao\", \"Pasacao\", \"San Leonardo\", \"Taal\", \"General Santos City\", \"Mawab\", \"Catarman\", \"Koronadal City\", \"Tiaong\", \"San Ildefonso\", \"Cuyapo\", \"Valencia\", \"Jamindan\", \"Pantukan\", \"San Agustin\", \"Laoac\", \"Famy\", \"Paombong\", \"Bongabong\", \"Angat\", \"Mahinog\", \"Lambayong\", \"Naguilian\", \"Dumalinao\", \"Padre Garcia\", \"Calbayog City\", \"Piat\", \"Tubod\", \"Altavas\", \"Calaca\", \"Laoag City\", \"Gattaran\", \"Tacurong City\", \"Tanay\", \"Bokod\", \"Binalonan\", \"Paete\", \"Datu Odin Sinsuat\", \"Obando\", \"Midsayap\", \"Hagonoy\"], \"categoryorder\": \"array\", \"domain\": [0.0, 1.0], \"title\": {\"text\": \"muni_city\"}}, \"yaxis\": {\"anchor\": \"x\", \"domain\": [0.0, 1.0], \"title\": {\"text\": \"count\"}, \"type\": \"log\"}},\n",
              "                        {\"responsive\": true}\n",
              "                    ).then(function(){\n",
              "                            \n",
              "var gd = document.getElementById('87b40742-8bab-476f-805d-618ff079bce4');\n",
              "var x = new MutationObserver(function (mutations, observer) {{\n",
              "        var display = window.getComputedStyle(gd).display;\n",
              "        if (!display || display === 'none') {{\n",
              "            console.log([gd, 'removed!']);\n",
              "            Plotly.purge(gd);\n",
              "            observer.disconnect();\n",
              "        }}\n",
              "}});\n",
              "\n",
              "// Listen for the removal of the full notebook cells\n",
              "var notebookContainer = gd.closest('#notebook-container');\n",
              "if (notebookContainer) {{\n",
              "    x.observe(notebookContainer, {childList: true});\n",
              "}}\n",
              "\n",
              "// Listen for the clearing of the current output cell\n",
              "var outputEl = gd.closest('.output');\n",
              "if (outputEl) {{\n",
              "    x.observe(outputEl, {childList: true});\n",
              "}}\n",
              "\n",
              "                        })\n",
              "                };\n",
              "                \n",
              "            </script>\n",
              "        </div>\n",
              "</body>\n",
              "</html>"
            ]
          },
          "metadata": {
            "tags": []
          }
        }
      ]
    },
    {
      "cell_type": "markdown",
      "metadata": {
        "id": "khswug0iYqiP"
      },
      "source": [
        "# 5. which gender contribute the most cases in Philippines"
      ]
    },
    {
      "cell_type": "code",
      "metadata": {
        "colab": {
          "base_uri": "https://localhost:8080/"
        },
        "id": "wCdh3j78YmMP",
        "outputId": "ccdbd5aa-2812-42f9-add4-81d8722d0dbc"
      },
      "source": [
        "df['sex'].describe()"
      ],
      "execution_count": null,
      "outputs": [
        {
          "output_type": "execute_result",
          "data": {
            "text/plain": [
              "count     12091\n",
              "unique        2\n",
              "top        Male\n",
              "freq       6521\n",
              "Name: sex, dtype: object"
            ]
          },
          "metadata": {
            "tags": []
          },
          "execution_count": 80
        }
      ]
    },
    {
      "cell_type": "code",
      "metadata": {
        "colab": {
          "base_uri": "https://localhost:8080/",
          "height": 419
        },
        "id": "DRg08fu4ZPfg",
        "outputId": "b1bb78a9-c5f3-42dd-984d-396f98cf5686"
      },
      "source": [
        "data5 = df[['sex']]\r\n",
        "data5"
      ],
      "execution_count": null,
      "outputs": [
        {
          "output_type": "execute_result",
          "data": {
            "text/html": [
              "<div>\n",
              "<style scoped>\n",
              "    .dataframe tbody tr th:only-of-type {\n",
              "        vertical-align: middle;\n",
              "    }\n",
              "\n",
              "    .dataframe tbody tr th {\n",
              "        vertical-align: top;\n",
              "    }\n",
              "\n",
              "    .dataframe thead th {\n",
              "        text-align: right;\n",
              "    }\n",
              "</style>\n",
              "<table border=\"1\" class=\"dataframe\">\n",
              "  <thead>\n",
              "    <tr style=\"text-align: right;\">\n",
              "      <th></th>\n",
              "      <th>sex</th>\n",
              "    </tr>\n",
              "  </thead>\n",
              "  <tbody>\n",
              "    <tr>\n",
              "      <th>0</th>\n",
              "      <td>Female</td>\n",
              "    </tr>\n",
              "    <tr>\n",
              "      <th>1</th>\n",
              "      <td>Male</td>\n",
              "    </tr>\n",
              "    <tr>\n",
              "      <th>2</th>\n",
              "      <td>Female</td>\n",
              "    </tr>\n",
              "    <tr>\n",
              "      <th>3</th>\n",
              "      <td>Male</td>\n",
              "    </tr>\n",
              "    <tr>\n",
              "      <th>4</th>\n",
              "      <td>Male</td>\n",
              "    </tr>\n",
              "    <tr>\n",
              "      <th>...</th>\n",
              "      <td>...</td>\n",
              "    </tr>\n",
              "    <tr>\n",
              "      <th>12086</th>\n",
              "      <td>Male</td>\n",
              "    </tr>\n",
              "    <tr>\n",
              "      <th>12087</th>\n",
              "      <td>Male</td>\n",
              "    </tr>\n",
              "    <tr>\n",
              "      <th>12088</th>\n",
              "      <td>Female</td>\n",
              "    </tr>\n",
              "    <tr>\n",
              "      <th>12089</th>\n",
              "      <td>Female</td>\n",
              "    </tr>\n",
              "    <tr>\n",
              "      <th>12090</th>\n",
              "      <td>Female</td>\n",
              "    </tr>\n",
              "  </tbody>\n",
              "</table>\n",
              "<p>12091 rows × 1 columns</p>\n",
              "</div>"
            ],
            "text/plain": [
              "          sex\n",
              "0      Female\n",
              "1        Male\n",
              "2      Female\n",
              "3        Male\n",
              "4        Male\n",
              "...       ...\n",
              "12086    Male\n",
              "12087    Male\n",
              "12088  Female\n",
              "12089  Female\n",
              "12090  Female\n",
              "\n",
              "[12091 rows x 1 columns]"
            ]
          },
          "metadata": {
            "tags": []
          },
          "execution_count": 81
        }
      ]
    },
    {
      "cell_type": "code",
      "metadata": {
        "colab": {
          "base_uri": "https://localhost:8080/",
          "height": 173
        },
        "id": "nK_UTBITZc5s",
        "outputId": "5ec0b0a1-ac26-4495-fa24-d22dc3d0237f"
      },
      "source": [
        "data5[data5.sex == 'Male'].describe()"
      ],
      "execution_count": null,
      "outputs": [
        {
          "output_type": "execute_result",
          "data": {
            "text/html": [
              "<div>\n",
              "<style scoped>\n",
              "    .dataframe tbody tr th:only-of-type {\n",
              "        vertical-align: middle;\n",
              "    }\n",
              "\n",
              "    .dataframe tbody tr th {\n",
              "        vertical-align: top;\n",
              "    }\n",
              "\n",
              "    .dataframe thead th {\n",
              "        text-align: right;\n",
              "    }\n",
              "</style>\n",
              "<table border=\"1\" class=\"dataframe\">\n",
              "  <thead>\n",
              "    <tr style=\"text-align: right;\">\n",
              "      <th></th>\n",
              "      <th>sex</th>\n",
              "    </tr>\n",
              "  </thead>\n",
              "  <tbody>\n",
              "    <tr>\n",
              "      <th>count</th>\n",
              "      <td>6521</td>\n",
              "    </tr>\n",
              "    <tr>\n",
              "      <th>unique</th>\n",
              "      <td>1</td>\n",
              "    </tr>\n",
              "    <tr>\n",
              "      <th>top</th>\n",
              "      <td>Male</td>\n",
              "    </tr>\n",
              "    <tr>\n",
              "      <th>freq</th>\n",
              "      <td>6521</td>\n",
              "    </tr>\n",
              "  </tbody>\n",
              "</table>\n",
              "</div>"
            ],
            "text/plain": [
              "         sex\n",
              "count   6521\n",
              "unique     1\n",
              "top     Male\n",
              "freq    6521"
            ]
          },
          "metadata": {
            "tags": []
          },
          "execution_count": 82
        }
      ]
    },
    {
      "cell_type": "markdown",
      "metadata": {
        "id": "cCIpVu8EZreH"
      },
      "source": [
        "Total - Male = Female\r\n",
        "12091 - 6521 = 5570"
      ]
    },
    {
      "cell_type": "code",
      "metadata": {
        "colab": {
          "base_uri": "https://localhost:8080/",
          "height": 248
        },
        "id": "p_pMRfYeZ7YH",
        "outputId": "30d8949a-8748-4e39-b329-598543ccde65"
      },
      "source": [
        "Male, Female = 6521, 5570\r\n",
        "fig, ax = plt.subplots()\r\n",
        "ax.pie((Male, Female), labels=('Male', 'Female'), autopct='%1.1f%%')\r\n",
        "plt.show()"
      ],
      "execution_count": 114,
      "outputs": [
        {
          "output_type": "display_data",
          "data": {
            "image/png": "[encoded data removed]",
            "text/plain": [
              "<Figure size 432x288 with 1 Axes>"
            ]
          },
          "metadata": {
            "tags": []
          }
        }
      ]
    },
    {
      "cell_type": "markdown",
      "metadata": {
        "id": "pnP8kruHWv0F"
      },
      "source": [
        "# K-Means"
      ]
    },
    {
      "cell_type": "code",
      "metadata": {
        "colab": {
          "base_uri": "https://localhost:8080/",
          "height": 289
        },
        "id": "B9ffb3BHWzQa",
        "outputId": "38b48f45-874e-493c-a76f-22b1fef108c0"
      },
      "source": [
        "data6 = df.copy()\r\n",
        "data6.head()"
      ],
      "execution_count": null,
      "outputs": [
        {
          "output_type": "execute_result",
          "data": {
            "text/html": [
              "<div>\n",
              "<style scoped>\n",
              "    .dataframe tbody tr th:only-of-type {\n",
              "        vertical-align: middle;\n",
              "    }\n",
              "\n",
              "    .dataframe tbody tr th {\n",
              "        vertical-align: top;\n",
              "    }\n",
              "\n",
              "    .dataframe thead th {\n",
              "        text-align: right;\n",
              "    }\n",
              "</style>\n",
              "<table border=\"1\" class=\"dataframe\">\n",
              "  <thead>\n",
              "    <tr style=\"text-align: right;\">\n",
              "      <th></th>\n",
              "      <th>case_id</th>\n",
              "      <th>age</th>\n",
              "      <th>age_group</th>\n",
              "      <th>sex</th>\n",
              "      <th>date_announced</th>\n",
              "      <th>date_recovered</th>\n",
              "      <th>date_of_death</th>\n",
              "      <th>status</th>\n",
              "      <th>date_announced_as_removed</th>\n",
              "      <th>province</th>\n",
              "      <th>muni_city</th>\n",
              "      <th>health_status</th>\n",
              "      <th>home_quarantined</th>\n",
              "      <th>date_of_onset_of_symptoms</th>\n",
              "      <th>pregnant</th>\n",
              "      <th>region</th>\n",
              "    </tr>\n",
              "  </thead>\n",
              "  <tbody>\n",
              "    <tr>\n",
              "      <th>0</th>\n",
              "      <td>C404174</td>\n",
              "      <td>38.0</td>\n",
              "      <td>35 to 39</td>\n",
              "      <td>Female</td>\n",
              "      <td>2020-01-30</td>\n",
              "      <td>NaT</td>\n",
              "      <td>NaT</td>\n",
              "      <td>Recovered</td>\n",
              "      <td>2020-02-07</td>\n",
              "      <td>Negros Oriental</td>\n",
              "      <td>Dumaguete City</td>\n",
              "      <td>Recovered</td>\n",
              "      <td>NaN</td>\n",
              "      <td>2020-01-21</td>\n",
              "      <td>NaN</td>\n",
              "      <td>Central Visayas (Region VII)</td>\n",
              "    </tr>\n",
              "    <tr>\n",
              "      <th>1</th>\n",
              "      <td>C462688</td>\n",
              "      <td>44.0</td>\n",
              "      <td>40 to 44</td>\n",
              "      <td>Male</td>\n",
              "      <td>2020-02-03</td>\n",
              "      <td>NaT</td>\n",
              "      <td>2020-02-01</td>\n",
              "      <td>Died</td>\n",
              "      <td>2020-02-02</td>\n",
              "      <td>Negros Oriental</td>\n",
              "      <td>Dumaguete City</td>\n",
              "      <td>Died</td>\n",
              "      <td>NaN</td>\n",
              "      <td>2020-01-18</td>\n",
              "      <td>NaN</td>\n",
              "      <td>Central Visayas (Region VII)</td>\n",
              "    </tr>\n",
              "    <tr>\n",
              "      <th>2</th>\n",
              "      <td>C387710</td>\n",
              "      <td>60.0</td>\n",
              "      <td>60 to 64</td>\n",
              "      <td>Female</td>\n",
              "      <td>2020-02-05</td>\n",
              "      <td>2020-01-31</td>\n",
              "      <td>NaT</td>\n",
              "      <td>Recovered</td>\n",
              "      <td>2020-02-05</td>\n",
              "      <td>Bohol</td>\n",
              "      <td>Panglao</td>\n",
              "      <td>Recovered</td>\n",
              "      <td>No</td>\n",
              "      <td>2020-01-21</td>\n",
              "      <td>NaN</td>\n",
              "      <td>Central Visayas (Region VII)</td>\n",
              "    </tr>\n",
              "    <tr>\n",
              "      <th>3</th>\n",
              "      <td>C377460</td>\n",
              "      <td>48.0</td>\n",
              "      <td>45 to 49</td>\n",
              "      <td>Male</td>\n",
              "      <td>2020-03-06</td>\n",
              "      <td>NaT</td>\n",
              "      <td>NaT</td>\n",
              "      <td>Recovered</td>\n",
              "      <td>2020-03-27</td>\n",
              "      <td>Metropolitan Manila</td>\n",
              "      <td>Taguig</td>\n",
              "      <td>Recovered</td>\n",
              "      <td>No</td>\n",
              "      <td>2020-03-03</td>\n",
              "      <td>NaN</td>\n",
              "      <td>Metropolitan Manila</td>\n",
              "    </tr>\n",
              "    <tr>\n",
              "      <th>4</th>\n",
              "      <td>C498051</td>\n",
              "      <td>62.0</td>\n",
              "      <td>60 to 64</td>\n",
              "      <td>Male</td>\n",
              "      <td>2020-03-06</td>\n",
              "      <td>NaT</td>\n",
              "      <td>2020-03-11</td>\n",
              "      <td>Died</td>\n",
              "      <td>2020-03-12</td>\n",
              "      <td>Rizal</td>\n",
              "      <td>Cainta</td>\n",
              "      <td>Died</td>\n",
              "      <td>No</td>\n",
              "      <td>2020-02-25</td>\n",
              "      <td>NaN</td>\n",
              "      <td>CALABARZON (Region IV-A)</td>\n",
              "    </tr>\n",
              "  </tbody>\n",
              "</table>\n",
              "</div>"
            ],
            "text/plain": [
              "   case_id   age  ... pregnant                        region\n",
              "0  C404174  38.0  ...      NaN  Central Visayas (Region VII)\n",
              "1  C462688  44.0  ...      NaN  Central Visayas (Region VII)\n",
              "2  C387710  60.0  ...      NaN  Central Visayas (Region VII)\n",
              "3  C377460  48.0  ...      NaN           Metropolitan Manila\n",
              "4  C498051  62.0  ...      NaN      CALABARZON (Region IV-A)\n",
              "\n",
              "[5 rows x 16 columns]"
            ]
          },
          "metadata": {
            "tags": []
          },
          "execution_count": 11
        }
      ]
    },
    {
      "cell_type": "code",
      "metadata": {
        "colab": {
          "base_uri": "https://localhost:8080/",
          "height": 289
        },
        "id": "s3SFdeyhXGtO",
        "outputId": "0d75f115-0496-4cf0-8f5e-488ca52993a4"
      },
      "source": [
        "#drop Case_id data\r\n",
        "data6.drop(['case_id'], axis=1, inplace= True)\r\n",
        "data6.head()"
      ],
      "execution_count": null,
      "outputs": [
        {
          "output_type": "execute_result",
          "data": {
            "text/html": [
              "<div>\n",
              "<style scoped>\n",
              "    .dataframe tbody tr th:only-of-type {\n",
              "        vertical-align: middle;\n",
              "    }\n",
              "\n",
              "    .dataframe tbody tr th {\n",
              "        vertical-align: top;\n",
              "    }\n",
              "\n",
              "    .dataframe thead th {\n",
              "        text-align: right;\n",
              "    }\n",
              "</style>\n",
              "<table border=\"1\" class=\"dataframe\">\n",
              "  <thead>\n",
              "    <tr style=\"text-align: right;\">\n",
              "      <th></th>\n",
              "      <th>age</th>\n",
              "      <th>age_group</th>\n",
              "      <th>sex</th>\n",
              "      <th>date_announced</th>\n",
              "      <th>date_recovered</th>\n",
              "      <th>date_of_death</th>\n",
              "      <th>status</th>\n",
              "      <th>date_announced_as_removed</th>\n",
              "      <th>province</th>\n",
              "      <th>muni_city</th>\n",
              "      <th>health_status</th>\n",
              "      <th>home_quarantined</th>\n",
              "      <th>date_of_onset_of_symptoms</th>\n",
              "      <th>pregnant</th>\n",
              "      <th>region</th>\n",
              "    </tr>\n",
              "  </thead>\n",
              "  <tbody>\n",
              "    <tr>\n",
              "      <th>0</th>\n",
              "      <td>38.0</td>\n",
              "      <td>35 to 39</td>\n",
              "      <td>Female</td>\n",
              "      <td>2020-01-30</td>\n",
              "      <td>NaT</td>\n",
              "      <td>NaT</td>\n",
              "      <td>Recovered</td>\n",
              "      <td>2020-02-07</td>\n",
              "      <td>Negros Oriental</td>\n",
              "      <td>Dumaguete City</td>\n",
              "      <td>Recovered</td>\n",
              "      <td>NaN</td>\n",
              "      <td>2020-01-21</td>\n",
              "      <td>NaN</td>\n",
              "      <td>Central Visayas (Region VII)</td>\n",
              "    </tr>\n",
              "    <tr>\n",
              "      <th>1</th>\n",
              "      <td>44.0</td>\n",
              "      <td>40 to 44</td>\n",
              "      <td>Male</td>\n",
              "      <td>2020-02-03</td>\n",
              "      <td>NaT</td>\n",
              "      <td>2020-02-01</td>\n",
              "      <td>Died</td>\n",
              "      <td>2020-02-02</td>\n",
              "      <td>Negros Oriental</td>\n",
              "      <td>Dumaguete City</td>\n",
              "      <td>Died</td>\n",
              "      <td>NaN</td>\n",
              "      <td>2020-01-18</td>\n",
              "      <td>NaN</td>\n",
              "      <td>Central Visayas (Region VII)</td>\n",
              "    </tr>\n",
              "    <tr>\n",
              "      <th>2</th>\n",
              "      <td>60.0</td>\n",
              "      <td>60 to 64</td>\n",
              "      <td>Female</td>\n",
              "      <td>2020-02-05</td>\n",
              "      <td>2020-01-31</td>\n",
              "      <td>NaT</td>\n",
              "      <td>Recovered</td>\n",
              "      <td>2020-02-05</td>\n",
              "      <td>Bohol</td>\n",
              "      <td>Panglao</td>\n",
              "      <td>Recovered</td>\n",
              "      <td>No</td>\n",
              "      <td>2020-01-21</td>\n",
              "      <td>NaN</td>\n",
              "      <td>Central Visayas (Region VII)</td>\n",
              "    </tr>\n",
              "    <tr>\n",
              "      <th>3</th>\n",
              "      <td>48.0</td>\n",
              "      <td>45 to 49</td>\n",
              "      <td>Male</td>\n",
              "      <td>2020-03-06</td>\n",
              "      <td>NaT</td>\n",
              "      <td>NaT</td>\n",
              "      <td>Recovered</td>\n",
              "      <td>2020-03-27</td>\n",
              "      <td>Metropolitan Manila</td>\n",
              "      <td>Taguig</td>\n",
              "      <td>Recovered</td>\n",
              "      <td>No</td>\n",
              "      <td>2020-03-03</td>\n",
              "      <td>NaN</td>\n",
              "      <td>Metropolitan Manila</td>\n",
              "    </tr>\n",
              "    <tr>\n",
              "      <th>4</th>\n",
              "      <td>62.0</td>\n",
              "      <td>60 to 64</td>\n",
              "      <td>Male</td>\n",
              "      <td>2020-03-06</td>\n",
              "      <td>NaT</td>\n",
              "      <td>2020-03-11</td>\n",
              "      <td>Died</td>\n",
              "      <td>2020-03-12</td>\n",
              "      <td>Rizal</td>\n",
              "      <td>Cainta</td>\n",
              "      <td>Died</td>\n",
              "      <td>No</td>\n",
              "      <td>2020-02-25</td>\n",
              "      <td>NaN</td>\n",
              "      <td>CALABARZON (Region IV-A)</td>\n",
              "    </tr>\n",
              "  </tbody>\n",
              "</table>\n",
              "</div>"
            ],
            "text/plain": [
              "    age age_group  ... pregnant                        region\n",
              "0  38.0  35 to 39  ...      NaN  Central Visayas (Region VII)\n",
              "1  44.0  40 to 44  ...      NaN  Central Visayas (Region VII)\n",
              "2  60.0  60 to 64  ...      NaN  Central Visayas (Region VII)\n",
              "3  48.0  45 to 49  ...      NaN           Metropolitan Manila\n",
              "4  62.0  60 to 64  ...      NaN      CALABARZON (Region IV-A)\n",
              "\n",
              "[5 rows x 15 columns]"
            ]
          },
          "metadata": {
            "tags": []
          },
          "execution_count": 12
        }
      ]
    },
    {
      "cell_type": "code",
      "metadata": {
        "colab": {
          "base_uri": "https://localhost:8080/"
        },
        "id": "lmNRL5VifWKX",
        "outputId": "30037cc7-f679-46da-d67f-db0ec32d59be"
      },
      "source": [
        "data6['home_quarantined'].value_counts()"
      ],
      "execution_count": null,
      "outputs": [
        {
          "output_type": "execute_result",
          "data": {
            "text/plain": [
              "Yes    3400\n",
              "No     1910\n",
              "Name: home_quarantined, dtype: int64"
            ]
          },
          "metadata": {
            "tags": []
          },
          "execution_count": 38
        }
      ]
    },
    {
      "cell_type": "code",
      "metadata": {
        "colab": {
          "base_uri": "https://localhost:8080/"
        },
        "id": "KMoXsbftXYuW",
        "outputId": "fbc8ea91-c683-434f-d1b9-3890d7597cd7"
      },
      "source": [
        "data6['status'].value_counts()"
      ],
      "execution_count": null,
      "outputs": [
        {
          "output_type": "execute_result",
          "data": {
            "text/plain": [
              "For validation      5790\n",
              "Recovered           2460\n",
              "Admitted            1772\n",
              "Home quarantined    1263\n",
              "Died                 806\n",
              "Name: status, dtype: int64"
            ]
          },
          "metadata": {
            "tags": []
          },
          "execution_count": 13
        }
      ]
    },
    {
      "cell_type": "code",
      "metadata": {
        "colab": {
          "base_uri": "https://localhost:8080/"
        },
        "id": "K8q8TstrYaxI",
        "outputId": "e0132358-30ce-436c-9fc0-f35e3576f644"
      },
      "source": [
        "data6['age_group'].value_counts()"
      ],
      "execution_count": null,
      "outputs": [
        {
          "output_type": "execute_result",
          "data": {
            "text/plain": [
              "30 to 34    1510\n",
              "25 to 29    1289\n",
              "35 to 39    1061\n",
              "45 to 49    1002\n",
              "50 to 54     973\n",
              "55 to 59     967\n",
              "40 to 44     967\n",
              "60 to 64     921\n",
              "20 to 24     767\n",
              "65 to 69     713\n",
              "70 to 74     565\n",
              "80+          321\n",
              "75 to 79     287\n",
              "15 to 19     282\n",
              "10 to 14     169\n",
              "0 to 4       154\n",
              "5 to 9       122\n",
              "Name: age_group, dtype: int64"
            ]
          },
          "metadata": {
            "tags": []
          },
          "execution_count": 17
        }
      ]
    },
    {
      "cell_type": "code",
      "metadata": {
        "colab": {
          "base_uri": "https://localhost:8080/",
          "height": 204
        },
        "id": "Taa0qF3WXqt5",
        "outputId": "6b7ded91-8b42-42c7-9558-da4bd6edb8b0"
      },
      "source": [
        "data6xStatus = data6.drop(['status'], axis = 1)\r\n",
        "data6xStatus.head()"
      ],
      "execution_count": null,
      "outputs": [
        {
          "output_type": "execute_result",
          "data": {
            "text/html": [
              "<div>\n",
              "<style scoped>\n",
              "    .dataframe tbody tr th:only-of-type {\n",
              "        vertical-align: middle;\n",
              "    }\n",
              "\n",
              "    .dataframe tbody tr th {\n",
              "        vertical-align: top;\n",
              "    }\n",
              "\n",
              "    .dataframe thead th {\n",
              "        text-align: right;\n",
              "    }\n",
              "</style>\n",
              "<table border=\"1\" class=\"dataframe\">\n",
              "  <thead>\n",
              "    <tr style=\"text-align: right;\">\n",
              "      <th></th>\n",
              "      <th>age</th>\n",
              "      <th>age_group</th>\n",
              "      <th>sex</th>\n",
              "      <th>date_announced</th>\n",
              "      <th>date_recovered</th>\n",
              "      <th>date_of_death</th>\n",
              "      <th>date_announced_as_removed</th>\n",
              "      <th>province</th>\n",
              "      <th>muni_city</th>\n",
              "      <th>health_status</th>\n",
              "      <th>home_quarantined</th>\n",
              "      <th>date_of_onset_of_symptoms</th>\n",
              "      <th>pregnant</th>\n",
              "      <th>region</th>\n",
              "    </tr>\n",
              "  </thead>\n",
              "  <tbody>\n",
              "    <tr>\n",
              "      <th>0</th>\n",
              "      <td>38.0</td>\n",
              "      <td>35 to 39</td>\n",
              "      <td>Female</td>\n",
              "      <td>2020-01-30</td>\n",
              "      <td>NaT</td>\n",
              "      <td>NaT</td>\n",
              "      <td>2020-02-07</td>\n",
              "      <td>Negros Oriental</td>\n",
              "      <td>Dumaguete City</td>\n",
              "      <td>Recovered</td>\n",
              "      <td>NaN</td>\n",
              "      <td>2020-01-21</td>\n",
              "      <td>NaN</td>\n",
              "      <td>Central Visayas (Region VII)</td>\n",
              "    </tr>\n",
              "    <tr>\n",
              "      <th>1</th>\n",
              "      <td>44.0</td>\n",
              "      <td>40 to 44</td>\n",
              "      <td>Male</td>\n",
              "      <td>2020-02-03</td>\n",
              "      <td>NaT</td>\n",
              "      <td>2020-02-01</td>\n",
              "      <td>2020-02-02</td>\n",
              "      <td>Negros Oriental</td>\n",
              "      <td>Dumaguete City</td>\n",
              "      <td>Died</td>\n",
              "      <td>NaN</td>\n",
              "      <td>2020-01-18</td>\n",
              "      <td>NaN</td>\n",
              "      <td>Central Visayas (Region VII)</td>\n",
              "    </tr>\n",
              "    <tr>\n",
              "      <th>2</th>\n",
              "      <td>60.0</td>\n",
              "      <td>60 to 64</td>\n",
              "      <td>Female</td>\n",
              "      <td>2020-02-05</td>\n",
              "      <td>2020-01-31</td>\n",
              "      <td>NaT</td>\n",
              "      <td>2020-02-05</td>\n",
              "      <td>Bohol</td>\n",
              "      <td>Panglao</td>\n",
              "      <td>Recovered</td>\n",
              "      <td>No</td>\n",
              "      <td>2020-01-21</td>\n",
              "      <td>NaN</td>\n",
              "      <td>Central Visayas (Region VII)</td>\n",
              "    </tr>\n",
              "    <tr>\n",
              "      <th>3</th>\n",
              "      <td>48.0</td>\n",
              "      <td>45 to 49</td>\n",
              "      <td>Male</td>\n",
              "      <td>2020-03-06</td>\n",
              "      <td>NaT</td>\n",
              "      <td>NaT</td>\n",
              "      <td>2020-03-27</td>\n",
              "      <td>Metropolitan Manila</td>\n",
              "      <td>Taguig</td>\n",
              "      <td>Recovered</td>\n",
              "      <td>No</td>\n",
              "      <td>2020-03-03</td>\n",
              "      <td>NaN</td>\n",
              "      <td>Metropolitan Manila</td>\n",
              "    </tr>\n",
              "    <tr>\n",
              "      <th>4</th>\n",
              "      <td>62.0</td>\n",
              "      <td>60 to 64</td>\n",
              "      <td>Male</td>\n",
              "      <td>2020-03-06</td>\n",
              "      <td>NaT</td>\n",
              "      <td>2020-03-11</td>\n",
              "      <td>2020-03-12</td>\n",
              "      <td>Rizal</td>\n",
              "      <td>Cainta</td>\n",
              "      <td>Died</td>\n",
              "      <td>No</td>\n",
              "      <td>2020-02-25</td>\n",
              "      <td>NaN</td>\n",
              "      <td>CALABARZON (Region IV-A)</td>\n",
              "    </tr>\n",
              "  </tbody>\n",
              "</table>\n",
              "</div>"
            ],
            "text/plain": [
              "    age age_group  ... pregnant                        region\n",
              "0  38.0  35 to 39  ...      NaN  Central Visayas (Region VII)\n",
              "1  44.0  40 to 44  ...      NaN  Central Visayas (Region VII)\n",
              "2  60.0  60 to 64  ...      NaN  Central Visayas (Region VII)\n",
              "3  48.0  45 to 49  ...      NaN           Metropolitan Manila\n",
              "4  62.0  60 to 64  ...      NaN      CALABARZON (Region IV-A)\n",
              "\n",
              "[5 rows x 14 columns]"
            ]
          },
          "metadata": {
            "tags": []
          },
          "execution_count": 14
        }
      ]
    },
    {
      "cell_type": "code",
      "metadata": {
        "colab": {
          "base_uri": "https://localhost:8080/"
        },
        "id": "njTpIR1dX9e5",
        "outputId": "a93d0273-e8fd-4c00-a714-7bec39fae241"
      },
      "source": [
        "data6xStatus.info()"
      ],
      "execution_count": null,
      "outputs": [
        {
          "output_type": "stream",
          "text": [
            "<class 'pandas.core.frame.DataFrame'>\n",
            "RangeIndex: 12091 entries, 0 to 12090\n",
            "Data columns (total 14 columns):\n",
            " #   Column                     Non-Null Count  Dtype         \n",
            "---  ------                     --------------  -----         \n",
            " 0   age                        12070 non-null  float64       \n",
            " 1   age_group                  12070 non-null  category      \n",
            " 2   sex                        12091 non-null  object        \n",
            " 3   date_announced             12091 non-null  datetime64[ns]\n",
            " 4   date_recovered             1237 non-null   datetime64[ns]\n",
            " 5   date_of_death              657 non-null    datetime64[ns]\n",
            " 6   date_announced_as_removed  3266 non-null   datetime64[ns]\n",
            " 7   province                   11053 non-null  category      \n",
            " 8   muni_city                  11053 non-null  category      \n",
            " 9   health_status              12091 non-null  category      \n",
            " 10  home_quarantined           5310 non-null   category      \n",
            " 11  date_of_onset_of_symptoms  6561 non-null   datetime64[ns]\n",
            " 12  pregnant                   1925 non-null   category      \n",
            " 13  region                     11053 non-null  category      \n",
            "dtypes: category(7), datetime64[ns](5), float64(1), object(1)\n",
            "memory usage: 773.5+ KB\n"
          ],
          "name": "stdout"
        }
      ]
    },
    {
      "cell_type": "code",
      "metadata": {
        "id": "XHBNR8bqb4GN"
      },
      "source": [
        "df['sex'] = df['sex'].astype('category')\r\n",
        "df['health_status'] = df['health_status'].astype('object')"
      ],
      "execution_count": null,
      "outputs": []
    },
    {
      "cell_type": "code",
      "metadata": {
        "id": "S5zjlfJIcuUv"
      },
      "source": [
        "sex = {'Female': 1, 'Male':0}\r\n",
        "data6xStatus.sex = [sex[item] for item in data6xStatus.sex]"
      ],
      "execution_count": null,
      "outputs": []
    },
    {
      "cell_type": "code",
      "metadata": {
        "colab": {
          "base_uri": "https://localhost:8080/",
          "height": 248
        },
        "id": "PnkL0kxAf8cI",
        "outputId": "dd0da1d0-4e10-4bf8-ba91-b70eff35dad0"
      },
      "source": [
        "health_status = {'Admitted': 0, 'Died': 1, 'For validation': 2, 'Home quarantined': 3, 'Recovered': 4}\r\n",
        "data6xStatus.health_status = [health_status[item] for item in data6xStatus.health_status]"
      ],
      "execution_count": null,
      "outputs": [
        {
          "output_type": "error",
          "ename": "KeyError",
          "evalue": "ignored",
          "traceback": [
            "\u001b[0;31m---------------------------------------------------------------------------\u001b[0m",
            "\u001b[0;31mKeyError\u001b[0m                                  Traceback (most recent call last)",
            "\u001b[0;32m<ipython-input-46-87f058e179fc>\u001b[0m in \u001b[0;36m<module>\u001b[0;34m()\u001b[0m\n\u001b[1;32m      1\u001b[0m \u001b[0mhealth_status\u001b[0m \u001b[0;34m=\u001b[0m \u001b[0;34m{\u001b[0m\u001b[0;34m'Admitted'\u001b[0m\u001b[0;34m:\u001b[0m \u001b[0;36m0\u001b[0m\u001b[0;34m,\u001b[0m \u001b[0;34m'Died'\u001b[0m\u001b[0;34m:\u001b[0m \u001b[0;36m1\u001b[0m\u001b[0;34m,\u001b[0m \u001b[0;34m'For validation'\u001b[0m\u001b[0;34m:\u001b[0m \u001b[0;36m2\u001b[0m\u001b[0;34m,\u001b[0m \u001b[0;34m'Home quarantined'\u001b[0m\u001b[0;34m:\u001b[0m \u001b[0;36m3\u001b[0m\u001b[0;34m,\u001b[0m \u001b[0;34m'Recovered'\u001b[0m\u001b[0;34m:\u001b[0m \u001b[0;36m4\u001b[0m\u001b[0;34m}\u001b[0m\u001b[0;34m\u001b[0m\u001b[0;34m\u001b[0m\u001b[0m\n\u001b[0;32m----> 2\u001b[0;31m \u001b[0mdata6xStatus\u001b[0m\u001b[0;34m.\u001b[0m\u001b[0mhealth_status\u001b[0m \u001b[0;34m=\u001b[0m \u001b[0;34m[\u001b[0m\u001b[0mhealth_status\u001b[0m\u001b[0;34m[\u001b[0m\u001b[0mitem\u001b[0m\u001b[0;34m]\u001b[0m \u001b[0;32mfor\u001b[0m \u001b[0mitem\u001b[0m \u001b[0;32min\u001b[0m \u001b[0mdata6xStatus\u001b[0m\u001b[0;34m.\u001b[0m\u001b[0mhealth_status\u001b[0m\u001b[0;34m]\u001b[0m\u001b[0;34m\u001b[0m\u001b[0;34m\u001b[0m\u001b[0m\n\u001b[0m",
            "\u001b[0;32m<ipython-input-46-87f058e179fc>\u001b[0m in \u001b[0;36m<listcomp>\u001b[0;34m(.0)\u001b[0m\n\u001b[1;32m      1\u001b[0m \u001b[0mhealth_status\u001b[0m \u001b[0;34m=\u001b[0m \u001b[0;34m{\u001b[0m\u001b[0;34m'Admitted'\u001b[0m\u001b[0;34m:\u001b[0m \u001b[0;36m0\u001b[0m\u001b[0;34m,\u001b[0m \u001b[0;34m'Died'\u001b[0m\u001b[0;34m:\u001b[0m \u001b[0;36m1\u001b[0m\u001b[0;34m,\u001b[0m \u001b[0;34m'For validation'\u001b[0m\u001b[0;34m:\u001b[0m \u001b[0;36m2\u001b[0m\u001b[0;34m,\u001b[0m \u001b[0;34m'Home quarantined'\u001b[0m\u001b[0;34m:\u001b[0m \u001b[0;36m3\u001b[0m\u001b[0;34m,\u001b[0m \u001b[0;34m'Recovered'\u001b[0m\u001b[0;34m:\u001b[0m \u001b[0;36m4\u001b[0m\u001b[0;34m}\u001b[0m\u001b[0;34m\u001b[0m\u001b[0;34m\u001b[0m\u001b[0m\n\u001b[0;32m----> 2\u001b[0;31m \u001b[0mdata6xStatus\u001b[0m\u001b[0;34m.\u001b[0m\u001b[0mhealth_status\u001b[0m \u001b[0;34m=\u001b[0m \u001b[0;34m[\u001b[0m\u001b[0mhealth_status\u001b[0m\u001b[0;34m[\u001b[0m\u001b[0mitem\u001b[0m\u001b[0;34m]\u001b[0m \u001b[0;32mfor\u001b[0m \u001b[0mitem\u001b[0m \u001b[0;32min\u001b[0m \u001b[0mdata6xStatus\u001b[0m\u001b[0;34m.\u001b[0m\u001b[0mhealth_status\u001b[0m\u001b[0;34m]\u001b[0m\u001b[0;34m\u001b[0m\u001b[0;34m\u001b[0m\u001b[0m\n\u001b[0m",
            "\u001b[0;31mKeyError\u001b[0m: 'Asymptomatic'"
          ]
        }
      ]
    },
    {
      "cell_type": "code",
      "metadata": {
        "colab": {
          "base_uri": "https://localhost:8080/",
          "height": 204
        },
        "id": "dvna4As_bYfW",
        "outputId": "9ecc0fb8-3dbb-4858-82eb-9d76f76a6f52"
      },
      "source": [
        "data6xStatus.head()"
      ],
      "execution_count": null,
      "outputs": [
        {
          "output_type": "execute_result",
          "data": {
            "text/html": [
              "<div>\n",
              "<style scoped>\n",
              "    .dataframe tbody tr th:only-of-type {\n",
              "        vertical-align: middle;\n",
              "    }\n",
              "\n",
              "    .dataframe tbody tr th {\n",
              "        vertical-align: top;\n",
              "    }\n",
              "\n",
              "    .dataframe thead th {\n",
              "        text-align: right;\n",
              "    }\n",
              "</style>\n",
              "<table border=\"1\" class=\"dataframe\">\n",
              "  <thead>\n",
              "    <tr style=\"text-align: right;\">\n",
              "      <th></th>\n",
              "      <th>age</th>\n",
              "      <th>age_group</th>\n",
              "      <th>sex</th>\n",
              "      <th>date_announced</th>\n",
              "      <th>date_recovered</th>\n",
              "      <th>date_of_death</th>\n",
              "      <th>date_announced_as_removed</th>\n",
              "      <th>province</th>\n",
              "      <th>muni_city</th>\n",
              "      <th>health_status</th>\n",
              "      <th>home_quarantined</th>\n",
              "      <th>date_of_onset_of_symptoms</th>\n",
              "      <th>pregnant</th>\n",
              "      <th>region</th>\n",
              "    </tr>\n",
              "  </thead>\n",
              "  <tbody>\n",
              "    <tr>\n",
              "      <th>0</th>\n",
              "      <td>38.0</td>\n",
              "      <td>35 to 39</td>\n",
              "      <td>1</td>\n",
              "      <td>2020-01-30</td>\n",
              "      <td>NaT</td>\n",
              "      <td>NaT</td>\n",
              "      <td>2020-02-07</td>\n",
              "      <td>Negros Oriental</td>\n",
              "      <td>Dumaguete City</td>\n",
              "      <td>Recovered</td>\n",
              "      <td>NaN</td>\n",
              "      <td>2020-01-21</td>\n",
              "      <td>NaN</td>\n",
              "      <td>Central Visayas (Region VII)</td>\n",
              "    </tr>\n",
              "    <tr>\n",
              "      <th>1</th>\n",
              "      <td>44.0</td>\n",
              "      <td>40 to 44</td>\n",
              "      <td>0</td>\n",
              "      <td>2020-02-03</td>\n",
              "      <td>NaT</td>\n",
              "      <td>2020-02-01</td>\n",
              "      <td>2020-02-02</td>\n",
              "      <td>Negros Oriental</td>\n",
              "      <td>Dumaguete City</td>\n",
              "      <td>Died</td>\n",
              "      <td>NaN</td>\n",
              "      <td>2020-01-18</td>\n",
              "      <td>NaN</td>\n",
              "      <td>Central Visayas (Region VII)</td>\n",
              "    </tr>\n",
              "    <tr>\n",
              "      <th>2</th>\n",
              "      <td>60.0</td>\n",
              "      <td>60 to 64</td>\n",
              "      <td>1</td>\n",
              "      <td>2020-02-05</td>\n",
              "      <td>2020-01-31</td>\n",
              "      <td>NaT</td>\n",
              "      <td>2020-02-05</td>\n",
              "      <td>Bohol</td>\n",
              "      <td>Panglao</td>\n",
              "      <td>Recovered</td>\n",
              "      <td>No</td>\n",
              "      <td>2020-01-21</td>\n",
              "      <td>NaN</td>\n",
              "      <td>Central Visayas (Region VII)</td>\n",
              "    </tr>\n",
              "    <tr>\n",
              "      <th>3</th>\n",
              "      <td>48.0</td>\n",
              "      <td>45 to 49</td>\n",
              "      <td>0</td>\n",
              "      <td>2020-03-06</td>\n",
              "      <td>NaT</td>\n",
              "      <td>NaT</td>\n",
              "      <td>2020-03-27</td>\n",
              "      <td>Metropolitan Manila</td>\n",
              "      <td>Taguig</td>\n",
              "      <td>Recovered</td>\n",
              "      <td>No</td>\n",
              "      <td>2020-03-03</td>\n",
              "      <td>NaN</td>\n",
              "      <td>Metropolitan Manila</td>\n",
              "    </tr>\n",
              "    <tr>\n",
              "      <th>4</th>\n",
              "      <td>62.0</td>\n",
              "      <td>60 to 64</td>\n",
              "      <td>0</td>\n",
              "      <td>2020-03-06</td>\n",
              "      <td>NaT</td>\n",
              "      <td>2020-03-11</td>\n",
              "      <td>2020-03-12</td>\n",
              "      <td>Rizal</td>\n",
              "      <td>Cainta</td>\n",
              "      <td>Died</td>\n",
              "      <td>No</td>\n",
              "      <td>2020-02-25</td>\n",
              "      <td>NaN</td>\n",
              "      <td>CALABARZON (Region IV-A)</td>\n",
              "    </tr>\n",
              "  </tbody>\n",
              "</table>\n",
              "</div>"
            ],
            "text/plain": [
              "    age age_group  ...  pregnant                        region\n",
              "0  38.0  35 to 39  ...       NaN  Central Visayas (Region VII)\n",
              "1  44.0  40 to 44  ...       NaN  Central Visayas (Region VII)\n",
              "2  60.0  60 to 64  ...       NaN  Central Visayas (Region VII)\n",
              "3  48.0  45 to 49  ...       NaN           Metropolitan Manila\n",
              "4  62.0  60 to 64  ...       NaN      CALABARZON (Region IV-A)\n",
              "\n",
              "[5 rows x 14 columns]"
            ]
          },
          "metadata": {
            "tags": []
          },
          "execution_count": 33
        }
      ]
    },
    {
      "cell_type": "code",
      "metadata": {
        "id": "R-lP7QD7fTM3"
      },
      "source": [
        ""
      ],
      "execution_count": null,
      "outputs": []
    },
    {
      "cell_type": "code",
      "metadata": {
        "colab": {
          "base_uri": "https://localhost:8080/",
          "height": 374
        },
        "id": "RkzYFT3ddM1l",
        "outputId": "0839ad4e-bb8b-4d3b-8014-76e7eac317f2"
      },
      "source": [
        "sns.pairplot(df.loc[:,['age','sex','health_status']], hue = \"health_status\", height =5)\r\n",
        "plt.show()"
      ],
      "execution_count": null,
      "outputs": [
        {
          "output_type": "display_data",
          "data": {
            "image/png": "[encoded data removed]",
            "text/plain": [
              "<Figure size 435.5x360 with 2 Axes>"
            ]
          },
          "metadata": {
            "tags": [],
            "needs_background": "light"
          }
        }
      ]
    },
    {
      "cell_type": "code",
      "metadata": {
        "colab": {
          "base_uri": "https://localhost:8080/",
          "height": 388
        },
        "id": "BjLwxRdQeOyo",
        "outputId": "ba4d3ede-b2d6-443e-814c-7472b4a646e0"
      },
      "source": [
        "# The data look without health status\r\n",
        "plt.figure(figsize= (6,6))\r\n",
        "plt.scatter(data6xStatus['age'], data6xStatus['sex'])\r\n",
        "plt.xlabel('sex')\r\n",
        "plt.ylabel('age')\r\n",
        "plt.show()"
      ],
      "execution_count": null,
      "outputs": [
        {
          "output_type": "display_data",
          "data": {
            "image/png": "[encoded data removed]",
            "text/plain": [
              "<Figure size 432x432 with 1 Axes>"
            ]
          },
          "metadata": {
            "tags": [],
            "needs_background": "light"
          }
        }
      ]
    }
  ]
}